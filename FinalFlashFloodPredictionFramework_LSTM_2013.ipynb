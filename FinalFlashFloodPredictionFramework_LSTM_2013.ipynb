{
  "nbformat": 4,
  "nbformat_minor": 0,
  "metadata": {
    "colab": {
      "name": "FinalFlashFloodPredictionFramework_LSTM_2013_Classification.ipynb",
      "provenance": [],
      "collapsed_sections": []
    },
    "kernelspec": {
      "name": "python3",
      "display_name": "Python 3"
    },
    "language_info": {
      "name": "python"
    },
    "accelerator": "TPU"
  },
  "cells": [
    {
      "cell_type": "code",
      "metadata": {
        "colab": {
          "base_uri": "https://localhost:8080/"
        },
        "id": "liWm8anLWLBx",
        "outputId": "0d5ad6c4-b866-4146-b4d9-6b57d11f44ba"
      },
      "source": [
        "from google.colab import drive\n",
        "drive.mount('/content/drive')"
      ],
      "execution_count": null,
      "outputs": [
        {
          "output_type": "stream",
          "name": "stdout",
          "text": [
            "Mounted at /content/drive\n"
          ]
        }
      ]
    },
    {
      "cell_type": "code",
      "metadata": {
        "colab": {
          "base_uri": "https://localhost:8080/"
        },
        "id": "AWc9lfDA2MuT",
        "outputId": "46f462f3-b36b-4a93-a727-aeedfc8a21bf"
      },
      "source": [
        "!pip install keras-tuner"
      ],
      "execution_count": null,
      "outputs": [
        {
          "output_type": "stream",
          "name": "stdout",
          "text": [
            "Collecting keras-tuner\n",
            "  Downloading keras_tuner-1.1.0-py3-none-any.whl (98 kB)\n",
            "\u001b[?25l\r\u001b[K     |███▍                            | 10 kB 4.9 MB/s eta 0:00:01\r\u001b[K     |██████▊                         | 20 kB 7.5 MB/s eta 0:00:01\r\u001b[K     |██████████                      | 30 kB 8.5 MB/s eta 0:00:01\r\u001b[K     |█████████████▍                  | 40 kB 10.5 MB/s eta 0:00:01\r\u001b[K     |████████████████▊               | 51 kB 6.2 MB/s eta 0:00:01\r\u001b[K     |████████████████████            | 61 kB 5.3 MB/s eta 0:00:01\r\u001b[K     |███████████████████████▍        | 71 kB 5.3 MB/s eta 0:00:01\r\u001b[K     |██████████████████████████▊     | 81 kB 5.8 MB/s eta 0:00:01\r\u001b[K     |██████████████████████████████  | 92 kB 6.1 MB/s eta 0:00:01\r\u001b[K     |████████████████████████████████| 98 kB 3.2 MB/s \n",
            "\u001b[?25hRequirement already satisfied: tensorboard in /usr/local/lib/python3.7/dist-packages (from keras-tuner) (2.7.0)\n",
            "Requirement already satisfied: numpy in /usr/local/lib/python3.7/dist-packages (from keras-tuner) (1.19.5)\n",
            "Collecting kt-legacy\n",
            "  Downloading kt_legacy-1.0.4-py3-none-any.whl (9.6 kB)\n",
            "Requirement already satisfied: scipy in /usr/local/lib/python3.7/dist-packages (from keras-tuner) (1.4.1)\n",
            "Requirement already satisfied: requests in /usr/local/lib/python3.7/dist-packages (from keras-tuner) (2.23.0)\n",
            "Requirement already satisfied: packaging in /usr/local/lib/python3.7/dist-packages (from keras-tuner) (21.2)\n",
            "Requirement already satisfied: ipython in /usr/local/lib/python3.7/dist-packages (from keras-tuner) (5.5.0)\n",
            "Requirement already satisfied: pygments in /usr/local/lib/python3.7/dist-packages (from ipython->keras-tuner) (2.6.1)\n",
            "Requirement already satisfied: setuptools>=18.5 in /usr/local/lib/python3.7/dist-packages (from ipython->keras-tuner) (57.4.0)\n",
            "Requirement already satisfied: prompt-toolkit<2.0.0,>=1.0.4 in /usr/local/lib/python3.7/dist-packages (from ipython->keras-tuner) (1.0.18)\n",
            "Requirement already satisfied: decorator in /usr/local/lib/python3.7/dist-packages (from ipython->keras-tuner) (4.4.2)\n",
            "Requirement already satisfied: traitlets>=4.2 in /usr/local/lib/python3.7/dist-packages (from ipython->keras-tuner) (5.1.1)\n",
            "Requirement already satisfied: pexpect in /usr/local/lib/python3.7/dist-packages (from ipython->keras-tuner) (4.8.0)\n",
            "Requirement already satisfied: simplegeneric>0.8 in /usr/local/lib/python3.7/dist-packages (from ipython->keras-tuner) (0.8.1)\n",
            "Requirement already satisfied: pickleshare in /usr/local/lib/python3.7/dist-packages (from ipython->keras-tuner) (0.7.5)\n",
            "Requirement already satisfied: wcwidth in /usr/local/lib/python3.7/dist-packages (from prompt-toolkit<2.0.0,>=1.0.4->ipython->keras-tuner) (0.2.5)\n",
            "Requirement already satisfied: six>=1.9.0 in /usr/local/lib/python3.7/dist-packages (from prompt-toolkit<2.0.0,>=1.0.4->ipython->keras-tuner) (1.15.0)\n",
            "Requirement already satisfied: pyparsing<3,>=2.0.2 in /usr/local/lib/python3.7/dist-packages (from packaging->keras-tuner) (2.4.7)\n",
            "Requirement already satisfied: ptyprocess>=0.5 in /usr/local/lib/python3.7/dist-packages (from pexpect->ipython->keras-tuner) (0.7.0)\n",
            "Requirement already satisfied: idna<3,>=2.5 in /usr/local/lib/python3.7/dist-packages (from requests->keras-tuner) (2.10)\n",
            "Requirement already satisfied: chardet<4,>=3.0.2 in /usr/local/lib/python3.7/dist-packages (from requests->keras-tuner) (3.0.4)\n",
            "Requirement already satisfied: certifi>=2017.4.17 in /usr/local/lib/python3.7/dist-packages (from requests->keras-tuner) (2021.10.8)\n",
            "Requirement already satisfied: urllib3!=1.25.0,!=1.25.1,<1.26,>=1.21.1 in /usr/local/lib/python3.7/dist-packages (from requests->keras-tuner) (1.24.3)\n",
            "Requirement already satisfied: grpcio>=1.24.3 in /usr/local/lib/python3.7/dist-packages (from tensorboard->keras-tuner) (1.41.1)\n",
            "Requirement already satisfied: google-auth<3,>=1.6.3 in /usr/local/lib/python3.7/dist-packages (from tensorboard->keras-tuner) (1.35.0)\n",
            "Requirement already satisfied: tensorboard-plugin-wit>=1.6.0 in /usr/local/lib/python3.7/dist-packages (from tensorboard->keras-tuner) (1.8.0)\n",
            "Requirement already satisfied: absl-py>=0.4 in /usr/local/lib/python3.7/dist-packages (from tensorboard->keras-tuner) (0.12.0)\n",
            "Requirement already satisfied: tensorboard-data-server<0.7.0,>=0.6.0 in /usr/local/lib/python3.7/dist-packages (from tensorboard->keras-tuner) (0.6.1)\n",
            "Requirement already satisfied: google-auth-oauthlib<0.5,>=0.4.1 in /usr/local/lib/python3.7/dist-packages (from tensorboard->keras-tuner) (0.4.6)\n",
            "Requirement already satisfied: protobuf>=3.6.0 in /usr/local/lib/python3.7/dist-packages (from tensorboard->keras-tuner) (3.17.3)\n",
            "Requirement already satisfied: werkzeug>=0.11.15 in /usr/local/lib/python3.7/dist-packages (from tensorboard->keras-tuner) (1.0.1)\n",
            "Requirement already satisfied: wheel>=0.26 in /usr/local/lib/python3.7/dist-packages (from tensorboard->keras-tuner) (0.37.0)\n",
            "Requirement already satisfied: markdown>=2.6.8 in /usr/local/lib/python3.7/dist-packages (from tensorboard->keras-tuner) (3.3.4)\n",
            "Requirement already satisfied: pyasn1-modules>=0.2.1 in /usr/local/lib/python3.7/dist-packages (from google-auth<3,>=1.6.3->tensorboard->keras-tuner) (0.2.8)\n",
            "Requirement already satisfied: rsa<5,>=3.1.4 in /usr/local/lib/python3.7/dist-packages (from google-auth<3,>=1.6.3->tensorboard->keras-tuner) (4.7.2)\n",
            "Requirement already satisfied: cachetools<5.0,>=2.0.0 in /usr/local/lib/python3.7/dist-packages (from google-auth<3,>=1.6.3->tensorboard->keras-tuner) (4.2.4)\n",
            "Requirement already satisfied: requests-oauthlib>=0.7.0 in /usr/local/lib/python3.7/dist-packages (from google-auth-oauthlib<0.5,>=0.4.1->tensorboard->keras-tuner) (1.3.0)\n",
            "Requirement already satisfied: importlib-metadata in /usr/local/lib/python3.7/dist-packages (from markdown>=2.6.8->tensorboard->keras-tuner) (4.8.2)\n",
            "Requirement already satisfied: pyasn1<0.5.0,>=0.4.6 in /usr/local/lib/python3.7/dist-packages (from pyasn1-modules>=0.2.1->google-auth<3,>=1.6.3->tensorboard->keras-tuner) (0.4.8)\n",
            "Requirement already satisfied: oauthlib>=3.0.0 in /usr/local/lib/python3.7/dist-packages (from requests-oauthlib>=0.7.0->google-auth-oauthlib<0.5,>=0.4.1->tensorboard->keras-tuner) (3.1.1)\n",
            "Requirement already satisfied: zipp>=0.5 in /usr/local/lib/python3.7/dist-packages (from importlib-metadata->markdown>=2.6.8->tensorboard->keras-tuner) (3.6.0)\n",
            "Requirement already satisfied: typing-extensions>=3.6.4 in /usr/local/lib/python3.7/dist-packages (from importlib-metadata->markdown>=2.6.8->tensorboard->keras-tuner) (3.10.0.2)\n",
            "Installing collected packages: kt-legacy, keras-tuner\n",
            "Successfully installed keras-tuner-1.1.0 kt-legacy-1.0.4\n"
          ]
        }
      ]
    },
    {
      "cell_type": "code",
      "metadata": {
        "id": "fD46Ma3XMg8s"
      },
      "source": [
        "import os \n",
        "\n",
        "# Set your working directory to a folder in your Google Drive. This way, if your notebook times out,\n",
        "# your files will be saved in your Google Drive!\n",
        "\n",
        "# the base Google Drive directory\n",
        "root_dir = \"/content/drive/MyDrive/\"\n",
        "\n",
        "# choose where you want your project files to be saved\n",
        "project_folder = \"Colab Notebooks/ThesisExperiments/FlashFloodPredictionBenchmarkLSTM\"\n",
        "\n",
        "\n",
        "def create_and_set_working_directory(project_folder):\n",
        "  # check if your project folder exists. if not, it will be created.\n",
        "  if os.path.isdir(root_dir + project_folder) == False:\n",
        "    os.mkdir(root_dir + project_folder)\n",
        "    print(root_dir + project_folder + ' did not exist but was created.')\n",
        "\n",
        "  # change the OS to use your project folder as the working directory\n",
        "  os.chdir(root_dir + project_folder)\n",
        "\n",
        "\n",
        "\n",
        "create_and_set_working_directory(project_folder)"
      ],
      "execution_count": null,
      "outputs": []
    },
    {
      "cell_type": "code",
      "metadata": {
        "id": "qKNysjF-K6Zy",
        "colab": {
          "base_uri": "https://localhost:8080/"
        },
        "outputId": "2d74f74d-d438-4cdb-9e58-46e39bc78da4"
      },
      "source": [
        "import numpy as np\n",
        "import matplotlib.pyplot as plt\n",
        "import pandas as pd\n",
        "import math\n",
        "from tensorflow import keras\n",
        "from keras.models import Sequential\n",
        "from keras.layers import Dense\n",
        "from keras.layers import LSTM , Bidirectional\n",
        "from tensorflow.keras.models import Sequential\n",
        "from tensorflow.keras.layers import Dense, Activation, Dropout\n",
        "from tensorflow.keras.optimizers import Adam\n",
        "from sklearn.preprocessing import MinMaxScaler\n",
        "from sklearn.metrics import  mean_squared_error, r2_score, mean_absolute_error, max_error\n",
        "import keras_tuner as kt\n",
        "import tensorflow as tf \n",
        "from tensorflow import keras\n",
        "from statsmodels.tsa.stattools import acf, pacf\n",
        "from statsmodels.graphics.tsaplots import plot_acf, plot_pacf\n",
        "import seaborn as sns\n",
        "from sklearn.metrics import classification_report\n",
        "\n",
        "\n"
      ],
      "execution_count": null,
      "outputs": [
        {
          "output_type": "stream",
          "name": "stderr",
          "text": [
            "/usr/local/lib/python3.7/dist-packages/statsmodels/tools/_testing.py:19: FutureWarning: pandas.util.testing is deprecated. Use the functions in the public API at pandas.testing instead.\n",
            "  import pandas.util.testing as tm\n"
          ]
        }
      ]
    },
    {
      "cell_type": "code",
      "metadata": {
        "id": "SpK84iV-VeHb"
      },
      "source": [
        "def read_data (path):\n",
        "  return pd.read_csv(path, index_col= 0 , header= 0)"
      ],
      "execution_count": null,
      "outputs": []
    },
    {
      "cell_type": "code",
      "metadata": {
        "id": "Pr_fz1jAWCa4"
      },
      "source": [
        "# load the dataset lead time 15 min \n",
        "dataframe = read_data ('/content/drive/MyDrive/Colab Notebooks/ThesisExperiments/FlashFloodPredictionBenchmarkLSTM/15min/Data2013.csv')"
      ],
      "execution_count": null,
      "outputs": []
    },
    {
      "cell_type": "code",
      "metadata": {
        "id": "kvHsOBJuWCXL"
      },
      "source": [
        "# load the dataset lead time 30 min \n",
        "dataframe = read_data ('/content/drive/MyDrive/Colab Notebooks/ThesisExperiments/FlashFloodPredictionBenchmarkLSTM/30min/Data2013.csv')"
      ],
      "execution_count": null,
      "outputs": []
    },
    {
      "cell_type": "code",
      "metadata": {
        "id": "fgqxNOuhWCOH"
      },
      "source": [
        "# load the dataset lead time 45 min \n",
        "dataframe = read_data ('/content/drive/MyDrive/Colab Notebooks/ThesisExperiments/FlashFloodPredictionBenchmarkLSTM/45min/Data2013.csv')"
      ],
      "execution_count": null,
      "outputs": []
    },
    {
      "cell_type": "code",
      "metadata": {
        "id": "rPcHVDeDWCG1"
      },
      "source": [
        "# load the dataset lead time 60 min \n",
        "dataframe = read_data ('/content/drive/MyDrive/Colab Notebooks/ThesisExperiments/FlashFloodPredictionBenchmarkLSTM/60min/Data2013.csv')"
      ],
      "execution_count": null,
      "outputs": []
    },
    {
      "cell_type": "code",
      "metadata": {
        "id": "1zs7pjK_WB_b"
      },
      "source": [
        "# load the dataset lead time 75 min \n",
        "dataframe = read_data ('/content/drive/MyDrive/Colab Notebooks/ThesisExperiments/FlashFloodPredictionBenchmarkLSTM/75min/Data2013.csv')"
      ],
      "execution_count": null,
      "outputs": []
    },
    {
      "cell_type": "code",
      "metadata": {
        "id": "28OlNtLkWB3l"
      },
      "source": [
        "# load the dataset lead time 90 min \n",
        "dataframe = read_data ('/content/drive/MyDrive/Colab Notebooks/ThesisExperiments/FlashFloodPredictionBenchmarkLSTM/90min/Data2013.csv')"
      ],
      "execution_count": null,
      "outputs": []
    },
    {
      "cell_type": "code",
      "metadata": {
        "id": "0SvnB0HeWBsA"
      },
      "source": [
        "# load the dataset lead time 105 min \n",
        "dataframe = read_data ('/content/drive/MyDrive/Colab Notebooks/ThesisExperiments/FlashFloodPredictionBenchmarkLSTM/105min/Data2013.csv')"
      ],
      "execution_count": null,
      "outputs": []
    },
    {
      "cell_type": "code",
      "metadata": {
        "id": "1_P51bArWMhD"
      },
      "source": [
        "# load the dataset lead time 120 min \n",
        "dataframe = read_data ('/content/drive/MyDrive/Colab Notebooks/ThesisExperiments/FlashFloodPredictionBenchmarkLSTM/120min/Data201.csv')"
      ],
      "execution_count": null,
      "outputs": []
    },
    {
      "cell_type": "code",
      "metadata": {
        "id": "oNYbei68WjjV",
        "colab": {
          "base_uri": "https://localhost:8080/",
          "height": 379
        },
        "outputId": "5a4f6a68-ea11-4f7c-8662-4602ac6dd3b5"
      },
      "source": [
        "#Some explaratory data analysis\n",
        "dataframe.head(10)"
      ],
      "execution_count": null,
      "outputs": [
        {
          "output_type": "execute_result",
          "data": {
            "text/html": [
              "<div>\n",
              "<style scoped>\n",
              "    .dataframe tbody tr th:only-of-type {\n",
              "        vertical-align: middle;\n",
              "    }\n",
              "\n",
              "    .dataframe tbody tr th {\n",
              "        vertical-align: top;\n",
              "    }\n",
              "\n",
              "    .dataframe thead th {\n",
              "        text-align: right;\n",
              "    }\n",
              "</style>\n",
              "<table border=\"1\" class=\"dataframe\">\n",
              "  <thead>\n",
              "    <tr style=\"text-align: right;\">\n",
              "      <th></th>\n",
              "      <th>yh1</th>\n",
              "      <th>yh2</th>\n",
              "      <th>yh3</th>\n",
              "      <th>yh4</th>\n",
              "      <th>yh5</th>\n",
              "      <th>yh6</th>\n",
              "      <th>yh7</th>\n",
              "      <th>yh8</th>\n",
              "      <th>yh9</th>\n",
              "      <th>yh10</th>\n",
              "      <th>yh11</th>\n",
              "      <th>yh12</th>\n",
              "      <th>ym1</th>\n",
              "      <th>ym2</th>\n",
              "      <th>ym3</th>\n",
              "      <th>ym4</th>\n",
              "      <th>ym5</th>\n",
              "      <th>ym6</th>\n",
              "      <th>ym7</th>\n",
              "      <th>ym8</th>\n",
              "      <th>ym9</th>\n",
              "      <th>ym10</th>\n",
              "      <th>ym11</th>\n",
              "      <th>ym12</th>\n",
              "      <th>yn1</th>\n",
              "      <th>yn2</th>\n",
              "      <th>yn3</th>\n",
              "      <th>yn4</th>\n",
              "      <th>yn5</th>\n",
              "      <th>yn6</th>\n",
              "      <th>yn7</th>\n",
              "      <th>yn8</th>\n",
              "      <th>yn9</th>\n",
              "      <th>yn10</th>\n",
              "      <th>yn11</th>\n",
              "      <th>yn12</th>\n",
              "      <th>ys1</th>\n",
              "      <th>ys2</th>\n",
              "      <th>ys3</th>\n",
              "      <th>ys4</th>\n",
              "      <th>ys5</th>\n",
              "      <th>ys6</th>\n",
              "      <th>ys7</th>\n",
              "      <th>ys8</th>\n",
              "      <th>ys9</th>\n",
              "      <th>ys10</th>\n",
              "      <th>ys11</th>\n",
              "      <th>ys12</th>\n",
              "      <th>yo</th>\n",
              "      <th>label</th>\n",
              "    </tr>\n",
              "  </thead>\n",
              "  <tbody>\n",
              "    <tr>\n",
              "      <th>1</th>\n",
              "      <td>0.0</td>\n",
              "      <td>0.0</td>\n",
              "      <td>0.0</td>\n",
              "      <td>0.0</td>\n",
              "      <td>0.6</td>\n",
              "      <td>0.0</td>\n",
              "      <td>0.0</td>\n",
              "      <td>1.4</td>\n",
              "      <td>1.2</td>\n",
              "      <td>0.6</td>\n",
              "      <td>0.4</td>\n",
              "      <td>0.0</td>\n",
              "      <td>0.0</td>\n",
              "      <td>0.0</td>\n",
              "      <td>0.0</td>\n",
              "      <td>0.0</td>\n",
              "      <td>0.2</td>\n",
              "      <td>0.4</td>\n",
              "      <td>0.0</td>\n",
              "      <td>1.4</td>\n",
              "      <td>3.4</td>\n",
              "      <td>7.8</td>\n",
              "      <td>0.2</td>\n",
              "      <td>0.0</td>\n",
              "      <td>209.533</td>\n",
              "      <td>209.530</td>\n",
              "      <td>209.534</td>\n",
              "      <td>209.532</td>\n",
              "      <td>209.529</td>\n",
              "      <td>209.539</td>\n",
              "      <td>209.544</td>\n",
              "      <td>209.550</td>\n",
              "      <td>209.563</td>\n",
              "      <td>209.590</td>\n",
              "      <td>209.613</td>\n",
              "      <td>209.593</td>\n",
              "      <td>172.17155</td>\n",
              "      <td>172.17155</td>\n",
              "      <td>172.17255</td>\n",
              "      <td>172.17155</td>\n",
              "      <td>172.17155</td>\n",
              "      <td>172.17155</td>\n",
              "      <td>172.17155</td>\n",
              "      <td>172.17255</td>\n",
              "      <td>172.17655</td>\n",
              "      <td>172.18455</td>\n",
              "      <td>172.18855</td>\n",
              "      <td>172.21955</td>\n",
              "      <td>172.60854</td>\n",
              "      <td>low</td>\n",
              "    </tr>\n",
              "    <tr>\n",
              "      <th>2</th>\n",
              "      <td>0.0</td>\n",
              "      <td>0.0</td>\n",
              "      <td>0.0</td>\n",
              "      <td>0.0</td>\n",
              "      <td>0.0</td>\n",
              "      <td>0.6</td>\n",
              "      <td>0.0</td>\n",
              "      <td>0.0</td>\n",
              "      <td>1.4</td>\n",
              "      <td>1.2</td>\n",
              "      <td>0.6</td>\n",
              "      <td>0.4</td>\n",
              "      <td>0.0</td>\n",
              "      <td>0.0</td>\n",
              "      <td>0.0</td>\n",
              "      <td>0.0</td>\n",
              "      <td>0.0</td>\n",
              "      <td>0.2</td>\n",
              "      <td>0.4</td>\n",
              "      <td>0.0</td>\n",
              "      <td>1.4</td>\n",
              "      <td>3.4</td>\n",
              "      <td>7.8</td>\n",
              "      <td>0.2</td>\n",
              "      <td>209.534</td>\n",
              "      <td>209.533</td>\n",
              "      <td>209.530</td>\n",
              "      <td>209.534</td>\n",
              "      <td>209.532</td>\n",
              "      <td>209.529</td>\n",
              "      <td>209.539</td>\n",
              "      <td>209.544</td>\n",
              "      <td>209.550</td>\n",
              "      <td>209.563</td>\n",
              "      <td>209.590</td>\n",
              "      <td>209.613</td>\n",
              "      <td>172.17155</td>\n",
              "      <td>172.17155</td>\n",
              "      <td>172.17155</td>\n",
              "      <td>172.17255</td>\n",
              "      <td>172.17155</td>\n",
              "      <td>172.17155</td>\n",
              "      <td>172.17155</td>\n",
              "      <td>172.17155</td>\n",
              "      <td>172.17255</td>\n",
              "      <td>172.17655</td>\n",
              "      <td>172.18455</td>\n",
              "      <td>172.18855</td>\n",
              "      <td>172.72354</td>\n",
              "      <td>low</td>\n",
              "    </tr>\n",
              "    <tr>\n",
              "      <th>3</th>\n",
              "      <td>0.0</td>\n",
              "      <td>0.0</td>\n",
              "      <td>0.0</td>\n",
              "      <td>0.0</td>\n",
              "      <td>0.0</td>\n",
              "      <td>0.0</td>\n",
              "      <td>0.6</td>\n",
              "      <td>0.0</td>\n",
              "      <td>0.0</td>\n",
              "      <td>1.4</td>\n",
              "      <td>1.2</td>\n",
              "      <td>0.6</td>\n",
              "      <td>0.0</td>\n",
              "      <td>0.0</td>\n",
              "      <td>0.0</td>\n",
              "      <td>0.0</td>\n",
              "      <td>0.0</td>\n",
              "      <td>0.0</td>\n",
              "      <td>0.2</td>\n",
              "      <td>0.4</td>\n",
              "      <td>0.0</td>\n",
              "      <td>1.4</td>\n",
              "      <td>3.4</td>\n",
              "      <td>7.8</td>\n",
              "      <td>209.535</td>\n",
              "      <td>209.534</td>\n",
              "      <td>209.533</td>\n",
              "      <td>209.530</td>\n",
              "      <td>209.534</td>\n",
              "      <td>209.532</td>\n",
              "      <td>209.529</td>\n",
              "      <td>209.539</td>\n",
              "      <td>209.544</td>\n",
              "      <td>209.550</td>\n",
              "      <td>209.563</td>\n",
              "      <td>209.590</td>\n",
              "      <td>172.17255</td>\n",
              "      <td>172.17155</td>\n",
              "      <td>172.17155</td>\n",
              "      <td>172.17155</td>\n",
              "      <td>172.17255</td>\n",
              "      <td>172.17155</td>\n",
              "      <td>172.17155</td>\n",
              "      <td>172.17155</td>\n",
              "      <td>172.17155</td>\n",
              "      <td>172.17255</td>\n",
              "      <td>172.17655</td>\n",
              "      <td>172.18455</td>\n",
              "      <td>172.82254</td>\n",
              "      <td>high</td>\n",
              "    </tr>\n",
              "    <tr>\n",
              "      <th>4</th>\n",
              "      <td>0.0</td>\n",
              "      <td>0.0</td>\n",
              "      <td>0.0</td>\n",
              "      <td>0.0</td>\n",
              "      <td>0.0</td>\n",
              "      <td>0.0</td>\n",
              "      <td>0.0</td>\n",
              "      <td>0.6</td>\n",
              "      <td>0.0</td>\n",
              "      <td>0.0</td>\n",
              "      <td>1.4</td>\n",
              "      <td>1.2</td>\n",
              "      <td>0.0</td>\n",
              "      <td>0.0</td>\n",
              "      <td>0.0</td>\n",
              "      <td>0.0</td>\n",
              "      <td>0.0</td>\n",
              "      <td>0.0</td>\n",
              "      <td>0.0</td>\n",
              "      <td>0.2</td>\n",
              "      <td>0.4</td>\n",
              "      <td>0.0</td>\n",
              "      <td>1.4</td>\n",
              "      <td>3.4</td>\n",
              "      <td>209.549</td>\n",
              "      <td>209.535</td>\n",
              "      <td>209.534</td>\n",
              "      <td>209.533</td>\n",
              "      <td>209.530</td>\n",
              "      <td>209.534</td>\n",
              "      <td>209.532</td>\n",
              "      <td>209.529</td>\n",
              "      <td>209.539</td>\n",
              "      <td>209.544</td>\n",
              "      <td>209.550</td>\n",
              "      <td>209.563</td>\n",
              "      <td>172.17155</td>\n",
              "      <td>172.17255</td>\n",
              "      <td>172.17155</td>\n",
              "      <td>172.17155</td>\n",
              "      <td>172.17155</td>\n",
              "      <td>172.17255</td>\n",
              "      <td>172.17155</td>\n",
              "      <td>172.17155</td>\n",
              "      <td>172.17155</td>\n",
              "      <td>172.17155</td>\n",
              "      <td>172.17255</td>\n",
              "      <td>172.17655</td>\n",
              "      <td>172.87754</td>\n",
              "      <td>high</td>\n",
              "    </tr>\n",
              "    <tr>\n",
              "      <th>5</th>\n",
              "      <td>0.0</td>\n",
              "      <td>0.0</td>\n",
              "      <td>0.0</td>\n",
              "      <td>0.0</td>\n",
              "      <td>0.0</td>\n",
              "      <td>0.0</td>\n",
              "      <td>0.0</td>\n",
              "      <td>0.0</td>\n",
              "      <td>0.6</td>\n",
              "      <td>0.0</td>\n",
              "      <td>0.0</td>\n",
              "      <td>1.4</td>\n",
              "      <td>0.0</td>\n",
              "      <td>0.0</td>\n",
              "      <td>0.0</td>\n",
              "      <td>0.0</td>\n",
              "      <td>0.0</td>\n",
              "      <td>0.0</td>\n",
              "      <td>0.0</td>\n",
              "      <td>0.0</td>\n",
              "      <td>0.2</td>\n",
              "      <td>0.4</td>\n",
              "      <td>0.0</td>\n",
              "      <td>1.4</td>\n",
              "      <td>209.548</td>\n",
              "      <td>209.549</td>\n",
              "      <td>209.535</td>\n",
              "      <td>209.534</td>\n",
              "      <td>209.533</td>\n",
              "      <td>209.530</td>\n",
              "      <td>209.534</td>\n",
              "      <td>209.532</td>\n",
              "      <td>209.529</td>\n",
              "      <td>209.539</td>\n",
              "      <td>209.544</td>\n",
              "      <td>209.550</td>\n",
              "      <td>172.17155</td>\n",
              "      <td>172.17155</td>\n",
              "      <td>172.17255</td>\n",
              "      <td>172.17155</td>\n",
              "      <td>172.17155</td>\n",
              "      <td>172.17155</td>\n",
              "      <td>172.17255</td>\n",
              "      <td>172.17155</td>\n",
              "      <td>172.17155</td>\n",
              "      <td>172.17155</td>\n",
              "      <td>172.17155</td>\n",
              "      <td>172.17255</td>\n",
              "      <td>172.87854</td>\n",
              "      <td>high</td>\n",
              "    </tr>\n",
              "    <tr>\n",
              "      <th>6</th>\n",
              "      <td>0.0</td>\n",
              "      <td>0.0</td>\n",
              "      <td>0.0</td>\n",
              "      <td>0.0</td>\n",
              "      <td>0.0</td>\n",
              "      <td>0.0</td>\n",
              "      <td>0.0</td>\n",
              "      <td>0.0</td>\n",
              "      <td>0.0</td>\n",
              "      <td>0.6</td>\n",
              "      <td>0.0</td>\n",
              "      <td>0.0</td>\n",
              "      <td>0.0</td>\n",
              "      <td>0.0</td>\n",
              "      <td>0.0</td>\n",
              "      <td>0.0</td>\n",
              "      <td>0.0</td>\n",
              "      <td>0.0</td>\n",
              "      <td>0.0</td>\n",
              "      <td>0.0</td>\n",
              "      <td>0.0</td>\n",
              "      <td>0.2</td>\n",
              "      <td>0.4</td>\n",
              "      <td>0.0</td>\n",
              "      <td>209.548</td>\n",
              "      <td>209.548</td>\n",
              "      <td>209.549</td>\n",
              "      <td>209.535</td>\n",
              "      <td>209.534</td>\n",
              "      <td>209.533</td>\n",
              "      <td>209.530</td>\n",
              "      <td>209.534</td>\n",
              "      <td>209.532</td>\n",
              "      <td>209.529</td>\n",
              "      <td>209.539</td>\n",
              "      <td>209.544</td>\n",
              "      <td>172.17155</td>\n",
              "      <td>172.17155</td>\n",
              "      <td>172.17155</td>\n",
              "      <td>172.17255</td>\n",
              "      <td>172.17155</td>\n",
              "      <td>172.17155</td>\n",
              "      <td>172.17155</td>\n",
              "      <td>172.17255</td>\n",
              "      <td>172.17155</td>\n",
              "      <td>172.17155</td>\n",
              "      <td>172.17155</td>\n",
              "      <td>172.17155</td>\n",
              "      <td>172.86155</td>\n",
              "      <td>high</td>\n",
              "    </tr>\n",
              "    <tr>\n",
              "      <th>7</th>\n",
              "      <td>0.0</td>\n",
              "      <td>0.0</td>\n",
              "      <td>0.0</td>\n",
              "      <td>0.0</td>\n",
              "      <td>0.0</td>\n",
              "      <td>0.0</td>\n",
              "      <td>0.0</td>\n",
              "      <td>0.0</td>\n",
              "      <td>0.0</td>\n",
              "      <td>0.0</td>\n",
              "      <td>0.6</td>\n",
              "      <td>0.0</td>\n",
              "      <td>0.0</td>\n",
              "      <td>0.0</td>\n",
              "      <td>0.0</td>\n",
              "      <td>0.0</td>\n",
              "      <td>0.0</td>\n",
              "      <td>0.0</td>\n",
              "      <td>0.0</td>\n",
              "      <td>0.0</td>\n",
              "      <td>0.0</td>\n",
              "      <td>0.0</td>\n",
              "      <td>0.2</td>\n",
              "      <td>0.4</td>\n",
              "      <td>209.550</td>\n",
              "      <td>209.548</td>\n",
              "      <td>209.548</td>\n",
              "      <td>209.549</td>\n",
              "      <td>209.535</td>\n",
              "      <td>209.534</td>\n",
              "      <td>209.533</td>\n",
              "      <td>209.530</td>\n",
              "      <td>209.534</td>\n",
              "      <td>209.532</td>\n",
              "      <td>209.529</td>\n",
              "      <td>209.539</td>\n",
              "      <td>172.17255</td>\n",
              "      <td>172.17155</td>\n",
              "      <td>172.17155</td>\n",
              "      <td>172.17155</td>\n",
              "      <td>172.17255</td>\n",
              "      <td>172.17155</td>\n",
              "      <td>172.17155</td>\n",
              "      <td>172.17155</td>\n",
              "      <td>172.17255</td>\n",
              "      <td>172.17155</td>\n",
              "      <td>172.17155</td>\n",
              "      <td>172.17155</td>\n",
              "      <td>172.76355</td>\n",
              "      <td>high</td>\n",
              "    </tr>\n",
              "    <tr>\n",
              "      <th>8</th>\n",
              "      <td>0.0</td>\n",
              "      <td>0.0</td>\n",
              "      <td>0.0</td>\n",
              "      <td>0.0</td>\n",
              "      <td>0.0</td>\n",
              "      <td>0.0</td>\n",
              "      <td>0.0</td>\n",
              "      <td>0.0</td>\n",
              "      <td>0.0</td>\n",
              "      <td>0.0</td>\n",
              "      <td>0.0</td>\n",
              "      <td>0.6</td>\n",
              "      <td>0.0</td>\n",
              "      <td>0.0</td>\n",
              "      <td>0.0</td>\n",
              "      <td>0.0</td>\n",
              "      <td>0.0</td>\n",
              "      <td>0.0</td>\n",
              "      <td>0.0</td>\n",
              "      <td>0.0</td>\n",
              "      <td>0.0</td>\n",
              "      <td>0.0</td>\n",
              "      <td>0.0</td>\n",
              "      <td>0.2</td>\n",
              "      <td>209.550</td>\n",
              "      <td>209.550</td>\n",
              "      <td>209.548</td>\n",
              "      <td>209.548</td>\n",
              "      <td>209.549</td>\n",
              "      <td>209.535</td>\n",
              "      <td>209.534</td>\n",
              "      <td>209.533</td>\n",
              "      <td>209.530</td>\n",
              "      <td>209.534</td>\n",
              "      <td>209.532</td>\n",
              "      <td>209.529</td>\n",
              "      <td>172.17155</td>\n",
              "      <td>172.17255</td>\n",
              "      <td>172.17155</td>\n",
              "      <td>172.17155</td>\n",
              "      <td>172.17155</td>\n",
              "      <td>172.17255</td>\n",
              "      <td>172.17155</td>\n",
              "      <td>172.17155</td>\n",
              "      <td>172.17155</td>\n",
              "      <td>172.17255</td>\n",
              "      <td>172.17155</td>\n",
              "      <td>172.17155</td>\n",
              "      <td>172.21955</td>\n",
              "      <td>low</td>\n",
              "    </tr>\n",
              "    <tr>\n",
              "      <th>9</th>\n",
              "      <td>0.0</td>\n",
              "      <td>0.0</td>\n",
              "      <td>0.0</td>\n",
              "      <td>0.0</td>\n",
              "      <td>0.0</td>\n",
              "      <td>0.0</td>\n",
              "      <td>0.0</td>\n",
              "      <td>0.0</td>\n",
              "      <td>0.0</td>\n",
              "      <td>0.0</td>\n",
              "      <td>0.0</td>\n",
              "      <td>0.0</td>\n",
              "      <td>0.0</td>\n",
              "      <td>0.0</td>\n",
              "      <td>0.0</td>\n",
              "      <td>0.0</td>\n",
              "      <td>0.0</td>\n",
              "      <td>0.0</td>\n",
              "      <td>0.0</td>\n",
              "      <td>0.0</td>\n",
              "      <td>0.0</td>\n",
              "      <td>0.0</td>\n",
              "      <td>0.0</td>\n",
              "      <td>0.0</td>\n",
              "      <td>209.549</td>\n",
              "      <td>209.550</td>\n",
              "      <td>209.550</td>\n",
              "      <td>209.548</td>\n",
              "      <td>209.548</td>\n",
              "      <td>209.549</td>\n",
              "      <td>209.535</td>\n",
              "      <td>209.534</td>\n",
              "      <td>209.533</td>\n",
              "      <td>209.530</td>\n",
              "      <td>209.534</td>\n",
              "      <td>209.532</td>\n",
              "      <td>172.17255</td>\n",
              "      <td>172.17155</td>\n",
              "      <td>172.17255</td>\n",
              "      <td>172.17155</td>\n",
              "      <td>172.17155</td>\n",
              "      <td>172.17155</td>\n",
              "      <td>172.17255</td>\n",
              "      <td>172.17155</td>\n",
              "      <td>172.17155</td>\n",
              "      <td>172.17155</td>\n",
              "      <td>172.17255</td>\n",
              "      <td>172.17155</td>\n",
              "      <td>172.18855</td>\n",
              "      <td>low</td>\n",
              "    </tr>\n",
              "    <tr>\n",
              "      <th>10</th>\n",
              "      <td>0.0</td>\n",
              "      <td>0.0</td>\n",
              "      <td>0.0</td>\n",
              "      <td>0.0</td>\n",
              "      <td>0.0</td>\n",
              "      <td>0.0</td>\n",
              "      <td>0.0</td>\n",
              "      <td>0.0</td>\n",
              "      <td>0.0</td>\n",
              "      <td>0.0</td>\n",
              "      <td>0.0</td>\n",
              "      <td>0.0</td>\n",
              "      <td>0.0</td>\n",
              "      <td>0.0</td>\n",
              "      <td>0.0</td>\n",
              "      <td>0.0</td>\n",
              "      <td>0.0</td>\n",
              "      <td>0.0</td>\n",
              "      <td>0.0</td>\n",
              "      <td>0.0</td>\n",
              "      <td>0.0</td>\n",
              "      <td>0.0</td>\n",
              "      <td>0.0</td>\n",
              "      <td>0.0</td>\n",
              "      <td>209.547</td>\n",
              "      <td>209.549</td>\n",
              "      <td>209.550</td>\n",
              "      <td>209.550</td>\n",
              "      <td>209.548</td>\n",
              "      <td>209.548</td>\n",
              "      <td>209.549</td>\n",
              "      <td>209.535</td>\n",
              "      <td>209.534</td>\n",
              "      <td>209.533</td>\n",
              "      <td>209.530</td>\n",
              "      <td>209.534</td>\n",
              "      <td>172.17255</td>\n",
              "      <td>172.17255</td>\n",
              "      <td>172.17155</td>\n",
              "      <td>172.17255</td>\n",
              "      <td>172.17155</td>\n",
              "      <td>172.17155</td>\n",
              "      <td>172.17155</td>\n",
              "      <td>172.17255</td>\n",
              "      <td>172.17155</td>\n",
              "      <td>172.17155</td>\n",
              "      <td>172.17155</td>\n",
              "      <td>172.17255</td>\n",
              "      <td>172.18455</td>\n",
              "      <td>low</td>\n",
              "    </tr>\n",
              "  </tbody>\n",
              "</table>\n",
              "</div>"
            ],
            "text/plain": [
              "    yh1  yh2  yh3  yh4  yh5  ...       ys10       ys11       ys12         yo  label\n",
              "1   0.0  0.0  0.0  0.0  0.6  ...  172.18455  172.18855  172.21955  172.60854    low\n",
              "2   0.0  0.0  0.0  0.0  0.0  ...  172.17655  172.18455  172.18855  172.72354    low\n",
              "3   0.0  0.0  0.0  0.0  0.0  ...  172.17255  172.17655  172.18455  172.82254   high\n",
              "4   0.0  0.0  0.0  0.0  0.0  ...  172.17155  172.17255  172.17655  172.87754   high\n",
              "5   0.0  0.0  0.0  0.0  0.0  ...  172.17155  172.17155  172.17255  172.87854   high\n",
              "6   0.0  0.0  0.0  0.0  0.0  ...  172.17155  172.17155  172.17155  172.86155   high\n",
              "7   0.0  0.0  0.0  0.0  0.0  ...  172.17155  172.17155  172.17155  172.76355   high\n",
              "8   0.0  0.0  0.0  0.0  0.0  ...  172.17255  172.17155  172.17155  172.21955    low\n",
              "9   0.0  0.0  0.0  0.0  0.0  ...  172.17155  172.17255  172.17155  172.18855    low\n",
              "10  0.0  0.0  0.0  0.0  0.0  ...  172.17155  172.17155  172.17255  172.18455    low\n",
              "\n",
              "[10 rows x 50 columns]"
            ]
          },
          "metadata": {},
          "execution_count": 97
        }
      ]
    },
    {
      "cell_type": "code",
      "metadata": {
        "colab": {
          "base_uri": "https://localhost:8080/",
          "height": 379
        },
        "id": "8l6SoBnfUrpX",
        "outputId": "1b8c5f42-fc21-43da-a755-4daefaee2c90"
      },
      "source": [
        "dataframe.tail(10)"
      ],
      "execution_count": null,
      "outputs": [
        {
          "output_type": "execute_result",
          "data": {
            "text/html": [
              "<div>\n",
              "<style scoped>\n",
              "    .dataframe tbody tr th:only-of-type {\n",
              "        vertical-align: middle;\n",
              "    }\n",
              "\n",
              "    .dataframe tbody tr th {\n",
              "        vertical-align: top;\n",
              "    }\n",
              "\n",
              "    .dataframe thead th {\n",
              "        text-align: right;\n",
              "    }\n",
              "</style>\n",
              "<table border=\"1\" class=\"dataframe\">\n",
              "  <thead>\n",
              "    <tr style=\"text-align: right;\">\n",
              "      <th></th>\n",
              "      <th>yh1</th>\n",
              "      <th>yh2</th>\n",
              "      <th>yh3</th>\n",
              "      <th>yh4</th>\n",
              "      <th>yh5</th>\n",
              "      <th>yh6</th>\n",
              "      <th>yh7</th>\n",
              "      <th>yh8</th>\n",
              "      <th>yh9</th>\n",
              "      <th>yh10</th>\n",
              "      <th>yh11</th>\n",
              "      <th>yh12</th>\n",
              "      <th>ym1</th>\n",
              "      <th>ym2</th>\n",
              "      <th>ym3</th>\n",
              "      <th>ym4</th>\n",
              "      <th>ym5</th>\n",
              "      <th>ym6</th>\n",
              "      <th>ym7</th>\n",
              "      <th>ym8</th>\n",
              "      <th>ym9</th>\n",
              "      <th>ym10</th>\n",
              "      <th>ym11</th>\n",
              "      <th>ym12</th>\n",
              "      <th>yn1</th>\n",
              "      <th>yn2</th>\n",
              "      <th>yn3</th>\n",
              "      <th>yn4</th>\n",
              "      <th>yn5</th>\n",
              "      <th>yn6</th>\n",
              "      <th>yn7</th>\n",
              "      <th>yn8</th>\n",
              "      <th>yn9</th>\n",
              "      <th>yn10</th>\n",
              "      <th>yn11</th>\n",
              "      <th>yn12</th>\n",
              "      <th>ys1</th>\n",
              "      <th>ys2</th>\n",
              "      <th>ys3</th>\n",
              "      <th>ys4</th>\n",
              "      <th>ys5</th>\n",
              "      <th>ys6</th>\n",
              "      <th>ys7</th>\n",
              "      <th>ys8</th>\n",
              "      <th>ys9</th>\n",
              "      <th>ys10</th>\n",
              "      <th>ys11</th>\n",
              "      <th>ys12</th>\n",
              "      <th>yo</th>\n",
              "      <th>label</th>\n",
              "    </tr>\n",
              "  </thead>\n",
              "  <tbody>\n",
              "    <tr>\n",
              "      <th>21332</th>\n",
              "      <td>0.0</td>\n",
              "      <td>0.0</td>\n",
              "      <td>0.0</td>\n",
              "      <td>0.0</td>\n",
              "      <td>0.4</td>\n",
              "      <td>0.6</td>\n",
              "      <td>0.8</td>\n",
              "      <td>0.4</td>\n",
              "      <td>0.6</td>\n",
              "      <td>0.2</td>\n",
              "      <td>0.4</td>\n",
              "      <td>0.4</td>\n",
              "      <td>0.0</td>\n",
              "      <td>0.0</td>\n",
              "      <td>0.0</td>\n",
              "      <td>0.0</td>\n",
              "      <td>0.2</td>\n",
              "      <td>0.4</td>\n",
              "      <td>0.6</td>\n",
              "      <td>0.0</td>\n",
              "      <td>0.4</td>\n",
              "      <td>0.6</td>\n",
              "      <td>0.4</td>\n",
              "      <td>0.8</td>\n",
              "      <td>209.60147</td>\n",
              "      <td>209.60049</td>\n",
              "      <td>209.59852</td>\n",
              "      <td>209.59755</td>\n",
              "      <td>209.59657</td>\n",
              "      <td>209.59860</td>\n",
              "      <td>209.59862</td>\n",
              "      <td>209.59965</td>\n",
              "      <td>209.60167</td>\n",
              "      <td>209.60670</td>\n",
              "      <td>209.60972</td>\n",
              "      <td>209.61275</td>\n",
              "      <td>172.25436</td>\n",
              "      <td>172.25336</td>\n",
              "      <td>172.25236</td>\n",
              "      <td>172.25136</td>\n",
              "      <td>172.25036</td>\n",
              "      <td>172.25035</td>\n",
              "      <td>172.25035</td>\n",
              "      <td>172.24935</td>\n",
              "      <td>172.24935</td>\n",
              "      <td>172.25134</td>\n",
              "      <td>172.25634</td>\n",
              "      <td>172.27784</td>\n",
              "      <td>172.68333</td>\n",
              "      <td>low</td>\n",
              "    </tr>\n",
              "    <tr>\n",
              "      <th>21333</th>\n",
              "      <td>0.0</td>\n",
              "      <td>0.0</td>\n",
              "      <td>0.0</td>\n",
              "      <td>0.0</td>\n",
              "      <td>0.0</td>\n",
              "      <td>0.4</td>\n",
              "      <td>0.6</td>\n",
              "      <td>0.8</td>\n",
              "      <td>0.4</td>\n",
              "      <td>0.6</td>\n",
              "      <td>0.2</td>\n",
              "      <td>0.4</td>\n",
              "      <td>0.0</td>\n",
              "      <td>0.0</td>\n",
              "      <td>0.0</td>\n",
              "      <td>0.0</td>\n",
              "      <td>0.0</td>\n",
              "      <td>0.2</td>\n",
              "      <td>0.4</td>\n",
              "      <td>0.6</td>\n",
              "      <td>0.0</td>\n",
              "      <td>0.4</td>\n",
              "      <td>0.6</td>\n",
              "      <td>0.4</td>\n",
              "      <td>209.60244</td>\n",
              "      <td>209.60147</td>\n",
              "      <td>209.60049</td>\n",
              "      <td>209.59852</td>\n",
              "      <td>209.59755</td>\n",
              "      <td>209.59657</td>\n",
              "      <td>209.59860</td>\n",
              "      <td>209.59862</td>\n",
              "      <td>209.59965</td>\n",
              "      <td>209.60167</td>\n",
              "      <td>209.60670</td>\n",
              "      <td>209.60972</td>\n",
              "      <td>172.25587</td>\n",
              "      <td>172.25436</td>\n",
              "      <td>172.25336</td>\n",
              "      <td>172.25236</td>\n",
              "      <td>172.25136</td>\n",
              "      <td>172.25036</td>\n",
              "      <td>172.25035</td>\n",
              "      <td>172.25035</td>\n",
              "      <td>172.24935</td>\n",
              "      <td>172.24935</td>\n",
              "      <td>172.25134</td>\n",
              "      <td>172.25634</td>\n",
              "      <td>172.61683</td>\n",
              "      <td>low</td>\n",
              "    </tr>\n",
              "    <tr>\n",
              "      <th>21334</th>\n",
              "      <td>0.0</td>\n",
              "      <td>0.0</td>\n",
              "      <td>0.0</td>\n",
              "      <td>0.0</td>\n",
              "      <td>0.0</td>\n",
              "      <td>0.0</td>\n",
              "      <td>0.4</td>\n",
              "      <td>0.6</td>\n",
              "      <td>0.8</td>\n",
              "      <td>0.4</td>\n",
              "      <td>0.6</td>\n",
              "      <td>0.2</td>\n",
              "      <td>0.0</td>\n",
              "      <td>0.0</td>\n",
              "      <td>0.0</td>\n",
              "      <td>0.0</td>\n",
              "      <td>0.0</td>\n",
              "      <td>0.0</td>\n",
              "      <td>0.2</td>\n",
              "      <td>0.4</td>\n",
              "      <td>0.6</td>\n",
              "      <td>0.0</td>\n",
              "      <td>0.4</td>\n",
              "      <td>0.6</td>\n",
              "      <td>209.59942</td>\n",
              "      <td>209.60244</td>\n",
              "      <td>209.60147</td>\n",
              "      <td>209.60049</td>\n",
              "      <td>209.59852</td>\n",
              "      <td>209.59755</td>\n",
              "      <td>209.59657</td>\n",
              "      <td>209.59860</td>\n",
              "      <td>209.59862</td>\n",
              "      <td>209.59965</td>\n",
              "      <td>209.60167</td>\n",
              "      <td>209.60670</td>\n",
              "      <td>172.25637</td>\n",
              "      <td>172.25587</td>\n",
              "      <td>172.25436</td>\n",
              "      <td>172.25336</td>\n",
              "      <td>172.25236</td>\n",
              "      <td>172.25136</td>\n",
              "      <td>172.25036</td>\n",
              "      <td>172.25035</td>\n",
              "      <td>172.25035</td>\n",
              "      <td>172.24935</td>\n",
              "      <td>172.24935</td>\n",
              "      <td>172.25134</td>\n",
              "      <td>172.55533</td>\n",
              "      <td>low</td>\n",
              "    </tr>\n",
              "    <tr>\n",
              "      <th>21335</th>\n",
              "      <td>0.0</td>\n",
              "      <td>0.0</td>\n",
              "      <td>0.0</td>\n",
              "      <td>0.0</td>\n",
              "      <td>0.0</td>\n",
              "      <td>0.0</td>\n",
              "      <td>0.0</td>\n",
              "      <td>0.4</td>\n",
              "      <td>0.6</td>\n",
              "      <td>0.8</td>\n",
              "      <td>0.4</td>\n",
              "      <td>0.6</td>\n",
              "      <td>0.0</td>\n",
              "      <td>0.0</td>\n",
              "      <td>0.0</td>\n",
              "      <td>0.0</td>\n",
              "      <td>0.0</td>\n",
              "      <td>0.0</td>\n",
              "      <td>0.0</td>\n",
              "      <td>0.2</td>\n",
              "      <td>0.4</td>\n",
              "      <td>0.6</td>\n",
              "      <td>0.0</td>\n",
              "      <td>0.4</td>\n",
              "      <td>209.60139</td>\n",
              "      <td>209.59942</td>\n",
              "      <td>209.60244</td>\n",
              "      <td>209.60147</td>\n",
              "      <td>209.60049</td>\n",
              "      <td>209.59852</td>\n",
              "      <td>209.59755</td>\n",
              "      <td>209.59657</td>\n",
              "      <td>209.59860</td>\n",
              "      <td>209.59862</td>\n",
              "      <td>209.59965</td>\n",
              "      <td>209.60167</td>\n",
              "      <td>172.25687</td>\n",
              "      <td>172.25637</td>\n",
              "      <td>172.25587</td>\n",
              "      <td>172.25436</td>\n",
              "      <td>172.25336</td>\n",
              "      <td>172.25236</td>\n",
              "      <td>172.25136</td>\n",
              "      <td>172.25036</td>\n",
              "      <td>172.25035</td>\n",
              "      <td>172.25035</td>\n",
              "      <td>172.24935</td>\n",
              "      <td>172.24935</td>\n",
              "      <td>172.48683</td>\n",
              "      <td>low</td>\n",
              "    </tr>\n",
              "    <tr>\n",
              "      <th>21336</th>\n",
              "      <td>0.0</td>\n",
              "      <td>0.0</td>\n",
              "      <td>0.0</td>\n",
              "      <td>0.0</td>\n",
              "      <td>0.0</td>\n",
              "      <td>0.0</td>\n",
              "      <td>0.0</td>\n",
              "      <td>0.0</td>\n",
              "      <td>0.4</td>\n",
              "      <td>0.6</td>\n",
              "      <td>0.8</td>\n",
              "      <td>0.4</td>\n",
              "      <td>0.0</td>\n",
              "      <td>0.0</td>\n",
              "      <td>0.0</td>\n",
              "      <td>0.0</td>\n",
              "      <td>0.0</td>\n",
              "      <td>0.0</td>\n",
              "      <td>0.0</td>\n",
              "      <td>0.0</td>\n",
              "      <td>0.2</td>\n",
              "      <td>0.4</td>\n",
              "      <td>0.6</td>\n",
              "      <td>0.0</td>\n",
              "      <td>209.60237</td>\n",
              "      <td>209.60139</td>\n",
              "      <td>209.59942</td>\n",
              "      <td>209.60244</td>\n",
              "      <td>209.60147</td>\n",
              "      <td>209.60049</td>\n",
              "      <td>209.59852</td>\n",
              "      <td>209.59755</td>\n",
              "      <td>209.59657</td>\n",
              "      <td>209.59860</td>\n",
              "      <td>209.59862</td>\n",
              "      <td>209.59965</td>\n",
              "      <td>172.25737</td>\n",
              "      <td>172.25687</td>\n",
              "      <td>172.25637</td>\n",
              "      <td>172.25587</td>\n",
              "      <td>172.25436</td>\n",
              "      <td>172.25336</td>\n",
              "      <td>172.25236</td>\n",
              "      <td>172.25136</td>\n",
              "      <td>172.25036</td>\n",
              "      <td>172.25035</td>\n",
              "      <td>172.25035</td>\n",
              "      <td>172.24935</td>\n",
              "      <td>172.40933</td>\n",
              "      <td>low</td>\n",
              "    </tr>\n",
              "    <tr>\n",
              "      <th>21337</th>\n",
              "      <td>0.0</td>\n",
              "      <td>0.0</td>\n",
              "      <td>0.0</td>\n",
              "      <td>0.0</td>\n",
              "      <td>0.0</td>\n",
              "      <td>0.0</td>\n",
              "      <td>0.0</td>\n",
              "      <td>0.0</td>\n",
              "      <td>0.0</td>\n",
              "      <td>0.4</td>\n",
              "      <td>0.6</td>\n",
              "      <td>0.8</td>\n",
              "      <td>0.0</td>\n",
              "      <td>0.0</td>\n",
              "      <td>0.0</td>\n",
              "      <td>0.0</td>\n",
              "      <td>0.0</td>\n",
              "      <td>0.0</td>\n",
              "      <td>0.0</td>\n",
              "      <td>0.0</td>\n",
              "      <td>0.0</td>\n",
              "      <td>0.2</td>\n",
              "      <td>0.4</td>\n",
              "      <td>0.6</td>\n",
              "      <td>209.60334</td>\n",
              "      <td>209.60237</td>\n",
              "      <td>209.60139</td>\n",
              "      <td>209.59942</td>\n",
              "      <td>209.60244</td>\n",
              "      <td>209.60147</td>\n",
              "      <td>209.60049</td>\n",
              "      <td>209.59852</td>\n",
              "      <td>209.59755</td>\n",
              "      <td>209.59657</td>\n",
              "      <td>209.59860</td>\n",
              "      <td>209.59862</td>\n",
              "      <td>172.25737</td>\n",
              "      <td>172.25737</td>\n",
              "      <td>172.25687</td>\n",
              "      <td>172.25637</td>\n",
              "      <td>172.25587</td>\n",
              "      <td>172.25436</td>\n",
              "      <td>172.25336</td>\n",
              "      <td>172.25236</td>\n",
              "      <td>172.25136</td>\n",
              "      <td>172.25036</td>\n",
              "      <td>172.25035</td>\n",
              "      <td>172.25035</td>\n",
              "      <td>172.35384</td>\n",
              "      <td>low</td>\n",
              "    </tr>\n",
              "    <tr>\n",
              "      <th>21338</th>\n",
              "      <td>0.0</td>\n",
              "      <td>0.0</td>\n",
              "      <td>0.0</td>\n",
              "      <td>0.0</td>\n",
              "      <td>0.0</td>\n",
              "      <td>0.0</td>\n",
              "      <td>0.0</td>\n",
              "      <td>0.0</td>\n",
              "      <td>0.0</td>\n",
              "      <td>0.0</td>\n",
              "      <td>0.4</td>\n",
              "      <td>0.6</td>\n",
              "      <td>0.0</td>\n",
              "      <td>0.0</td>\n",
              "      <td>0.0</td>\n",
              "      <td>0.0</td>\n",
              "      <td>0.0</td>\n",
              "      <td>0.0</td>\n",
              "      <td>0.0</td>\n",
              "      <td>0.0</td>\n",
              "      <td>0.0</td>\n",
              "      <td>0.0</td>\n",
              "      <td>0.2</td>\n",
              "      <td>0.4</td>\n",
              "      <td>209.60631</td>\n",
              "      <td>209.60334</td>\n",
              "      <td>209.60237</td>\n",
              "      <td>209.60139</td>\n",
              "      <td>209.59942</td>\n",
              "      <td>209.60244</td>\n",
              "      <td>209.60147</td>\n",
              "      <td>209.60049</td>\n",
              "      <td>209.59852</td>\n",
              "      <td>209.59755</td>\n",
              "      <td>209.59657</td>\n",
              "      <td>209.59860</td>\n",
              "      <td>172.25738</td>\n",
              "      <td>172.25737</td>\n",
              "      <td>172.25737</td>\n",
              "      <td>172.25687</td>\n",
              "      <td>172.25637</td>\n",
              "      <td>172.25587</td>\n",
              "      <td>172.25436</td>\n",
              "      <td>172.25336</td>\n",
              "      <td>172.25236</td>\n",
              "      <td>172.25136</td>\n",
              "      <td>172.25036</td>\n",
              "      <td>172.25035</td>\n",
              "      <td>172.31434</td>\n",
              "      <td>low</td>\n",
              "    </tr>\n",
              "    <tr>\n",
              "      <th>21339</th>\n",
              "      <td>0.0</td>\n",
              "      <td>0.0</td>\n",
              "      <td>0.0</td>\n",
              "      <td>0.0</td>\n",
              "      <td>0.0</td>\n",
              "      <td>0.0</td>\n",
              "      <td>0.0</td>\n",
              "      <td>0.0</td>\n",
              "      <td>0.0</td>\n",
              "      <td>0.0</td>\n",
              "      <td>0.0</td>\n",
              "      <td>0.4</td>\n",
              "      <td>0.0</td>\n",
              "      <td>0.0</td>\n",
              "      <td>0.0</td>\n",
              "      <td>0.0</td>\n",
              "      <td>0.0</td>\n",
              "      <td>0.0</td>\n",
              "      <td>0.0</td>\n",
              "      <td>0.0</td>\n",
              "      <td>0.0</td>\n",
              "      <td>0.0</td>\n",
              "      <td>0.0</td>\n",
              "      <td>0.2</td>\n",
              "      <td>209.60529</td>\n",
              "      <td>209.60631</td>\n",
              "      <td>209.60334</td>\n",
              "      <td>209.60237</td>\n",
              "      <td>209.60139</td>\n",
              "      <td>209.59942</td>\n",
              "      <td>209.60244</td>\n",
              "      <td>209.60147</td>\n",
              "      <td>209.60049</td>\n",
              "      <td>209.59852</td>\n",
              "      <td>209.59755</td>\n",
              "      <td>209.59657</td>\n",
              "      <td>172.25838</td>\n",
              "      <td>172.25738</td>\n",
              "      <td>172.25737</td>\n",
              "      <td>172.25737</td>\n",
              "      <td>172.25687</td>\n",
              "      <td>172.25637</td>\n",
              "      <td>172.25587</td>\n",
              "      <td>172.25436</td>\n",
              "      <td>172.25336</td>\n",
              "      <td>172.25236</td>\n",
              "      <td>172.25136</td>\n",
              "      <td>172.25036</td>\n",
              "      <td>172.27784</td>\n",
              "      <td>low</td>\n",
              "    </tr>\n",
              "    <tr>\n",
              "      <th>21340</th>\n",
              "      <td>0.0</td>\n",
              "      <td>0.0</td>\n",
              "      <td>0.0</td>\n",
              "      <td>0.0</td>\n",
              "      <td>0.0</td>\n",
              "      <td>0.0</td>\n",
              "      <td>0.0</td>\n",
              "      <td>0.0</td>\n",
              "      <td>0.0</td>\n",
              "      <td>0.0</td>\n",
              "      <td>0.0</td>\n",
              "      <td>0.0</td>\n",
              "      <td>0.0</td>\n",
              "      <td>0.0</td>\n",
              "      <td>0.0</td>\n",
              "      <td>0.0</td>\n",
              "      <td>0.0</td>\n",
              "      <td>0.0</td>\n",
              "      <td>0.0</td>\n",
              "      <td>0.0</td>\n",
              "      <td>0.0</td>\n",
              "      <td>0.0</td>\n",
              "      <td>0.0</td>\n",
              "      <td>0.0</td>\n",
              "      <td>209.60726</td>\n",
              "      <td>209.60529</td>\n",
              "      <td>209.60631</td>\n",
              "      <td>209.60334</td>\n",
              "      <td>209.60237</td>\n",
              "      <td>209.60139</td>\n",
              "      <td>209.59942</td>\n",
              "      <td>209.60244</td>\n",
              "      <td>209.60147</td>\n",
              "      <td>209.60049</td>\n",
              "      <td>209.59852</td>\n",
              "      <td>209.59755</td>\n",
              "      <td>172.25838</td>\n",
              "      <td>172.25838</td>\n",
              "      <td>172.25738</td>\n",
              "      <td>172.25737</td>\n",
              "      <td>172.25737</td>\n",
              "      <td>172.25687</td>\n",
              "      <td>172.25637</td>\n",
              "      <td>172.25587</td>\n",
              "      <td>172.25436</td>\n",
              "      <td>172.25336</td>\n",
              "      <td>172.25236</td>\n",
              "      <td>172.25136</td>\n",
              "      <td>172.25634</td>\n",
              "      <td>low</td>\n",
              "    </tr>\n",
              "    <tr>\n",
              "      <th>21341</th>\n",
              "      <td>0.0</td>\n",
              "      <td>0.0</td>\n",
              "      <td>0.0</td>\n",
              "      <td>0.0</td>\n",
              "      <td>0.0</td>\n",
              "      <td>0.0</td>\n",
              "      <td>0.0</td>\n",
              "      <td>0.0</td>\n",
              "      <td>0.0</td>\n",
              "      <td>0.0</td>\n",
              "      <td>0.0</td>\n",
              "      <td>0.0</td>\n",
              "      <td>0.0</td>\n",
              "      <td>0.0</td>\n",
              "      <td>0.0</td>\n",
              "      <td>0.0</td>\n",
              "      <td>0.0</td>\n",
              "      <td>0.0</td>\n",
              "      <td>0.0</td>\n",
              "      <td>0.0</td>\n",
              "      <td>0.0</td>\n",
              "      <td>0.0</td>\n",
              "      <td>0.0</td>\n",
              "      <td>0.0</td>\n",
              "      <td>209.60824</td>\n",
              "      <td>209.60726</td>\n",
              "      <td>209.60529</td>\n",
              "      <td>209.60631</td>\n",
              "      <td>209.60334</td>\n",
              "      <td>209.60237</td>\n",
              "      <td>209.60139</td>\n",
              "      <td>209.59942</td>\n",
              "      <td>209.60244</td>\n",
              "      <td>209.60147</td>\n",
              "      <td>209.60049</td>\n",
              "      <td>209.59852</td>\n",
              "      <td>172.25938</td>\n",
              "      <td>172.25838</td>\n",
              "      <td>172.25838</td>\n",
              "      <td>172.25738</td>\n",
              "      <td>172.25737</td>\n",
              "      <td>172.25737</td>\n",
              "      <td>172.25687</td>\n",
              "      <td>172.25637</td>\n",
              "      <td>172.25587</td>\n",
              "      <td>172.25436</td>\n",
              "      <td>172.25336</td>\n",
              "      <td>172.25236</td>\n",
              "      <td>172.25134</td>\n",
              "      <td>low</td>\n",
              "    </tr>\n",
              "  </tbody>\n",
              "</table>\n",
              "</div>"
            ],
            "text/plain": [
              "       yh1  yh2  yh3  yh4  ...       ys11       ys12         yo  label\n",
              "21332  0.0  0.0  0.0  0.0  ...  172.25634  172.27784  172.68333    low\n",
              "21333  0.0  0.0  0.0  0.0  ...  172.25134  172.25634  172.61683    low\n",
              "21334  0.0  0.0  0.0  0.0  ...  172.24935  172.25134  172.55533    low\n",
              "21335  0.0  0.0  0.0  0.0  ...  172.24935  172.24935  172.48683    low\n",
              "21336  0.0  0.0  0.0  0.0  ...  172.25035  172.24935  172.40933    low\n",
              "21337  0.0  0.0  0.0  0.0  ...  172.25035  172.25035  172.35384    low\n",
              "21338  0.0  0.0  0.0  0.0  ...  172.25036  172.25035  172.31434    low\n",
              "21339  0.0  0.0  0.0  0.0  ...  172.25136  172.25036  172.27784    low\n",
              "21340  0.0  0.0  0.0  0.0  ...  172.25236  172.25136  172.25634    low\n",
              "21341  0.0  0.0  0.0  0.0  ...  172.25336  172.25236  172.25134    low\n",
              "\n",
              "[10 rows x 50 columns]"
            ]
          },
          "metadata": {},
          "execution_count": 98
        }
      ]
    },
    {
      "cell_type": "code",
      "metadata": {
        "id": "rxkFUhz6Wu-M"
      },
      "source": [
        "def preprocess_data(data):\n",
        "  data.drop( ['yo'], inplace= True, axis = 1)\n",
        "  data['output' ] = data['label']. apply (lambda  x: 0 if x == 'low' else 1)\n",
        "  data.drop( ['label'], inplace= True, axis = 1)\n",
        "  return data\n"
      ],
      "execution_count": null,
      "outputs": []
    },
    {
      "cell_type": "code",
      "metadata": {
        "id": "2J34sIbMZ4NL"
      },
      "source": [
        "dataframe = preprocess_data(dataframe)"
      ],
      "execution_count": null,
      "outputs": []
    },
    {
      "cell_type": "code",
      "metadata": {
        "colab": {
          "base_uri": "https://localhost:8080/",
          "height": 224
        },
        "id": "SaD07lHddds5",
        "outputId": "09db8bc5-d8ed-43f8-aa0e-621dfe419138"
      },
      "source": [
        "dataframe.head()"
      ],
      "execution_count": null,
      "outputs": [
        {
          "output_type": "execute_result",
          "data": {
            "text/html": [
              "<div>\n",
              "<style scoped>\n",
              "    .dataframe tbody tr th:only-of-type {\n",
              "        vertical-align: middle;\n",
              "    }\n",
              "\n",
              "    .dataframe tbody tr th {\n",
              "        vertical-align: top;\n",
              "    }\n",
              "\n",
              "    .dataframe thead th {\n",
              "        text-align: right;\n",
              "    }\n",
              "</style>\n",
              "<table border=\"1\" class=\"dataframe\">\n",
              "  <thead>\n",
              "    <tr style=\"text-align: right;\">\n",
              "      <th></th>\n",
              "      <th>yh1</th>\n",
              "      <th>yh2</th>\n",
              "      <th>yh3</th>\n",
              "      <th>yh4</th>\n",
              "      <th>yh5</th>\n",
              "      <th>yh6</th>\n",
              "      <th>yh7</th>\n",
              "      <th>yh8</th>\n",
              "      <th>yh9</th>\n",
              "      <th>yh10</th>\n",
              "      <th>yh11</th>\n",
              "      <th>yh12</th>\n",
              "      <th>ym1</th>\n",
              "      <th>ym2</th>\n",
              "      <th>ym3</th>\n",
              "      <th>ym4</th>\n",
              "      <th>ym5</th>\n",
              "      <th>ym6</th>\n",
              "      <th>ym7</th>\n",
              "      <th>ym8</th>\n",
              "      <th>ym9</th>\n",
              "      <th>ym10</th>\n",
              "      <th>ym11</th>\n",
              "      <th>ym12</th>\n",
              "      <th>yn1</th>\n",
              "      <th>yn2</th>\n",
              "      <th>yn3</th>\n",
              "      <th>yn4</th>\n",
              "      <th>yn5</th>\n",
              "      <th>yn6</th>\n",
              "      <th>yn7</th>\n",
              "      <th>yn8</th>\n",
              "      <th>yn9</th>\n",
              "      <th>yn10</th>\n",
              "      <th>yn11</th>\n",
              "      <th>yn12</th>\n",
              "      <th>ys1</th>\n",
              "      <th>ys2</th>\n",
              "      <th>ys3</th>\n",
              "      <th>ys4</th>\n",
              "      <th>ys5</th>\n",
              "      <th>ys6</th>\n",
              "      <th>ys7</th>\n",
              "      <th>ys8</th>\n",
              "      <th>ys9</th>\n",
              "      <th>ys10</th>\n",
              "      <th>ys11</th>\n",
              "      <th>ys12</th>\n",
              "      <th>output</th>\n",
              "    </tr>\n",
              "  </thead>\n",
              "  <tbody>\n",
              "    <tr>\n",
              "      <th>1</th>\n",
              "      <td>0.0</td>\n",
              "      <td>0.0</td>\n",
              "      <td>0.0</td>\n",
              "      <td>0.0</td>\n",
              "      <td>0.6</td>\n",
              "      <td>0.0</td>\n",
              "      <td>0.0</td>\n",
              "      <td>1.4</td>\n",
              "      <td>1.2</td>\n",
              "      <td>0.6</td>\n",
              "      <td>0.4</td>\n",
              "      <td>0.0</td>\n",
              "      <td>0.0</td>\n",
              "      <td>0.0</td>\n",
              "      <td>0.0</td>\n",
              "      <td>0.0</td>\n",
              "      <td>0.2</td>\n",
              "      <td>0.4</td>\n",
              "      <td>0.0</td>\n",
              "      <td>1.4</td>\n",
              "      <td>3.4</td>\n",
              "      <td>7.8</td>\n",
              "      <td>0.2</td>\n",
              "      <td>0.0</td>\n",
              "      <td>209.533</td>\n",
              "      <td>209.530</td>\n",
              "      <td>209.534</td>\n",
              "      <td>209.532</td>\n",
              "      <td>209.529</td>\n",
              "      <td>209.539</td>\n",
              "      <td>209.544</td>\n",
              "      <td>209.550</td>\n",
              "      <td>209.563</td>\n",
              "      <td>209.590</td>\n",
              "      <td>209.613</td>\n",
              "      <td>209.593</td>\n",
              "      <td>172.17155</td>\n",
              "      <td>172.17155</td>\n",
              "      <td>172.17255</td>\n",
              "      <td>172.17155</td>\n",
              "      <td>172.17155</td>\n",
              "      <td>172.17155</td>\n",
              "      <td>172.17155</td>\n",
              "      <td>172.17255</td>\n",
              "      <td>172.17655</td>\n",
              "      <td>172.18455</td>\n",
              "      <td>172.18855</td>\n",
              "      <td>172.21955</td>\n",
              "      <td>0</td>\n",
              "    </tr>\n",
              "    <tr>\n",
              "      <th>2</th>\n",
              "      <td>0.0</td>\n",
              "      <td>0.0</td>\n",
              "      <td>0.0</td>\n",
              "      <td>0.0</td>\n",
              "      <td>0.0</td>\n",
              "      <td>0.6</td>\n",
              "      <td>0.0</td>\n",
              "      <td>0.0</td>\n",
              "      <td>1.4</td>\n",
              "      <td>1.2</td>\n",
              "      <td>0.6</td>\n",
              "      <td>0.4</td>\n",
              "      <td>0.0</td>\n",
              "      <td>0.0</td>\n",
              "      <td>0.0</td>\n",
              "      <td>0.0</td>\n",
              "      <td>0.0</td>\n",
              "      <td>0.2</td>\n",
              "      <td>0.4</td>\n",
              "      <td>0.0</td>\n",
              "      <td>1.4</td>\n",
              "      <td>3.4</td>\n",
              "      <td>7.8</td>\n",
              "      <td>0.2</td>\n",
              "      <td>209.534</td>\n",
              "      <td>209.533</td>\n",
              "      <td>209.530</td>\n",
              "      <td>209.534</td>\n",
              "      <td>209.532</td>\n",
              "      <td>209.529</td>\n",
              "      <td>209.539</td>\n",
              "      <td>209.544</td>\n",
              "      <td>209.550</td>\n",
              "      <td>209.563</td>\n",
              "      <td>209.590</td>\n",
              "      <td>209.613</td>\n",
              "      <td>172.17155</td>\n",
              "      <td>172.17155</td>\n",
              "      <td>172.17155</td>\n",
              "      <td>172.17255</td>\n",
              "      <td>172.17155</td>\n",
              "      <td>172.17155</td>\n",
              "      <td>172.17155</td>\n",
              "      <td>172.17155</td>\n",
              "      <td>172.17255</td>\n",
              "      <td>172.17655</td>\n",
              "      <td>172.18455</td>\n",
              "      <td>172.18855</td>\n",
              "      <td>0</td>\n",
              "    </tr>\n",
              "    <tr>\n",
              "      <th>3</th>\n",
              "      <td>0.0</td>\n",
              "      <td>0.0</td>\n",
              "      <td>0.0</td>\n",
              "      <td>0.0</td>\n",
              "      <td>0.0</td>\n",
              "      <td>0.0</td>\n",
              "      <td>0.6</td>\n",
              "      <td>0.0</td>\n",
              "      <td>0.0</td>\n",
              "      <td>1.4</td>\n",
              "      <td>1.2</td>\n",
              "      <td>0.6</td>\n",
              "      <td>0.0</td>\n",
              "      <td>0.0</td>\n",
              "      <td>0.0</td>\n",
              "      <td>0.0</td>\n",
              "      <td>0.0</td>\n",
              "      <td>0.0</td>\n",
              "      <td>0.2</td>\n",
              "      <td>0.4</td>\n",
              "      <td>0.0</td>\n",
              "      <td>1.4</td>\n",
              "      <td>3.4</td>\n",
              "      <td>7.8</td>\n",
              "      <td>209.535</td>\n",
              "      <td>209.534</td>\n",
              "      <td>209.533</td>\n",
              "      <td>209.530</td>\n",
              "      <td>209.534</td>\n",
              "      <td>209.532</td>\n",
              "      <td>209.529</td>\n",
              "      <td>209.539</td>\n",
              "      <td>209.544</td>\n",
              "      <td>209.550</td>\n",
              "      <td>209.563</td>\n",
              "      <td>209.590</td>\n",
              "      <td>172.17255</td>\n",
              "      <td>172.17155</td>\n",
              "      <td>172.17155</td>\n",
              "      <td>172.17155</td>\n",
              "      <td>172.17255</td>\n",
              "      <td>172.17155</td>\n",
              "      <td>172.17155</td>\n",
              "      <td>172.17155</td>\n",
              "      <td>172.17155</td>\n",
              "      <td>172.17255</td>\n",
              "      <td>172.17655</td>\n",
              "      <td>172.18455</td>\n",
              "      <td>1</td>\n",
              "    </tr>\n",
              "    <tr>\n",
              "      <th>4</th>\n",
              "      <td>0.0</td>\n",
              "      <td>0.0</td>\n",
              "      <td>0.0</td>\n",
              "      <td>0.0</td>\n",
              "      <td>0.0</td>\n",
              "      <td>0.0</td>\n",
              "      <td>0.0</td>\n",
              "      <td>0.6</td>\n",
              "      <td>0.0</td>\n",
              "      <td>0.0</td>\n",
              "      <td>1.4</td>\n",
              "      <td>1.2</td>\n",
              "      <td>0.0</td>\n",
              "      <td>0.0</td>\n",
              "      <td>0.0</td>\n",
              "      <td>0.0</td>\n",
              "      <td>0.0</td>\n",
              "      <td>0.0</td>\n",
              "      <td>0.0</td>\n",
              "      <td>0.2</td>\n",
              "      <td>0.4</td>\n",
              "      <td>0.0</td>\n",
              "      <td>1.4</td>\n",
              "      <td>3.4</td>\n",
              "      <td>209.549</td>\n",
              "      <td>209.535</td>\n",
              "      <td>209.534</td>\n",
              "      <td>209.533</td>\n",
              "      <td>209.530</td>\n",
              "      <td>209.534</td>\n",
              "      <td>209.532</td>\n",
              "      <td>209.529</td>\n",
              "      <td>209.539</td>\n",
              "      <td>209.544</td>\n",
              "      <td>209.550</td>\n",
              "      <td>209.563</td>\n",
              "      <td>172.17155</td>\n",
              "      <td>172.17255</td>\n",
              "      <td>172.17155</td>\n",
              "      <td>172.17155</td>\n",
              "      <td>172.17155</td>\n",
              "      <td>172.17255</td>\n",
              "      <td>172.17155</td>\n",
              "      <td>172.17155</td>\n",
              "      <td>172.17155</td>\n",
              "      <td>172.17155</td>\n",
              "      <td>172.17255</td>\n",
              "      <td>172.17655</td>\n",
              "      <td>1</td>\n",
              "    </tr>\n",
              "    <tr>\n",
              "      <th>5</th>\n",
              "      <td>0.0</td>\n",
              "      <td>0.0</td>\n",
              "      <td>0.0</td>\n",
              "      <td>0.0</td>\n",
              "      <td>0.0</td>\n",
              "      <td>0.0</td>\n",
              "      <td>0.0</td>\n",
              "      <td>0.0</td>\n",
              "      <td>0.6</td>\n",
              "      <td>0.0</td>\n",
              "      <td>0.0</td>\n",
              "      <td>1.4</td>\n",
              "      <td>0.0</td>\n",
              "      <td>0.0</td>\n",
              "      <td>0.0</td>\n",
              "      <td>0.0</td>\n",
              "      <td>0.0</td>\n",
              "      <td>0.0</td>\n",
              "      <td>0.0</td>\n",
              "      <td>0.0</td>\n",
              "      <td>0.2</td>\n",
              "      <td>0.4</td>\n",
              "      <td>0.0</td>\n",
              "      <td>1.4</td>\n",
              "      <td>209.548</td>\n",
              "      <td>209.549</td>\n",
              "      <td>209.535</td>\n",
              "      <td>209.534</td>\n",
              "      <td>209.533</td>\n",
              "      <td>209.530</td>\n",
              "      <td>209.534</td>\n",
              "      <td>209.532</td>\n",
              "      <td>209.529</td>\n",
              "      <td>209.539</td>\n",
              "      <td>209.544</td>\n",
              "      <td>209.550</td>\n",
              "      <td>172.17155</td>\n",
              "      <td>172.17155</td>\n",
              "      <td>172.17255</td>\n",
              "      <td>172.17155</td>\n",
              "      <td>172.17155</td>\n",
              "      <td>172.17155</td>\n",
              "      <td>172.17255</td>\n",
              "      <td>172.17155</td>\n",
              "      <td>172.17155</td>\n",
              "      <td>172.17155</td>\n",
              "      <td>172.17155</td>\n",
              "      <td>172.17255</td>\n",
              "      <td>1</td>\n",
              "    </tr>\n",
              "  </tbody>\n",
              "</table>\n",
              "</div>"
            ],
            "text/plain": [
              "   yh1  yh2  yh3  yh4  yh5  ...        ys9       ys10       ys11       ys12  output\n",
              "1  0.0  0.0  0.0  0.0  0.6  ...  172.17655  172.18455  172.18855  172.21955       0\n",
              "2  0.0  0.0  0.0  0.0  0.0  ...  172.17255  172.17655  172.18455  172.18855       0\n",
              "3  0.0  0.0  0.0  0.0  0.0  ...  172.17155  172.17255  172.17655  172.18455       1\n",
              "4  0.0  0.0  0.0  0.0  0.0  ...  172.17155  172.17155  172.17255  172.17655       1\n",
              "5  0.0  0.0  0.0  0.0  0.0  ...  172.17155  172.17155  172.17155  172.17255       1\n",
              "\n",
              "[5 rows x 49 columns]"
            ]
          },
          "metadata": {},
          "execution_count": 101
        }
      ]
    },
    {
      "cell_type": "code",
      "metadata": {
        "colab": {
          "base_uri": "https://localhost:8080/"
        },
        "id": "9ahQrZ53Zju_",
        "outputId": "70d6f9c9-7d56-4358-c14c-81b5f1ba6785"
      },
      "source": [
        "dataframe.columns"
      ],
      "execution_count": null,
      "outputs": [
        {
          "output_type": "execute_result",
          "data": {
            "text/plain": [
              "Index(['yh1', 'yh2', 'yh3', 'yh4', 'yh5', 'yh6', 'yh7', 'yh8', 'yh9', 'yh10',\n",
              "       'yh11', 'yh12', 'ym1', 'ym2', 'ym3', 'ym4', 'ym5', 'ym6', 'ym7', 'ym8',\n",
              "       'ym9', 'ym10', 'ym11', 'ym12', 'yn1', 'yn2', 'yn3', 'yn4', 'yn5', 'yn6',\n",
              "       'yn7', 'yn8', 'yn9', 'yn10', 'yn11', 'yn12', 'ys1', 'ys2', 'ys3', 'ys4',\n",
              "       'ys5', 'ys6', 'ys7', 'ys8', 'ys9', 'ys10', 'ys11', 'ys12', 'output'],\n",
              "      dtype='object')"
            ]
          },
          "metadata": {},
          "execution_count": 102
        }
      ]
    },
    {
      "cell_type": "code",
      "metadata": {
        "id": "8Sy6XcvFcRrZ"
      },
      "source": [
        "dataset = dataframe.values"
      ],
      "execution_count": null,
      "outputs": []
    },
    {
      "cell_type": "code",
      "metadata": {
        "colab": {
          "base_uri": "https://localhost:8080/"
        },
        "id": "n1VXpgBddVc-",
        "outputId": "16d80c4f-fb63-411c-9455-410256520b19"
      },
      "source": [
        "dataset"
      ],
      "execution_count": null,
      "outputs": [
        {
          "output_type": "execute_result",
          "data": {
            "text/plain": [
              "array([[  0.     ,   0.     ,   0.     , ..., 172.18855, 172.21955,\n",
              "          0.     ],\n",
              "       [  0.     ,   0.     ,   0.     , ..., 172.18455, 172.18855,\n",
              "          0.     ],\n",
              "       [  0.     ,   0.     ,   0.     , ..., 172.17655, 172.18455,\n",
              "          1.     ],\n",
              "       ...,\n",
              "       [  0.     ,   0.     ,   0.     , ..., 172.25136, 172.25036,\n",
              "          0.     ],\n",
              "       [  0.     ,   0.     ,   0.     , ..., 172.25236, 172.25136,\n",
              "          0.     ],\n",
              "       [  0.     ,   0.     ,   0.     , ..., 172.25336, 172.25236,\n",
              "          0.     ]])"
            ]
          },
          "metadata": {},
          "execution_count": 104
        }
      ]
    },
    {
      "cell_type": "code",
      "metadata": {
        "id": "QcnUnoWxcVZk"
      },
      "source": [
        "Input = dataset[:, :-1]\n",
        "output = dataset[:, -1]"
      ],
      "execution_count": null,
      "outputs": []
    },
    {
      "cell_type": "code",
      "metadata": {
        "id": "Ajmv45s_Zps0"
      },
      "source": [
        "# Train Test split \n",
        "train_size = int(len(dataset) * 0.8)\n",
        "test_size = len(dataset) - train_size\n",
        "test_X, test_y = Input[:test_size, :], output[ :test_size]\n",
        "train_X, train_y=Input[test_size:, :], output[ test_size:]"
      ],
      "execution_count": null,
      "outputs": []
    },
    {
      "cell_type": "code",
      "metadata": {
        "id": "7EfsYoR35r9A"
      },
      "source": [
        "#Normalization\n",
        "scaler = MinMaxScaler(feature_range=(0, 1)).fit(train_X)\n",
        "train_X = scaler.transform(train_X)\n",
        "test_X = scaler.transform(test_X)"
      ],
      "execution_count": null,
      "outputs": []
    },
    {
      "cell_type": "code",
      "metadata": {
        "id": "73SaFLHi_rfX"
      },
      "source": [
        "# Reshaping data in the format (number of samples, number of steps, number of features)\n",
        "def reshape (multiarray): \n",
        "  train_X_2 = multiarray.reshape((multiarray.shape[0], 4, 12))\n",
        "  reshaped = np.empty([multiarray.shape[0], 12, 4])\n",
        "  for i in (range(multiarray.shape[0])): \n",
        "    reshaped[i, : ,  : ] = train_X_2[i, :, :].transpose()\n",
        "  return (reshaped)"
      ],
      "execution_count": null,
      "outputs": []
    },
    {
      "cell_type": "code",
      "metadata": {
        "id": "nIxouP2m_3Ox"
      },
      "source": [
        "train_X = reshape (train_X )\n",
        "test_X = reshape (test_X )"
      ],
      "execution_count": null,
      "outputs": []
    },
    {
      "cell_type": "code",
      "metadata": {
        "colab": {
          "base_uri": "https://localhost:8080/"
        },
        "id": "MvkY5NXMDsyU",
        "outputId": "aa06b975-0eb4-4e53-bffd-c4c21edba85f"
      },
      "source": [
        "train_X[0,:,:]"
      ],
      "execution_count": null,
      "outputs": [
        {
          "output_type": "execute_result",
          "data": {
            "text/plain": [
              "array([[0.        , 0.02564103, 0.04444971, 0.1775494 ],\n",
              "       [0.        , 0.02564103, 0.04262755, 0.16227633],\n",
              "       [0.        , 0.        , 0.04299198, 0.14338194],\n",
              "       [0.        , 0.        , 0.04262755, 0.12730503],\n",
              "       [0.        , 0.        , 0.04225948, 0.11765486],\n",
              "       [0.        , 0.        , 0.04225948, 0.1148414 ],\n",
              "       [0.        , 0.        , 0.04225948, 0.11001833],\n",
              "       [0.        , 0.        , 0.04225583, 0.10679893],\n",
              "       [0.        , 0.        , 0.04116254, 0.10197585],\n",
              "       [0.        , 0.        , 0.04262026, 0.09715278],\n",
              "       [0.        , 0.        , 0.04225583, 0.09312953],\n",
              "       [0.        , 0.        , 0.04115889, 0.08830646]])"
            ]
          },
          "metadata": {},
          "execution_count": 110
        }
      ]
    },
    {
      "cell_type": "code",
      "metadata": {
        "colab": {
          "base_uri": "https://localhost:8080/"
        },
        "id": "Chn9uvFME-jk",
        "outputId": "e327e5bc-375e-416b-9b09-1bbbeab2bd84"
      },
      "source": [
        "test_X[0,:,:]"
      ],
      "execution_count": null,
      "outputs": [
        {
          "output_type": "execute_result",
          "data": {
            "text/plain": [
              "array([[0.        , 0.        , 0.03534985, 0.02433643],\n",
              "       [0.        , 0.        , 0.03425656, 0.02433643],\n",
              "       [0.        , 0.        , 0.03571429, 0.02473835],\n",
              "       [0.        , 0.        , 0.03498542, 0.02433643],\n",
              "       [0.02941176, 0.01282051, 0.03389213, 0.02433643],\n",
              "       [0.        , 0.02564103, 0.03753644, 0.02433643],\n",
              "       [0.        , 0.        , 0.0393586 , 0.02433643],\n",
              "       [0.06862745, 0.08974359, 0.04154519, 0.02473835],\n",
              "       [0.05882353, 0.21794872, 0.0462828 , 0.02634604],\n",
              "       [0.02941176, 0.5       , 0.05612245, 0.02956142],\n",
              "       [0.01960784, 0.01282051, 0.06450437, 0.03116911],\n",
              "       [0.        , 0.        , 0.05721574, 0.04362872]])"
            ]
          },
          "metadata": {},
          "execution_count": 111
        }
      ]
    },
    {
      "cell_type": "code",
      "metadata": {
        "id": "zwkAxzO4K-OU"
      },
      "source": [
        "y_train = train_y.reshape((-1,1))"
      ],
      "execution_count": null,
      "outputs": []
    },
    {
      "cell_type": "code",
      "metadata": {
        "colab": {
          "base_uri": "https://localhost:8080/"
        },
        "id": "6wL1c-IVeJdm",
        "outputId": "0aa076a5-df68-4273-afc5-c19296415cbb"
      },
      "source": [
        "# reshape input to be 3D [samples, timesteps, features]\n",
        "\n",
        "print( train_X.shape, train_y.shape, test_X.shape, test_y.shape)\n",
        " \n"
      ],
      "execution_count": null,
      "outputs": [
        {
          "output_type": "stream",
          "name": "stdout",
          "text": [
            "(17072, 12, 4) (17072,) (4269, 12, 4) (4269,)\n"
          ]
        }
      ]
    },
    {
      "cell_type": "markdown",
      "metadata": {
        "id": "8nJogiFuhrSR"
      },
      "source": [
        "Training and evaluating models "
      ]
    },
    {
      "cell_type": "code",
      "metadata": {
        "id": "wKmG8mqQj5kc"
      },
      "source": [
        "#Metrics to monitor \n",
        "metrics = [\n",
        "      #keras.metrics.TruePositives(name='tp'),\n",
        "      #keras.metrics.FalsePositives(name='fp'),\n",
        "      #keras.metrics.TrueNegatives(name='tn'),\n",
        "      #keras.metrics.FalseNegatives(name='fn'), \n",
        "      keras.metrics.BinaryAccuracy(name='accuracy'),\n",
        "      keras.metrics.Precision(name='precision'),\n",
        "      keras.metrics.Recall(name='recall'),\n",
        "\n",
        "      #keras.metrics.AUC(name='auc'),\n",
        "      #keras.metrics.AUC(name='prc', curve='PR'), # precision-recall curve\n",
        "]"
      ],
      "execution_count": null,
      "outputs": []
    },
    {
      "cell_type": "code",
      "metadata": {
        "id": "NEmw7IzhJEqI"
      },
      "source": [
        "#defining the hyperModel\n",
        "#  input_shape= inputShape to be removed \n",
        "from kerastuner import HyperModel\n",
        "class LSTMHyperModel(HyperModel):\n",
        "    def __init__(self, input_shape):\n",
        "        self.input_shape = input_shape\n",
        "    def build(self, hp):\n",
        "        model = Sequential()\n",
        "\n",
        "        model.add(\n",
        "            LSTM(units=hp.Int('units_l1', 30, 44, 4, default=40), input_shape= input_shape, \n",
        "                recurrent_dropout= hp.Float('recurrent_dropout_1', min_value=0.05, max_value=0.2, default=0.1, step=0.05,) , return_sequences=True ))\n",
        "           \n",
        "        model.add(\n",
        "            LSTM(units=hp.Int('units_l2', 10, 24, 4, default=20),\n",
        "            \n",
        "            recurrent_dropout= hp.Float('recurrent_dropout_2', min_value=0.05, max_value=0.2, default=0.1, step=0.1,)  ))\n",
        "          \n",
        "        model.add(Dense(1, activation='sigmoid'))\n",
        "\n",
        "        hp_learning_rate = hp.Choice('learning_rate', values=[  1e-3, 1e-4])\n",
        "        model.compile(\n",
        "            optimizer=tf.keras.optimizers.Adam(learning_rate=hp_learning_rate), loss='binary_crossentropy', metrics= metrics )\n",
        "        \n",
        "        return model"
      ],
      "execution_count": null,
      "outputs": []
    },
    {
      "cell_type": "code",
      "metadata": {
        "id": "6V1VfHbzJuaw"
      },
      "source": [
        "input_shape= (train_X.shape[1], train_X.shape[2])\n",
        "hypermodel = LSTMHyperModel(input_shape)\n"
      ],
      "execution_count": null,
      "outputs": []
    },
    {
      "cell_type": "code",
      "metadata": {
        "colab": {
          "base_uri": "https://localhost:8080/"
        },
        "id": "1wIfcWrBLgoE",
        "outputId": "647b4127-7bd5-4157-9449-82b3a8404f5b"
      },
      "source": [
        "input_shape"
      ],
      "execution_count": null,
      "outputs": [
        {
          "output_type": "execute_result",
          "data": {
            "text/plain": [
              "(12, 4)"
            ]
          },
          "metadata": {},
          "execution_count": 117
        }
      ]
    },
    {
      "cell_type": "code",
      "metadata": {
        "colab": {
          "base_uri": "https://localhost:8080/"
        },
        "id": "F4Ec6yejJ5bj",
        "outputId": "fa1ebf8a-9e5e-4b36-bef9-a340562bb6c0"
      },
      "source": [
        "from kerastuner import BayesianOptimization\n",
        "\n",
        "#stop_early = tf.keras.callbacks.EarlyStopping(monitor='val_loss', patience=10)\n",
        "#stop_early,   validation_split=0.2,\n",
        "#tensorboardk = keras.callbacks.TensorBoard(log_dir='/tmp/tb_logs', histogram_freq= 1 , batch_size=32, write_graph=True, write_grads=False, write_images=False, embeddings_freq=0, embeddings_layer_names=None, embeddings_metadata=None, embeddings_data=None, update_freq='epoch')\n",
        "\n",
        "tuner_bo = BayesianOptimization(\n",
        "            hypermodel,\n",
        "            objective= kt.Objective(\"recall\", direction=\"max\")  ,\n",
        "            max_trials= 5,\n",
        "            seed=7,\n",
        "            executions_per_trial= 2  ,\n",
        "            overwrite=True ,  \n",
        "            directory=\"/content/drive/MyDrive/Colab Notebooks/ThesisExperiments/FlashFloodPredictionBenchmarkLSTM/15min\"\n",
        "            )\n",
        "tuner_bo.search(train_X, y_train, epochs= 100 ,  batch_size = 64  , use_multiprocessing=True  , verbose=2 )\n",
        "#shuffle=False,  "
      ],
      "execution_count": null,
      "outputs": [
        {
          "output_type": "stream",
          "name": "stdout",
          "text": [
            "Trial 5 Complete [00h 20m 05s]\n",
            "recall: 0.6239782273769379\n",
            "\n",
            "Best recall So Far: 0.6335150003433228\n",
            "Total elapsed time: 01h 37m 58s\n",
            "INFO:tensorflow:Oracle triggered exit\n"
          ]
        }
      ]
    },
    {
      "cell_type": "code",
      "metadata": {
        "id": "ZdiTh1-fCXNt"
      },
      "source": [
        "# Take best model \n",
        "best_model = tuner_bo.get_best_models(num_models=1)[0]\n",
        "best_model.build(train_X.shape)"
      ],
      "execution_count": null,
      "outputs": []
    },
    {
      "cell_type": "code",
      "metadata": {
        "colab": {
          "base_uri": "https://localhost:8080/"
        },
        "id": "euFfx3NUYoG1",
        "outputId": "8d98018b-bbce-48b2-a39f-12e3706d2456"
      },
      "source": [
        "best_model.evaluate( test_X, test_y, verbose=0)"
      ],
      "execution_count": null,
      "outputs": [
        {
          "output_type": "execute_result",
          "data": {
            "text/plain": [
              "[0.013319991528987885,\n",
              " 0.9906283617019653,\n",
              " 0.8430656790733337,\n",
              " 0.5953608155250549]"
            ]
          },
          "metadata": {},
          "execution_count": 120
        }
      ]
    },
    {
      "cell_type": "code",
      "metadata": {
        "colab": {
          "base_uri": "https://localhost:8080/"
        },
        "id": "qYFOo8_WBNdz",
        "outputId": "f33ffbd8-38cd-4ee3-d094-13cceb4c3db9"
      },
      "source": [
        "y_pred = best_model.predict( test_X,  batch_size= 128, verbose=1)"
      ],
      "execution_count": null,
      "outputs": [
        {
          "output_type": "stream",
          "name": "stdout",
          "text": [
            "34/34 [==============================] - 1s 7ms/step\n"
          ]
        }
      ]
    },
    {
      "cell_type": "code",
      "metadata": {
        "id": "ELqiqKDYhisD"
      },
      "source": [
        "y_pred =(y_pred>0.5)"
      ],
      "execution_count": null,
      "outputs": []
    },
    {
      "cell_type": "markdown",
      "metadata": {
        "id": "p2WcLvqoBUNx"
      },
      "source": [
        "# 15 min "
      ]
    },
    {
      "cell_type": "code",
      "metadata": {
        "id": "tsG37rHZC0nO"
      },
      "source": [
        "best_model.get_config()\n",
        "best_model.optimizer.get_config()\n",
        "best_model.history.params\n",
        "best_model.loss"
      ],
      "execution_count": null,
      "outputs": []
    },
    {
      "cell_type": "code",
      "metadata": {
        "colab": {
          "base_uri": "https://localhost:8080/"
        },
        "id": "ILFdYV0vGNOm",
        "outputId": "28c23b77-0b7e-4b65-9e00-efa4aea4204a"
      },
      "source": [
        "print (best_model.get_config()) \n",
        "print( best_model.optimizer.get_config()) \n",
        "print(best_model.history.params ) \n",
        "print ( best_modell.loss ) "
      ],
      "execution_count": null,
      "outputs": [
        {
          "output_type": "stream",
          "name": "stdout",
          "text": [
            "{'name': 'sequential_1', 'layers': [{'class_name': 'InputLayer', 'config': {'batch_input_shape': (None, 12, 4), 'dtype': 'float32', 'sparse': False, 'ragged': False, 'name': 'lstm_input'}}, {'class_name': 'LSTM', 'config': {'name': 'lstm', 'trainable': True, 'batch_input_shape': (None, 12, 4), 'dtype': 'float32', 'return_sequences': True, 'return_state': False, 'go_backwards': False, 'stateful': False, 'unroll': False, 'time_major': False, 'units': 40, 'activation': 'tanh', 'recurrent_activation': 'sigmoid', 'use_bias': True, 'kernel_initializer': {'class_name': 'GlorotUniform', 'config': {'seed': None}}, 'recurrent_initializer': {'class_name': 'Orthogonal', 'config': {'gain': 1.0, 'seed': None}}, 'bias_initializer': {'class_name': 'Zeros', 'config': {}}, 'unit_forget_bias': True, 'kernel_regularizer': None, 'recurrent_regularizer': None, 'bias_regularizer': None, 'activity_regularizer': None, 'kernel_constraint': None, 'recurrent_constraint': None, 'bias_constraint': None, 'dropout': 0.0, 'recurrent_dropout': 0.15, 'implementation': 1}}, {'class_name': 'LSTM', 'config': {'name': 'lstm_1', 'trainable': True, 'dtype': 'float32', 'return_sequences': False, 'return_state': False, 'go_backwards': False, 'stateful': False, 'unroll': False, 'time_major': False, 'units': 20, 'activation': 'tanh', 'recurrent_activation': 'sigmoid', 'use_bias': True, 'kernel_initializer': {'class_name': 'GlorotUniform', 'config': {'seed': None}}, 'recurrent_initializer': {'class_name': 'Orthogonal', 'config': {'gain': 1.0, 'seed': None}}, 'bias_initializer': {'class_name': 'Zeros', 'config': {}}, 'unit_forget_bias': True, 'kernel_regularizer': None, 'recurrent_regularizer': None, 'bias_regularizer': None, 'activity_regularizer': None, 'kernel_constraint': None, 'recurrent_constraint': None, 'bias_constraint': None, 'dropout': 0.0, 'recurrent_dropout': 0.1, 'implementation': 1}}, {'class_name': 'Dense', 'config': {'name': 'dense', 'trainable': True, 'dtype': 'float32', 'units': 1, 'activation': 'sigmoid', 'use_bias': True, 'kernel_initializer': {'class_name': 'GlorotUniform', 'config': {'seed': None}}, 'bias_initializer': {'class_name': 'Zeros', 'config': {}}, 'kernel_regularizer': None, 'bias_regularizer': None, 'activity_regularizer': None, 'kernel_constraint': None, 'bias_constraint': None}}]}\n",
            "{'name': 'Adam', 'learning_rate': 0.001, 'decay': 0.0, 'beta_1': 0.9, 'beta_2': 0.999, 'epsilon': 1e-07, 'amsgrad': False}\n",
            "{'verbose': 1, 'epochs': 1, 'steps': 67}\n",
            "binary_crossentropy\n"
          ]
        }
      ]
    },
    {
      "cell_type": "code",
      "metadata": {
        "colab": {
          "base_uri": "https://localhost:8080/"
        },
        "id": "qtxixf0IBFqK",
        "outputId": "7964aa27-749d-4810-b1b8-a618ee535018"
      },
      "source": [
        "print (best_model.get_config()) \n",
        "print( best_model.optimizer.get_config()) \n",
        "print(best_model.history.params ) \n",
        "print ( best_model.loss ) "
      ],
      "execution_count": null,
      "outputs": [
        {
          "output_type": "stream",
          "name": "stdout",
          "text": [
            "{'name': 'sequential', 'layers': [{'class_name': 'InputLayer', 'config': {'batch_input_shape': (None, 12, 4), 'dtype': 'float32', 'sparse': False, 'ragged': False, 'name': 'lstm_input'}}, {'class_name': 'LSTM', 'config': {'name': 'lstm', 'trainable': True, 'batch_input_shape': (None, 12, 4), 'dtype': 'float32', 'return_sequences': True, 'return_state': False, 'go_backwards': False, 'stateful': False, 'unroll': False, 'time_major': False, 'units': 38, 'activation': 'tanh', 'recurrent_activation': 'sigmoid', 'use_bias': True, 'kernel_initializer': {'class_name': 'GlorotUniform', 'config': {'seed': None}}, 'recurrent_initializer': {'class_name': 'Orthogonal', 'config': {'gain': 1.0, 'seed': None}}, 'bias_initializer': {'class_name': 'Zeros', 'config': {}}, 'unit_forget_bias': True, 'kernel_regularizer': None, 'recurrent_regularizer': None, 'bias_regularizer': None, 'activity_regularizer': None, 'kernel_constraint': None, 'recurrent_constraint': None, 'bias_constraint': None, 'dropout': 0.0, 'recurrent_dropout': 0.1, 'implementation': 1}}, {'class_name': 'LSTM', 'config': {'name': 'lstm_1', 'trainable': True, 'dtype': 'float32', 'return_sequences': False, 'return_state': False, 'go_backwards': False, 'stateful': False, 'unroll': False, 'time_major': False, 'units': 10, 'activation': 'tanh', 'recurrent_activation': 'sigmoid', 'use_bias': True, 'kernel_initializer': {'class_name': 'GlorotUniform', 'config': {'seed': None}}, 'recurrent_initializer': {'class_name': 'Orthogonal', 'config': {'gain': 1.0, 'seed': None}}, 'bias_initializer': {'class_name': 'Zeros', 'config': {}}, 'unit_forget_bias': True, 'kernel_regularizer': None, 'recurrent_regularizer': None, 'bias_regularizer': None, 'activity_regularizer': None, 'kernel_constraint': None, 'recurrent_constraint': None, 'bias_constraint': None, 'dropout': 0.0, 'recurrent_dropout': 0.15000000000000002, 'implementation': 1}}, {'class_name': 'Dense', 'config': {'name': 'dense', 'trainable': True, 'dtype': 'float32', 'units': 1, 'activation': 'sigmoid', 'use_bias': True, 'kernel_initializer': {'class_name': 'GlorotUniform', 'config': {'seed': None}}, 'bias_initializer': {'class_name': 'Zeros', 'config': {}}, 'kernel_regularizer': None, 'bias_regularizer': None, 'activity_regularizer': None, 'kernel_constraint': None, 'bias_constraint': None}}]}\n",
            "{'name': 'Adam', 'learning_rate': 0.0001, 'decay': 0.0, 'beta_1': 0.9, 'beta_2': 0.999, 'epsilon': 1e-07, 'amsgrad': False}\n",
            "{'verbose': 1, 'epochs': 1, 'steps': 67}\n",
            "binary_crossentropy\n"
          ]
        }
      ]
    },
    {
      "cell_type": "code",
      "metadata": {
        "colab": {
          "base_uri": "https://localhost:8080/"
        },
        "id": "nn-FzFRrGOzd",
        "outputId": "bde4c4f3-43b0-4d9a-af03-1ecc2d8162f1"
      },
      "source": [
        "print(classification_report(test_y, y_pred))"
      ],
      "execution_count": null,
      "outputs": [
        {
          "output_type": "stream",
          "name": "stdout",
          "text": [
            "              precision    recall  f1-score   support\n",
            "\n",
            "         0.0       1.00      1.00      1.00      4249\n",
            "         1.0       0.95      0.90      0.93        21\n",
            "\n",
            "    accuracy                           1.00      4270\n",
            "   macro avg       0.97      0.95      0.96      4270\n",
            "weighted avg       1.00      1.00      1.00      4270\n",
            "\n"
          ]
        }
      ]
    },
    {
      "cell_type": "code",
      "metadata": {
        "colab": {
          "base_uri": "https://localhost:8080/"
        },
        "id": "F2UFQe11BNsi",
        "outputId": "c68d448c-8b8f-452c-8e4d-a5e33e09d1e9"
      },
      "source": [
        "print(classification_report(test_y, y_pred))"
      ],
      "execution_count": null,
      "outputs": [
        {
          "output_type": "stream",
          "name": "stdout",
          "text": [
            "              precision    recall  f1-score   support\n",
            "\n",
            "         0.0       1.00      1.00      1.00      4249\n",
            "         1.0       0.86      0.90      0.88        21\n",
            "\n",
            "    accuracy                           1.00      4270\n",
            "   macro avg       0.93      0.95      0.94      4270\n",
            "weighted avg       1.00      1.00      1.00      4270\n",
            "\n"
          ]
        }
      ]
    },
    {
      "cell_type": "code",
      "metadata": {
        "colab": {
          "base_uri": "https://localhost:8080/"
        },
        "id": "cgpygpSgC28a",
        "outputId": "b9a9e592-4a3b-4728-8ad0-d961e6b03455"
      },
      "source": [
        "best_model.save('/content/drive/MyDrive/Colab Notebooks/ThesisExperiments/FlashFloodPredictionBenchmarkLSTM/15min')"
      ],
      "execution_count": null,
      "outputs": [
        {
          "output_type": "stream",
          "name": "stdout",
          "text": [
            "INFO:tensorflow:Assets written to: /content/drive/MyDrive/Colab Notebooks/ThesisExperiments/FlashFloodPredictionBenchmarkLSTM/15min/assets\n"
          ]
        },
        {
          "output_type": "stream",
          "name": "stderr",
          "text": [
            "WARNING:absl:<keras.layers.recurrent.LSTMCell object at 0x7fc178793350> has the same name 'LSTMCell' as a built-in Keras object. Consider renaming <class 'keras.layers.recurrent.LSTMCell'> to avoid naming conflicts when loading with `tf.keras.models.load_model`. If renaming is not possible, pass the object in the `custom_objects` parameter of the load function.\n",
            "WARNING:absl:<keras.layers.recurrent.LSTMCell object at 0x7fc1ad961890> has the same name 'LSTMCell' as a built-in Keras object. Consider renaming <class 'keras.layers.recurrent.LSTMCell'> to avoid naming conflicts when loading with `tf.keras.models.load_model`. If renaming is not possible, pass the object in the `custom_objects` parameter of the load function.\n"
          ]
        }
      ]
    },
    {
      "cell_type": "markdown",
      "metadata": {
        "id": "cHs1HJq_BZWu"
      },
      "source": [
        "# 30 min"
      ]
    },
    {
      "cell_type": "code",
      "metadata": {
        "id": "2BMaRsuyDXhB",
        "colab": {
          "base_uri": "https://localhost:8080/"
        },
        "outputId": "52d05159-ffb6-4abd-b321-3e334987c8b8"
      },
      "source": [
        "print (best_model.get_config() ) \n",
        "print( best_model.optimizer.get_config())\n",
        "print (best_model.history.params )\n",
        "print ( best_model.loss ) "
      ],
      "execution_count": null,
      "outputs": [
        {
          "output_type": "stream",
          "name": "stdout",
          "text": [
            "{'name': 'sequential', 'layers': [{'class_name': 'InputLayer', 'config': {'batch_input_shape': (None, 12, 4), 'dtype': 'float32', 'sparse': False, 'ragged': False, 'name': 'lstm_input'}}, {'class_name': 'LSTM', 'config': {'name': 'lstm', 'trainable': True, 'batch_input_shape': (None, 12, 4), 'dtype': 'float32', 'return_sequences': True, 'return_state': False, 'go_backwards': False, 'stateful': False, 'unroll': False, 'time_major': False, 'units': 42, 'activation': 'tanh', 'recurrent_activation': 'sigmoid', 'use_bias': True, 'kernel_initializer': {'class_name': 'GlorotUniform', 'config': {'seed': None}}, 'recurrent_initializer': {'class_name': 'Orthogonal', 'config': {'gain': 1.0, 'seed': None}}, 'bias_initializer': {'class_name': 'Zeros', 'config': {}}, 'unit_forget_bias': True, 'kernel_regularizer': None, 'recurrent_regularizer': None, 'bias_regularizer': None, 'activity_regularizer': None, 'kernel_constraint': None, 'recurrent_constraint': None, 'bias_constraint': None, 'dropout': 0.0, 'recurrent_dropout': 0.05, 'implementation': 1}}, {'class_name': 'LSTM', 'config': {'name': 'lstm_1', 'trainable': True, 'dtype': 'float32', 'return_sequences': False, 'return_state': False, 'go_backwards': False, 'stateful': False, 'unroll': False, 'time_major': False, 'units': 22, 'activation': 'tanh', 'recurrent_activation': 'sigmoid', 'use_bias': True, 'kernel_initializer': {'class_name': 'GlorotUniform', 'config': {'seed': None}}, 'recurrent_initializer': {'class_name': 'Orthogonal', 'config': {'gain': 1.0, 'seed': None}}, 'bias_initializer': {'class_name': 'Zeros', 'config': {}}, 'unit_forget_bias': True, 'kernel_regularizer': None, 'recurrent_regularizer': None, 'bias_regularizer': None, 'activity_regularizer': None, 'kernel_constraint': None, 'recurrent_constraint': None, 'bias_constraint': None, 'dropout': 0.0, 'recurrent_dropout': 0.05, 'implementation': 1}}, {'class_name': 'Dense', 'config': {'name': 'dense', 'trainable': True, 'dtype': 'float32', 'units': 1, 'activation': 'sigmoid', 'use_bias': True, 'kernel_initializer': {'class_name': 'GlorotUniform', 'config': {'seed': None}}, 'bias_initializer': {'class_name': 'Zeros', 'config': {}}, 'kernel_regularizer': None, 'bias_regularizer': None, 'activity_regularizer': None, 'kernel_constraint': None, 'bias_constraint': None}}]}\n",
            "{'name': 'Adam', 'learning_rate': 0.001, 'decay': 0.0, 'beta_1': 0.9, 'beta_2': 0.999, 'epsilon': 1e-07, 'amsgrad': False}\n",
            "{'verbose': 1, 'epochs': 1, 'steps': 34}\n",
            "binary_crossentropy\n"
          ]
        }
      ]
    },
    {
      "cell_type": "code",
      "metadata": {
        "colab": {
          "base_uri": "https://localhost:8080/"
        },
        "id": "98SU9XCqBZWu",
        "outputId": "674aa69f-9a95-4d5a-e2ac-ecc9e933621a"
      },
      "source": [
        "print(classification_report(test_y, y_pred))"
      ],
      "execution_count": null,
      "outputs": [
        {
          "output_type": "stream",
          "name": "stdout",
          "text": [
            "              precision    recall  f1-score   support\n",
            "\n",
            "         0.0       1.00      1.00      1.00      4249\n",
            "         1.0       0.86      0.86      0.86        21\n",
            "\n",
            "    accuracy                           1.00      4270\n",
            "   macro avg       0.93      0.93      0.93      4270\n",
            "weighted avg       1.00      1.00      1.00      4270\n",
            "\n"
          ]
        }
      ]
    },
    {
      "cell_type": "code",
      "metadata": {
        "id": "KNmaUQdPDRpt"
      },
      "source": [
        "best_model.save('')"
      ],
      "execution_count": null,
      "outputs": []
    },
    {
      "cell_type": "markdown",
      "metadata": {
        "id": "gR4koxSABaih"
      },
      "source": [
        "# 45 min"
      ]
    },
    {
      "cell_type": "code",
      "metadata": {
        "id": "wf63mB1QDX_k",
        "colab": {
          "base_uri": "https://localhost:8080/"
        },
        "outputId": "68120901-8113-40e5-c9b7-cca379036c64"
      },
      "source": [
        "print ( best_model.get_config() )\n",
        "print ( best_model.optimizer.get_config() )\n",
        "print ( best_model.history.params )\n",
        "print ( best_model.loss )"
      ],
      "execution_count": null,
      "outputs": [
        {
          "output_type": "stream",
          "name": "stdout",
          "text": [
            "{'name': 'sequential', 'layers': [{'class_name': 'InputLayer', 'config': {'batch_input_shape': (None, 12, 4), 'dtype': 'float32', 'sparse': False, 'ragged': False, 'name': 'lstm_input'}}, {'class_name': 'LSTM', 'config': {'name': 'lstm', 'trainable': True, 'batch_input_shape': (None, 12, 4), 'dtype': 'float32', 'return_sequences': True, 'return_state': False, 'go_backwards': False, 'stateful': False, 'unroll': False, 'time_major': False, 'units': 30, 'activation': 'tanh', 'recurrent_activation': 'sigmoid', 'use_bias': True, 'kernel_initializer': {'class_name': 'GlorotUniform', 'config': {'seed': None}}, 'recurrent_initializer': {'class_name': 'Orthogonal', 'config': {'gain': 1.0, 'seed': None}}, 'bias_initializer': {'class_name': 'Zeros', 'config': {}}, 'unit_forget_bias': True, 'kernel_regularizer': None, 'recurrent_regularizer': None, 'bias_regularizer': None, 'activity_regularizer': None, 'kernel_constraint': None, 'recurrent_constraint': None, 'bias_constraint': None, 'dropout': 0.0, 'recurrent_dropout': 0.05, 'implementation': 1}}, {'class_name': 'LSTM', 'config': {'name': 'lstm_1', 'trainable': True, 'dtype': 'float32', 'return_sequences': False, 'return_state': False, 'go_backwards': False, 'stateful': False, 'unroll': False, 'time_major': False, 'units': 22, 'activation': 'tanh', 'recurrent_activation': 'sigmoid', 'use_bias': True, 'kernel_initializer': {'class_name': 'GlorotUniform', 'config': {'seed': None}}, 'recurrent_initializer': {'class_name': 'Orthogonal', 'config': {'gain': 1.0, 'seed': None}}, 'bias_initializer': {'class_name': 'Zeros', 'config': {}}, 'unit_forget_bias': True, 'kernel_regularizer': None, 'recurrent_regularizer': None, 'bias_regularizer': None, 'activity_regularizer': None, 'kernel_constraint': None, 'recurrent_constraint': None, 'bias_constraint': None, 'dropout': 0.0, 'recurrent_dropout': 0.05, 'implementation': 1}}, {'class_name': 'Dense', 'config': {'name': 'dense', 'trainable': True, 'dtype': 'float32', 'units': 1, 'activation': 'sigmoid', 'use_bias': True, 'kernel_initializer': {'class_name': 'GlorotUniform', 'config': {'seed': None}}, 'bias_initializer': {'class_name': 'Zeros', 'config': {}}, 'kernel_regularizer': None, 'bias_regularizer': None, 'activity_regularizer': None, 'kernel_constraint': None, 'bias_constraint': None}}]}\n",
            "{'name': 'Adam', 'learning_rate': 0.001, 'decay': 0.0, 'beta_1': 0.9, 'beta_2': 0.999, 'epsilon': 1e-07, 'amsgrad': False}\n",
            "{'verbose': 1, 'epochs': 1, 'steps': 34}\n",
            "binary_crossentropy\n"
          ]
        }
      ]
    },
    {
      "cell_type": "code",
      "metadata": {
        "colab": {
          "base_uri": "https://localhost:8080/"
        },
        "id": "8MqU5q8nBaii",
        "outputId": "d31b7552-e718-44c7-cf48-65fd4f9f97ac"
      },
      "source": [
        "print(classification_report(test_y, y_pred))"
      ],
      "execution_count": null,
      "outputs": [
        {
          "output_type": "stream",
          "name": "stdout",
          "text": [
            "              precision    recall  f1-score   support\n",
            "\n",
            "         0.0       1.00      1.00      1.00      4248\n",
            "         1.0       0.90      0.86      0.88        21\n",
            "\n",
            "    accuracy                           1.00      4269\n",
            "   macro avg       0.95      0.93      0.94      4269\n",
            "weighted avg       1.00      1.00      1.00      4269\n",
            "\n"
          ]
        }
      ]
    },
    {
      "cell_type": "code",
      "metadata": {
        "id": "w9JndNhQDSE1"
      },
      "source": [
        "best_model.save('')"
      ],
      "execution_count": null,
      "outputs": []
    },
    {
      "cell_type": "markdown",
      "metadata": {
        "id": "ZlcVqdykBbVT"
      },
      "source": [
        "# 60 min"
      ]
    },
    {
      "cell_type": "code",
      "metadata": {
        "id": "Ajo3j73xDYcf",
        "colab": {
          "base_uri": "https://localhost:8080/"
        },
        "outputId": "f92611b5-88d5-4ce2-af27-7b0925d1da0d"
      },
      "source": [
        "print ( best_model.get_config() )\n",
        "print ( best_model.optimizer.get_config() )\n",
        "print ( best_model.history.params )\n",
        "print ( best_model.loss )"
      ],
      "execution_count": null,
      "outputs": [
        {
          "output_type": "stream",
          "name": "stdout",
          "text": [
            "{'name': 'sequential', 'layers': [{'class_name': 'InputLayer', 'config': {'batch_input_shape': (None, 12, 4), 'dtype': 'float32', 'sparse': False, 'ragged': False, 'name': 'lstm_input'}}, {'class_name': 'LSTM', 'config': {'name': 'lstm', 'trainable': True, 'batch_input_shape': (None, 12, 4), 'dtype': 'float32', 'return_sequences': True, 'return_state': False, 'go_backwards': False, 'stateful': False, 'unroll': False, 'time_major': False, 'units': 42, 'activation': 'tanh', 'recurrent_activation': 'sigmoid', 'use_bias': True, 'kernel_initializer': {'class_name': 'GlorotUniform', 'config': {'seed': None}}, 'recurrent_initializer': {'class_name': 'Orthogonal', 'config': {'gain': 1.0, 'seed': None}}, 'bias_initializer': {'class_name': 'Zeros', 'config': {}}, 'unit_forget_bias': True, 'kernel_regularizer': None, 'recurrent_regularizer': None, 'bias_regularizer': None, 'activity_regularizer': None, 'kernel_constraint': None, 'recurrent_constraint': None, 'bias_constraint': None, 'dropout': 0.0, 'recurrent_dropout': 0.2, 'implementation': 1}}, {'class_name': 'LSTM', 'config': {'name': 'lstm_1', 'trainable': True, 'dtype': 'float32', 'return_sequences': False, 'return_state': False, 'go_backwards': False, 'stateful': False, 'unroll': False, 'time_major': False, 'units': 10, 'activation': 'tanh', 'recurrent_activation': 'sigmoid', 'use_bias': True, 'kernel_initializer': {'class_name': 'GlorotUniform', 'config': {'seed': None}}, 'recurrent_initializer': {'class_name': 'Orthogonal', 'config': {'gain': 1.0, 'seed': None}}, 'bias_initializer': {'class_name': 'Zeros', 'config': {}}, 'unit_forget_bias': True, 'kernel_regularizer': None, 'recurrent_regularizer': None, 'bias_regularizer': None, 'activity_regularizer': None, 'kernel_constraint': None, 'recurrent_constraint': None, 'bias_constraint': None, 'dropout': 0.0, 'recurrent_dropout': 0.05, 'implementation': 1}}, {'class_name': 'Dense', 'config': {'name': 'dense', 'trainable': True, 'dtype': 'float32', 'units': 1, 'activation': 'sigmoid', 'use_bias': True, 'kernel_initializer': {'class_name': 'GlorotUniform', 'config': {'seed': None}}, 'bias_initializer': {'class_name': 'Zeros', 'config': {}}, 'kernel_regularizer': None, 'bias_regularizer': None, 'activity_regularizer': None, 'kernel_constraint': None, 'bias_constraint': None}}]}\n",
            "{'name': 'Adam', 'learning_rate': 0.001, 'decay': 0.0, 'beta_1': 0.9, 'beta_2': 0.999, 'epsilon': 1e-07, 'amsgrad': False}\n",
            "{'verbose': 1, 'epochs': 1, 'steps': 34}\n",
            "binary_crossentropy\n"
          ]
        }
      ]
    },
    {
      "cell_type": "code",
      "metadata": {
        "colab": {
          "base_uri": "https://localhost:8080/"
        },
        "id": "ZDHU-jDeBbVU",
        "outputId": "9b0e89ac-14a9-4731-ab01-f1c6a54b0fae"
      },
      "source": [
        "print(classification_report(test_y, y_pred))"
      ],
      "execution_count": null,
      "outputs": [
        {
          "output_type": "stream",
          "name": "stdout",
          "text": [
            "              precision    recall  f1-score   support\n",
            "\n",
            "         0.0       1.00      1.00      1.00      4248\n",
            "         1.0       0.95      0.90      0.93        21\n",
            "\n",
            "    accuracy                           1.00      4269\n",
            "   macro avg       0.97      0.95      0.96      4269\n",
            "weighted avg       1.00      1.00      1.00      4269\n",
            "\n"
          ]
        }
      ]
    },
    {
      "cell_type": "code",
      "metadata": {
        "id": "tVBot83NDSc_"
      },
      "source": [
        "best_model.save('')"
      ],
      "execution_count": null,
      "outputs": []
    },
    {
      "cell_type": "markdown",
      "metadata": {
        "id": "9NuMrF0PBbxc"
      },
      "source": [
        "# 75 min"
      ]
    },
    {
      "cell_type": "code",
      "metadata": {
        "id": "vUrBv6XdDY2l",
        "colab": {
          "base_uri": "https://localhost:8080/"
        },
        "outputId": "9f682a6d-0fef-42a1-8c91-cde9fbfbfdc1"
      },
      "source": [
        "print ( best_model.get_config() )\n",
        "print ( best_model.optimizer.get_config() )\n",
        "print ( best_model.history.params )\n",
        "print ( best_model.loss )"
      ],
      "execution_count": null,
      "outputs": [
        {
          "output_type": "stream",
          "name": "stdout",
          "text": [
            "{'name': 'sequential', 'layers': [{'class_name': 'InputLayer', 'config': {'batch_input_shape': (None, 12, 4), 'dtype': 'float32', 'sparse': False, 'ragged': False, 'name': 'lstm_input'}}, {'class_name': 'LSTM', 'config': {'name': 'lstm', 'trainable': True, 'batch_input_shape': (None, 12, 4), 'dtype': 'float32', 'return_sequences': True, 'return_state': False, 'go_backwards': False, 'stateful': False, 'unroll': False, 'time_major': False, 'units': 42, 'activation': 'tanh', 'recurrent_activation': 'sigmoid', 'use_bias': True, 'kernel_initializer': {'class_name': 'GlorotUniform', 'config': {'seed': None}}, 'recurrent_initializer': {'class_name': 'Orthogonal', 'config': {'gain': 1.0, 'seed': None}}, 'bias_initializer': {'class_name': 'Zeros', 'config': {}}, 'unit_forget_bias': True, 'kernel_regularizer': None, 'recurrent_regularizer': None, 'bias_regularizer': None, 'activity_regularizer': None, 'kernel_constraint': None, 'recurrent_constraint': None, 'bias_constraint': None, 'dropout': 0.0, 'recurrent_dropout': 0.05, 'implementation': 1}}, {'class_name': 'LSTM', 'config': {'name': 'lstm_1', 'trainable': True, 'dtype': 'float32', 'return_sequences': False, 'return_state': False, 'go_backwards': False, 'stateful': False, 'unroll': False, 'time_major': False, 'units': 22, 'activation': 'tanh', 'recurrent_activation': 'sigmoid', 'use_bias': True, 'kernel_initializer': {'class_name': 'GlorotUniform', 'config': {'seed': None}}, 'recurrent_initializer': {'class_name': 'Orthogonal', 'config': {'gain': 1.0, 'seed': None}}, 'bias_initializer': {'class_name': 'Zeros', 'config': {}}, 'unit_forget_bias': True, 'kernel_regularizer': None, 'recurrent_regularizer': None, 'bias_regularizer': None, 'activity_regularizer': None, 'kernel_constraint': None, 'recurrent_constraint': None, 'bias_constraint': None, 'dropout': 0.0, 'recurrent_dropout': 0.15000000000000002, 'implementation': 1}}, {'class_name': 'Dense', 'config': {'name': 'dense', 'trainable': True, 'dtype': 'float32', 'units': 1, 'activation': 'sigmoid', 'use_bias': True, 'kernel_initializer': {'class_name': 'GlorotUniform', 'config': {'seed': None}}, 'bias_initializer': {'class_name': 'Zeros', 'config': {}}, 'kernel_regularizer': None, 'bias_regularizer': None, 'activity_regularizer': None, 'kernel_constraint': None, 'bias_constraint': None}}]}\n",
            "{'name': 'Adam', 'learning_rate': 0.001, 'decay': 0.0, 'beta_1': 0.9, 'beta_2': 0.999, 'epsilon': 1e-07, 'amsgrad': False}\n",
            "{'verbose': 1, 'epochs': 1, 'steps': 34}\n",
            "binary_crossentropy\n"
          ]
        }
      ]
    },
    {
      "cell_type": "code",
      "metadata": {
        "colab": {
          "base_uri": "https://localhost:8080/"
        },
        "id": "eOXI0V3FBbxd",
        "outputId": "b90c5824-ed2c-43bc-c50b-2bc19b668335"
      },
      "source": [
        "print(classification_report(test_y, y_pred))"
      ],
      "execution_count": null,
      "outputs": [
        {
          "output_type": "stream",
          "name": "stdout",
          "text": [
            "              precision    recall  f1-score   support\n",
            "\n",
            "         0.0       1.00      1.00      1.00      4248\n",
            "         1.0       0.94      0.76      0.84        21\n",
            "\n",
            "    accuracy                           1.00      4269\n",
            "   macro avg       0.97      0.88      0.92      4269\n",
            "weighted avg       1.00      1.00      1.00      4269\n",
            "\n"
          ]
        }
      ]
    },
    {
      "cell_type": "code",
      "metadata": {
        "id": "3K8gLJuhDSy-"
      },
      "source": [
        "best_model.save('')"
      ],
      "execution_count": null,
      "outputs": []
    },
    {
      "cell_type": "markdown",
      "metadata": {
        "id": "QAihGTf3BcHv"
      },
      "source": [
        "# 90 min"
      ]
    },
    {
      "cell_type": "code",
      "metadata": {
        "id": "LdvabeobDZQy",
        "colab": {
          "base_uri": "https://localhost:8080/"
        },
        "outputId": "862f5ae5-814e-4383-827d-2fa107178002"
      },
      "source": [
        "print ( best_model.get_config() )\n",
        "print ( best_model.optimizer.get_config() )\n",
        "print ( best_model.history.params )\n",
        "print ( best_model.loss )"
      ],
      "execution_count": null,
      "outputs": [
        {
          "output_type": "stream",
          "name": "stdout",
          "text": [
            "{'name': 'sequential', 'layers': [{'class_name': 'InputLayer', 'config': {'batch_input_shape': (None, 12, 4), 'dtype': 'float32', 'sparse': False, 'ragged': False, 'name': 'lstm_input'}}, {'class_name': 'LSTM', 'config': {'name': 'lstm', 'trainable': True, 'batch_input_shape': (None, 12, 4), 'dtype': 'float32', 'return_sequences': True, 'return_state': False, 'go_backwards': False, 'stateful': False, 'unroll': False, 'time_major': False, 'units': 42, 'activation': 'tanh', 'recurrent_activation': 'sigmoid', 'use_bias': True, 'kernel_initializer': {'class_name': 'GlorotUniform', 'config': {'seed': None}}, 'recurrent_initializer': {'class_name': 'Orthogonal', 'config': {'gain': 1.0, 'seed': None}}, 'bias_initializer': {'class_name': 'Zeros', 'config': {}}, 'unit_forget_bias': True, 'kernel_regularizer': None, 'recurrent_regularizer': None, 'bias_regularizer': None, 'activity_regularizer': None, 'kernel_constraint': None, 'recurrent_constraint': None, 'bias_constraint': None, 'dropout': 0.0, 'recurrent_dropout': 0.05, 'implementation': 1}}, {'class_name': 'LSTM', 'config': {'name': 'lstm_1', 'trainable': True, 'dtype': 'float32', 'return_sequences': False, 'return_state': False, 'go_backwards': False, 'stateful': False, 'unroll': False, 'time_major': False, 'units': 22, 'activation': 'tanh', 'recurrent_activation': 'sigmoid', 'use_bias': True, 'kernel_initializer': {'class_name': 'GlorotUniform', 'config': {'seed': None}}, 'recurrent_initializer': {'class_name': 'Orthogonal', 'config': {'gain': 1.0, 'seed': None}}, 'bias_initializer': {'class_name': 'Zeros', 'config': {}}, 'unit_forget_bias': True, 'kernel_regularizer': None, 'recurrent_regularizer': None, 'bias_regularizer': None, 'activity_regularizer': None, 'kernel_constraint': None, 'recurrent_constraint': None, 'bias_constraint': None, 'dropout': 0.0, 'recurrent_dropout': 0.05, 'implementation': 1}}, {'class_name': 'Dense', 'config': {'name': 'dense', 'trainable': True, 'dtype': 'float32', 'units': 1, 'activation': 'sigmoid', 'use_bias': True, 'kernel_initializer': {'class_name': 'GlorotUniform', 'config': {'seed': None}}, 'bias_initializer': {'class_name': 'Zeros', 'config': {}}, 'kernel_regularizer': None, 'bias_regularizer': None, 'activity_regularizer': None, 'kernel_constraint': None, 'bias_constraint': None}}]}\n",
            "{'name': 'Adam', 'learning_rate': 0.001, 'decay': 0.0, 'beta_1': 0.9, 'beta_2': 0.999, 'epsilon': 1e-07, 'amsgrad': False}\n",
            "{'verbose': 1, 'epochs': 1, 'steps': 34}\n",
            "binary_crossentropy\n"
          ]
        }
      ]
    },
    {
      "cell_type": "code",
      "metadata": {
        "id": "9_fCCb4WBoc7",
        "colab": {
          "base_uri": "https://localhost:8080/"
        },
        "outputId": "e8bc0e27-b89d-4390-c056-0e94291f6c39"
      },
      "source": [
        "print(classification_report(test_y, y_pred))"
      ],
      "execution_count": null,
      "outputs": [
        {
          "output_type": "stream",
          "name": "stdout",
          "text": [
            "              precision    recall  f1-score   support\n",
            "\n",
            "         0.0       1.00      1.00      1.00      4248\n",
            "         1.0       0.55      0.81      0.65        21\n",
            "\n",
            "    accuracy                           1.00      4269\n",
            "   macro avg       0.77      0.90      0.83      4269\n",
            "weighted avg       1.00      1.00      1.00      4269\n",
            "\n"
          ]
        }
      ]
    },
    {
      "cell_type": "code",
      "metadata": {
        "id": "ikaGjGHHDTKR"
      },
      "source": [
        "best_model.save('')"
      ],
      "execution_count": null,
      "outputs": []
    },
    {
      "cell_type": "markdown",
      "metadata": {
        "id": "gLBgucWvBcmk"
      },
      "source": [
        "# 105 min"
      ]
    },
    {
      "cell_type": "code",
      "metadata": {
        "id": "LXJKTDzyDZtz",
        "colab": {
          "base_uri": "https://localhost:8080/"
        },
        "outputId": "0369dd74-aed9-4220-a3a7-e81c66e61d32"
      },
      "source": [
        "print ( best_model.get_config() )\n",
        "print ( best_model.optimizer.get_config() )\n",
        "print ( best_model.history.params )\n",
        "print ( best_model.loss )"
      ],
      "execution_count": null,
      "outputs": [
        {
          "output_type": "stream",
          "name": "stdout",
          "text": [
            "{'name': 'sequential', 'layers': [{'class_name': 'InputLayer', 'config': {'batch_input_shape': (None, 12, 4), 'dtype': 'float32', 'sparse': False, 'ragged': False, 'name': 'lstm_input'}}, {'class_name': 'LSTM', 'config': {'name': 'lstm', 'trainable': True, 'batch_input_shape': (None, 12, 4), 'dtype': 'float32', 'return_sequences': True, 'return_state': False, 'go_backwards': False, 'stateful': False, 'unroll': False, 'time_major': False, 'units': 34, 'activation': 'tanh', 'recurrent_activation': 'sigmoid', 'use_bias': True, 'kernel_initializer': {'class_name': 'GlorotUniform', 'config': {'seed': None}}, 'recurrent_initializer': {'class_name': 'Orthogonal', 'config': {'gain': 1.0, 'seed': None}}, 'bias_initializer': {'class_name': 'Zeros', 'config': {}}, 'unit_forget_bias': True, 'kernel_regularizer': None, 'recurrent_regularizer': None, 'bias_regularizer': None, 'activity_regularizer': None, 'kernel_constraint': None, 'recurrent_constraint': None, 'bias_constraint': None, 'dropout': 0.0, 'recurrent_dropout': 0.1, 'implementation': 1}}, {'class_name': 'LSTM', 'config': {'name': 'lstm_1', 'trainable': True, 'dtype': 'float32', 'return_sequences': False, 'return_state': False, 'go_backwards': False, 'stateful': False, 'unroll': False, 'time_major': False, 'units': 18, 'activation': 'tanh', 'recurrent_activation': 'sigmoid', 'use_bias': True, 'kernel_initializer': {'class_name': 'GlorotUniform', 'config': {'seed': None}}, 'recurrent_initializer': {'class_name': 'Orthogonal', 'config': {'gain': 1.0, 'seed': None}}, 'bias_initializer': {'class_name': 'Zeros', 'config': {}}, 'unit_forget_bias': True, 'kernel_regularizer': None, 'recurrent_regularizer': None, 'bias_regularizer': None, 'activity_regularizer': None, 'kernel_constraint': None, 'recurrent_constraint': None, 'bias_constraint': None, 'dropout': 0.0, 'recurrent_dropout': 0.15000000000000002, 'implementation': 1}}, {'class_name': 'Dense', 'config': {'name': 'dense', 'trainable': True, 'dtype': 'float32', 'units': 1, 'activation': 'sigmoid', 'use_bias': True, 'kernel_initializer': {'class_name': 'GlorotUniform', 'config': {'seed': None}}, 'bias_initializer': {'class_name': 'Zeros', 'config': {}}, 'kernel_regularizer': None, 'bias_regularizer': None, 'activity_regularizer': None, 'kernel_constraint': None, 'bias_constraint': None}}]}\n",
            "{'name': 'Adam', 'learning_rate': 0.0001, 'decay': 0.0, 'beta_1': 0.9, 'beta_2': 0.999, 'epsilon': 1e-07, 'amsgrad': False}\n",
            "{'verbose': 1, 'epochs': 1, 'steps': 34}\n",
            "binary_crossentropy\n"
          ]
        }
      ]
    },
    {
      "cell_type": "code",
      "metadata": {
        "id": "H5oI2Q-_BtSD",
        "colab": {
          "base_uri": "https://localhost:8080/"
        },
        "outputId": "33b37764-e5b6-4571-f027-087ed841ef91"
      },
      "source": [
        "print(classification_report(test_y, y_pred))"
      ],
      "execution_count": null,
      "outputs": [
        {
          "output_type": "stream",
          "name": "stdout",
          "text": [
            "              precision    recall  f1-score   support\n",
            "\n",
            "         0.0       1.00      1.00      1.00      4248\n",
            "         1.0       0.82      0.43      0.56        21\n",
            "\n",
            "    accuracy                           1.00      4269\n",
            "   macro avg       0.91      0.71      0.78      4269\n",
            "weighted avg       1.00      1.00      1.00      4269\n",
            "\n"
          ]
        }
      ]
    },
    {
      "cell_type": "code",
      "metadata": {
        "id": "W2QrSZtCDT_T"
      },
      "source": [
        "best_model.save('')"
      ],
      "execution_count": null,
      "outputs": []
    },
    {
      "cell_type": "markdown",
      "metadata": {
        "id": "r-Uc7c9hBc8b"
      },
      "source": [
        "# 120 min"
      ]
    },
    {
      "cell_type": "code",
      "metadata": {
        "id": "ltEVUmSlDaGt"
      },
      "source": [
        "print ( best_model.get_config() )\n",
        "print ( best_model.optimizer.get_config() )\n",
        "print ( best_model.history.params )\n",
        "print ( best_model.loss )"
      ],
      "execution_count": null,
      "outputs": []
    },
    {
      "cell_type": "code",
      "metadata": {
        "colab": {
          "base_uri": "https://localhost:8080/"
        },
        "id": "FA9JsKBrBc8d",
        "outputId": "58cdeb46-af1c-4b0d-ffe8-b24bafad9748"
      },
      "source": [
        "print(classification_report(test_y, y_pred))"
      ],
      "execution_count": null,
      "outputs": [
        {
          "output_type": "stream",
          "name": "stdout",
          "text": [
            "              precision    recall  f1-score   support\n",
            "\n",
            "         0.0       1.00      1.00      1.00      6355\n",
            "         1.0       0.94      0.90      0.92        50\n",
            "\n",
            "    accuracy                           1.00      6405\n",
            "   macro avg       0.97      0.95      0.96      6405\n",
            "weighted avg       1.00      1.00      1.00      6405\n",
            "\n"
          ]
        }
      ]
    },
    {
      "cell_type": "code",
      "metadata": {
        "id": "XoqqCMSPDUf7"
      },
      "source": [
        "best_model.save('')"
      ],
      "execution_count": null,
      "outputs": []
    }
  ]
}