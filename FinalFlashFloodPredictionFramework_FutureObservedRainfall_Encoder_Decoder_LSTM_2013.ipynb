{
  "nbformat": 4,
  "nbformat_minor": 0,
  "metadata": {
    "colab": {
      "name": "FinalFlashFloodPredictionFramework_FutureObservedRainfall_LSTM_2013_Classification_70_30_with.ipynb",
      "provenance": [],
      "collapsed_sections": [],
      "machine_shape": "hm"
    },
    "kernelspec": {
      "name": "python3",
      "display_name": "Python 3"
    },
    "language_info": {
      "name": "python"
    },
    "accelerator": "TPU"
  },
  "cells": [
    {
      "cell_type": "code",
      "metadata": {
        "colab": {
          "base_uri": "https://localhost:8080/"
        },
        "id": "liWm8anLWLBx",
        "outputId": "bedc3459-9690-4e8c-d2f4-e59f83a1a692"
      },
      "source": [
        "from google.colab import drive\n",
        "drive.mount('/content/drive')"
      ],
      "execution_count": null,
      "outputs": [
        {
          "output_type": "stream",
          "name": "stdout",
          "text": [
            "Mounted at /content/drive\n"
          ]
        }
      ]
    },
    {
      "cell_type": "code",
      "metadata": {
        "colab": {
          "base_uri": "https://localhost:8080/"
        },
        "id": "AWc9lfDA2MuT",
        "outputId": "24d82fc4-0e4b-41a2-a8e1-bb935210c321"
      },
      "source": [
        "!pip install keras-tuner"
      ],
      "execution_count": null,
      "outputs": [
        {
          "output_type": "stream",
          "name": "stdout",
          "text": [
            "Collecting keras-tuner\n",
            "  Downloading keras_tuner-1.1.2-py3-none-any.whl (133 kB)\n",
            "\u001b[?25l\r\u001b[K     |██▌                             | 10 kB 31.9 MB/s eta 0:00:01\r\u001b[K     |█████                           | 20 kB 21.9 MB/s eta 0:00:01\r\u001b[K     |███████▍                        | 30 kB 10.7 MB/s eta 0:00:01\r\u001b[K     |█████████▉                      | 40 kB 8.5 MB/s eta 0:00:01\r\u001b[K     |████████████▎                   | 51 kB 4.7 MB/s eta 0:00:01\r\u001b[K     |██████████████▊                 | 61 kB 5.5 MB/s eta 0:00:01\r\u001b[K     |█████████████████▏              | 71 kB 5.6 MB/s eta 0:00:01\r\u001b[K     |███████████████████▋            | 81 kB 5.5 MB/s eta 0:00:01\r\u001b[K     |██████████████████████          | 92 kB 6.1 MB/s eta 0:00:01\r\u001b[K     |████████████████████████▌       | 102 kB 5.3 MB/s eta 0:00:01\r\u001b[K     |███████████████████████████     | 112 kB 5.3 MB/s eta 0:00:01\r\u001b[K     |█████████████████████████████▍  | 122 kB 5.3 MB/s eta 0:00:01\r\u001b[K     |███████████████████████████████▉| 133 kB 5.3 MB/s eta 0:00:01\r\u001b[K     |████████████████████████████████| 133 kB 5.3 MB/s \n",
            "\u001b[?25hRequirement already satisfied: tensorboard in /usr/local/lib/python3.7/dist-packages (from keras-tuner) (2.8.0)\n",
            "Requirement already satisfied: requests in /usr/local/lib/python3.7/dist-packages (from keras-tuner) (2.23.0)\n",
            "Collecting kt-legacy\n",
            "  Downloading kt_legacy-1.0.4-py3-none-any.whl (9.6 kB)\n",
            "Requirement already satisfied: packaging in /usr/local/lib/python3.7/dist-packages (from keras-tuner) (21.3)\n",
            "Requirement already satisfied: numpy in /usr/local/lib/python3.7/dist-packages (from keras-tuner) (1.21.5)\n",
            "Requirement already satisfied: ipython in /usr/local/lib/python3.7/dist-packages (from keras-tuner) (5.5.0)\n",
            "Requirement already satisfied: pygments in /usr/local/lib/python3.7/dist-packages (from ipython->keras-tuner) (2.6.1)\n",
            "Requirement already satisfied: simplegeneric>0.8 in /usr/local/lib/python3.7/dist-packages (from ipython->keras-tuner) (0.8.1)\n",
            "Requirement already satisfied: traitlets>=4.2 in /usr/local/lib/python3.7/dist-packages (from ipython->keras-tuner) (5.1.1)\n",
            "Requirement already satisfied: pexpect in /usr/local/lib/python3.7/dist-packages (from ipython->keras-tuner) (4.8.0)\n",
            "Requirement already satisfied: prompt-toolkit<2.0.0,>=1.0.4 in /usr/local/lib/python3.7/dist-packages (from ipython->keras-tuner) (1.0.18)\n",
            "Requirement already satisfied: setuptools>=18.5 in /usr/local/lib/python3.7/dist-packages (from ipython->keras-tuner) (57.4.0)\n",
            "Requirement already satisfied: decorator in /usr/local/lib/python3.7/dist-packages (from ipython->keras-tuner) (4.4.2)\n",
            "Requirement already satisfied: pickleshare in /usr/local/lib/python3.7/dist-packages (from ipython->keras-tuner) (0.7.5)\n",
            "Requirement already satisfied: wcwidth in /usr/local/lib/python3.7/dist-packages (from prompt-toolkit<2.0.0,>=1.0.4->ipython->keras-tuner) (0.2.5)\n",
            "Requirement already satisfied: six>=1.9.0 in /usr/local/lib/python3.7/dist-packages (from prompt-toolkit<2.0.0,>=1.0.4->ipython->keras-tuner) (1.15.0)\n",
            "Requirement already satisfied: pyparsing!=3.0.5,>=2.0.2 in /usr/local/lib/python3.7/dist-packages (from packaging->keras-tuner) (3.0.7)\n",
            "Requirement already satisfied: ptyprocess>=0.5 in /usr/local/lib/python3.7/dist-packages (from pexpect->ipython->keras-tuner) (0.7.0)\n",
            "Requirement already satisfied: urllib3!=1.25.0,!=1.25.1,<1.26,>=1.21.1 in /usr/local/lib/python3.7/dist-packages (from requests->keras-tuner) (1.24.3)\n",
            "Requirement already satisfied: idna<3,>=2.5 in /usr/local/lib/python3.7/dist-packages (from requests->keras-tuner) (2.10)\n",
            "Requirement already satisfied: chardet<4,>=3.0.2 in /usr/local/lib/python3.7/dist-packages (from requests->keras-tuner) (3.0.4)\n",
            "Requirement already satisfied: certifi>=2017.4.17 in /usr/local/lib/python3.7/dist-packages (from requests->keras-tuner) (2021.10.8)\n",
            "Requirement already satisfied: grpcio>=1.24.3 in /usr/local/lib/python3.7/dist-packages (from tensorboard->keras-tuner) (1.44.0)\n",
            "Requirement already satisfied: werkzeug>=0.11.15 in /usr/local/lib/python3.7/dist-packages (from tensorboard->keras-tuner) (1.0.1)\n",
            "Requirement already satisfied: google-auth<3,>=1.6.3 in /usr/local/lib/python3.7/dist-packages (from tensorboard->keras-tuner) (1.35.0)\n",
            "Requirement already satisfied: tensorboard-plugin-wit>=1.6.0 in /usr/local/lib/python3.7/dist-packages (from tensorboard->keras-tuner) (1.8.1)\n",
            "Requirement already satisfied: markdown>=2.6.8 in /usr/local/lib/python3.7/dist-packages (from tensorboard->keras-tuner) (3.3.6)\n",
            "Requirement already satisfied: absl-py>=0.4 in /usr/local/lib/python3.7/dist-packages (from tensorboard->keras-tuner) (1.0.0)\n",
            "Requirement already satisfied: wheel>=0.26 in /usr/local/lib/python3.7/dist-packages (from tensorboard->keras-tuner) (0.37.1)\n",
            "Requirement already satisfied: tensorboard-data-server<0.7.0,>=0.6.0 in /usr/local/lib/python3.7/dist-packages (from tensorboard->keras-tuner) (0.6.1)\n",
            "Requirement already satisfied: protobuf>=3.6.0 in /usr/local/lib/python3.7/dist-packages (from tensorboard->keras-tuner) (3.17.3)\n",
            "Requirement already satisfied: google-auth-oauthlib<0.5,>=0.4.1 in /usr/local/lib/python3.7/dist-packages (from tensorboard->keras-tuner) (0.4.6)\n",
            "Requirement already satisfied: cachetools<5.0,>=2.0.0 in /usr/local/lib/python3.7/dist-packages (from google-auth<3,>=1.6.3->tensorboard->keras-tuner) (4.2.4)\n",
            "Requirement already satisfied: rsa<5,>=3.1.4 in /usr/local/lib/python3.7/dist-packages (from google-auth<3,>=1.6.3->tensorboard->keras-tuner) (4.8)\n",
            "Requirement already satisfied: pyasn1-modules>=0.2.1 in /usr/local/lib/python3.7/dist-packages (from google-auth<3,>=1.6.3->tensorboard->keras-tuner) (0.2.8)\n",
            "Requirement already satisfied: requests-oauthlib>=0.7.0 in /usr/local/lib/python3.7/dist-packages (from google-auth-oauthlib<0.5,>=0.4.1->tensorboard->keras-tuner) (1.3.1)\n",
            "Requirement already satisfied: importlib-metadata>=4.4 in /usr/local/lib/python3.7/dist-packages (from markdown>=2.6.8->tensorboard->keras-tuner) (4.11.3)\n",
            "Requirement already satisfied: typing-extensions>=3.6.4 in /usr/local/lib/python3.7/dist-packages (from importlib-metadata>=4.4->markdown>=2.6.8->tensorboard->keras-tuner) (3.10.0.2)\n",
            "Requirement already satisfied: zipp>=0.5 in /usr/local/lib/python3.7/dist-packages (from importlib-metadata>=4.4->markdown>=2.6.8->tensorboard->keras-tuner) (3.7.0)\n",
            "Requirement already satisfied: pyasn1<0.5.0,>=0.4.6 in /usr/local/lib/python3.7/dist-packages (from pyasn1-modules>=0.2.1->google-auth<3,>=1.6.3->tensorboard->keras-tuner) (0.4.8)\n",
            "Requirement already satisfied: oauthlib>=3.0.0 in /usr/local/lib/python3.7/dist-packages (from requests-oauthlib>=0.7.0->google-auth-oauthlib<0.5,>=0.4.1->tensorboard->keras-tuner) (3.2.0)\n",
            "Installing collected packages: kt-legacy, keras-tuner\n",
            "Successfully installed keras-tuner-1.1.2 kt-legacy-1.0.4\n"
          ]
        }
      ]
    },
    {
      "cell_type": "code",
      "metadata": {
        "id": "qKNysjF-K6Zy",
        "colab": {
          "base_uri": "https://localhost:8080/"
        },
        "outputId": "2fe1e10e-f476-4a1f-c0cb-8ba5e5de2913"
      },
      "source": [
        "import numpy as np\n",
        "import matplotlib.pyplot as plt\n",
        "import pandas as pd\n",
        "import math\n",
        "from tensorflow import keras\n",
        "from keras.models import Sequential\n",
        "from keras.layers import Dense\n",
        "from keras.layers import LSTM , Bidirectional\n",
        "from tensorflow.keras.models import Sequential\n",
        "from tensorflow.keras.layers import Dense, Activation, Dropout\n",
        "from tensorflow.keras.optimizers import Adam\n",
        "from sklearn.preprocessing import MinMaxScaler\n",
        "from sklearn.metrics import  mean_squared_error, r2_score, mean_absolute_error, max_error\n",
        "import keras_tuner as kt\n",
        "import tensorflow as tf \n",
        "from tensorflow import keras\n",
        "from statsmodels.tsa.stattools import acf, pacf\n",
        "from statsmodels.graphics.tsaplots import plot_acf, plot_pacf\n",
        "import seaborn as sns\n",
        "from sklearn.metrics import classification_report"
      ],
      "execution_count": null,
      "outputs": [
        {
          "output_type": "stream",
          "name": "stderr",
          "text": [
            "/usr/local/lib/python3.7/dist-packages/statsmodels/tools/_testing.py:19: FutureWarning: pandas.util.testing is deprecated. Use the functions in the public API at pandas.testing instead.\n",
            "  import pandas.util.testing as tm\n"
          ]
        }
      ]
    },
    {
      "cell_type": "code",
      "metadata": {
        "id": "fD46Ma3XMg8s"
      },
      "source": [
        "import os \n",
        "\n",
        "# Set your working directory to a folder in your Google Drive. This way, if your notebook times out,\n",
        "# your files will be saved in your Google Drive!\n",
        "\n",
        "# the base Google Drive directory\n",
        "root_dir = \"/content/drive/MyDrive/\"\n",
        "\n",
        "# choose where you want your project files to be saved\n",
        "project_folder = \"Colab Notebooks/ThesisExperiments/FlashFloodPredictionBenchmarkLSTM\"\n",
        "\n",
        "\n",
        "def create_and_set_working_directory(project_folder):\n",
        "  # check if your project folder exists. if not, it will be created.\n",
        "  if os.path.isdir(root_dir + project_folder) == False:\n",
        "    os.mkdir(root_dir + project_folder)\n",
        "    print(root_dir + project_folder + ' did not exist but was created.')\n",
        "\n",
        "  # change the OS to use your project folder as the working directory\n",
        "  os.chdir(root_dir + project_folder)\n",
        "\n",
        "\n",
        "create_and_set_working_directory(project_folder)"
      ],
      "execution_count": null,
      "outputs": []
    },
    {
      "cell_type": "code",
      "metadata": {
        "id": "SpK84iV-VeHb"
      },
      "source": [
        "def read_data (path):\n",
        "  return pd.read_csv(path, index_col= 0 , header= 0)"
      ],
      "execution_count": null,
      "outputs": []
    },
    {
      "cell_type": "code",
      "metadata": {
        "id": "Pr_fz1jAWCa4"
      },
      "source": [
        "# load the dataset lead time 15 min \n",
        "dataframe = read_data ('/content/drive/MyDrive/Colab Notebooks/ThesisExperiments/FlashFloodPredictionBenchmarkLSTM/15min/observedP/DataP2013.csv')"
      ],
      "execution_count": null,
      "outputs": []
    },
    {
      "cell_type": "code",
      "metadata": {
        "id": "kvHsOBJuWCXL"
      },
      "source": [
        "# load the dataset lead time 30 min \n",
        "dataframe = read_data ('/content/drive/MyDrive/Colab Notebooks/ThesisExperiments/FlashFloodPredictionBenchmarkLSTM/30min/observedP/DataP2013.csv')"
      ],
      "execution_count": null,
      "outputs": []
    },
    {
      "cell_type": "code",
      "metadata": {
        "id": "fgqxNOuhWCOH"
      },
      "source": [
        "# load the dataset lead time 45 min \n",
        "dataframe = read_data ('/content/drive/MyDrive/Colab Notebooks/ThesisExperiments/FlashFloodPredictionBenchmarkLSTM/45min/observedP/DataP2013.csv')"
      ],
      "execution_count": null,
      "outputs": []
    },
    {
      "cell_type": "code",
      "metadata": {
        "id": "rPcHVDeDWCG1"
      },
      "source": [
        "# load the dataset lead time 60 min \n",
        "dataframe = read_data ('/content/drive/MyDrive/Colab Notebooks/ThesisExperiments/FlashFloodPredictionBenchmarkLSTM/60min/observedP/DataP2013.csv')"
      ],
      "execution_count": null,
      "outputs": []
    },
    {
      "cell_type": "code",
      "metadata": {
        "id": "1zs7pjK_WB_b"
      },
      "source": [
        "# load the dataset lead time 75 min \n",
        "dataframe = read_data ('/content/drive/MyDrive/Colab Notebooks/ThesisExperiments/FlashFloodPredictionBenchmarkLSTM/75min/observedP/DataP2013.csv')"
      ],
      "execution_count": null,
      "outputs": []
    },
    {
      "cell_type": "code",
      "metadata": {
        "id": "28OlNtLkWB3l"
      },
      "source": [
        "# load the dataset lead time 90 min \n",
        "dataframe = read_data ('/content/drive/MyDrive/Colab Notebooks/ThesisExperiments/FlashFloodPredictionBenchmarkLSTM/90min/observedP/DataP2013.csv')"
      ],
      "execution_count": null,
      "outputs": []
    },
    {
      "cell_type": "code",
      "metadata": {
        "id": "0SvnB0HeWBsA"
      },
      "source": [
        "# load the dataset lead time 105 min \n",
        "dataframe = read_data ('/content/drive/MyDrive/Colab Notebooks/ThesisExperiments/FlashFloodPredictionBenchmarkLSTM/105min/observedP/DataP2013.csv')"
      ],
      "execution_count": null,
      "outputs": []
    },
    {
      "cell_type": "code",
      "metadata": {
        "id": "YQz7cv7ecHtl"
      },
      "source": [
        "# load the dataset lead time 120 min \n",
        "dataframe = read_data ('/content/drive/MyDrive/Colab Notebooks/ThesisExperiments/FlashFloodPredictionBenchmarkLSTM/120min/ObservedP/DataP2013.csv')"
      ],
      "execution_count": null,
      "outputs": []
    },
    {
      "cell_type": "code",
      "metadata": {
        "id": "RMJoupWZVBhg"
      },
      "source": [
        "\n",
        "dataframe_time = read_data ('/content/drive/MyDrive/Colab Notebooks/ThesisExperiments/FlashFloodPredictionBenchmarkLSTM/120min/ObservedP/DataTimeP2013.csv')"
      ],
      "execution_count": null,
      "outputs": []
    },
    {
      "cell_type": "code",
      "metadata": {
        "id": "UvaH2sVIpi5G",
        "colab": {
          "base_uri": "https://localhost:8080/",
          "height": 427
        },
        "outputId": "869bdc6b-4762-4802-85a3-0fc99d79af2e"
      },
      "source": [
        "#Some explaratory data analysis\n",
        "dataframe.head(10)"
      ],
      "execution_count": null,
      "outputs": [
        {
          "output_type": "execute_result",
          "data": {
            "text/html": [
              "\n",
              "  <div id=\"df-2c34749b-835f-4e26-b608-3860c02a6d5c\">\n",
              "    <div class=\"colab-df-container\">\n",
              "      <div>\n",
              "<style scoped>\n",
              "    .dataframe tbody tr th:only-of-type {\n",
              "        vertical-align: middle;\n",
              "    }\n",
              "\n",
              "    .dataframe tbody tr th {\n",
              "        vertical-align: top;\n",
              "    }\n",
              "\n",
              "    .dataframe thead th {\n",
              "        text-align: right;\n",
              "    }\n",
              "</style>\n",
              "<table border=\"1\" class=\"dataframe\">\n",
              "  <thead>\n",
              "    <tr style=\"text-align: right;\">\n",
              "      <th></th>\n",
              "      <th>yh1</th>\n",
              "      <th>yh2</th>\n",
              "      <th>yh3</th>\n",
              "      <th>yh4</th>\n",
              "      <th>yh5</th>\n",
              "      <th>yh6</th>\n",
              "      <th>yh7</th>\n",
              "      <th>yh8</th>\n",
              "      <th>yh9</th>\n",
              "      <th>yh10</th>\n",
              "      <th>yh11</th>\n",
              "      <th>yh12</th>\n",
              "      <th>ym1</th>\n",
              "      <th>ym2</th>\n",
              "      <th>ym3</th>\n",
              "      <th>ym4</th>\n",
              "      <th>ym5</th>\n",
              "      <th>ym6</th>\n",
              "      <th>ym7</th>\n",
              "      <th>ym8</th>\n",
              "      <th>ym9</th>\n",
              "      <th>ym10</th>\n",
              "      <th>ym11</th>\n",
              "      <th>ym12</th>\n",
              "      <th>yn1</th>\n",
              "      <th>yn2</th>\n",
              "      <th>yn3</th>\n",
              "      <th>yn4</th>\n",
              "      <th>yn5</th>\n",
              "      <th>yn6</th>\n",
              "      <th>yn7</th>\n",
              "      <th>yn8</th>\n",
              "      <th>yn9</th>\n",
              "      <th>yn10</th>\n",
              "      <th>yn11</th>\n",
              "      <th>yn12</th>\n",
              "      <th>ys1</th>\n",
              "      <th>ys2</th>\n",
              "      <th>ys3</th>\n",
              "      <th>ys4</th>\n",
              "      <th>ys5</th>\n",
              "      <th>ys6</th>\n",
              "      <th>ys7</th>\n",
              "      <th>ys8</th>\n",
              "      <th>ys9</th>\n",
              "      <th>ys10</th>\n",
              "      <th>ys11</th>\n",
              "      <th>ys12</th>\n",
              "      <th>ph1</th>\n",
              "      <th>ph2</th>\n",
              "      <th>ph3</th>\n",
              "      <th>ph4</th>\n",
              "      <th>ph5</th>\n",
              "      <th>ph6</th>\n",
              "      <th>ph7</th>\n",
              "      <th>ph8</th>\n",
              "      <th>pm1</th>\n",
              "      <th>pm2</th>\n",
              "      <th>pm3</th>\n",
              "      <th>pm4</th>\n",
              "      <th>pm5</th>\n",
              "      <th>pm6</th>\n",
              "      <th>pm7</th>\n",
              "      <th>pm8</th>\n",
              "      <th>yo</th>\n",
              "      <th>label</th>\n",
              "    </tr>\n",
              "  </thead>\n",
              "  <tbody>\n",
              "    <tr>\n",
              "      <th>1</th>\n",
              "      <td>0.0</td>\n",
              "      <td>0.0</td>\n",
              "      <td>0.0</td>\n",
              "      <td>0.0</td>\n",
              "      <td>0.0</td>\n",
              "      <td>0.6</td>\n",
              "      <td>0.0</td>\n",
              "      <td>0.0</td>\n",
              "      <td>1.4</td>\n",
              "      <td>1.2</td>\n",
              "      <td>0.6</td>\n",
              "      <td>0.4</td>\n",
              "      <td>0.0</td>\n",
              "      <td>0.0</td>\n",
              "      <td>0.0</td>\n",
              "      <td>0.0</td>\n",
              "      <td>0.0</td>\n",
              "      <td>0.2</td>\n",
              "      <td>0.4</td>\n",
              "      <td>0.0</td>\n",
              "      <td>1.4</td>\n",
              "      <td>3.4</td>\n",
              "      <td>7.8</td>\n",
              "      <td>0.2</td>\n",
              "      <td>209.534</td>\n",
              "      <td>209.533</td>\n",
              "      <td>209.530</td>\n",
              "      <td>209.534</td>\n",
              "      <td>209.532</td>\n",
              "      <td>209.529</td>\n",
              "      <td>209.539</td>\n",
              "      <td>209.544</td>\n",
              "      <td>209.550</td>\n",
              "      <td>209.563</td>\n",
              "      <td>209.590</td>\n",
              "      <td>209.613</td>\n",
              "      <td>172.17155</td>\n",
              "      <td>172.17155</td>\n",
              "      <td>172.17155</td>\n",
              "      <td>172.17255</td>\n",
              "      <td>172.17155</td>\n",
              "      <td>172.17155</td>\n",
              "      <td>172.17155</td>\n",
              "      <td>172.17155</td>\n",
              "      <td>172.17255</td>\n",
              "      <td>172.17655</td>\n",
              "      <td>172.18455</td>\n",
              "      <td>172.18855</td>\n",
              "      <td>0.0</td>\n",
              "      <td>0.0</td>\n",
              "      <td>0.0</td>\n",
              "      <td>0.0</td>\n",
              "      <td>0.0</td>\n",
              "      <td>0.0</td>\n",
              "      <td>0.0</td>\n",
              "      <td>0.0</td>\n",
              "      <td>0.0</td>\n",
              "      <td>0.0</td>\n",
              "      <td>0.0</td>\n",
              "      <td>0.0</td>\n",
              "      <td>0.0</td>\n",
              "      <td>0.0</td>\n",
              "      <td>0.0</td>\n",
              "      <td>0.0</td>\n",
              "      <td>172.60854</td>\n",
              "      <td>low</td>\n",
              "    </tr>\n",
              "    <tr>\n",
              "      <th>2</th>\n",
              "      <td>0.0</td>\n",
              "      <td>0.0</td>\n",
              "      <td>0.0</td>\n",
              "      <td>0.0</td>\n",
              "      <td>0.0</td>\n",
              "      <td>0.0</td>\n",
              "      <td>0.6</td>\n",
              "      <td>0.0</td>\n",
              "      <td>0.0</td>\n",
              "      <td>1.4</td>\n",
              "      <td>1.2</td>\n",
              "      <td>0.6</td>\n",
              "      <td>0.0</td>\n",
              "      <td>0.0</td>\n",
              "      <td>0.0</td>\n",
              "      <td>0.0</td>\n",
              "      <td>0.0</td>\n",
              "      <td>0.0</td>\n",
              "      <td>0.2</td>\n",
              "      <td>0.4</td>\n",
              "      <td>0.0</td>\n",
              "      <td>1.4</td>\n",
              "      <td>3.4</td>\n",
              "      <td>7.8</td>\n",
              "      <td>209.535</td>\n",
              "      <td>209.534</td>\n",
              "      <td>209.533</td>\n",
              "      <td>209.530</td>\n",
              "      <td>209.534</td>\n",
              "      <td>209.532</td>\n",
              "      <td>209.529</td>\n",
              "      <td>209.539</td>\n",
              "      <td>209.544</td>\n",
              "      <td>209.550</td>\n",
              "      <td>209.563</td>\n",
              "      <td>209.590</td>\n",
              "      <td>172.17255</td>\n",
              "      <td>172.17155</td>\n",
              "      <td>172.17155</td>\n",
              "      <td>172.17155</td>\n",
              "      <td>172.17255</td>\n",
              "      <td>172.17155</td>\n",
              "      <td>172.17155</td>\n",
              "      <td>172.17155</td>\n",
              "      <td>172.17155</td>\n",
              "      <td>172.17255</td>\n",
              "      <td>172.17655</td>\n",
              "      <td>172.18455</td>\n",
              "      <td>0.4</td>\n",
              "      <td>0.0</td>\n",
              "      <td>0.0</td>\n",
              "      <td>0.0</td>\n",
              "      <td>0.0</td>\n",
              "      <td>0.0</td>\n",
              "      <td>0.0</td>\n",
              "      <td>0.0</td>\n",
              "      <td>0.2</td>\n",
              "      <td>0.0</td>\n",
              "      <td>0.0</td>\n",
              "      <td>0.0</td>\n",
              "      <td>0.0</td>\n",
              "      <td>0.0</td>\n",
              "      <td>0.0</td>\n",
              "      <td>0.0</td>\n",
              "      <td>172.72354</td>\n",
              "      <td>low</td>\n",
              "    </tr>\n",
              "    <tr>\n",
              "      <th>3</th>\n",
              "      <td>0.0</td>\n",
              "      <td>0.0</td>\n",
              "      <td>0.0</td>\n",
              "      <td>0.0</td>\n",
              "      <td>0.0</td>\n",
              "      <td>0.0</td>\n",
              "      <td>0.0</td>\n",
              "      <td>0.6</td>\n",
              "      <td>0.0</td>\n",
              "      <td>0.0</td>\n",
              "      <td>1.4</td>\n",
              "      <td>1.2</td>\n",
              "      <td>0.0</td>\n",
              "      <td>0.0</td>\n",
              "      <td>0.0</td>\n",
              "      <td>0.0</td>\n",
              "      <td>0.0</td>\n",
              "      <td>0.0</td>\n",
              "      <td>0.0</td>\n",
              "      <td>0.2</td>\n",
              "      <td>0.4</td>\n",
              "      <td>0.0</td>\n",
              "      <td>1.4</td>\n",
              "      <td>3.4</td>\n",
              "      <td>209.549</td>\n",
              "      <td>209.535</td>\n",
              "      <td>209.534</td>\n",
              "      <td>209.533</td>\n",
              "      <td>209.530</td>\n",
              "      <td>209.534</td>\n",
              "      <td>209.532</td>\n",
              "      <td>209.529</td>\n",
              "      <td>209.539</td>\n",
              "      <td>209.544</td>\n",
              "      <td>209.550</td>\n",
              "      <td>209.563</td>\n",
              "      <td>172.17155</td>\n",
              "      <td>172.17255</td>\n",
              "      <td>172.17155</td>\n",
              "      <td>172.17155</td>\n",
              "      <td>172.17155</td>\n",
              "      <td>172.17255</td>\n",
              "      <td>172.17155</td>\n",
              "      <td>172.17155</td>\n",
              "      <td>172.17155</td>\n",
              "      <td>172.17155</td>\n",
              "      <td>172.17255</td>\n",
              "      <td>172.17655</td>\n",
              "      <td>0.6</td>\n",
              "      <td>0.4</td>\n",
              "      <td>0.0</td>\n",
              "      <td>0.0</td>\n",
              "      <td>0.0</td>\n",
              "      <td>0.0</td>\n",
              "      <td>0.0</td>\n",
              "      <td>0.0</td>\n",
              "      <td>7.8</td>\n",
              "      <td>0.2</td>\n",
              "      <td>0.0</td>\n",
              "      <td>0.0</td>\n",
              "      <td>0.0</td>\n",
              "      <td>0.0</td>\n",
              "      <td>0.0</td>\n",
              "      <td>0.0</td>\n",
              "      <td>172.82254</td>\n",
              "      <td>high</td>\n",
              "    </tr>\n",
              "    <tr>\n",
              "      <th>4</th>\n",
              "      <td>0.0</td>\n",
              "      <td>0.0</td>\n",
              "      <td>0.0</td>\n",
              "      <td>0.0</td>\n",
              "      <td>0.0</td>\n",
              "      <td>0.0</td>\n",
              "      <td>0.0</td>\n",
              "      <td>0.0</td>\n",
              "      <td>0.6</td>\n",
              "      <td>0.0</td>\n",
              "      <td>0.0</td>\n",
              "      <td>1.4</td>\n",
              "      <td>0.0</td>\n",
              "      <td>0.0</td>\n",
              "      <td>0.0</td>\n",
              "      <td>0.0</td>\n",
              "      <td>0.0</td>\n",
              "      <td>0.0</td>\n",
              "      <td>0.0</td>\n",
              "      <td>0.0</td>\n",
              "      <td>0.2</td>\n",
              "      <td>0.4</td>\n",
              "      <td>0.0</td>\n",
              "      <td>1.4</td>\n",
              "      <td>209.548</td>\n",
              "      <td>209.549</td>\n",
              "      <td>209.535</td>\n",
              "      <td>209.534</td>\n",
              "      <td>209.533</td>\n",
              "      <td>209.530</td>\n",
              "      <td>209.534</td>\n",
              "      <td>209.532</td>\n",
              "      <td>209.529</td>\n",
              "      <td>209.539</td>\n",
              "      <td>209.544</td>\n",
              "      <td>209.550</td>\n",
              "      <td>172.17155</td>\n",
              "      <td>172.17155</td>\n",
              "      <td>172.17255</td>\n",
              "      <td>172.17155</td>\n",
              "      <td>172.17155</td>\n",
              "      <td>172.17155</td>\n",
              "      <td>172.17255</td>\n",
              "      <td>172.17155</td>\n",
              "      <td>172.17155</td>\n",
              "      <td>172.17155</td>\n",
              "      <td>172.17155</td>\n",
              "      <td>172.17255</td>\n",
              "      <td>1.2</td>\n",
              "      <td>0.6</td>\n",
              "      <td>0.4</td>\n",
              "      <td>0.0</td>\n",
              "      <td>0.0</td>\n",
              "      <td>0.0</td>\n",
              "      <td>0.0</td>\n",
              "      <td>0.0</td>\n",
              "      <td>3.4</td>\n",
              "      <td>7.8</td>\n",
              "      <td>0.2</td>\n",
              "      <td>0.0</td>\n",
              "      <td>0.0</td>\n",
              "      <td>0.0</td>\n",
              "      <td>0.0</td>\n",
              "      <td>0.0</td>\n",
              "      <td>172.87754</td>\n",
              "      <td>high</td>\n",
              "    </tr>\n",
              "    <tr>\n",
              "      <th>5</th>\n",
              "      <td>0.0</td>\n",
              "      <td>0.0</td>\n",
              "      <td>0.0</td>\n",
              "      <td>0.0</td>\n",
              "      <td>0.0</td>\n",
              "      <td>0.0</td>\n",
              "      <td>0.0</td>\n",
              "      <td>0.0</td>\n",
              "      <td>0.0</td>\n",
              "      <td>0.6</td>\n",
              "      <td>0.0</td>\n",
              "      <td>0.0</td>\n",
              "      <td>0.0</td>\n",
              "      <td>0.0</td>\n",
              "      <td>0.0</td>\n",
              "      <td>0.0</td>\n",
              "      <td>0.0</td>\n",
              "      <td>0.0</td>\n",
              "      <td>0.0</td>\n",
              "      <td>0.0</td>\n",
              "      <td>0.0</td>\n",
              "      <td>0.2</td>\n",
              "      <td>0.4</td>\n",
              "      <td>0.0</td>\n",
              "      <td>209.548</td>\n",
              "      <td>209.548</td>\n",
              "      <td>209.549</td>\n",
              "      <td>209.535</td>\n",
              "      <td>209.534</td>\n",
              "      <td>209.533</td>\n",
              "      <td>209.530</td>\n",
              "      <td>209.534</td>\n",
              "      <td>209.532</td>\n",
              "      <td>209.529</td>\n",
              "      <td>209.539</td>\n",
              "      <td>209.544</td>\n",
              "      <td>172.17155</td>\n",
              "      <td>172.17155</td>\n",
              "      <td>172.17155</td>\n",
              "      <td>172.17255</td>\n",
              "      <td>172.17155</td>\n",
              "      <td>172.17155</td>\n",
              "      <td>172.17155</td>\n",
              "      <td>172.17255</td>\n",
              "      <td>172.17155</td>\n",
              "      <td>172.17155</td>\n",
              "      <td>172.17155</td>\n",
              "      <td>172.17155</td>\n",
              "      <td>1.4</td>\n",
              "      <td>1.2</td>\n",
              "      <td>0.6</td>\n",
              "      <td>0.4</td>\n",
              "      <td>0.0</td>\n",
              "      <td>0.0</td>\n",
              "      <td>0.0</td>\n",
              "      <td>0.0</td>\n",
              "      <td>1.4</td>\n",
              "      <td>3.4</td>\n",
              "      <td>7.8</td>\n",
              "      <td>0.2</td>\n",
              "      <td>0.0</td>\n",
              "      <td>0.0</td>\n",
              "      <td>0.0</td>\n",
              "      <td>0.0</td>\n",
              "      <td>172.87854</td>\n",
              "      <td>high</td>\n",
              "    </tr>\n",
              "    <tr>\n",
              "      <th>6</th>\n",
              "      <td>0.0</td>\n",
              "      <td>0.0</td>\n",
              "      <td>0.0</td>\n",
              "      <td>0.0</td>\n",
              "      <td>0.0</td>\n",
              "      <td>0.0</td>\n",
              "      <td>0.0</td>\n",
              "      <td>0.0</td>\n",
              "      <td>0.0</td>\n",
              "      <td>0.0</td>\n",
              "      <td>0.6</td>\n",
              "      <td>0.0</td>\n",
              "      <td>0.0</td>\n",
              "      <td>0.0</td>\n",
              "      <td>0.0</td>\n",
              "      <td>0.0</td>\n",
              "      <td>0.0</td>\n",
              "      <td>0.0</td>\n",
              "      <td>0.0</td>\n",
              "      <td>0.0</td>\n",
              "      <td>0.0</td>\n",
              "      <td>0.0</td>\n",
              "      <td>0.2</td>\n",
              "      <td>0.4</td>\n",
              "      <td>209.550</td>\n",
              "      <td>209.548</td>\n",
              "      <td>209.548</td>\n",
              "      <td>209.549</td>\n",
              "      <td>209.535</td>\n",
              "      <td>209.534</td>\n",
              "      <td>209.533</td>\n",
              "      <td>209.530</td>\n",
              "      <td>209.534</td>\n",
              "      <td>209.532</td>\n",
              "      <td>209.529</td>\n",
              "      <td>209.539</td>\n",
              "      <td>172.17255</td>\n",
              "      <td>172.17155</td>\n",
              "      <td>172.17155</td>\n",
              "      <td>172.17155</td>\n",
              "      <td>172.17255</td>\n",
              "      <td>172.17155</td>\n",
              "      <td>172.17155</td>\n",
              "      <td>172.17155</td>\n",
              "      <td>172.17255</td>\n",
              "      <td>172.17155</td>\n",
              "      <td>172.17155</td>\n",
              "      <td>172.17155</td>\n",
              "      <td>0.0</td>\n",
              "      <td>1.4</td>\n",
              "      <td>1.2</td>\n",
              "      <td>0.6</td>\n",
              "      <td>0.4</td>\n",
              "      <td>0.0</td>\n",
              "      <td>0.0</td>\n",
              "      <td>0.0</td>\n",
              "      <td>0.0</td>\n",
              "      <td>1.4</td>\n",
              "      <td>3.4</td>\n",
              "      <td>7.8</td>\n",
              "      <td>0.2</td>\n",
              "      <td>0.0</td>\n",
              "      <td>0.0</td>\n",
              "      <td>0.0</td>\n",
              "      <td>172.86155</td>\n",
              "      <td>high</td>\n",
              "    </tr>\n",
              "    <tr>\n",
              "      <th>7</th>\n",
              "      <td>0.0</td>\n",
              "      <td>0.0</td>\n",
              "      <td>0.0</td>\n",
              "      <td>0.0</td>\n",
              "      <td>0.0</td>\n",
              "      <td>0.0</td>\n",
              "      <td>0.0</td>\n",
              "      <td>0.0</td>\n",
              "      <td>0.0</td>\n",
              "      <td>0.0</td>\n",
              "      <td>0.0</td>\n",
              "      <td>0.6</td>\n",
              "      <td>0.0</td>\n",
              "      <td>0.0</td>\n",
              "      <td>0.0</td>\n",
              "      <td>0.0</td>\n",
              "      <td>0.0</td>\n",
              "      <td>0.0</td>\n",
              "      <td>0.0</td>\n",
              "      <td>0.0</td>\n",
              "      <td>0.0</td>\n",
              "      <td>0.0</td>\n",
              "      <td>0.0</td>\n",
              "      <td>0.2</td>\n",
              "      <td>209.550</td>\n",
              "      <td>209.550</td>\n",
              "      <td>209.548</td>\n",
              "      <td>209.548</td>\n",
              "      <td>209.549</td>\n",
              "      <td>209.535</td>\n",
              "      <td>209.534</td>\n",
              "      <td>209.533</td>\n",
              "      <td>209.530</td>\n",
              "      <td>209.534</td>\n",
              "      <td>209.532</td>\n",
              "      <td>209.529</td>\n",
              "      <td>172.17155</td>\n",
              "      <td>172.17255</td>\n",
              "      <td>172.17155</td>\n",
              "      <td>172.17155</td>\n",
              "      <td>172.17155</td>\n",
              "      <td>172.17255</td>\n",
              "      <td>172.17155</td>\n",
              "      <td>172.17155</td>\n",
              "      <td>172.17155</td>\n",
              "      <td>172.17255</td>\n",
              "      <td>172.17155</td>\n",
              "      <td>172.17155</td>\n",
              "      <td>0.0</td>\n",
              "      <td>0.0</td>\n",
              "      <td>1.4</td>\n",
              "      <td>1.2</td>\n",
              "      <td>0.6</td>\n",
              "      <td>0.4</td>\n",
              "      <td>0.0</td>\n",
              "      <td>0.0</td>\n",
              "      <td>0.4</td>\n",
              "      <td>0.0</td>\n",
              "      <td>1.4</td>\n",
              "      <td>3.4</td>\n",
              "      <td>7.8</td>\n",
              "      <td>0.2</td>\n",
              "      <td>0.0</td>\n",
              "      <td>0.0</td>\n",
              "      <td>172.76355</td>\n",
              "      <td>high</td>\n",
              "    </tr>\n",
              "    <tr>\n",
              "      <th>8</th>\n",
              "      <td>0.0</td>\n",
              "      <td>0.0</td>\n",
              "      <td>0.0</td>\n",
              "      <td>0.0</td>\n",
              "      <td>0.0</td>\n",
              "      <td>0.0</td>\n",
              "      <td>0.0</td>\n",
              "      <td>0.0</td>\n",
              "      <td>0.0</td>\n",
              "      <td>0.0</td>\n",
              "      <td>0.0</td>\n",
              "      <td>0.0</td>\n",
              "      <td>0.0</td>\n",
              "      <td>0.0</td>\n",
              "      <td>0.0</td>\n",
              "      <td>0.0</td>\n",
              "      <td>0.0</td>\n",
              "      <td>0.0</td>\n",
              "      <td>0.0</td>\n",
              "      <td>0.0</td>\n",
              "      <td>0.0</td>\n",
              "      <td>0.0</td>\n",
              "      <td>0.0</td>\n",
              "      <td>0.0</td>\n",
              "      <td>209.549</td>\n",
              "      <td>209.550</td>\n",
              "      <td>209.550</td>\n",
              "      <td>209.548</td>\n",
              "      <td>209.548</td>\n",
              "      <td>209.549</td>\n",
              "      <td>209.535</td>\n",
              "      <td>209.534</td>\n",
              "      <td>209.533</td>\n",
              "      <td>209.530</td>\n",
              "      <td>209.534</td>\n",
              "      <td>209.532</td>\n",
              "      <td>172.17255</td>\n",
              "      <td>172.17155</td>\n",
              "      <td>172.17255</td>\n",
              "      <td>172.17155</td>\n",
              "      <td>172.17155</td>\n",
              "      <td>172.17155</td>\n",
              "      <td>172.17255</td>\n",
              "      <td>172.17155</td>\n",
              "      <td>172.17155</td>\n",
              "      <td>172.17155</td>\n",
              "      <td>172.17255</td>\n",
              "      <td>172.17155</td>\n",
              "      <td>0.6</td>\n",
              "      <td>0.0</td>\n",
              "      <td>0.0</td>\n",
              "      <td>1.4</td>\n",
              "      <td>1.2</td>\n",
              "      <td>0.6</td>\n",
              "      <td>0.4</td>\n",
              "      <td>0.0</td>\n",
              "      <td>0.2</td>\n",
              "      <td>0.4</td>\n",
              "      <td>0.0</td>\n",
              "      <td>1.4</td>\n",
              "      <td>3.4</td>\n",
              "      <td>7.8</td>\n",
              "      <td>0.2</td>\n",
              "      <td>0.0</td>\n",
              "      <td>172.21955</td>\n",
              "      <td>low</td>\n",
              "    </tr>\n",
              "    <tr>\n",
              "      <th>9</th>\n",
              "      <td>0.0</td>\n",
              "      <td>0.0</td>\n",
              "      <td>0.0</td>\n",
              "      <td>0.0</td>\n",
              "      <td>0.0</td>\n",
              "      <td>0.0</td>\n",
              "      <td>0.0</td>\n",
              "      <td>0.0</td>\n",
              "      <td>0.0</td>\n",
              "      <td>0.0</td>\n",
              "      <td>0.0</td>\n",
              "      <td>0.0</td>\n",
              "      <td>0.0</td>\n",
              "      <td>0.0</td>\n",
              "      <td>0.0</td>\n",
              "      <td>0.0</td>\n",
              "      <td>0.0</td>\n",
              "      <td>0.0</td>\n",
              "      <td>0.0</td>\n",
              "      <td>0.0</td>\n",
              "      <td>0.0</td>\n",
              "      <td>0.0</td>\n",
              "      <td>0.0</td>\n",
              "      <td>0.0</td>\n",
              "      <td>209.547</td>\n",
              "      <td>209.549</td>\n",
              "      <td>209.550</td>\n",
              "      <td>209.550</td>\n",
              "      <td>209.548</td>\n",
              "      <td>209.548</td>\n",
              "      <td>209.549</td>\n",
              "      <td>209.535</td>\n",
              "      <td>209.534</td>\n",
              "      <td>209.533</td>\n",
              "      <td>209.530</td>\n",
              "      <td>209.534</td>\n",
              "      <td>172.17255</td>\n",
              "      <td>172.17255</td>\n",
              "      <td>172.17155</td>\n",
              "      <td>172.17255</td>\n",
              "      <td>172.17155</td>\n",
              "      <td>172.17155</td>\n",
              "      <td>172.17155</td>\n",
              "      <td>172.17255</td>\n",
              "      <td>172.17155</td>\n",
              "      <td>172.17155</td>\n",
              "      <td>172.17155</td>\n",
              "      <td>172.17255</td>\n",
              "      <td>0.0</td>\n",
              "      <td>0.6</td>\n",
              "      <td>0.0</td>\n",
              "      <td>0.0</td>\n",
              "      <td>1.4</td>\n",
              "      <td>1.2</td>\n",
              "      <td>0.6</td>\n",
              "      <td>0.4</td>\n",
              "      <td>0.0</td>\n",
              "      <td>0.2</td>\n",
              "      <td>0.4</td>\n",
              "      <td>0.0</td>\n",
              "      <td>1.4</td>\n",
              "      <td>3.4</td>\n",
              "      <td>7.8</td>\n",
              "      <td>0.2</td>\n",
              "      <td>172.18855</td>\n",
              "      <td>low</td>\n",
              "    </tr>\n",
              "    <tr>\n",
              "      <th>10</th>\n",
              "      <td>0.0</td>\n",
              "      <td>0.0</td>\n",
              "      <td>0.0</td>\n",
              "      <td>0.0</td>\n",
              "      <td>0.0</td>\n",
              "      <td>0.0</td>\n",
              "      <td>0.0</td>\n",
              "      <td>0.0</td>\n",
              "      <td>0.0</td>\n",
              "      <td>0.0</td>\n",
              "      <td>0.0</td>\n",
              "      <td>0.0</td>\n",
              "      <td>0.0</td>\n",
              "      <td>0.0</td>\n",
              "      <td>0.0</td>\n",
              "      <td>0.0</td>\n",
              "      <td>0.0</td>\n",
              "      <td>0.0</td>\n",
              "      <td>0.0</td>\n",
              "      <td>0.0</td>\n",
              "      <td>0.0</td>\n",
              "      <td>0.0</td>\n",
              "      <td>0.0</td>\n",
              "      <td>0.0</td>\n",
              "      <td>209.548</td>\n",
              "      <td>209.547</td>\n",
              "      <td>209.549</td>\n",
              "      <td>209.550</td>\n",
              "      <td>209.550</td>\n",
              "      <td>209.548</td>\n",
              "      <td>209.548</td>\n",
              "      <td>209.549</td>\n",
              "      <td>209.535</td>\n",
              "      <td>209.534</td>\n",
              "      <td>209.533</td>\n",
              "      <td>209.530</td>\n",
              "      <td>172.17255</td>\n",
              "      <td>172.17255</td>\n",
              "      <td>172.17255</td>\n",
              "      <td>172.17155</td>\n",
              "      <td>172.17255</td>\n",
              "      <td>172.17155</td>\n",
              "      <td>172.17155</td>\n",
              "      <td>172.17155</td>\n",
              "      <td>172.17255</td>\n",
              "      <td>172.17155</td>\n",
              "      <td>172.17155</td>\n",
              "      <td>172.17155</td>\n",
              "      <td>0.0</td>\n",
              "      <td>0.0</td>\n",
              "      <td>0.6</td>\n",
              "      <td>0.0</td>\n",
              "      <td>0.0</td>\n",
              "      <td>1.4</td>\n",
              "      <td>1.2</td>\n",
              "      <td>0.6</td>\n",
              "      <td>0.0</td>\n",
              "      <td>0.0</td>\n",
              "      <td>0.2</td>\n",
              "      <td>0.4</td>\n",
              "      <td>0.0</td>\n",
              "      <td>1.4</td>\n",
              "      <td>3.4</td>\n",
              "      <td>7.8</td>\n",
              "      <td>172.18455</td>\n",
              "      <td>low</td>\n",
              "    </tr>\n",
              "  </tbody>\n",
              "</table>\n",
              "</div>\n",
              "      <button class=\"colab-df-convert\" onclick=\"convertToInteractive('df-2c34749b-835f-4e26-b608-3860c02a6d5c')\"\n",
              "              title=\"Convert this dataframe to an interactive table.\"\n",
              "              style=\"display:none;\">\n",
              "        \n",
              "  <svg xmlns=\"http://www.w3.org/2000/svg\" height=\"24px\"viewBox=\"0 0 24 24\"\n",
              "       width=\"24px\">\n",
              "    <path d=\"M0 0h24v24H0V0z\" fill=\"none\"/>\n",
              "    <path d=\"M18.56 5.44l.94 2.06.94-2.06 2.06-.94-2.06-.94-.94-2.06-.94 2.06-2.06.94zm-11 1L8.5 8.5l.94-2.06 2.06-.94-2.06-.94L8.5 2.5l-.94 2.06-2.06.94zm10 10l.94 2.06.94-2.06 2.06-.94-2.06-.94-.94-2.06-.94 2.06-2.06.94z\"/><path d=\"M17.41 7.96l-1.37-1.37c-.4-.4-.92-.59-1.43-.59-.52 0-1.04.2-1.43.59L10.3 9.45l-7.72 7.72c-.78.78-.78 2.05 0 2.83L4 21.41c.39.39.9.59 1.41.59.51 0 1.02-.2 1.41-.59l7.78-7.78 2.81-2.81c.8-.78.8-2.07 0-2.86zM5.41 20L4 18.59l7.72-7.72 1.47 1.35L5.41 20z\"/>\n",
              "  </svg>\n",
              "      </button>\n",
              "      \n",
              "  <style>\n",
              "    .colab-df-container {\n",
              "      display:flex;\n",
              "      flex-wrap:wrap;\n",
              "      gap: 12px;\n",
              "    }\n",
              "\n",
              "    .colab-df-convert {\n",
              "      background-color: #E8F0FE;\n",
              "      border: none;\n",
              "      border-radius: 50%;\n",
              "      cursor: pointer;\n",
              "      display: none;\n",
              "      fill: #1967D2;\n",
              "      height: 32px;\n",
              "      padding: 0 0 0 0;\n",
              "      width: 32px;\n",
              "    }\n",
              "\n",
              "    .colab-df-convert:hover {\n",
              "      background-color: #E2EBFA;\n",
              "      box-shadow: 0px 1px 2px rgba(60, 64, 67, 0.3), 0px 1px 3px 1px rgba(60, 64, 67, 0.15);\n",
              "      fill: #174EA6;\n",
              "    }\n",
              "\n",
              "    [theme=dark] .colab-df-convert {\n",
              "      background-color: #3B4455;\n",
              "      fill: #D2E3FC;\n",
              "    }\n",
              "\n",
              "    [theme=dark] .colab-df-convert:hover {\n",
              "      background-color: #434B5C;\n",
              "      box-shadow: 0px 1px 3px 1px rgba(0, 0, 0, 0.15);\n",
              "      filter: drop-shadow(0px 1px 2px rgba(0, 0, 0, 0.3));\n",
              "      fill: #FFFFFF;\n",
              "    }\n",
              "  </style>\n",
              "\n",
              "      <script>\n",
              "        const buttonEl =\n",
              "          document.querySelector('#df-2c34749b-835f-4e26-b608-3860c02a6d5c button.colab-df-convert');\n",
              "        buttonEl.style.display =\n",
              "          google.colab.kernel.accessAllowed ? 'block' : 'none';\n",
              "\n",
              "        async function convertToInteractive(key) {\n",
              "          const element = document.querySelector('#df-2c34749b-835f-4e26-b608-3860c02a6d5c');\n",
              "          const dataTable =\n",
              "            await google.colab.kernel.invokeFunction('convertToInteractive',\n",
              "                                                     [key], {});\n",
              "          if (!dataTable) return;\n",
              "\n",
              "          const docLinkHtml = 'Like what you see? Visit the ' +\n",
              "            '<a target=\"_blank\" href=https://colab.research.google.com/notebooks/data_table.ipynb>data table notebook</a>'\n",
              "            + ' to learn more about interactive tables.';\n",
              "          element.innerHTML = '';\n",
              "          dataTable['output_type'] = 'display_data';\n",
              "          await google.colab.output.renderOutput(dataTable, element);\n",
              "          const docLink = document.createElement('div');\n",
              "          docLink.innerHTML = docLinkHtml;\n",
              "          element.appendChild(docLink);\n",
              "        }\n",
              "      </script>\n",
              "    </div>\n",
              "  </div>\n",
              "  "
            ],
            "text/plain": [
              "    yh1  yh2  yh3  yh4  yh5  yh6  yh7  ...  pm4  pm5  pm6  pm7  pm8         yo  label\n",
              "1   0.0  0.0  0.0  0.0  0.0  0.6  0.0  ...  0.0  0.0  0.0  0.0  0.0  172.60854    low\n",
              "2   0.0  0.0  0.0  0.0  0.0  0.0  0.6  ...  0.0  0.0  0.0  0.0  0.0  172.72354    low\n",
              "3   0.0  0.0  0.0  0.0  0.0  0.0  0.0  ...  0.0  0.0  0.0  0.0  0.0  172.82254   high\n",
              "4   0.0  0.0  0.0  0.0  0.0  0.0  0.0  ...  0.0  0.0  0.0  0.0  0.0  172.87754   high\n",
              "5   0.0  0.0  0.0  0.0  0.0  0.0  0.0  ...  0.2  0.0  0.0  0.0  0.0  172.87854   high\n",
              "6   0.0  0.0  0.0  0.0  0.0  0.0  0.0  ...  7.8  0.2  0.0  0.0  0.0  172.86155   high\n",
              "7   0.0  0.0  0.0  0.0  0.0  0.0  0.0  ...  3.4  7.8  0.2  0.0  0.0  172.76355   high\n",
              "8   0.0  0.0  0.0  0.0  0.0  0.0  0.0  ...  1.4  3.4  7.8  0.2  0.0  172.21955    low\n",
              "9   0.0  0.0  0.0  0.0  0.0  0.0  0.0  ...  0.0  1.4  3.4  7.8  0.2  172.18855    low\n",
              "10  0.0  0.0  0.0  0.0  0.0  0.0  0.0  ...  0.4  0.0  1.4  3.4  7.8  172.18455    low\n",
              "\n",
              "[10 rows x 66 columns]"
            ]
          },
          "metadata": {},
          "execution_count": 9
        }
      ]
    },
    {
      "cell_type": "code",
      "metadata": {
        "id": "3nM_fsmwcHtt"
      },
      "source": [
        "def preprocess_data(data):\n",
        "  data.drop( ['yo'], inplace= True, axis = 1)\n",
        "  data['output' ] = data['label']. apply (lambda  x: 0 if x == 'low' else 1)\n",
        "  data.drop( ['label'], inplace= True, axis = 1)\n",
        "  return data\n",
        "def past_future(data , lead_steps):\n",
        "  return data[: , :-(lead_steps*2)], data[: , -(lead_steps*2):]\n",
        "# Reshaping data in the format (number of samples, number of steps, number of features)\n",
        "def reshape (multiarray, n_features, n_steps): \n",
        "  train_X_2 = multiarray.reshape((multiarray.shape[0],n_features, n_steps))\n",
        "  reshaped = np.empty([multiarray.shape[0], n_steps, n_features])\n",
        "  for i in (range(multiarray.shape[0])): \n",
        "    reshaped[i, : ,  : ] = train_X_2[i, :, :].transpose()\n",
        "  return (reshaped)"
      ],
      "execution_count": null,
      "outputs": []
    },
    {
      "cell_type": "code",
      "metadata": {
        "id": "bz7twIHncHtu"
      },
      "source": [
        "dataframe = preprocess_data(dataframe)"
      ],
      "execution_count": null,
      "outputs": []
    },
    {
      "cell_type": "code",
      "metadata": {
        "colab": {
          "base_uri": "https://localhost:8080/"
        },
        "id": "4lF7ejbHcHtw",
        "outputId": "870780e8-0b0f-4012-b93b-919115546dea"
      },
      "source": [
        "dataframe.columns"
      ],
      "execution_count": null,
      "outputs": [
        {
          "output_type": "execute_result",
          "data": {
            "text/plain": [
              "Index(['yh1', 'yh2', 'yh3', 'yh4', 'yh5', 'yh6', 'yh7', 'yh8', 'yh9', 'yh10',\n",
              "       'yh11', 'yh12', 'ym1', 'ym2', 'ym3', 'ym4', 'ym5', 'ym6', 'ym7', 'ym8',\n",
              "       'ym9', 'ym10', 'ym11', 'ym12', 'yn1', 'yn2', 'yn3', 'yn4', 'yn5', 'yn6',\n",
              "       'yn7', 'yn8', 'yn9', 'yn10', 'yn11', 'yn12', 'ys1', 'ys2', 'ys3', 'ys4',\n",
              "       'ys5', 'ys6', 'ys7', 'ys8', 'ys9', 'ys10', 'ys11', 'ys12', 'ph1', 'ph2',\n",
              "       'ph3', 'ph4', 'ph5', 'ph6', 'pm1', 'pm2', 'pm3', 'pm4', 'pm5', 'pm6',\n",
              "       'output'],\n",
              "      dtype='object')"
            ]
          },
          "metadata": {},
          "execution_count": 35
        }
      ]
    },
    {
      "cell_type": "code",
      "metadata": {
        "id": "xCpV5kCxqMWN",
        "colab": {
          "base_uri": "https://localhost:8080/"
        },
        "outputId": "362d8f43-f331-4d25-d15f-8886279cc730"
      },
      "source": [
        "#Second approach with encoder decoder \n",
        "dataset = dataframe.values\n",
        "Input = dataset[:, :-1]\n",
        "output_l = dataset[:, -1]\n",
        "print(Input.shape)\n",
        "print(output_l.shape)\n",
        "# Train Test split \n",
        "train_size = int(len(dataset) * 0.7)\n",
        "test_size = len(dataset) - train_size\n",
        "test_X, test_y = Input[:test_size, :], output_l[ :test_size]\n",
        "train_X, train_y=Input[test_size:, :], output_l[ test_size:]\n",
        "#Normalization\n",
        "scaler = MinMaxScaler(feature_range=(0, 1)).fit(train_X)\n",
        "train_X = scaler.transform(train_X)\n",
        "test_X = scaler.transform(test_X)\n",
        "lead_time_step = 6\n",
        "#Lead time ranging from 8 steps (120 minutes) to 1 step (15 min)\n",
        "train_X_past, train_X_future = past_future(train_X ,lead_time_step)\n",
        "#Lead time ranging from 8 steps (120 minutes) to 1 step (15 min)\n",
        "test_X_past, test_X_future = past_future(test_X , lead_time_step)\n",
        "#Reshaping\n",
        "train_X_past = reshape (train_X_past, 4 , 12)\n",
        "test_X_past = reshape (test_X_past, 4, 12 )\n",
        "#Lead time ranging from 8 steps (120 minutes) to 1 step (15 min)\n",
        "train_X_future = reshape(train_X_future, 2, lead_time_step )\n",
        "test_X_future = reshape(test_X_future, 2, lead_time_step )\n"
      ],
      "execution_count": null,
      "outputs": [
        {
          "output_type": "stream",
          "name": "stdout",
          "text": [
            "(21342, 60)\n",
            "(21342,)\n"
          ]
        }
      ]
    },
    {
      "cell_type": "code",
      "metadata": {
        "colab": {
          "base_uri": "https://localhost:8080/"
        },
        "id": "41aVlP6m7UTo",
        "outputId": "8387ae18-cf5f-4c96-baff-aefaaf6561aa"
      },
      "source": [
        "train_X_past[0,:,:]"
      ],
      "execution_count": null,
      "outputs": [
        {
          "output_type": "execute_result",
          "data": {
            "text/plain": [
              "array([[0.        , 0.        , 0.06523324, 0.07053745],\n",
              "       [0.        , 0.        , 0.06304665, 0.06631324],\n",
              "       [0.        , 0.        , 0.0601312 , 0.06269594],\n",
              "       [0.        , 0.        , 0.05721574, 0.05908265],\n",
              "       [0.        , 0.        , 0.05502915, 0.0566671 ],\n",
              "       [0.        , 0.        , 0.05284257, 0.05425958],\n",
              "       [0.        , 0.        , 0.05065598, 0.05265189],\n",
              "       [0.        , 0.        , 0.04846939, 0.05104018],\n",
              "       [0.        , 0.        , 0.04701166, 0.04983441],\n",
              "       [0.        , 0.        , 0.04555394, 0.04903458],\n",
              "       [0.        , 0.        , 0.04446064, 0.04802576],\n",
              "       [0.        , 0.        , 0.04336735, 0.04742689]])"
            ]
          },
          "metadata": {},
          "execution_count": 37
        }
      ]
    },
    {
      "cell_type": "code",
      "metadata": {
        "colab": {
          "base_uri": "https://localhost:8080/"
        },
        "id": "K0UXcpLPu8e0",
        "outputId": "dd266d6e-2a79-4c87-b1b5-df0360c96171"
      },
      "source": [
        "train_X_future[0,:,:]"
      ],
      "execution_count": null,
      "outputs": [
        {
          "output_type": "execute_result",
          "data": {
            "text/plain": [
              "array([[0.        , 0.        ],\n",
              "       [0.        , 0.        ],\n",
              "       [0.        , 0.        ],\n",
              "       [0.        , 0.        ],\n",
              "       [0.00980392, 0.        ],\n",
              "       [0.        , 0.        ]])"
            ]
          },
          "metadata": {},
          "execution_count": 38
        }
      ]
    },
    {
      "cell_type": "code",
      "metadata": {
        "colab": {
          "base_uri": "https://localhost:8080/"
        },
        "id": "ADXNr0MlvFcM",
        "outputId": "99ac7bf4-8299-462f-cb77-c770791ebf6b"
      },
      "source": [
        "y_train = train_y.reshape((-1,1))\n",
        "print( train_X_past.shape, train_y.shape, train_X_future.shape)\n",
        "print( test_X_past.shape, test_y.shape, test_X_future.shape)\n",
        "print( train_X.shape, train_y.shape, test_X.shape, test_y.shape) "
      ],
      "execution_count": null,
      "outputs": [
        {
          "output_type": "stream",
          "name": "stdout",
          "text": [
            "(14939, 12, 4) (14939,) (14939, 6, 2)\n",
            "(6403, 12, 4) (6403,) (6403, 6, 2)\n",
            "(14939, 60) (14939,) (6403, 60) (6403,)\n"
          ]
        }
      ]
    },
    {
      "cell_type": "markdown",
      "metadata": {
        "id": "yaTPCoFrnRCL"
      },
      "source": [
        "# Trying out an encoder decoder architecture "
      ]
    },
    {
      "cell_type": "markdown",
      "metadata": {
        "id": "8nJogiFuhrSR"
      },
      "source": [
        "Training and evaluating models "
      ]
    },
    {
      "cell_type": "code",
      "metadata": {
        "id": "fVesoGU1AKVn",
        "colab": {
          "base_uri": "https://localhost:8080/"
        },
        "outputId": "15ea6fc4-60f0-4158-c798-9e7f64927a00"
      },
      "source": [
        "#Metrics to monitor \n",
        "metrics = [\n",
        "      keras.metrics.BinaryAccuracy(name='accuracy'),\n",
        "      keras.metrics.Precision(name='precision'),\n",
        "      keras.metrics.Recall(name='recall')]\n",
        "\n",
        "pos = sum (output_l)\n",
        "total = len (output_l)\n",
        "neg = (total - pos) \n",
        "# Set intial bias to account for class imbalance \n",
        "initial_bias = np.log([pos/neg])\n",
        "output_bias  = tf.keras.initializers.Constant(initial_bias)\n",
        "# Mitigating class imbalance issue by using class weights\n",
        "# Scaling by total/2 helps keep the loss to a similar magnitude.\n",
        "# The sum of the weights of all examples stays the same.\n",
        "weight_for_0 = 0.4\n",
        "# (1 / neg) * (total / 2.0)\n",
        "weight_for_1 = 0.6\n",
        "#(1 / pos) * (total / 2.0)\n",
        "\n",
        "class_weight = {0: weight_for_0, 1: weight_for_1}\n",
        "\n",
        "print('Weight for class 0: {:.2f}'.format(weight_for_0))\n",
        "print('Weight for class 1: {:.2f}'.format(weight_for_1))\n",
        "print (pos)\n",
        "print(neg)"
      ],
      "execution_count": null,
      "outputs": [
        {
          "output_type": "stream",
          "name": "stdout",
          "text": [
            "Weight for class 0: 0.40\n",
            "Weight for class 1: 0.60\n",
            "388.0\n",
            "20954.0\n"
          ]
        }
      ]
    },
    {
      "cell_type": "code",
      "source": [
        "from IPython.display import clear_output"
      ],
      "metadata": {
        "id": "F4epwQSjyXsX"
      },
      "execution_count": null,
      "outputs": []
    },
    {
      "cell_type": "code",
      "metadata": {
        "id": "Nq2brGWtnT3A",
        "colab": {
          "base_uri": "https://localhost:8080/"
        },
        "outputId": "4923fc2c-8556-48f2-ecb4-a8b2425f2185"
      },
      "source": [
        "latent_dim = 18\n",
        "results = []\n",
        "for i in range (30): \n",
        "  # First branch of the net is an lstm which finds an embedding for the past\n",
        "  past_inputs = tf.keras.Input(shape=(train_X_past.shape[1],train_X_past.shape[2]), name='past_inputs')\n",
        "  # Encoding the past\n",
        "  encoder = tf.keras.layers.LSTM(latent_dim, return_state=True)\n",
        "  encoder_outputs, state_h, state_c = encoder(past_inputs)\n",
        "  future_inputs = tf.keras.Input(shape=(train_X_future.shape[1],train_X_future.shape[2]), name='future_inputs')\n",
        "  # Combining future inputs with recurrent branch output\n",
        "  #, return_sequences=True\n",
        "  decoder_lstm = tf.keras.layers.LSTM(latent_dim)\n",
        "  x = decoder_lstm(future_inputs,  initial_state=[state_h, state_c])\n",
        "  x = tf.keras.layers.Dense(16, activation='relu')(x)\n",
        "  output = tf.keras.layers.Dense(1, activation='sigmoid')(x)\n",
        "  model = tf.keras.models.Model(inputs=[past_inputs,future_inputs], outputs=output)\n",
        "  #model.compile(loss='binary_crossentropy', optimizer=keras.optimizers.Adam(learning_rate=0.01), metrics=metrics )\n",
        "  optimizer = tf.keras.optimizers.Adam(learning_rate=0.01)\n",
        "  loss = tf.keras.losses.BinaryCrossentropy()\n",
        "  model.compile(loss=loss, optimizer=optimizer, metrics= metrics  )\n",
        "  history = model.fit([train_X_past, train_X_future], train_y,epochs=  30 ,  class_weight=class_weight   )\n",
        "  y_pred = model.predict( [test_X_past, test_X_future], verbose=1)\n",
        "  y_pred =(y_pred>0.5)\n",
        "  results.append(classification_report(test_y, y_pred, output_dict=True))\n",
        "  clear_output(wait=True)\n",
        "  print(f'Iteration number : {i+1}')"
      ],
      "execution_count": null,
      "outputs": [
        {
          "output_type": "stream",
          "name": "stdout",
          "text": [
            "Iteration number : 30\n"
          ]
        }
      ]
    },
    {
      "cell_type": "code",
      "source": [
        "print(len(results))\n",
        "prec_final_0 = list(map(lambda x : x['0.0']['precision'] , results))\n",
        "recall_final_0 = list(map(lambda x : x['0.0']['recall'] , results))\n",
        "f1_final_0 = list(map(lambda x : x['0.0']['f1-score'] , results))\n",
        "\n",
        "\n",
        "prec_final_1 = list(map(lambda x : x['1.0']['precision'] , results))\n",
        "recall_final_1 = list(map(lambda x : x['1.0']['recall'] , results))\n",
        "f1_final_1 = list(map(lambda x : x['1.0']['f1-score'] , results))\n",
        "\n",
        "dict_res = {'precision_1':prec_final_1   , 'recall_1': recall_final_1 , 'f1-score_1': f1_final_1 , 'precision_0':prec_final_0 , 'recall_0': recall_final_0  , 'f1-score_0': f1_final_0}\n",
        "\n",
        "df_results = pd.DataFrame (dict_res)"
      ],
      "metadata": {
        "id": "8ZeJvy6IG1AA",
        "colab": {
          "base_uri": "https://localhost:8080/"
        },
        "outputId": "00ea176b-30c8-4a02-bdbc-b224af2c3201"
      },
      "execution_count": null,
      "outputs": [
        {
          "output_type": "stream",
          "name": "stdout",
          "text": [
            "30\n"
          ]
        }
      ]
    },
    {
      "cell_type": "code",
      "source": [
        "import json"
      ],
      "metadata": {
        "id": "rsPpkLdBySwH"
      },
      "execution_count": null,
      "outputs": []
    },
    {
      "cell_type": "markdown",
      "source": [
        "# Results"
      ],
      "metadata": {
        "id": "jAc_VJoOxrsr"
      }
    },
    {
      "cell_type": "markdown",
      "metadata": {
        "id": "kAuIUWtwdHcI"
      },
      "source": [
        "15 min"
      ]
    },
    {
      "cell_type": "code",
      "execution_count": null,
      "metadata": {
        "colab": {
          "base_uri": "https://localhost:8080/",
          "height": 300
        },
        "id": "sAjadGTWJPMA",
        "outputId": "87375338-b301-43a5-f46c-4dbab46f14e7"
      },
      "outputs": [
        {
          "output_type": "execute_result",
          "data": {
            "text/html": [
              "\n",
              "  <div id=\"df-57dac74d-c3a4-443b-919e-3bed0db25a24\">\n",
              "    <div class=\"colab-df-container\">\n",
              "      <div>\n",
              "<style scoped>\n",
              "    .dataframe tbody tr th:only-of-type {\n",
              "        vertical-align: middle;\n",
              "    }\n",
              "\n",
              "    .dataframe tbody tr th {\n",
              "        vertical-align: top;\n",
              "    }\n",
              "\n",
              "    .dataframe thead th {\n",
              "        text-align: right;\n",
              "    }\n",
              "</style>\n",
              "<table border=\"1\" class=\"dataframe\">\n",
              "  <thead>\n",
              "    <tr style=\"text-align: right;\">\n",
              "      <th></th>\n",
              "      <th>precision_1</th>\n",
              "      <th>recall_1</th>\n",
              "      <th>f1-score_1</th>\n",
              "      <th>precision_0</th>\n",
              "      <th>recall_0</th>\n",
              "      <th>f1-score_0</th>\n",
              "    </tr>\n",
              "  </thead>\n",
              "  <tbody>\n",
              "    <tr>\n",
              "      <th>count</th>\n",
              "      <td>30.000000</td>\n",
              "      <td>30.000000</td>\n",
              "      <td>30.000000</td>\n",
              "      <td>30.000000</td>\n",
              "      <td>30.000000</td>\n",
              "      <td>30.000000</td>\n",
              "    </tr>\n",
              "    <tr>\n",
              "      <th>mean</th>\n",
              "      <td>0.930481</td>\n",
              "      <td>0.959333</td>\n",
              "      <td>0.942467</td>\n",
              "      <td>0.999680</td>\n",
              "      <td>0.999371</td>\n",
              "      <td>0.999525</td>\n",
              "    </tr>\n",
              "    <tr>\n",
              "      <th>std</th>\n",
              "      <td>0.074428</td>\n",
              "      <td>0.028519</td>\n",
              "      <td>0.037799</td>\n",
              "      <td>0.000224</td>\n",
              "      <td>0.000756</td>\n",
              "      <td>0.000349</td>\n",
              "    </tr>\n",
              "    <tr>\n",
              "      <th>min</th>\n",
              "      <td>0.720588</td>\n",
              "      <td>0.860000</td>\n",
              "      <td>0.830508</td>\n",
              "      <td>0.998900</td>\n",
              "      <td>0.997010</td>\n",
              "      <td>0.998424</td>\n",
              "    </tr>\n",
              "    <tr>\n",
              "      <th>25%</th>\n",
              "      <td>0.906097</td>\n",
              "      <td>0.945000</td>\n",
              "      <td>0.925317</td>\n",
              "      <td>0.999567</td>\n",
              "      <td>0.999213</td>\n",
              "      <td>0.999390</td>\n",
              "    </tr>\n",
              "    <tr>\n",
              "      <th>50%</th>\n",
              "      <td>0.960784</td>\n",
              "      <td>0.970000</td>\n",
              "      <td>0.958333</td>\n",
              "      <td>0.999764</td>\n",
              "      <td>0.999685</td>\n",
              "      <td>0.999685</td>\n",
              "    </tr>\n",
              "    <tr>\n",
              "      <th>75%</th>\n",
              "      <td>0.979898</td>\n",
              "      <td>0.980000</td>\n",
              "      <td>0.970147</td>\n",
              "      <td>0.999843</td>\n",
              "      <td>0.999843</td>\n",
              "      <td>0.999764</td>\n",
              "    </tr>\n",
              "    <tr>\n",
              "      <th>max</th>\n",
              "      <td>1.000000</td>\n",
              "      <td>0.980000</td>\n",
              "      <td>0.980000</td>\n",
              "      <td>0.999843</td>\n",
              "      <td>1.000000</td>\n",
              "      <td>0.999843</td>\n",
              "    </tr>\n",
              "  </tbody>\n",
              "</table>\n",
              "</div>\n",
              "      <button class=\"colab-df-convert\" onclick=\"convertToInteractive('df-57dac74d-c3a4-443b-919e-3bed0db25a24')\"\n",
              "              title=\"Convert this dataframe to an interactive table.\"\n",
              "              style=\"display:none;\">\n",
              "        \n",
              "  <svg xmlns=\"http://www.w3.org/2000/svg\" height=\"24px\"viewBox=\"0 0 24 24\"\n",
              "       width=\"24px\">\n",
              "    <path d=\"M0 0h24v24H0V0z\" fill=\"none\"/>\n",
              "    <path d=\"M18.56 5.44l.94 2.06.94-2.06 2.06-.94-2.06-.94-.94-2.06-.94 2.06-2.06.94zm-11 1L8.5 8.5l.94-2.06 2.06-.94-2.06-.94L8.5 2.5l-.94 2.06-2.06.94zm10 10l.94 2.06.94-2.06 2.06-.94-2.06-.94-.94-2.06-.94 2.06-2.06.94z\"/><path d=\"M17.41 7.96l-1.37-1.37c-.4-.4-.92-.59-1.43-.59-.52 0-1.04.2-1.43.59L10.3 9.45l-7.72 7.72c-.78.78-.78 2.05 0 2.83L4 21.41c.39.39.9.59 1.41.59.51 0 1.02-.2 1.41-.59l7.78-7.78 2.81-2.81c.8-.78.8-2.07 0-2.86zM5.41 20L4 18.59l7.72-7.72 1.47 1.35L5.41 20z\"/>\n",
              "  </svg>\n",
              "      </button>\n",
              "      \n",
              "  <style>\n",
              "    .colab-df-container {\n",
              "      display:flex;\n",
              "      flex-wrap:wrap;\n",
              "      gap: 12px;\n",
              "    }\n",
              "\n",
              "    .colab-df-convert {\n",
              "      background-color: #E8F0FE;\n",
              "      border: none;\n",
              "      border-radius: 50%;\n",
              "      cursor: pointer;\n",
              "      display: none;\n",
              "      fill: #1967D2;\n",
              "      height: 32px;\n",
              "      padding: 0 0 0 0;\n",
              "      width: 32px;\n",
              "    }\n",
              "\n",
              "    .colab-df-convert:hover {\n",
              "      background-color: #E2EBFA;\n",
              "      box-shadow: 0px 1px 2px rgba(60, 64, 67, 0.3), 0px 1px 3px 1px rgba(60, 64, 67, 0.15);\n",
              "      fill: #174EA6;\n",
              "    }\n",
              "\n",
              "    [theme=dark] .colab-df-convert {\n",
              "      background-color: #3B4455;\n",
              "      fill: #D2E3FC;\n",
              "    }\n",
              "\n",
              "    [theme=dark] .colab-df-convert:hover {\n",
              "      background-color: #434B5C;\n",
              "      box-shadow: 0px 1px 3px 1px rgba(0, 0, 0, 0.15);\n",
              "      filter: drop-shadow(0px 1px 2px rgba(0, 0, 0, 0.3));\n",
              "      fill: #FFFFFF;\n",
              "    }\n",
              "  </style>\n",
              "\n",
              "      <script>\n",
              "        const buttonEl =\n",
              "          document.querySelector('#df-57dac74d-c3a4-443b-919e-3bed0db25a24 button.colab-df-convert');\n",
              "        buttonEl.style.display =\n",
              "          google.colab.kernel.accessAllowed ? 'block' : 'none';\n",
              "\n",
              "        async function convertToInteractive(key) {\n",
              "          const element = document.querySelector('#df-57dac74d-c3a4-443b-919e-3bed0db25a24');\n",
              "          const dataTable =\n",
              "            await google.colab.kernel.invokeFunction('convertToInteractive',\n",
              "                                                     [key], {});\n",
              "          if (!dataTable) return;\n",
              "\n",
              "          const docLinkHtml = 'Like what you see? Visit the ' +\n",
              "            '<a target=\"_blank\" href=https://colab.research.google.com/notebooks/data_table.ipynb>data table notebook</a>'\n",
              "            + ' to learn more about interactive tables.';\n",
              "          element.innerHTML = '';\n",
              "          dataTable['output_type'] = 'display_data';\n",
              "          await google.colab.output.renderOutput(dataTable, element);\n",
              "          const docLink = document.createElement('div');\n",
              "          docLink.innerHTML = docLinkHtml;\n",
              "          element.appendChild(docLink);\n",
              "        }\n",
              "      </script>\n",
              "    </div>\n",
              "  </div>\n",
              "  "
            ],
            "text/plain": [
              "       precision_1   recall_1  f1-score_1  precision_0   recall_0  f1-score_0\n",
              "count    30.000000  30.000000   30.000000    30.000000  30.000000   30.000000\n",
              "mean      0.930481   0.959333    0.942467     0.999680   0.999371    0.999525\n",
              "std       0.074428   0.028519    0.037799     0.000224   0.000756    0.000349\n",
              "min       0.720588   0.860000    0.830508     0.998900   0.997010    0.998424\n",
              "25%       0.906097   0.945000    0.925317     0.999567   0.999213    0.999390\n",
              "50%       0.960784   0.970000    0.958333     0.999764   0.999685    0.999685\n",
              "75%       0.979898   0.980000    0.970147     0.999843   0.999843    0.999764\n",
              "max       1.000000   0.980000    0.980000     0.999843   1.000000    0.999843"
            ]
          },
          "metadata": {},
          "execution_count": 30
        }
      ],
      "source": [
        "df_results.describe()"
      ]
    },
    {
      "cell_type": "code",
      "source": [
        "df_results['recall_1'].hist()"
      ],
      "metadata": {
        "colab": {
          "base_uri": "https://localhost:8080/",
          "height": 282
        },
        "id": "qosNac5w4Rq6",
        "outputId": "fb01f744-d859-4d3c-c9d7-5989bbe3c91b"
      },
      "execution_count": null,
      "outputs": [
        {
          "output_type": "execute_result",
          "data": {
            "text/plain": [
              "<matplotlib.axes._subplots.AxesSubplot at 0x7f2416a99550>"
            ]
          },
          "metadata": {},
          "execution_count": 31
        },
        {
          "output_type": "display_data",
          "data": {
            "image/png": "[encoded data removed]",
            "text/plain": [
              "<Figure size 432x288 with 1 Axes>"
            ]
          },
          "metadata": {
            "needs_background": "light"
          }
        }
      ]
    },
    {
      "cell_type": "code",
      "source": [
        "dest_file = \"2013_30_iterations_15_observed.txt\"\n",
        "output_file = open(dest_file, 'w', encoding='utf-8')\n",
        "for dic in results:\n",
        "  json.dump(dic, output_file) \n",
        "  output_file.write(\"\\n\")"
      ],
      "metadata": {
        "id": "930lnel2yMHp"
      },
      "execution_count": null,
      "outputs": []
    },
    {
      "cell_type": "markdown",
      "metadata": {
        "id": "vJdIdffCdHcL"
      },
      "source": [
        "30 min"
      ]
    },
    {
      "cell_type": "code",
      "execution_count": null,
      "metadata": {
        "colab": {
          "base_uri": "https://localhost:8080/",
          "height": 300
        },
        "id": "qPqIMCKzdHcL",
        "outputId": "280b5a15-e588-4d32-be35-22b36819069a"
      },
      "outputs": [
        {
          "output_type": "execute_result",
          "data": {
            "text/html": [
              "\n",
              "  <div id=\"df-2cffe4a6-e38a-412b-9f6e-b29f5024a39c\">\n",
              "    <div class=\"colab-df-container\">\n",
              "      <div>\n",
              "<style scoped>\n",
              "    .dataframe tbody tr th:only-of-type {\n",
              "        vertical-align: middle;\n",
              "    }\n",
              "\n",
              "    .dataframe tbody tr th {\n",
              "        vertical-align: top;\n",
              "    }\n",
              "\n",
              "    .dataframe thead th {\n",
              "        text-align: right;\n",
              "    }\n",
              "</style>\n",
              "<table border=\"1\" class=\"dataframe\">\n",
              "  <thead>\n",
              "    <tr style=\"text-align: right;\">\n",
              "      <th></th>\n",
              "      <th>precision_1</th>\n",
              "      <th>recall_1</th>\n",
              "      <th>f1-score_1</th>\n",
              "      <th>precision_0</th>\n",
              "      <th>recall_0</th>\n",
              "      <th>f1-score_0</th>\n",
              "    </tr>\n",
              "  </thead>\n",
              "  <tbody>\n",
              "    <tr>\n",
              "      <th>count</th>\n",
              "      <td>30.000000</td>\n",
              "      <td>30.000000</td>\n",
              "      <td>30.000000</td>\n",
              "      <td>30.000000</td>\n",
              "      <td>30.000000</td>\n",
              "      <td>30.000000</td>\n",
              "    </tr>\n",
              "    <tr>\n",
              "      <th>mean</th>\n",
              "      <td>0.830979</td>\n",
              "      <td>0.932667</td>\n",
              "      <td>0.873257</td>\n",
              "      <td>0.999470</td>\n",
              "      <td>0.998347</td>\n",
              "      <td>0.998908</td>\n",
              "    </tr>\n",
              "    <tr>\n",
              "      <th>std</th>\n",
              "      <td>0.096795</td>\n",
              "      <td>0.052387</td>\n",
              "      <td>0.042223</td>\n",
              "      <td>0.000411</td>\n",
              "      <td>0.001127</td>\n",
              "      <td>0.000447</td>\n",
              "    </tr>\n",
              "    <tr>\n",
              "      <th>min</th>\n",
              "      <td>0.644737</td>\n",
              "      <td>0.760000</td>\n",
              "      <td>0.777778</td>\n",
              "      <td>0.998115</td>\n",
              "      <td>0.995751</td>\n",
              "      <td>0.997792</td>\n",
              "    </tr>\n",
              "    <tr>\n",
              "      <th>25%</th>\n",
              "      <td>0.775090</td>\n",
              "      <td>0.920000</td>\n",
              "      <td>0.850651</td>\n",
              "      <td>0.999370</td>\n",
              "      <td>0.997797</td>\n",
              "      <td>0.998681</td>\n",
              "    </tr>\n",
              "    <tr>\n",
              "      <th>50%</th>\n",
              "      <td>0.806780</td>\n",
              "      <td>0.950000</td>\n",
              "      <td>0.873864</td>\n",
              "      <td>0.999606</td>\n",
              "      <td>0.998190</td>\n",
              "      <td>0.998937</td>\n",
              "    </tr>\n",
              "    <tr>\n",
              "      <th>75%</th>\n",
              "      <td>0.904735</td>\n",
              "      <td>0.960000</td>\n",
              "      <td>0.905660</td>\n",
              "      <td>0.999685</td>\n",
              "      <td>0.999213</td>\n",
              "      <td>0.999213</td>\n",
              "    </tr>\n",
              "    <tr>\n",
              "      <th>max</th>\n",
              "      <td>0.976190</td>\n",
              "      <td>0.980000</td>\n",
              "      <td>0.938776</td>\n",
              "      <td>0.999842</td>\n",
              "      <td>0.999843</td>\n",
              "      <td>0.999528</td>\n",
              "    </tr>\n",
              "  </tbody>\n",
              "</table>\n",
              "</div>\n",
              "      <button class=\"colab-df-convert\" onclick=\"convertToInteractive('df-2cffe4a6-e38a-412b-9f6e-b29f5024a39c')\"\n",
              "              title=\"Convert this dataframe to an interactive table.\"\n",
              "              style=\"display:none;\">\n",
              "        \n",
              "  <svg xmlns=\"http://www.w3.org/2000/svg\" height=\"24px\"viewBox=\"0 0 24 24\"\n",
              "       width=\"24px\">\n",
              "    <path d=\"M0 0h24v24H0V0z\" fill=\"none\"/>\n",
              "    <path d=\"M18.56 5.44l.94 2.06.94-2.06 2.06-.94-2.06-.94-.94-2.06-.94 2.06-2.06.94zm-11 1L8.5 8.5l.94-2.06 2.06-.94-2.06-.94L8.5 2.5l-.94 2.06-2.06.94zm10 10l.94 2.06.94-2.06 2.06-.94-2.06-.94-.94-2.06-.94 2.06-2.06.94z\"/><path d=\"M17.41 7.96l-1.37-1.37c-.4-.4-.92-.59-1.43-.59-.52 0-1.04.2-1.43.59L10.3 9.45l-7.72 7.72c-.78.78-.78 2.05 0 2.83L4 21.41c.39.39.9.59 1.41.59.51 0 1.02-.2 1.41-.59l7.78-7.78 2.81-2.81c.8-.78.8-2.07 0-2.86zM5.41 20L4 18.59l7.72-7.72 1.47 1.35L5.41 20z\"/>\n",
              "  </svg>\n",
              "      </button>\n",
              "      \n",
              "  <style>\n",
              "    .colab-df-container {\n",
              "      display:flex;\n",
              "      flex-wrap:wrap;\n",
              "      gap: 12px;\n",
              "    }\n",
              "\n",
              "    .colab-df-convert {\n",
              "      background-color: #E8F0FE;\n",
              "      border: none;\n",
              "      border-radius: 50%;\n",
              "      cursor: pointer;\n",
              "      display: none;\n",
              "      fill: #1967D2;\n",
              "      height: 32px;\n",
              "      padding: 0 0 0 0;\n",
              "      width: 32px;\n",
              "    }\n",
              "\n",
              "    .colab-df-convert:hover {\n",
              "      background-color: #E2EBFA;\n",
              "      box-shadow: 0px 1px 2px rgba(60, 64, 67, 0.3), 0px 1px 3px 1px rgba(60, 64, 67, 0.15);\n",
              "      fill: #174EA6;\n",
              "    }\n",
              "\n",
              "    [theme=dark] .colab-df-convert {\n",
              "      background-color: #3B4455;\n",
              "      fill: #D2E3FC;\n",
              "    }\n",
              "\n",
              "    [theme=dark] .colab-df-convert:hover {\n",
              "      background-color: #434B5C;\n",
              "      box-shadow: 0px 1px 3px 1px rgba(0, 0, 0, 0.15);\n",
              "      filter: drop-shadow(0px 1px 2px rgba(0, 0, 0, 0.3));\n",
              "      fill: #FFFFFF;\n",
              "    }\n",
              "  </style>\n",
              "\n",
              "      <script>\n",
              "        const buttonEl =\n",
              "          document.querySelector('#df-2cffe4a6-e38a-412b-9f6e-b29f5024a39c button.colab-df-convert');\n",
              "        buttonEl.style.display =\n",
              "          google.colab.kernel.accessAllowed ? 'block' : 'none';\n",
              "\n",
              "        async function convertToInteractive(key) {\n",
              "          const element = document.querySelector('#df-2cffe4a6-e38a-412b-9f6e-b29f5024a39c');\n",
              "          const dataTable =\n",
              "            await google.colab.kernel.invokeFunction('convertToInteractive',\n",
              "                                                     [key], {});\n",
              "          if (!dataTable) return;\n",
              "\n",
              "          const docLinkHtml = 'Like what you see? Visit the ' +\n",
              "            '<a target=\"_blank\" href=https://colab.research.google.com/notebooks/data_table.ipynb>data table notebook</a>'\n",
              "            + ' to learn more about interactive tables.';\n",
              "          element.innerHTML = '';\n",
              "          dataTable['output_type'] = 'display_data';\n",
              "          await google.colab.output.renderOutput(dataTable, element);\n",
              "          const docLink = document.createElement('div');\n",
              "          docLink.innerHTML = docLinkHtml;\n",
              "          element.appendChild(docLink);\n",
              "        }\n",
              "      </script>\n",
              "    </div>\n",
              "  </div>\n",
              "  "
            ],
            "text/plain": [
              "       precision_1   recall_1  f1-score_1  precision_0   recall_0  f1-score_0\n",
              "count    30.000000  30.000000   30.000000    30.000000  30.000000   30.000000\n",
              "mean      0.830979   0.932667    0.873257     0.999470   0.998347    0.998908\n",
              "std       0.096795   0.052387    0.042223     0.000411   0.001127    0.000447\n",
              "min       0.644737   0.760000    0.777778     0.998115   0.995751    0.997792\n",
              "25%       0.775090   0.920000    0.850651     0.999370   0.997797    0.998681\n",
              "50%       0.806780   0.950000    0.873864     0.999606   0.998190    0.998937\n",
              "75%       0.904735   0.960000    0.905660     0.999685   0.999213    0.999213\n",
              "max       0.976190   0.980000    0.938776     0.999842   0.999843    0.999528"
            ]
          },
          "metadata": {},
          "execution_count": 47
        }
      ],
      "source": [
        "df_results.describe()"
      ]
    },
    {
      "cell_type": "code",
      "source": [
        "df_results['recall_1'].hist()"
      ],
      "metadata": {
        "colab": {
          "base_uri": "https://localhost:8080/",
          "height": 282
        },
        "id": "LaD-4DPE4Q5b",
        "outputId": "66fec7d2-f77f-40a8-b2f3-e85df8e67233"
      },
      "execution_count": null,
      "outputs": [
        {
          "output_type": "execute_result",
          "data": {
            "text/plain": [
              "<matplotlib.axes._subplots.AxesSubplot at 0x7f2404c72650>"
            ]
          },
          "metadata": {},
          "execution_count": 48
        },
        {
          "output_type": "display_data",
          "data": {
            "image/png": "[encoded data removed]",
            "text/plain": [
              "<Figure size 432x288 with 1 Axes>"
            ]
          },
          "metadata": {
            "needs_background": "light"
          }
        }
      ]
    },
    {
      "cell_type": "code",
      "source": [
        "dest_file = \"2013_30_iterations_30_observed.txt\"\n",
        "output_file = open(dest_file, 'w', encoding='utf-8')\n",
        "for dic in results:\n",
        "  json.dump(dic, output_file) \n",
        "  output_file.write(\"\\n\")"
      ],
      "metadata": {
        "id": "fGG8dplJyUwl"
      },
      "execution_count": null,
      "outputs": []
    },
    {
      "cell_type": "markdown",
      "metadata": {
        "id": "9mO_oXF4dHcM"
      },
      "source": [
        "45 min"
      ]
    },
    {
      "cell_type": "code",
      "execution_count": null,
      "metadata": {
        "colab": {
          "base_uri": "https://localhost:8080/",
          "height": 300
        },
        "id": "e306gKK4dHcN",
        "outputId": "8261a00b-e35e-41ae-a1bf-41d6a75fe165"
      },
      "outputs": [
        {
          "output_type": "execute_result",
          "data": {
            "text/html": [
              "\n",
              "  <div id=\"df-3dbcdb30-b8a3-4b4b-84af-7748d6f966b5\">\n",
              "    <div class=\"colab-df-container\">\n",
              "      <div>\n",
              "<style scoped>\n",
              "    .dataframe tbody tr th:only-of-type {\n",
              "        vertical-align: middle;\n",
              "    }\n",
              "\n",
              "    .dataframe tbody tr th {\n",
              "        vertical-align: top;\n",
              "    }\n",
              "\n",
              "    .dataframe thead th {\n",
              "        text-align: right;\n",
              "    }\n",
              "</style>\n",
              "<table border=\"1\" class=\"dataframe\">\n",
              "  <thead>\n",
              "    <tr style=\"text-align: right;\">\n",
              "      <th></th>\n",
              "      <th>precision_1</th>\n",
              "      <th>recall_1</th>\n",
              "      <th>f1-score_1</th>\n",
              "      <th>precision_0</th>\n",
              "      <th>recall_0</th>\n",
              "      <th>f1-score_0</th>\n",
              "    </tr>\n",
              "  </thead>\n",
              "  <tbody>\n",
              "    <tr>\n",
              "      <th>count</th>\n",
              "      <td>30.000000</td>\n",
              "      <td>30.000000</td>\n",
              "      <td>30.000000</td>\n",
              "      <td>30.000000</td>\n",
              "      <td>30.000000</td>\n",
              "      <td>30.000000</td>\n",
              "    </tr>\n",
              "    <tr>\n",
              "      <th>mean</th>\n",
              "      <td>0.781025</td>\n",
              "      <td>0.942667</td>\n",
              "      <td>0.851604</td>\n",
              "      <td>0.999548</td>\n",
              "      <td>0.997854</td>\n",
              "      <td>0.998700</td>\n",
              "    </tr>\n",
              "    <tr>\n",
              "      <th>std</th>\n",
              "      <td>0.054650</td>\n",
              "      <td>0.052452</td>\n",
              "      <td>0.024710</td>\n",
              "      <td>0.000413</td>\n",
              "      <td>0.000719</td>\n",
              "      <td>0.000257</td>\n",
              "    </tr>\n",
              "    <tr>\n",
              "      <th>min</th>\n",
              "      <td>0.680556</td>\n",
              "      <td>0.820000</td>\n",
              "      <td>0.803279</td>\n",
              "      <td>0.998584</td>\n",
              "      <td>0.996380</td>\n",
              "      <td>0.998108</td>\n",
              "    </tr>\n",
              "    <tr>\n",
              "      <th>25%</th>\n",
              "      <td>0.748048</td>\n",
              "      <td>0.920000</td>\n",
              "      <td>0.832227</td>\n",
              "      <td>0.999369</td>\n",
              "      <td>0.997482</td>\n",
              "      <td>0.998503</td>\n",
              "    </tr>\n",
              "    <tr>\n",
              "      <th>50%</th>\n",
              "      <td>0.777778</td>\n",
              "      <td>0.960000</td>\n",
              "      <td>0.854369</td>\n",
              "      <td>0.999685</td>\n",
              "      <td>0.997797</td>\n",
              "      <td>0.998739</td>\n",
              "    </tr>\n",
              "    <tr>\n",
              "      <th>75%</th>\n",
              "      <td>0.806876</td>\n",
              "      <td>0.980000</td>\n",
              "      <td>0.867257</td>\n",
              "      <td>0.999842</td>\n",
              "      <td>0.998269</td>\n",
              "      <td>0.998878</td>\n",
              "    </tr>\n",
              "    <tr>\n",
              "      <th>max</th>\n",
              "      <td>0.933333</td>\n",
              "      <td>1.000000</td>\n",
              "      <td>0.912621</td>\n",
              "      <td>1.000000</td>\n",
              "      <td>0.999528</td>\n",
              "      <td>0.999292</td>\n",
              "    </tr>\n",
              "  </tbody>\n",
              "</table>\n",
              "</div>\n",
              "      <button class=\"colab-df-convert\" onclick=\"convertToInteractive('df-3dbcdb30-b8a3-4b4b-84af-7748d6f966b5')\"\n",
              "              title=\"Convert this dataframe to an interactive table.\"\n",
              "              style=\"display:none;\">\n",
              "        \n",
              "  <svg xmlns=\"http://www.w3.org/2000/svg\" height=\"24px\"viewBox=\"0 0 24 24\"\n",
              "       width=\"24px\">\n",
              "    <path d=\"M0 0h24v24H0V0z\" fill=\"none\"/>\n",
              "    <path d=\"M18.56 5.44l.94 2.06.94-2.06 2.06-.94-2.06-.94-.94-2.06-.94 2.06-2.06.94zm-11 1L8.5 8.5l.94-2.06 2.06-.94-2.06-.94L8.5 2.5l-.94 2.06-2.06.94zm10 10l.94 2.06.94-2.06 2.06-.94-2.06-.94-.94-2.06-.94 2.06-2.06.94z\"/><path d=\"M17.41 7.96l-1.37-1.37c-.4-.4-.92-.59-1.43-.59-.52 0-1.04.2-1.43.59L10.3 9.45l-7.72 7.72c-.78.78-.78 2.05 0 2.83L4 21.41c.39.39.9.59 1.41.59.51 0 1.02-.2 1.41-.59l7.78-7.78 2.81-2.81c.8-.78.8-2.07 0-2.86zM5.41 20L4 18.59l7.72-7.72 1.47 1.35L5.41 20z\"/>\n",
              "  </svg>\n",
              "      </button>\n",
              "      \n",
              "  <style>\n",
              "    .colab-df-container {\n",
              "      display:flex;\n",
              "      flex-wrap:wrap;\n",
              "      gap: 12px;\n",
              "    }\n",
              "\n",
              "    .colab-df-convert {\n",
              "      background-color: #E8F0FE;\n",
              "      border: none;\n",
              "      border-radius: 50%;\n",
              "      cursor: pointer;\n",
              "      display: none;\n",
              "      fill: #1967D2;\n",
              "      height: 32px;\n",
              "      padding: 0 0 0 0;\n",
              "      width: 32px;\n",
              "    }\n",
              "\n",
              "    .colab-df-convert:hover {\n",
              "      background-color: #E2EBFA;\n",
              "      box-shadow: 0px 1px 2px rgba(60, 64, 67, 0.3), 0px 1px 3px 1px rgba(60, 64, 67, 0.15);\n",
              "      fill: #174EA6;\n",
              "    }\n",
              "\n",
              "    [theme=dark] .colab-df-convert {\n",
              "      background-color: #3B4455;\n",
              "      fill: #D2E3FC;\n",
              "    }\n",
              "\n",
              "    [theme=dark] .colab-df-convert:hover {\n",
              "      background-color: #434B5C;\n",
              "      box-shadow: 0px 1px 3px 1px rgba(0, 0, 0, 0.15);\n",
              "      filter: drop-shadow(0px 1px 2px rgba(0, 0, 0, 0.3));\n",
              "      fill: #FFFFFF;\n",
              "    }\n",
              "  </style>\n",
              "\n",
              "      <script>\n",
              "        const buttonEl =\n",
              "          document.querySelector('#df-3dbcdb30-b8a3-4b4b-84af-7748d6f966b5 button.colab-df-convert');\n",
              "        buttonEl.style.display =\n",
              "          google.colab.kernel.accessAllowed ? 'block' : 'none';\n",
              "\n",
              "        async function convertToInteractive(key) {\n",
              "          const element = document.querySelector('#df-3dbcdb30-b8a3-4b4b-84af-7748d6f966b5');\n",
              "          const dataTable =\n",
              "            await google.colab.kernel.invokeFunction('convertToInteractive',\n",
              "                                                     [key], {});\n",
              "          if (!dataTable) return;\n",
              "\n",
              "          const docLinkHtml = 'Like what you see? Visit the ' +\n",
              "            '<a target=\"_blank\" href=https://colab.research.google.com/notebooks/data_table.ipynb>data table notebook</a>'\n",
              "            + ' to learn more about interactive tables.';\n",
              "          element.innerHTML = '';\n",
              "          dataTable['output_type'] = 'display_data';\n",
              "          await google.colab.output.renderOutput(dataTable, element);\n",
              "          const docLink = document.createElement('div');\n",
              "          docLink.innerHTML = docLinkHtml;\n",
              "          element.appendChild(docLink);\n",
              "        }\n",
              "      </script>\n",
              "    </div>\n",
              "  </div>\n",
              "  "
            ],
            "text/plain": [
              "       precision_1   recall_1  f1-score_1  precision_0   recall_0  f1-score_0\n",
              "count    30.000000  30.000000   30.000000    30.000000  30.000000   30.000000\n",
              "mean      0.781025   0.942667    0.851604     0.999548   0.997854    0.998700\n",
              "std       0.054650   0.052452    0.024710     0.000413   0.000719    0.000257\n",
              "min       0.680556   0.820000    0.803279     0.998584   0.996380    0.998108\n",
              "25%       0.748048   0.920000    0.832227     0.999369   0.997482    0.998503\n",
              "50%       0.777778   0.960000    0.854369     0.999685   0.997797    0.998739\n",
              "75%       0.806876   0.980000    0.867257     0.999842   0.998269    0.998878\n",
              "max       0.933333   1.000000    0.912621     1.000000   0.999528    0.999292"
            ]
          },
          "metadata": {},
          "execution_count": 63
        }
      ],
      "source": [
        "df_results.describe()"
      ]
    },
    {
      "cell_type": "code",
      "execution_count": null,
      "metadata": {
        "colab": {
          "base_uri": "https://localhost:8080/",
          "height": 282
        },
        "id": "b0emVG1aknLN",
        "outputId": "37511d22-695b-4a17-eec4-d49290185ab1"
      },
      "outputs": [
        {
          "output_type": "execute_result",
          "data": {
            "text/plain": [
              "<matplotlib.axes._subplots.AxesSubplot at 0x7f2416caa050>"
            ]
          },
          "metadata": {},
          "execution_count": 64
        },
        {
          "output_type": "display_data",
          "data": {
            "image/png": "[encoded data removed]",
            "text/plain": [
              "<Figure size 432x288 with 1 Axes>"
            ]
          },
          "metadata": {
            "needs_background": "light"
          }
        }
      ],
      "source": [
        "df_results['recall_1'].hist()"
      ]
    },
    {
      "cell_type": "code",
      "source": [
        "dest_file = \"2013_30_iterations_45_observed.txt\"\n",
        "output_file = open(dest_file, 'w', encoding='utf-8')\n",
        "for dic in results:\n",
        "  json.dump(dic, output_file) \n",
        "  output_file.write(\"\\n\")"
      ],
      "metadata": {
        "id": "F3plXFyGyYb3"
      },
      "execution_count": null,
      "outputs": []
    },
    {
      "cell_type": "markdown",
      "metadata": {
        "id": "2cN2fVXqdHcO"
      },
      "source": [
        "60 min"
      ]
    },
    {
      "cell_type": "code",
      "execution_count": null,
      "metadata": {
        "colab": {
          "base_uri": "https://localhost:8080/",
          "height": 300
        },
        "id": "54pXdiludHcO",
        "outputId": "81daf050-c6f5-49b6-9cb3-c8c1eb9f54c2"
      },
      "outputs": [
        {
          "output_type": "execute_result",
          "data": {
            "text/html": [
              "\n",
              "  <div id=\"df-e7a04b28-c32d-44af-a1db-fa263fd0fae9\">\n",
              "    <div class=\"colab-df-container\">\n",
              "      <div>\n",
              "<style scoped>\n",
              "    .dataframe tbody tr th:only-of-type {\n",
              "        vertical-align: middle;\n",
              "    }\n",
              "\n",
              "    .dataframe tbody tr th {\n",
              "        vertical-align: top;\n",
              "    }\n",
              "\n",
              "    .dataframe thead th {\n",
              "        text-align: right;\n",
              "    }\n",
              "</style>\n",
              "<table border=\"1\" class=\"dataframe\">\n",
              "  <thead>\n",
              "    <tr style=\"text-align: right;\">\n",
              "      <th></th>\n",
              "      <th>precision_1</th>\n",
              "      <th>recall_1</th>\n",
              "      <th>f1-score_1</th>\n",
              "      <th>precision_0</th>\n",
              "      <th>recall_0</th>\n",
              "      <th>f1-score_0</th>\n",
              "    </tr>\n",
              "  </thead>\n",
              "  <tbody>\n",
              "    <tr>\n",
              "      <th>count</th>\n",
              "      <td>30.000000</td>\n",
              "      <td>30.000000</td>\n",
              "      <td>30.000000</td>\n",
              "      <td>30.000000</td>\n",
              "      <td>30.000000</td>\n",
              "      <td>30.000000</td>\n",
              "    </tr>\n",
              "    <tr>\n",
              "      <th>mean</th>\n",
              "      <td>0.763398</td>\n",
              "      <td>0.886667</td>\n",
              "      <td>0.817519</td>\n",
              "      <td>0.999107</td>\n",
              "      <td>0.997786</td>\n",
              "      <td>0.998446</td>\n",
              "    </tr>\n",
              "    <tr>\n",
              "      <th>std</th>\n",
              "      <td>0.058012</td>\n",
              "      <td>0.080744</td>\n",
              "      <td>0.051035</td>\n",
              "      <td>0.000635</td>\n",
              "      <td>0.000735</td>\n",
              "      <td>0.000423</td>\n",
              "    </tr>\n",
              "    <tr>\n",
              "      <th>min</th>\n",
              "      <td>0.629032</td>\n",
              "      <td>0.620000</td>\n",
              "      <td>0.688889</td>\n",
              "      <td>0.997014</td>\n",
              "      <td>0.996380</td>\n",
              "      <td>0.997322</td>\n",
              "    </tr>\n",
              "    <tr>\n",
              "      <th>25%</th>\n",
              "      <td>0.746324</td>\n",
              "      <td>0.860000</td>\n",
              "      <td>0.797942</td>\n",
              "      <td>0.998898</td>\n",
              "      <td>0.997639</td>\n",
              "      <td>0.998207</td>\n",
              "    </tr>\n",
              "    <tr>\n",
              "      <th>50%</th>\n",
              "      <td>0.769174</td>\n",
              "      <td>0.920000</td>\n",
              "      <td>0.827258</td>\n",
              "      <td>0.999369</td>\n",
              "      <td>0.997797</td>\n",
              "      <td>0.998504</td>\n",
              "    </tr>\n",
              "    <tr>\n",
              "      <th>75%</th>\n",
              "      <td>0.790480</td>\n",
              "      <td>0.940000</td>\n",
              "      <td>0.846847</td>\n",
              "      <td>0.999527</td>\n",
              "      <td>0.998347</td>\n",
              "      <td>0.998720</td>\n",
              "    </tr>\n",
              "    <tr>\n",
              "      <th>max</th>\n",
              "      <td>0.895833</td>\n",
              "      <td>0.980000</td>\n",
              "      <td>0.915888</td>\n",
              "      <td>0.999842</td>\n",
              "      <td>0.999213</td>\n",
              "      <td>0.999291</td>\n",
              "    </tr>\n",
              "  </tbody>\n",
              "</table>\n",
              "</div>\n",
              "      <button class=\"colab-df-convert\" onclick=\"convertToInteractive('df-e7a04b28-c32d-44af-a1db-fa263fd0fae9')\"\n",
              "              title=\"Convert this dataframe to an interactive table.\"\n",
              "              style=\"display:none;\">\n",
              "        \n",
              "  <svg xmlns=\"http://www.w3.org/2000/svg\" height=\"24px\"viewBox=\"0 0 24 24\"\n",
              "       width=\"24px\">\n",
              "    <path d=\"M0 0h24v24H0V0z\" fill=\"none\"/>\n",
              "    <path d=\"M18.56 5.44l.94 2.06.94-2.06 2.06-.94-2.06-.94-.94-2.06-.94 2.06-2.06.94zm-11 1L8.5 8.5l.94-2.06 2.06-.94-2.06-.94L8.5 2.5l-.94 2.06-2.06.94zm10 10l.94 2.06.94-2.06 2.06-.94-2.06-.94-.94-2.06-.94 2.06-2.06.94z\"/><path d=\"M17.41 7.96l-1.37-1.37c-.4-.4-.92-.59-1.43-.59-.52 0-1.04.2-1.43.59L10.3 9.45l-7.72 7.72c-.78.78-.78 2.05 0 2.83L4 21.41c.39.39.9.59 1.41.59.51 0 1.02-.2 1.41-.59l7.78-7.78 2.81-2.81c.8-.78.8-2.07 0-2.86zM5.41 20L4 18.59l7.72-7.72 1.47 1.35L5.41 20z\"/>\n",
              "  </svg>\n",
              "      </button>\n",
              "      \n",
              "  <style>\n",
              "    .colab-df-container {\n",
              "      display:flex;\n",
              "      flex-wrap:wrap;\n",
              "      gap: 12px;\n",
              "    }\n",
              "\n",
              "    .colab-df-convert {\n",
              "      background-color: #E8F0FE;\n",
              "      border: none;\n",
              "      border-radius: 50%;\n",
              "      cursor: pointer;\n",
              "      display: none;\n",
              "      fill: #1967D2;\n",
              "      height: 32px;\n",
              "      padding: 0 0 0 0;\n",
              "      width: 32px;\n",
              "    }\n",
              "\n",
              "    .colab-df-convert:hover {\n",
              "      background-color: #E2EBFA;\n",
              "      box-shadow: 0px 1px 2px rgba(60, 64, 67, 0.3), 0px 1px 3px 1px rgba(60, 64, 67, 0.15);\n",
              "      fill: #174EA6;\n",
              "    }\n",
              "\n",
              "    [theme=dark] .colab-df-convert {\n",
              "      background-color: #3B4455;\n",
              "      fill: #D2E3FC;\n",
              "    }\n",
              "\n",
              "    [theme=dark] .colab-df-convert:hover {\n",
              "      background-color: #434B5C;\n",
              "      box-shadow: 0px 1px 3px 1px rgba(0, 0, 0, 0.15);\n",
              "      filter: drop-shadow(0px 1px 2px rgba(0, 0, 0, 0.3));\n",
              "      fill: #FFFFFF;\n",
              "    }\n",
              "  </style>\n",
              "\n",
              "      <script>\n",
              "        const buttonEl =\n",
              "          document.querySelector('#df-e7a04b28-c32d-44af-a1db-fa263fd0fae9 button.colab-df-convert');\n",
              "        buttonEl.style.display =\n",
              "          google.colab.kernel.accessAllowed ? 'block' : 'none';\n",
              "\n",
              "        async function convertToInteractive(key) {\n",
              "          const element = document.querySelector('#df-e7a04b28-c32d-44af-a1db-fa263fd0fae9');\n",
              "          const dataTable =\n",
              "            await google.colab.kernel.invokeFunction('convertToInteractive',\n",
              "                                                     [key], {});\n",
              "          if (!dataTable) return;\n",
              "\n",
              "          const docLinkHtml = 'Like what you see? Visit the ' +\n",
              "            '<a target=\"_blank\" href=https://colab.research.google.com/notebooks/data_table.ipynb>data table notebook</a>'\n",
              "            + ' to learn more about interactive tables.';\n",
              "          element.innerHTML = '';\n",
              "          dataTable['output_type'] = 'display_data';\n",
              "          await google.colab.output.renderOutput(dataTable, element);\n",
              "          const docLink = document.createElement('div');\n",
              "          docLink.innerHTML = docLinkHtml;\n",
              "          element.appendChild(docLink);\n",
              "        }\n",
              "      </script>\n",
              "    </div>\n",
              "  </div>\n",
              "  "
            ],
            "text/plain": [
              "       precision_1   recall_1  f1-score_1  precision_0   recall_0  f1-score_0\n",
              "count    30.000000  30.000000   30.000000    30.000000  30.000000   30.000000\n",
              "mean      0.763398   0.886667    0.817519     0.999107   0.997786    0.998446\n",
              "std       0.058012   0.080744    0.051035     0.000635   0.000735    0.000423\n",
              "min       0.629032   0.620000    0.688889     0.997014   0.996380    0.997322\n",
              "25%       0.746324   0.860000    0.797942     0.998898   0.997639    0.998207\n",
              "50%       0.769174   0.920000    0.827258     0.999369   0.997797    0.998504\n",
              "75%       0.790480   0.940000    0.846847     0.999527   0.998347    0.998720\n",
              "max       0.895833   0.980000    0.915888     0.999842   0.999213    0.999291"
            ]
          },
          "metadata": {},
          "execution_count": 81
        }
      ],
      "source": [
        "df_results.describe()"
      ]
    },
    {
      "cell_type": "code",
      "execution_count": null,
      "metadata": {
        "colab": {
          "base_uri": "https://localhost:8080/",
          "height": 282
        },
        "id": "fR1jG7u8fiTM",
        "outputId": "52ac9299-8580-451e-e099-ae8a2cf97936"
      },
      "outputs": [
        {
          "output_type": "execute_result",
          "data": {
            "text/plain": [
              "<matplotlib.axes._subplots.AxesSubplot at 0x7f24055e4e90>"
            ]
          },
          "metadata": {},
          "execution_count": 82
        },
        {
          "output_type": "display_data",
          "data": {
            "image/png": "[encoded data removed]",
            "text/plain": [
              "<Figure size 432x288 with 1 Axes>"
            ]
          },
          "metadata": {
            "needs_background": "light"
          }
        }
      ],
      "source": [
        "df_results['recall_1'].hist()"
      ]
    },
    {
      "cell_type": "code",
      "source": [
        "dest_file = \"2013_30_iterations_60_observed.txt\"\n",
        "output_file = open(dest_file, 'w', encoding='utf-8')\n",
        "for dic in results:\n",
        "  json.dump(dic, output_file) \n",
        "  output_file.write(\"\\n\")"
      ],
      "metadata": {
        "id": "V8cmTXYGyaa7"
      },
      "execution_count": null,
      "outputs": []
    },
    {
      "cell_type": "markdown",
      "metadata": {
        "id": "QP1u7tQIdHcP"
      },
      "source": [
        "75 min"
      ]
    },
    {
      "cell_type": "code",
      "execution_count": null,
      "metadata": {
        "colab": {
          "base_uri": "https://localhost:8080/",
          "height": 300
        },
        "id": "29TviMredHcQ",
        "outputId": "477c49fe-373a-4b3b-8c65-8ed0f32fb68e"
      },
      "outputs": [
        {
          "output_type": "execute_result",
          "data": {
            "text/html": [
              "\n",
              "  <div id=\"df-07126355-2cb7-417b-81ef-f2b4644c71f9\">\n",
              "    <div class=\"colab-df-container\">\n",
              "      <div>\n",
              "<style scoped>\n",
              "    .dataframe tbody tr th:only-of-type {\n",
              "        vertical-align: middle;\n",
              "    }\n",
              "\n",
              "    .dataframe tbody tr th {\n",
              "        vertical-align: top;\n",
              "    }\n",
              "\n",
              "    .dataframe thead th {\n",
              "        text-align: right;\n",
              "    }\n",
              "</style>\n",
              "<table border=\"1\" class=\"dataframe\">\n",
              "  <thead>\n",
              "    <tr style=\"text-align: right;\">\n",
              "      <th></th>\n",
              "      <th>precision_1</th>\n",
              "      <th>recall_1</th>\n",
              "      <th>f1-score_1</th>\n",
              "      <th>precision_0</th>\n",
              "      <th>recall_0</th>\n",
              "      <th>f1-score_0</th>\n",
              "    </tr>\n",
              "  </thead>\n",
              "  <tbody>\n",
              "    <tr>\n",
              "      <th>count</th>\n",
              "      <td>30.000000</td>\n",
              "      <td>30.000000</td>\n",
              "      <td>30.000000</td>\n",
              "      <td>30.000000</td>\n",
              "      <td>30.000000</td>\n",
              "      <td>30.000000</td>\n",
              "    </tr>\n",
              "    <tr>\n",
              "      <th>mean</th>\n",
              "      <td>0.717981</td>\n",
              "      <td>0.844000</td>\n",
              "      <td>0.769463</td>\n",
              "      <td>0.998771</td>\n",
              "      <td>0.997235</td>\n",
              "      <td>0.998002</td>\n",
              "    </tr>\n",
              "    <tr>\n",
              "      <th>std</th>\n",
              "      <td>0.079142</td>\n",
              "      <td>0.084102</td>\n",
              "      <td>0.044979</td>\n",
              "      <td>0.000660</td>\n",
              "      <td>0.001151</td>\n",
              "      <td>0.000461</td>\n",
              "    </tr>\n",
              "    <tr>\n",
              "      <th>min</th>\n",
              "      <td>0.578313</td>\n",
              "      <td>0.580000</td>\n",
              "      <td>0.660194</td>\n",
              "      <td>0.996703</td>\n",
              "      <td>0.994491</td>\n",
              "      <td>0.997080</td>\n",
              "    </tr>\n",
              "    <tr>\n",
              "      <th>25%</th>\n",
              "      <td>0.653310</td>\n",
              "      <td>0.840000</td>\n",
              "      <td>0.744414</td>\n",
              "      <td>0.998739</td>\n",
              "      <td>0.996380</td>\n",
              "      <td>0.997714</td>\n",
              "    </tr>\n",
              "    <tr>\n",
              "      <th>50%</th>\n",
              "      <td>0.727310</td>\n",
              "      <td>0.860000</td>\n",
              "      <td>0.768743</td>\n",
              "      <td>0.998897</td>\n",
              "      <td>0.997482</td>\n",
              "      <td>0.998072</td>\n",
              "    </tr>\n",
              "    <tr>\n",
              "      <th>75%</th>\n",
              "      <td>0.773861</td>\n",
              "      <td>0.900000</td>\n",
              "      <td>0.809001</td>\n",
              "      <td>0.999211</td>\n",
              "      <td>0.997954</td>\n",
              "      <td>0.998346</td>\n",
              "    </tr>\n",
              "    <tr>\n",
              "      <th>max</th>\n",
              "      <td>0.888889</td>\n",
              "      <td>0.960000</td>\n",
              "      <td>0.841121</td>\n",
              "      <td>0.999684</td>\n",
              "      <td>0.999370</td>\n",
              "      <td>0.998661</td>\n",
              "    </tr>\n",
              "  </tbody>\n",
              "</table>\n",
              "</div>\n",
              "      <button class=\"colab-df-convert\" onclick=\"convertToInteractive('df-07126355-2cb7-417b-81ef-f2b4644c71f9')\"\n",
              "              title=\"Convert this dataframe to an interactive table.\"\n",
              "              style=\"display:none;\">\n",
              "        \n",
              "  <svg xmlns=\"http://www.w3.org/2000/svg\" height=\"24px\"viewBox=\"0 0 24 24\"\n",
              "       width=\"24px\">\n",
              "    <path d=\"M0 0h24v24H0V0z\" fill=\"none\"/>\n",
              "    <path d=\"M18.56 5.44l.94 2.06.94-2.06 2.06-.94-2.06-.94-.94-2.06-.94 2.06-2.06.94zm-11 1L8.5 8.5l.94-2.06 2.06-.94-2.06-.94L8.5 2.5l-.94 2.06-2.06.94zm10 10l.94 2.06.94-2.06 2.06-.94-2.06-.94-.94-2.06-.94 2.06-2.06.94z\"/><path d=\"M17.41 7.96l-1.37-1.37c-.4-.4-.92-.59-1.43-.59-.52 0-1.04.2-1.43.59L10.3 9.45l-7.72 7.72c-.78.78-.78 2.05 0 2.83L4 21.41c.39.39.9.59 1.41.59.51 0 1.02-.2 1.41-.59l7.78-7.78 2.81-2.81c.8-.78.8-2.07 0-2.86zM5.41 20L4 18.59l7.72-7.72 1.47 1.35L5.41 20z\"/>\n",
              "  </svg>\n",
              "      </button>\n",
              "      \n",
              "  <style>\n",
              "    .colab-df-container {\n",
              "      display:flex;\n",
              "      flex-wrap:wrap;\n",
              "      gap: 12px;\n",
              "    }\n",
              "\n",
              "    .colab-df-convert {\n",
              "      background-color: #E8F0FE;\n",
              "      border: none;\n",
              "      border-radius: 50%;\n",
              "      cursor: pointer;\n",
              "      display: none;\n",
              "      fill: #1967D2;\n",
              "      height: 32px;\n",
              "      padding: 0 0 0 0;\n",
              "      width: 32px;\n",
              "    }\n",
              "\n",
              "    .colab-df-convert:hover {\n",
              "      background-color: #E2EBFA;\n",
              "      box-shadow: 0px 1px 2px rgba(60, 64, 67, 0.3), 0px 1px 3px 1px rgba(60, 64, 67, 0.15);\n",
              "      fill: #174EA6;\n",
              "    }\n",
              "\n",
              "    [theme=dark] .colab-df-convert {\n",
              "      background-color: #3B4455;\n",
              "      fill: #D2E3FC;\n",
              "    }\n",
              "\n",
              "    [theme=dark] .colab-df-convert:hover {\n",
              "      background-color: #434B5C;\n",
              "      box-shadow: 0px 1px 3px 1px rgba(0, 0, 0, 0.15);\n",
              "      filter: drop-shadow(0px 1px 2px rgba(0, 0, 0, 0.3));\n",
              "      fill: #FFFFFF;\n",
              "    }\n",
              "  </style>\n",
              "\n",
              "      <script>\n",
              "        const buttonEl =\n",
              "          document.querySelector('#df-07126355-2cb7-417b-81ef-f2b4644c71f9 button.colab-df-convert');\n",
              "        buttonEl.style.display =\n",
              "          google.colab.kernel.accessAllowed ? 'block' : 'none';\n",
              "\n",
              "        async function convertToInteractive(key) {\n",
              "          const element = document.querySelector('#df-07126355-2cb7-417b-81ef-f2b4644c71f9');\n",
              "          const dataTable =\n",
              "            await google.colab.kernel.invokeFunction('convertToInteractive',\n",
              "                                                     [key], {});\n",
              "          if (!dataTable) return;\n",
              "\n",
              "          const docLinkHtml = 'Like what you see? Visit the ' +\n",
              "            '<a target=\"_blank\" href=https://colab.research.google.com/notebooks/data_table.ipynb>data table notebook</a>'\n",
              "            + ' to learn more about interactive tables.';\n",
              "          element.innerHTML = '';\n",
              "          dataTable['output_type'] = 'display_data';\n",
              "          await google.colab.output.renderOutput(dataTable, element);\n",
              "          const docLink = document.createElement('div');\n",
              "          docLink.innerHTML = docLinkHtml;\n",
              "          element.appendChild(docLink);\n",
              "        }\n",
              "      </script>\n",
              "    </div>\n",
              "  </div>\n",
              "  "
            ],
            "text/plain": [
              "       precision_1   recall_1  f1-score_1  precision_0   recall_0  f1-score_0\n",
              "count    30.000000  30.000000   30.000000    30.000000  30.000000   30.000000\n",
              "mean      0.717981   0.844000    0.769463     0.998771   0.997235    0.998002\n",
              "std       0.079142   0.084102    0.044979     0.000660   0.001151    0.000461\n",
              "min       0.578313   0.580000    0.660194     0.996703   0.994491    0.997080\n",
              "25%       0.653310   0.840000    0.744414     0.998739   0.996380    0.997714\n",
              "50%       0.727310   0.860000    0.768743     0.998897   0.997482    0.998072\n",
              "75%       0.773861   0.900000    0.809001     0.999211   0.997954    0.998346\n",
              "max       0.888889   0.960000    0.841121     0.999684   0.999370    0.998661"
            ]
          },
          "metadata": {},
          "execution_count": 98
        }
      ],
      "source": [
        "df_results.describe()"
      ]
    },
    {
      "cell_type": "code",
      "execution_count": null,
      "metadata": {
        "colab": {
          "base_uri": "https://localhost:8080/",
          "height": 282
        },
        "id": "HKlLh3o7c1fm",
        "outputId": "7bfcc638-8cb4-430a-8963-7b65ace49f21"
      },
      "outputs": [
        {
          "output_type": "execute_result",
          "data": {
            "text/plain": [
              "<matplotlib.axes._subplots.AxesSubplot at 0x7f240213f650>"
            ]
          },
          "metadata": {},
          "execution_count": 99
        },
        {
          "output_type": "display_data",
          "data": {
            "image/png": "[encoded data removed]",
            "text/plain": [
              "<Figure size 432x288 with 1 Axes>"
            ]
          },
          "metadata": {
            "needs_background": "light"
          }
        }
      ],
      "source": [
        "df_results['recall_1'].hist()"
      ]
    },
    {
      "cell_type": "code",
      "source": [
        "dest_file = \"2013_30_iterations_75_observed.txt\"\n",
        "output_file = open(dest_file, 'w', encoding='utf-8')\n",
        "for dic in results:\n",
        "  json.dump(dic, output_file) \n",
        "  output_file.write(\"\\n\")"
      ],
      "metadata": {
        "id": "U9qyrxJZycJN"
      },
      "execution_count": null,
      "outputs": []
    },
    {
      "cell_type": "markdown",
      "metadata": {
        "id": "8fkVevgWdHcQ"
      },
      "source": [
        "90 min"
      ]
    },
    {
      "cell_type": "code",
      "execution_count": null,
      "metadata": {
        "colab": {
          "base_uri": "https://localhost:8080/",
          "height": 300
        },
        "id": "J5NM3wlAdHcR",
        "outputId": "5470044a-598a-4f1e-c8da-3ddcd9ba0dd7"
      },
      "outputs": [
        {
          "output_type": "execute_result",
          "data": {
            "text/html": [
              "\n",
              "  <div id=\"df-41fe49a6-a8cc-4872-a9dc-cb577415829c\">\n",
              "    <div class=\"colab-df-container\">\n",
              "      <div>\n",
              "<style scoped>\n",
              "    .dataframe tbody tr th:only-of-type {\n",
              "        vertical-align: middle;\n",
              "    }\n",
              "\n",
              "    .dataframe tbody tr th {\n",
              "        vertical-align: top;\n",
              "    }\n",
              "\n",
              "    .dataframe thead th {\n",
              "        text-align: right;\n",
              "    }\n",
              "</style>\n",
              "<table border=\"1\" class=\"dataframe\">\n",
              "  <thead>\n",
              "    <tr style=\"text-align: right;\">\n",
              "      <th></th>\n",
              "      <th>precision_1</th>\n",
              "      <th>recall_1</th>\n",
              "      <th>f1-score_1</th>\n",
              "      <th>precision_0</th>\n",
              "      <th>recall_0</th>\n",
              "      <th>f1-score_0</th>\n",
              "    </tr>\n",
              "  </thead>\n",
              "  <tbody>\n",
              "    <tr>\n",
              "      <th>count</th>\n",
              "      <td>30.000000</td>\n",
              "      <td>30.000000</td>\n",
              "      <td>30.000000</td>\n",
              "      <td>30.000000</td>\n",
              "      <td>30.000000</td>\n",
              "      <td>30.000000</td>\n",
              "    </tr>\n",
              "    <tr>\n",
              "      <th>mean</th>\n",
              "      <td>0.753942</td>\n",
              "      <td>0.836667</td>\n",
              "      <td>0.786076</td>\n",
              "      <td>0.998714</td>\n",
              "      <td>0.997660</td>\n",
              "      <td>0.998186</td>\n",
              "    </tr>\n",
              "    <tr>\n",
              "      <th>std</th>\n",
              "      <td>0.093411</td>\n",
              "      <td>0.072413</td>\n",
              "      <td>0.042300</td>\n",
              "      <td>0.000568</td>\n",
              "      <td>0.001258</td>\n",
              "      <td>0.000485</td>\n",
              "    </tr>\n",
              "    <tr>\n",
              "      <th>min</th>\n",
              "      <td>0.582278</td>\n",
              "      <td>0.640000</td>\n",
              "      <td>0.713178</td>\n",
              "      <td>0.997174</td>\n",
              "      <td>0.994806</td>\n",
              "      <td>0.997081</td>\n",
              "    </tr>\n",
              "    <tr>\n",
              "      <th>25%</th>\n",
              "      <td>0.688134</td>\n",
              "      <td>0.800000</td>\n",
              "      <td>0.758227</td>\n",
              "      <td>0.998427</td>\n",
              "      <td>0.996931</td>\n",
              "      <td>0.997875</td>\n",
              "    </tr>\n",
              "    <tr>\n",
              "      <th>50%</th>\n",
              "      <td>0.745222</td>\n",
              "      <td>0.860000</td>\n",
              "      <td>0.794455</td>\n",
              "      <td>0.998897</td>\n",
              "      <td>0.997875</td>\n",
              "      <td>0.998346</td>\n",
              "    </tr>\n",
              "    <tr>\n",
              "      <th>75%</th>\n",
              "      <td>0.823896</td>\n",
              "      <td>0.880000</td>\n",
              "      <td>0.811741</td>\n",
              "      <td>0.999055</td>\n",
              "      <td>0.998544</td>\n",
              "      <td>0.998584</td>\n",
              "    </tr>\n",
              "    <tr>\n",
              "      <th>max</th>\n",
              "      <td>0.941176</td>\n",
              "      <td>0.940000</td>\n",
              "      <td>0.862745</td>\n",
              "      <td>0.999526</td>\n",
              "      <td>0.999685</td>\n",
              "      <td>0.998898</td>\n",
              "    </tr>\n",
              "  </tbody>\n",
              "</table>\n",
              "</div>\n",
              "      <button class=\"colab-df-convert\" onclick=\"convertToInteractive('df-41fe49a6-a8cc-4872-a9dc-cb577415829c')\"\n",
              "              title=\"Convert this dataframe to an interactive table.\"\n",
              "              style=\"display:none;\">\n",
              "        \n",
              "  <svg xmlns=\"http://www.w3.org/2000/svg\" height=\"24px\"viewBox=\"0 0 24 24\"\n",
              "       width=\"24px\">\n",
              "    <path d=\"M0 0h24v24H0V0z\" fill=\"none\"/>\n",
              "    <path d=\"M18.56 5.44l.94 2.06.94-2.06 2.06-.94-2.06-.94-.94-2.06-.94 2.06-2.06.94zm-11 1L8.5 8.5l.94-2.06 2.06-.94-2.06-.94L8.5 2.5l-.94 2.06-2.06.94zm10 10l.94 2.06.94-2.06 2.06-.94-2.06-.94-.94-2.06-.94 2.06-2.06.94z\"/><path d=\"M17.41 7.96l-1.37-1.37c-.4-.4-.92-.59-1.43-.59-.52 0-1.04.2-1.43.59L10.3 9.45l-7.72 7.72c-.78.78-.78 2.05 0 2.83L4 21.41c.39.39.9.59 1.41.59.51 0 1.02-.2 1.41-.59l7.78-7.78 2.81-2.81c.8-.78.8-2.07 0-2.86zM5.41 20L4 18.59l7.72-7.72 1.47 1.35L5.41 20z\"/>\n",
              "  </svg>\n",
              "      </button>\n",
              "      \n",
              "  <style>\n",
              "    .colab-df-container {\n",
              "      display:flex;\n",
              "      flex-wrap:wrap;\n",
              "      gap: 12px;\n",
              "    }\n",
              "\n",
              "    .colab-df-convert {\n",
              "      background-color: #E8F0FE;\n",
              "      border: none;\n",
              "      border-radius: 50%;\n",
              "      cursor: pointer;\n",
              "      display: none;\n",
              "      fill: #1967D2;\n",
              "      height: 32px;\n",
              "      padding: 0 0 0 0;\n",
              "      width: 32px;\n",
              "    }\n",
              "\n",
              "    .colab-df-convert:hover {\n",
              "      background-color: #E2EBFA;\n",
              "      box-shadow: 0px 1px 2px rgba(60, 64, 67, 0.3), 0px 1px 3px 1px rgba(60, 64, 67, 0.15);\n",
              "      fill: #174EA6;\n",
              "    }\n",
              "\n",
              "    [theme=dark] .colab-df-convert {\n",
              "      background-color: #3B4455;\n",
              "      fill: #D2E3FC;\n",
              "    }\n",
              "\n",
              "    [theme=dark] .colab-df-convert:hover {\n",
              "      background-color: #434B5C;\n",
              "      box-shadow: 0px 1px 3px 1px rgba(0, 0, 0, 0.15);\n",
              "      filter: drop-shadow(0px 1px 2px rgba(0, 0, 0, 0.3));\n",
              "      fill: #FFFFFF;\n",
              "    }\n",
              "  </style>\n",
              "\n",
              "      <script>\n",
              "        const buttonEl =\n",
              "          document.querySelector('#df-41fe49a6-a8cc-4872-a9dc-cb577415829c button.colab-df-convert');\n",
              "        buttonEl.style.display =\n",
              "          google.colab.kernel.accessAllowed ? 'block' : 'none';\n",
              "\n",
              "        async function convertToInteractive(key) {\n",
              "          const element = document.querySelector('#df-41fe49a6-a8cc-4872-a9dc-cb577415829c');\n",
              "          const dataTable =\n",
              "            await google.colab.kernel.invokeFunction('convertToInteractive',\n",
              "                                                     [key], {});\n",
              "          if (!dataTable) return;\n",
              "\n",
              "          const docLinkHtml = 'Like what you see? Visit the ' +\n",
              "            '<a target=\"_blank\" href=https://colab.research.google.com/notebooks/data_table.ipynb>data table notebook</a>'\n",
              "            + ' to learn more about interactive tables.';\n",
              "          element.innerHTML = '';\n",
              "          dataTable['output_type'] = 'display_data';\n",
              "          await google.colab.output.renderOutput(dataTable, element);\n",
              "          const docLink = document.createElement('div');\n",
              "          docLink.innerHTML = docLinkHtml;\n",
              "          element.appendChild(docLink);\n",
              "        }\n",
              "      </script>\n",
              "    </div>\n",
              "  </div>\n",
              "  "
            ],
            "text/plain": [
              "       precision_1   recall_1  f1-score_1  precision_0   recall_0  f1-score_0\n",
              "count    30.000000  30.000000   30.000000    30.000000  30.000000   30.000000\n",
              "mean      0.753942   0.836667    0.786076     0.998714   0.997660    0.998186\n",
              "std       0.093411   0.072413    0.042300     0.000568   0.001258    0.000485\n",
              "min       0.582278   0.640000    0.713178     0.997174   0.994806    0.997081\n",
              "25%       0.688134   0.800000    0.758227     0.998427   0.996931    0.997875\n",
              "50%       0.745222   0.860000    0.794455     0.998897   0.997875    0.998346\n",
              "75%       0.823896   0.880000    0.811741     0.999055   0.998544    0.998584\n",
              "max       0.941176   0.940000    0.862745     0.999526   0.999685    0.998898"
            ]
          },
          "metadata": {},
          "execution_count": 113
        }
      ],
      "source": [
        "df_results.describe()"
      ]
    },
    {
      "cell_type": "code",
      "execution_count": null,
      "metadata": {
        "colab": {
          "base_uri": "https://localhost:8080/",
          "height": 282
        },
        "id": "IIOcpYZ2s_ad",
        "outputId": "a8a498e3-95eb-4837-f764-1ed010e26900"
      },
      "outputs": [
        {
          "output_type": "execute_result",
          "data": {
            "text/plain": [
              "<matplotlib.axes._subplots.AxesSubplot at 0x7f2408199210>"
            ]
          },
          "metadata": {},
          "execution_count": 114
        },
        {
          "output_type": "display_data",
          "data": {
            "image/png": "[encoded data removed]",
            "text/plain": [
              "<Figure size 432x288 with 1 Axes>"
            ]
          },
          "metadata": {
            "needs_background": "light"
          }
        }
      ],
      "source": [
        "df_results['recall_1'].hist()"
      ]
    },
    {
      "cell_type": "code",
      "source": [
        "dest_file = \"2013_30_iterations_90_observed.txt\"\n",
        "output_file = open(dest_file, 'w', encoding='utf-8')\n",
        "for dic in results:\n",
        "  json.dump(dic, output_file) \n",
        "  output_file.write(\"\\n\")"
      ],
      "metadata": {
        "id": "ukE-8evtyd5k"
      },
      "execution_count": null,
      "outputs": []
    },
    {
      "cell_type": "markdown",
      "source": [
        "#Redone for viz"
      ],
      "metadata": {
        "id": "HEqnBSSF2IdH"
      }
    },
    {
      "cell_type": "code",
      "source": [
        "df_results.describe()"
      ],
      "metadata": {
        "colab": {
          "base_uri": "https://localhost:8080/",
          "height": 300
        },
        "id": "9tdi9WtN2JuV",
        "outputId": "55e62641-bd36-4556-cd49-4d42ed62eeea"
      },
      "execution_count": null,
      "outputs": [
        {
          "output_type": "execute_result",
          "data": {
            "text/plain": [
              "       precision_1   recall_1  f1-score_1  precision_0   recall_0  f1-score_0\n",
              "count    30.000000  30.000000   30.000000    30.000000  30.000000   30.000000\n",
              "mean      0.755717   0.827333    0.781481     0.998641   0.997702    0.998170\n",
              "std       0.090765   0.094611    0.051230     0.000742   0.001296    0.000495\n",
              "min       0.575000   0.520000    0.619048     0.996232   0.994648    0.997002\n",
              "25%       0.700039   0.800000    0.766433     0.998426   0.997049    0.997893\n",
              "50%       0.752049   0.830000    0.785607     0.998662   0.997875    0.998269\n",
              "75%       0.830000   0.895000    0.819082     0.999171   0.998741    0.998563\n",
              "max       0.911765   0.960000    0.854167     0.999684   0.999528    0.998899"
            ],
            "text/html": [
              "\n",
              "  <div id=\"df-f32047c0-2dc6-4cb7-a8c1-1f12ca5641e9\">\n",
              "    <div class=\"colab-df-container\">\n",
              "      <div>\n",
              "<style scoped>\n",
              "    .dataframe tbody tr th:only-of-type {\n",
              "        vertical-align: middle;\n",
              "    }\n",
              "\n",
              "    .dataframe tbody tr th {\n",
              "        vertical-align: top;\n",
              "    }\n",
              "\n",
              "    .dataframe thead th {\n",
              "        text-align: right;\n",
              "    }\n",
              "</style>\n",
              "<table border=\"1\" class=\"dataframe\">\n",
              "  <thead>\n",
              "    <tr style=\"text-align: right;\">\n",
              "      <th></th>\n",
              "      <th>precision_1</th>\n",
              "      <th>recall_1</th>\n",
              "      <th>f1-score_1</th>\n",
              "      <th>precision_0</th>\n",
              "      <th>recall_0</th>\n",
              "      <th>f1-score_0</th>\n",
              "    </tr>\n",
              "  </thead>\n",
              "  <tbody>\n",
              "    <tr>\n",
              "      <th>count</th>\n",
              "      <td>30.000000</td>\n",
              "      <td>30.000000</td>\n",
              "      <td>30.000000</td>\n",
              "      <td>30.000000</td>\n",
              "      <td>30.000000</td>\n",
              "      <td>30.000000</td>\n",
              "    </tr>\n",
              "    <tr>\n",
              "      <th>mean</th>\n",
              "      <td>0.755717</td>\n",
              "      <td>0.827333</td>\n",
              "      <td>0.781481</td>\n",
              "      <td>0.998641</td>\n",
              "      <td>0.997702</td>\n",
              "      <td>0.998170</td>\n",
              "    </tr>\n",
              "    <tr>\n",
              "      <th>std</th>\n",
              "      <td>0.090765</td>\n",
              "      <td>0.094611</td>\n",
              "      <td>0.051230</td>\n",
              "      <td>0.000742</td>\n",
              "      <td>0.001296</td>\n",
              "      <td>0.000495</td>\n",
              "    </tr>\n",
              "    <tr>\n",
              "      <th>min</th>\n",
              "      <td>0.575000</td>\n",
              "      <td>0.520000</td>\n",
              "      <td>0.619048</td>\n",
              "      <td>0.996232</td>\n",
              "      <td>0.994648</td>\n",
              "      <td>0.997002</td>\n",
              "    </tr>\n",
              "    <tr>\n",
              "      <th>25%</th>\n",
              "      <td>0.700039</td>\n",
              "      <td>0.800000</td>\n",
              "      <td>0.766433</td>\n",
              "      <td>0.998426</td>\n",
              "      <td>0.997049</td>\n",
              "      <td>0.997893</td>\n",
              "    </tr>\n",
              "    <tr>\n",
              "      <th>50%</th>\n",
              "      <td>0.752049</td>\n",
              "      <td>0.830000</td>\n",
              "      <td>0.785607</td>\n",
              "      <td>0.998662</td>\n",
              "      <td>0.997875</td>\n",
              "      <td>0.998269</td>\n",
              "    </tr>\n",
              "    <tr>\n",
              "      <th>75%</th>\n",
              "      <td>0.830000</td>\n",
              "      <td>0.895000</td>\n",
              "      <td>0.819082</td>\n",
              "      <td>0.999171</td>\n",
              "      <td>0.998741</td>\n",
              "      <td>0.998563</td>\n",
              "    </tr>\n",
              "    <tr>\n",
              "      <th>max</th>\n",
              "      <td>0.911765</td>\n",
              "      <td>0.960000</td>\n",
              "      <td>0.854167</td>\n",
              "      <td>0.999684</td>\n",
              "      <td>0.999528</td>\n",
              "      <td>0.998899</td>\n",
              "    </tr>\n",
              "  </tbody>\n",
              "</table>\n",
              "</div>\n",
              "      <button class=\"colab-df-convert\" onclick=\"convertToInteractive('df-f32047c0-2dc6-4cb7-a8c1-1f12ca5641e9')\"\n",
              "              title=\"Convert this dataframe to an interactive table.\"\n",
              "              style=\"display:none;\">\n",
              "        \n",
              "  <svg xmlns=\"http://www.w3.org/2000/svg\" height=\"24px\"viewBox=\"0 0 24 24\"\n",
              "       width=\"24px\">\n",
              "    <path d=\"M0 0h24v24H0V0z\" fill=\"none\"/>\n",
              "    <path d=\"M18.56 5.44l.94 2.06.94-2.06 2.06-.94-2.06-.94-.94-2.06-.94 2.06-2.06.94zm-11 1L8.5 8.5l.94-2.06 2.06-.94-2.06-.94L8.5 2.5l-.94 2.06-2.06.94zm10 10l.94 2.06.94-2.06 2.06-.94-2.06-.94-.94-2.06-.94 2.06-2.06.94z\"/><path d=\"M17.41 7.96l-1.37-1.37c-.4-.4-.92-.59-1.43-.59-.52 0-1.04.2-1.43.59L10.3 9.45l-7.72 7.72c-.78.78-.78 2.05 0 2.83L4 21.41c.39.39.9.59 1.41.59.51 0 1.02-.2 1.41-.59l7.78-7.78 2.81-2.81c.8-.78.8-2.07 0-2.86zM5.41 20L4 18.59l7.72-7.72 1.47 1.35L5.41 20z\"/>\n",
              "  </svg>\n",
              "      </button>\n",
              "      \n",
              "  <style>\n",
              "    .colab-df-container {\n",
              "      display:flex;\n",
              "      flex-wrap:wrap;\n",
              "      gap: 12px;\n",
              "    }\n",
              "\n",
              "    .colab-df-convert {\n",
              "      background-color: #E8F0FE;\n",
              "      border: none;\n",
              "      border-radius: 50%;\n",
              "      cursor: pointer;\n",
              "      display: none;\n",
              "      fill: #1967D2;\n",
              "      height: 32px;\n",
              "      padding: 0 0 0 0;\n",
              "      width: 32px;\n",
              "    }\n",
              "\n",
              "    .colab-df-convert:hover {\n",
              "      background-color: #E2EBFA;\n",
              "      box-shadow: 0px 1px 2px rgba(60, 64, 67, 0.3), 0px 1px 3px 1px rgba(60, 64, 67, 0.15);\n",
              "      fill: #174EA6;\n",
              "    }\n",
              "\n",
              "    [theme=dark] .colab-df-convert {\n",
              "      background-color: #3B4455;\n",
              "      fill: #D2E3FC;\n",
              "    }\n",
              "\n",
              "    [theme=dark] .colab-df-convert:hover {\n",
              "      background-color: #434B5C;\n",
              "      box-shadow: 0px 1px 3px 1px rgba(0, 0, 0, 0.15);\n",
              "      filter: drop-shadow(0px 1px 2px rgba(0, 0, 0, 0.3));\n",
              "      fill: #FFFFFF;\n",
              "    }\n",
              "  </style>\n",
              "\n",
              "      <script>\n",
              "        const buttonEl =\n",
              "          document.querySelector('#df-f32047c0-2dc6-4cb7-a8c1-1f12ca5641e9 button.colab-df-convert');\n",
              "        buttonEl.style.display =\n",
              "          google.colab.kernel.accessAllowed ? 'block' : 'none';\n",
              "\n",
              "        async function convertToInteractive(key) {\n",
              "          const element = document.querySelector('#df-f32047c0-2dc6-4cb7-a8c1-1f12ca5641e9');\n",
              "          const dataTable =\n",
              "            await google.colab.kernel.invokeFunction('convertToInteractive',\n",
              "                                                     [key], {});\n",
              "          if (!dataTable) return;\n",
              "\n",
              "          const docLinkHtml = 'Like what you see? Visit the ' +\n",
              "            '<a target=\"_blank\" href=https://colab.research.google.com/notebooks/data_table.ipynb>data table notebook</a>'\n",
              "            + ' to learn more about interactive tables.';\n",
              "          element.innerHTML = '';\n",
              "          dataTable['output_type'] = 'display_data';\n",
              "          await google.colab.output.renderOutput(dataTable, element);\n",
              "          const docLink = document.createElement('div');\n",
              "          docLink.innerHTML = docLinkHtml;\n",
              "          element.appendChild(docLink);\n",
              "        }\n",
              "      </script>\n",
              "    </div>\n",
              "  </div>\n",
              "  "
            ]
          },
          "metadata": {},
          "execution_count": 27
        }
      ]
    },
    {
      "cell_type": "code",
      "source": [
        "dest_file = \"2013_30_iterations_90_observed_vis.txt\"\n",
        "output_file = open(dest_file, 'w', encoding='utf-8')\n",
        "for dic in results:\n",
        "  json.dump(dic, output_file) \n",
        "  output_file.write(\"\\n\")\n",
        "print('done')"
      ],
      "metadata": {
        "colab": {
          "base_uri": "https://localhost:8080/"
        },
        "id": "gE32Aeoo2HpZ",
        "outputId": "b79b05d8-bfb5-4f2e-a475-12d0030e3109"
      },
      "execution_count": null,
      "outputs": [
        {
          "output_type": "stream",
          "name": "stdout",
          "text": [
            "done\n"
          ]
        }
      ]
    },
    {
      "cell_type": "code",
      "source": [
        "!pwd"
      ],
      "metadata": {
        "colab": {
          "base_uri": "https://localhost:8080/"
        },
        "id": "x_4CjUUl2SZD",
        "outputId": "df05c04d-b29a-418b-a1e8-9722eba6c5b4"
      },
      "execution_count": null,
      "outputs": [
        {
          "output_type": "stream",
          "name": "stdout",
          "text": [
            "/content/drive/MyDrive/Colab Notebooks/ThesisExperiments/FlashFloodPredictionBenchmarkLSTM\n"
          ]
        }
      ]
    },
    {
      "cell_type": "markdown",
      "source": [
        "#Redone for viz _ 2"
      ],
      "metadata": {
        "id": "STNG61I5MYUu"
      }
    },
    {
      "cell_type": "code",
      "source": [
        "df_results.describe()"
      ],
      "metadata": {
        "colab": {
          "base_uri": "https://localhost:8080/",
          "height": 300
        },
        "outputId": "d8d6cb05-13b4-4657-af99-1c1aa3f18ae3",
        "id": "D5fmY0vMMYUy"
      },
      "execution_count": null,
      "outputs": [
        {
          "output_type": "execute_result",
          "data": {
            "text/plain": [
              "       precision_1   recall_1  f1-score_1  precision_0   recall_0  f1-score_0\n",
              "count    30.000000  30.000000   30.000000    30.000000  30.000000   30.000000\n",
              "mean      0.769378   0.831333    0.794575     0.998672   0.997917    0.998294\n",
              "std       0.077108   0.061405    0.037905     0.000482   0.001012    0.000411\n",
              "min       0.594203   0.700000    0.689076     0.997641   0.995593    0.997084\n",
              "25%       0.725643   0.800000    0.775090     0.998426   0.997363    0.998130\n",
              "50%       0.773504   0.840000    0.800000     0.998739   0.998111    0.998347\n",
              "75%       0.833789   0.860000    0.823820     0.998898   0.998819    0.998584\n",
              "max       0.891304   0.940000    0.854167     0.999527   0.999213    0.998899"
            ],
            "text/html": [
              "\n",
              "  <div id=\"df-56e535fd-51b5-4eeb-a409-3a09725e1e7b\">\n",
              "    <div class=\"colab-df-container\">\n",
              "      <div>\n",
              "<style scoped>\n",
              "    .dataframe tbody tr th:only-of-type {\n",
              "        vertical-align: middle;\n",
              "    }\n",
              "\n",
              "    .dataframe tbody tr th {\n",
              "        vertical-align: top;\n",
              "    }\n",
              "\n",
              "    .dataframe thead th {\n",
              "        text-align: right;\n",
              "    }\n",
              "</style>\n",
              "<table border=\"1\" class=\"dataframe\">\n",
              "  <thead>\n",
              "    <tr style=\"text-align: right;\">\n",
              "      <th></th>\n",
              "      <th>precision_1</th>\n",
              "      <th>recall_1</th>\n",
              "      <th>f1-score_1</th>\n",
              "      <th>precision_0</th>\n",
              "      <th>recall_0</th>\n",
              "      <th>f1-score_0</th>\n",
              "    </tr>\n",
              "  </thead>\n",
              "  <tbody>\n",
              "    <tr>\n",
              "      <th>count</th>\n",
              "      <td>30.000000</td>\n",
              "      <td>30.000000</td>\n",
              "      <td>30.000000</td>\n",
              "      <td>30.000000</td>\n",
              "      <td>30.000000</td>\n",
              "      <td>30.000000</td>\n",
              "    </tr>\n",
              "    <tr>\n",
              "      <th>mean</th>\n",
              "      <td>0.769378</td>\n",
              "      <td>0.831333</td>\n",
              "      <td>0.794575</td>\n",
              "      <td>0.998672</td>\n",
              "      <td>0.997917</td>\n",
              "      <td>0.998294</td>\n",
              "    </tr>\n",
              "    <tr>\n",
              "      <th>std</th>\n",
              "      <td>0.077108</td>\n",
              "      <td>0.061405</td>\n",
              "      <td>0.037905</td>\n",
              "      <td>0.000482</td>\n",
              "      <td>0.001012</td>\n",
              "      <td>0.000411</td>\n",
              "    </tr>\n",
              "    <tr>\n",
              "      <th>min</th>\n",
              "      <td>0.594203</td>\n",
              "      <td>0.700000</td>\n",
              "      <td>0.689076</td>\n",
              "      <td>0.997641</td>\n",
              "      <td>0.995593</td>\n",
              "      <td>0.997084</td>\n",
              "    </tr>\n",
              "    <tr>\n",
              "      <th>25%</th>\n",
              "      <td>0.725643</td>\n",
              "      <td>0.800000</td>\n",
              "      <td>0.775090</td>\n",
              "      <td>0.998426</td>\n",
              "      <td>0.997363</td>\n",
              "      <td>0.998130</td>\n",
              "    </tr>\n",
              "    <tr>\n",
              "      <th>50%</th>\n",
              "      <td>0.773504</td>\n",
              "      <td>0.840000</td>\n",
              "      <td>0.800000</td>\n",
              "      <td>0.998739</td>\n",
              "      <td>0.998111</td>\n",
              "      <td>0.998347</td>\n",
              "    </tr>\n",
              "    <tr>\n",
              "      <th>75%</th>\n",
              "      <td>0.833789</td>\n",
              "      <td>0.860000</td>\n",
              "      <td>0.823820</td>\n",
              "      <td>0.998898</td>\n",
              "      <td>0.998819</td>\n",
              "      <td>0.998584</td>\n",
              "    </tr>\n",
              "    <tr>\n",
              "      <th>max</th>\n",
              "      <td>0.891304</td>\n",
              "      <td>0.940000</td>\n",
              "      <td>0.854167</td>\n",
              "      <td>0.999527</td>\n",
              "      <td>0.999213</td>\n",
              "      <td>0.998899</td>\n",
              "    </tr>\n",
              "  </tbody>\n",
              "</table>\n",
              "</div>\n",
              "      <button class=\"colab-df-convert\" onclick=\"convertToInteractive('df-56e535fd-51b5-4eeb-a409-3a09725e1e7b')\"\n",
              "              title=\"Convert this dataframe to an interactive table.\"\n",
              "              style=\"display:none;\">\n",
              "        \n",
              "  <svg xmlns=\"http://www.w3.org/2000/svg\" height=\"24px\"viewBox=\"0 0 24 24\"\n",
              "       width=\"24px\">\n",
              "    <path d=\"M0 0h24v24H0V0z\" fill=\"none\"/>\n",
              "    <path d=\"M18.56 5.44l.94 2.06.94-2.06 2.06-.94-2.06-.94-.94-2.06-.94 2.06-2.06.94zm-11 1L8.5 8.5l.94-2.06 2.06-.94-2.06-.94L8.5 2.5l-.94 2.06-2.06.94zm10 10l.94 2.06.94-2.06 2.06-.94-2.06-.94-.94-2.06-.94 2.06-2.06.94z\"/><path d=\"M17.41 7.96l-1.37-1.37c-.4-.4-.92-.59-1.43-.59-.52 0-1.04.2-1.43.59L10.3 9.45l-7.72 7.72c-.78.78-.78 2.05 0 2.83L4 21.41c.39.39.9.59 1.41.59.51 0 1.02-.2 1.41-.59l7.78-7.78 2.81-2.81c.8-.78.8-2.07 0-2.86zM5.41 20L4 18.59l7.72-7.72 1.47 1.35L5.41 20z\"/>\n",
              "  </svg>\n",
              "      </button>\n",
              "      \n",
              "  <style>\n",
              "    .colab-df-container {\n",
              "      display:flex;\n",
              "      flex-wrap:wrap;\n",
              "      gap: 12px;\n",
              "    }\n",
              "\n",
              "    .colab-df-convert {\n",
              "      background-color: #E8F0FE;\n",
              "      border: none;\n",
              "      border-radius: 50%;\n",
              "      cursor: pointer;\n",
              "      display: none;\n",
              "      fill: #1967D2;\n",
              "      height: 32px;\n",
              "      padding: 0 0 0 0;\n",
              "      width: 32px;\n",
              "    }\n",
              "\n",
              "    .colab-df-convert:hover {\n",
              "      background-color: #E2EBFA;\n",
              "      box-shadow: 0px 1px 2px rgba(60, 64, 67, 0.3), 0px 1px 3px 1px rgba(60, 64, 67, 0.15);\n",
              "      fill: #174EA6;\n",
              "    }\n",
              "\n",
              "    [theme=dark] .colab-df-convert {\n",
              "      background-color: #3B4455;\n",
              "      fill: #D2E3FC;\n",
              "    }\n",
              "\n",
              "    [theme=dark] .colab-df-convert:hover {\n",
              "      background-color: #434B5C;\n",
              "      box-shadow: 0px 1px 3px 1px rgba(0, 0, 0, 0.15);\n",
              "      filter: drop-shadow(0px 1px 2px rgba(0, 0, 0, 0.3));\n",
              "      fill: #FFFFFF;\n",
              "    }\n",
              "  </style>\n",
              "\n",
              "      <script>\n",
              "        const buttonEl =\n",
              "          document.querySelector('#df-56e535fd-51b5-4eeb-a409-3a09725e1e7b button.colab-df-convert');\n",
              "        buttonEl.style.display =\n",
              "          google.colab.kernel.accessAllowed ? 'block' : 'none';\n",
              "\n",
              "        async function convertToInteractive(key) {\n",
              "          const element = document.querySelector('#df-56e535fd-51b5-4eeb-a409-3a09725e1e7b');\n",
              "          const dataTable =\n",
              "            await google.colab.kernel.invokeFunction('convertToInteractive',\n",
              "                                                     [key], {});\n",
              "          if (!dataTable) return;\n",
              "\n",
              "          const docLinkHtml = 'Like what you see? Visit the ' +\n",
              "            '<a target=\"_blank\" href=https://colab.research.google.com/notebooks/data_table.ipynb>data table notebook</a>'\n",
              "            + ' to learn more about interactive tables.';\n",
              "          element.innerHTML = '';\n",
              "          dataTable['output_type'] = 'display_data';\n",
              "          await google.colab.output.renderOutput(dataTable, element);\n",
              "          const docLink = document.createElement('div');\n",
              "          docLink.innerHTML = docLinkHtml;\n",
              "          element.appendChild(docLink);\n",
              "        }\n",
              "      </script>\n",
              "    </div>\n",
              "  </div>\n",
              "  "
            ]
          },
          "metadata": {},
          "execution_count": 44
        }
      ]
    },
    {
      "cell_type": "code",
      "source": [
        "dest_file = \"2013_30_iterations_90_observed_vis_2.txt\"\n",
        "output_file = open(dest_file, 'w', encoding='utf-8')\n",
        "for dic in results:\n",
        "  json.dump(dic, output_file) \n",
        "  output_file.write(\"\\n\")\n",
        "print('done')"
      ],
      "metadata": {
        "colab": {
          "base_uri": "https://localhost:8080/"
        },
        "outputId": "f713a532-4407-47c5-e450-4a0083c202c8",
        "id": "Hd_E8GZ_MYUz"
      },
      "execution_count": null,
      "outputs": [
        {
          "output_type": "stream",
          "name": "stdout",
          "text": [
            "done\n"
          ]
        }
      ]
    },
    {
      "cell_type": "markdown",
      "metadata": {
        "id": "qtKzrBC9dHcS"
      },
      "source": [
        "105 min"
      ]
    },
    {
      "cell_type": "code",
      "execution_count": null,
      "metadata": {
        "colab": {
          "base_uri": "https://localhost:8080/",
          "height": 300
        },
        "id": "BICjx-eAdHcT",
        "outputId": "5dab0123-1afa-455a-fbb8-b0346d247771"
      },
      "outputs": [
        {
          "output_type": "execute_result",
          "data": {
            "text/html": [
              "\n",
              "  <div id=\"df-f160e795-2ddc-43ef-a1aa-a6e732441126\">\n",
              "    <div class=\"colab-df-container\">\n",
              "      <div>\n",
              "<style scoped>\n",
              "    .dataframe tbody tr th:only-of-type {\n",
              "        vertical-align: middle;\n",
              "    }\n",
              "\n",
              "    .dataframe tbody tr th {\n",
              "        vertical-align: top;\n",
              "    }\n",
              "\n",
              "    .dataframe thead th {\n",
              "        text-align: right;\n",
              "    }\n",
              "</style>\n",
              "<table border=\"1\" class=\"dataframe\">\n",
              "  <thead>\n",
              "    <tr style=\"text-align: right;\">\n",
              "      <th></th>\n",
              "      <th>precision_1</th>\n",
              "      <th>recall_1</th>\n",
              "      <th>f1-score_1</th>\n",
              "      <th>precision_0</th>\n",
              "      <th>recall_0</th>\n",
              "      <th>f1-score_0</th>\n",
              "    </tr>\n",
              "  </thead>\n",
              "  <tbody>\n",
              "    <tr>\n",
              "      <th>count</th>\n",
              "      <td>30.000000</td>\n",
              "      <td>30.000000</td>\n",
              "      <td>30.000000</td>\n",
              "      <td>30.000000</td>\n",
              "      <td>30.000000</td>\n",
              "      <td>30.000000</td>\n",
              "    </tr>\n",
              "    <tr>\n",
              "      <th>mean</th>\n",
              "      <td>0.783751</td>\n",
              "      <td>0.817333</td>\n",
              "      <td>0.794472</td>\n",
              "      <td>0.998562</td>\n",
              "      <td>0.998106</td>\n",
              "      <td>0.998334</td>\n",
              "    </tr>\n",
              "    <tr>\n",
              "      <th>std</th>\n",
              "      <td>0.074871</td>\n",
              "      <td>0.075701</td>\n",
              "      <td>0.033082</td>\n",
              "      <td>0.000594</td>\n",
              "      <td>0.000920</td>\n",
              "      <td>0.000316</td>\n",
              "    </tr>\n",
              "    <tr>\n",
              "      <th>min</th>\n",
              "      <td>0.626667</td>\n",
              "      <td>0.640000</td>\n",
              "      <td>0.733333</td>\n",
              "      <td>0.997173</td>\n",
              "      <td>0.995593</td>\n",
              "      <td>0.997555</td>\n",
              "    </tr>\n",
              "    <tr>\n",
              "      <th>25%</th>\n",
              "      <td>0.736313</td>\n",
              "      <td>0.785000</td>\n",
              "      <td>0.768201</td>\n",
              "      <td>0.998307</td>\n",
              "      <td>0.997521</td>\n",
              "      <td>0.998112</td>\n",
              "    </tr>\n",
              "    <tr>\n",
              "      <th>50%</th>\n",
              "      <td>0.772757</td>\n",
              "      <td>0.820000</td>\n",
              "      <td>0.800019</td>\n",
              "      <td>0.998583</td>\n",
              "      <td>0.998032</td>\n",
              "      <td>0.998386</td>\n",
              "    </tr>\n",
              "    <tr>\n",
              "      <th>75%</th>\n",
              "      <td>0.836932</td>\n",
              "      <td>0.875000</td>\n",
              "      <td>0.820000</td>\n",
              "      <td>0.999014</td>\n",
              "      <td>0.998898</td>\n",
              "      <td>0.998563</td>\n",
              "    </tr>\n",
              "    <tr>\n",
              "      <th>max</th>\n",
              "      <td>0.925000</td>\n",
              "      <td>0.940000</td>\n",
              "      <td>0.854167</td>\n",
              "      <td>0.999526</td>\n",
              "      <td>0.999528</td>\n",
              "      <td>0.998899</td>\n",
              "    </tr>\n",
              "  </tbody>\n",
              "</table>\n",
              "</div>\n",
              "      <button class=\"colab-df-convert\" onclick=\"convertToInteractive('df-f160e795-2ddc-43ef-a1aa-a6e732441126')\"\n",
              "              title=\"Convert this dataframe to an interactive table.\"\n",
              "              style=\"display:none;\">\n",
              "        \n",
              "  <svg xmlns=\"http://www.w3.org/2000/svg\" height=\"24px\"viewBox=\"0 0 24 24\"\n",
              "       width=\"24px\">\n",
              "    <path d=\"M0 0h24v24H0V0z\" fill=\"none\"/>\n",
              "    <path d=\"M18.56 5.44l.94 2.06.94-2.06 2.06-.94-2.06-.94-.94-2.06-.94 2.06-2.06.94zm-11 1L8.5 8.5l.94-2.06 2.06-.94-2.06-.94L8.5 2.5l-.94 2.06-2.06.94zm10 10l.94 2.06.94-2.06 2.06-.94-2.06-.94-.94-2.06-.94 2.06-2.06.94z\"/><path d=\"M17.41 7.96l-1.37-1.37c-.4-.4-.92-.59-1.43-.59-.52 0-1.04.2-1.43.59L10.3 9.45l-7.72 7.72c-.78.78-.78 2.05 0 2.83L4 21.41c.39.39.9.59 1.41.59.51 0 1.02-.2 1.41-.59l7.78-7.78 2.81-2.81c.8-.78.8-2.07 0-2.86zM5.41 20L4 18.59l7.72-7.72 1.47 1.35L5.41 20z\"/>\n",
              "  </svg>\n",
              "      </button>\n",
              "      \n",
              "  <style>\n",
              "    .colab-df-container {\n",
              "      display:flex;\n",
              "      flex-wrap:wrap;\n",
              "      gap: 12px;\n",
              "    }\n",
              "\n",
              "    .colab-df-convert {\n",
              "      background-color: #E8F0FE;\n",
              "      border: none;\n",
              "      border-radius: 50%;\n",
              "      cursor: pointer;\n",
              "      display: none;\n",
              "      fill: #1967D2;\n",
              "      height: 32px;\n",
              "      padding: 0 0 0 0;\n",
              "      width: 32px;\n",
              "    }\n",
              "\n",
              "    .colab-df-convert:hover {\n",
              "      background-color: #E2EBFA;\n",
              "      box-shadow: 0px 1px 2px rgba(60, 64, 67, 0.3), 0px 1px 3px 1px rgba(60, 64, 67, 0.15);\n",
              "      fill: #174EA6;\n",
              "    }\n",
              "\n",
              "    [theme=dark] .colab-df-convert {\n",
              "      background-color: #3B4455;\n",
              "      fill: #D2E3FC;\n",
              "    }\n",
              "\n",
              "    [theme=dark] .colab-df-convert:hover {\n",
              "      background-color: #434B5C;\n",
              "      box-shadow: 0px 1px 3px 1px rgba(0, 0, 0, 0.15);\n",
              "      filter: drop-shadow(0px 1px 2px rgba(0, 0, 0, 0.3));\n",
              "      fill: #FFFFFF;\n",
              "    }\n",
              "  </style>\n",
              "\n",
              "      <script>\n",
              "        const buttonEl =\n",
              "          document.querySelector('#df-f160e795-2ddc-43ef-a1aa-a6e732441126 button.colab-df-convert');\n",
              "        buttonEl.style.display =\n",
              "          google.colab.kernel.accessAllowed ? 'block' : 'none';\n",
              "\n",
              "        async function convertToInteractive(key) {\n",
              "          const element = document.querySelector('#df-f160e795-2ddc-43ef-a1aa-a6e732441126');\n",
              "          const dataTable =\n",
              "            await google.colab.kernel.invokeFunction('convertToInteractive',\n",
              "                                                     [key], {});\n",
              "          if (!dataTable) return;\n",
              "\n",
              "          const docLinkHtml = 'Like what you see? Visit the ' +\n",
              "            '<a target=\"_blank\" href=https://colab.research.google.com/notebooks/data_table.ipynb>data table notebook</a>'\n",
              "            + ' to learn more about interactive tables.';\n",
              "          element.innerHTML = '';\n",
              "          dataTable['output_type'] = 'display_data';\n",
              "          await google.colab.output.renderOutput(dataTable, element);\n",
              "          const docLink = document.createElement('div');\n",
              "          docLink.innerHTML = docLinkHtml;\n",
              "          element.appendChild(docLink);\n",
              "        }\n",
              "      </script>\n",
              "    </div>\n",
              "  </div>\n",
              "  "
            ],
            "text/plain": [
              "       precision_1   recall_1  f1-score_1  precision_0   recall_0  f1-score_0\n",
              "count    30.000000  30.000000   30.000000    30.000000  30.000000   30.000000\n",
              "mean      0.783751   0.817333    0.794472     0.998562   0.998106    0.998334\n",
              "std       0.074871   0.075701    0.033082     0.000594   0.000920    0.000316\n",
              "min       0.626667   0.640000    0.733333     0.997173   0.995593    0.997555\n",
              "25%       0.736313   0.785000    0.768201     0.998307   0.997521    0.998112\n",
              "50%       0.772757   0.820000    0.800019     0.998583   0.998032    0.998386\n",
              "75%       0.836932   0.875000    0.820000     0.999014   0.998898    0.998563\n",
              "max       0.925000   0.940000    0.854167     0.999526   0.999528    0.998899"
            ]
          },
          "metadata": {},
          "execution_count": 24
        }
      ],
      "source": [
        "df_results.describe()"
      ]
    },
    {
      "cell_type": "code",
      "execution_count": null,
      "metadata": {
        "id": "gG2K1fDotAVJ",
        "colab": {
          "base_uri": "https://localhost:8080/",
          "height": 282
        },
        "outputId": "7348d901-c722-400d-fc82-813166776a0a"
      },
      "outputs": [
        {
          "output_type": "execute_result",
          "data": {
            "text/plain": [
              "<matplotlib.axes._subplots.AxesSubplot at 0x7f3f1071df90>"
            ]
          },
          "metadata": {},
          "execution_count": 25
        },
        {
          "output_type": "display_data",
          "data": {
            "image/png": "[encoded data removed]",
            "text/plain": [
              "<Figure size 432x288 with 1 Axes>"
            ]
          },
          "metadata": {
            "needs_background": "light"
          }
        }
      ],
      "source": [
        "df_results['recall_1'].hist()"
      ]
    },
    {
      "cell_type": "code",
      "source": [
        "dest_file = \"2013_30_iterations_105_observed.txt\"\n",
        "output_file = open(dest_file, 'w', encoding='utf-8')\n",
        "for dic in results:\n",
        "  json.dump(dic, output_file) \n",
        "  output_file.write(\"\\n\")"
      ],
      "metadata": {
        "id": "pMWoDTy6yfvs"
      },
      "execution_count": null,
      "outputs": []
    },
    {
      "cell_type": "markdown",
      "metadata": {
        "id": "JLuxmLuRdHcU"
      },
      "source": [
        "120 min "
      ]
    },
    {
      "cell_type": "code",
      "execution_count": null,
      "metadata": {
        "colab": {
          "base_uri": "https://localhost:8080/",
          "height": 300
        },
        "id": "_JPab4UYdHcU",
        "outputId": "2e2123d1-1a24-4710-cb87-3f77107cdb35"
      },
      "outputs": [
        {
          "output_type": "execute_result",
          "data": {
            "text/html": [
              "\n",
              "  <div id=\"df-381fc62b-9be0-45e1-893d-29d0ece9f2e1\">\n",
              "    <div class=\"colab-df-container\">\n",
              "      <div>\n",
              "<style scoped>\n",
              "    .dataframe tbody tr th:only-of-type {\n",
              "        vertical-align: middle;\n",
              "    }\n",
              "\n",
              "    .dataframe tbody tr th {\n",
              "        vertical-align: top;\n",
              "    }\n",
              "\n",
              "    .dataframe thead th {\n",
              "        text-align: right;\n",
              "    }\n",
              "</style>\n",
              "<table border=\"1\" class=\"dataframe\">\n",
              "  <thead>\n",
              "    <tr style=\"text-align: right;\">\n",
              "      <th></th>\n",
              "      <th>precision_1</th>\n",
              "      <th>recall_1</th>\n",
              "      <th>f1-score_1</th>\n",
              "      <th>precision_0</th>\n",
              "      <th>recall_0</th>\n",
              "      <th>f1-score_0</th>\n",
              "    </tr>\n",
              "  </thead>\n",
              "  <tbody>\n",
              "    <tr>\n",
              "      <th>count</th>\n",
              "      <td>30.000000</td>\n",
              "      <td>30.000000</td>\n",
              "      <td>30.000000</td>\n",
              "      <td>30.000000</td>\n",
              "      <td>30.000000</td>\n",
              "      <td>30.000000</td>\n",
              "    </tr>\n",
              "    <tr>\n",
              "      <th>mean</th>\n",
              "      <td>0.789789</td>\n",
              "      <td>0.805333</td>\n",
              "      <td>0.788800</td>\n",
              "      <td>0.998469</td>\n",
              "      <td>0.998216</td>\n",
              "      <td>0.998342</td>\n",
              "    </tr>\n",
              "    <tr>\n",
              "      <th>std</th>\n",
              "      <td>0.060253</td>\n",
              "      <td>0.111780</td>\n",
              "      <td>0.065257</td>\n",
              "      <td>0.000875</td>\n",
              "      <td>0.000733</td>\n",
              "      <td>0.000322</td>\n",
              "    </tr>\n",
              "    <tr>\n",
              "      <th>min</th>\n",
              "      <td>0.672131</td>\n",
              "      <td>0.320000</td>\n",
              "      <td>0.477612</td>\n",
              "      <td>0.994676</td>\n",
              "      <td>0.996852</td>\n",
              "      <td>0.997253</td>\n",
              "    </tr>\n",
              "    <tr>\n",
              "      <th>25%</th>\n",
              "      <td>0.754170</td>\n",
              "      <td>0.765000</td>\n",
              "      <td>0.777261</td>\n",
              "      <td>0.998152</td>\n",
              "      <td>0.997678</td>\n",
              "      <td>0.998268</td>\n",
              "    </tr>\n",
              "    <tr>\n",
              "      <th>50%</th>\n",
              "      <td>0.787990</td>\n",
              "      <td>0.830000</td>\n",
              "      <td>0.796107</td>\n",
              "      <td>0.998661</td>\n",
              "      <td>0.998347</td>\n",
              "      <td>0.998347</td>\n",
              "    </tr>\n",
              "    <tr>\n",
              "      <th>75%</th>\n",
              "      <td>0.830556</td>\n",
              "      <td>0.860000</td>\n",
              "      <td>0.819793</td>\n",
              "      <td>0.998898</td>\n",
              "      <td>0.998741</td>\n",
              "      <td>0.998505</td>\n",
              "    </tr>\n",
              "    <tr>\n",
              "      <th>max</th>\n",
              "      <td>0.941176</td>\n",
              "      <td>0.940000</td>\n",
              "      <td>0.851485</td>\n",
              "      <td>0.999527</td>\n",
              "      <td>0.999843</td>\n",
              "      <td>0.998819</td>\n",
              "    </tr>\n",
              "  </tbody>\n",
              "</table>\n",
              "</div>\n",
              "      <button class=\"colab-df-convert\" onclick=\"convertToInteractive('df-381fc62b-9be0-45e1-893d-29d0ece9f2e1')\"\n",
              "              title=\"Convert this dataframe to an interactive table.\"\n",
              "              style=\"display:none;\">\n",
              "        \n",
              "  <svg xmlns=\"http://www.w3.org/2000/svg\" height=\"24px\"viewBox=\"0 0 24 24\"\n",
              "       width=\"24px\">\n",
              "    <path d=\"M0 0h24v24H0V0z\" fill=\"none\"/>\n",
              "    <path d=\"M18.56 5.44l.94 2.06.94-2.06 2.06-.94-2.06-.94-.94-2.06-.94 2.06-2.06.94zm-11 1L8.5 8.5l.94-2.06 2.06-.94-2.06-.94L8.5 2.5l-.94 2.06-2.06.94zm10 10l.94 2.06.94-2.06 2.06-.94-2.06-.94-.94-2.06-.94 2.06-2.06.94z\"/><path d=\"M17.41 7.96l-1.37-1.37c-.4-.4-.92-.59-1.43-.59-.52 0-1.04.2-1.43.59L10.3 9.45l-7.72 7.72c-.78.78-.78 2.05 0 2.83L4 21.41c.39.39.9.59 1.41.59.51 0 1.02-.2 1.41-.59l7.78-7.78 2.81-2.81c.8-.78.8-2.07 0-2.86zM5.41 20L4 18.59l7.72-7.72 1.47 1.35L5.41 20z\"/>\n",
              "  </svg>\n",
              "      </button>\n",
              "      \n",
              "  <style>\n",
              "    .colab-df-container {\n",
              "      display:flex;\n",
              "      flex-wrap:wrap;\n",
              "      gap: 12px;\n",
              "    }\n",
              "\n",
              "    .colab-df-convert {\n",
              "      background-color: #E8F0FE;\n",
              "      border: none;\n",
              "      border-radius: 50%;\n",
              "      cursor: pointer;\n",
              "      display: none;\n",
              "      fill: #1967D2;\n",
              "      height: 32px;\n",
              "      padding: 0 0 0 0;\n",
              "      width: 32px;\n",
              "    }\n",
              "\n",
              "    .colab-df-convert:hover {\n",
              "      background-color: #E2EBFA;\n",
              "      box-shadow: 0px 1px 2px rgba(60, 64, 67, 0.3), 0px 1px 3px 1px rgba(60, 64, 67, 0.15);\n",
              "      fill: #174EA6;\n",
              "    }\n",
              "\n",
              "    [theme=dark] .colab-df-convert {\n",
              "      background-color: #3B4455;\n",
              "      fill: #D2E3FC;\n",
              "    }\n",
              "\n",
              "    [theme=dark] .colab-df-convert:hover {\n",
              "      background-color: #434B5C;\n",
              "      box-shadow: 0px 1px 3px 1px rgba(0, 0, 0, 0.15);\n",
              "      filter: drop-shadow(0px 1px 2px rgba(0, 0, 0, 0.3));\n",
              "      fill: #FFFFFF;\n",
              "    }\n",
              "  </style>\n",
              "\n",
              "      <script>\n",
              "        const buttonEl =\n",
              "          document.querySelector('#df-381fc62b-9be0-45e1-893d-29d0ece9f2e1 button.colab-df-convert');\n",
              "        buttonEl.style.display =\n",
              "          google.colab.kernel.accessAllowed ? 'block' : 'none';\n",
              "\n",
              "        async function convertToInteractive(key) {\n",
              "          const element = document.querySelector('#df-381fc62b-9be0-45e1-893d-29d0ece9f2e1');\n",
              "          const dataTable =\n",
              "            await google.colab.kernel.invokeFunction('convertToInteractive',\n",
              "                                                     [key], {});\n",
              "          if (!dataTable) return;\n",
              "\n",
              "          const docLinkHtml = 'Like what you see? Visit the ' +\n",
              "            '<a target=\"_blank\" href=https://colab.research.google.com/notebooks/data_table.ipynb>data table notebook</a>'\n",
              "            + ' to learn more about interactive tables.';\n",
              "          element.innerHTML = '';\n",
              "          dataTable['output_type'] = 'display_data';\n",
              "          await google.colab.output.renderOutput(dataTable, element);\n",
              "          const docLink = document.createElement('div');\n",
              "          docLink.innerHTML = docLinkHtml;\n",
              "          element.appendChild(docLink);\n",
              "        }\n",
              "      </script>\n",
              "    </div>\n",
              "  </div>\n",
              "  "
            ],
            "text/plain": [
              "       precision_1   recall_1  f1-score_1  precision_0   recall_0  f1-score_0\n",
              "count    30.000000  30.000000   30.000000    30.000000  30.000000   30.000000\n",
              "mean      0.789789   0.805333    0.788800     0.998469   0.998216    0.998342\n",
              "std       0.060253   0.111780    0.065257     0.000875   0.000733    0.000322\n",
              "min       0.672131   0.320000    0.477612     0.994676   0.996852    0.997253\n",
              "25%       0.754170   0.765000    0.777261     0.998152   0.997678    0.998268\n",
              "50%       0.787990   0.830000    0.796107     0.998661   0.998347    0.998347\n",
              "75%       0.830556   0.860000    0.819793     0.998898   0.998741    0.998505\n",
              "max       0.941176   0.940000    0.851485     0.999527   0.999843    0.998819"
            ]
          },
          "metadata": {},
          "execution_count": 23
        }
      ],
      "source": [
        "df_results.describe()"
      ]
    },
    {
      "cell_type": "code",
      "execution_count": null,
      "metadata": {
        "id": "3QiG1lF4tA2L",
        "colab": {
          "base_uri": "https://localhost:8080/",
          "height": 282
        },
        "outputId": "a42dc858-a5ff-4c94-8936-bb2efd8f7076"
      },
      "outputs": [
        {
          "output_type": "execute_result",
          "data": {
            "text/plain": [
              "<matplotlib.axes._subplots.AxesSubplot at 0x7ff1b4276750>"
            ]
          },
          "metadata": {},
          "execution_count": 24
        },
        {
          "output_type": "display_data",
          "data": {
            "image/png": "[encoded data removed]",
            "text/plain": [
              "<Figure size 432x288 with 1 Axes>"
            ]
          },
          "metadata": {
            "needs_background": "light"
          }
        }
      ],
      "source": [
        "df_results['recall_1'].hist()"
      ]
    },
    {
      "cell_type": "code",
      "execution_count": null,
      "metadata": {
        "id": "tUbbtq1fdHDW"
      },
      "outputs": [],
      "source": [
        "dest_file = \"2013_30_iterations_120_observed.txt\"\n",
        "output_file = open(dest_file, 'w', encoding='utf-8')\n",
        "for dic in results:\n",
        "  json.dump(dic, output_file) \n",
        "  output_file.write(\"\\n\")"
      ]
    },
    {
      "cell_type": "code",
      "source": [
        ""
      ],
      "metadata": {
        "id": "CWN4s822yJcl"
      },
      "execution_count": null,
      "outputs": []
    },
    {
      "cell_type": "code",
      "source": [
        ""
      ],
      "metadata": {
        "id": "RjPqd4jtyoDO"
      },
      "execution_count": null,
      "outputs": []
    },
    {
      "cell_type": "code",
      "source": [
        ""
      ],
      "metadata": {
        "id": "vmFCHKDcyn_e"
      },
      "execution_count": null,
      "outputs": []
    },
    {
      "cell_type": "code",
      "source": [
        ""
      ],
      "metadata": {
        "id": "uZPnbU0Tyn5z"
      },
      "execution_count": null,
      "outputs": []
    },
    {
      "cell_type": "code",
      "source": [
        ""
      ],
      "metadata": {
        "id": "j8GBCggTyn2C"
      },
      "execution_count": null,
      "outputs": []
    },
    {
      "cell_type": "markdown",
      "source": [
        "# Old"
      ],
      "metadata": {
        "id": "7jQimnsGyoqW"
      }
    },
    {
      "cell_type": "markdown",
      "metadata": {
        "id": "kCMJtBE-voha"
      },
      "source": [
        "# 120 min lead time "
      ]
    },
    {
      "cell_type": "code",
      "source": [
        ""
      ],
      "metadata": {
        "id": "JvDLuouqyIl_"
      },
      "execution_count": null,
      "outputs": []
    },
    {
      "cell_type": "code",
      "metadata": {
        "colab": {
          "base_uri": "https://localhost:8080/"
        },
        "id": "dFuv6faWoLGm",
        "outputId": "980abb5a-a0d5-4e62-89f8-b010e731b35b"
      },
      "source": [
        "print(classification_report(test_y, y_pred)) "
      ],
      "execution_count": null,
      "outputs": [
        {
          "output_type": "stream",
          "name": "stdout",
          "text": [
            "              precision    recall  f1-score   support\n",
            "\n",
            "         0.0       1.00      1.00      1.00      6353\n",
            "         1.0       0.76      0.90      0.83        50\n",
            "\n",
            "    accuracy                           1.00      6403\n",
            "   macro avg       0.88      0.95      0.91      6403\n",
            "weighted avg       1.00      1.00      1.00      6403\n",
            "\n"
          ]
        }
      ]
    },
    {
      "cell_type": "code",
      "metadata": {
        "colab": {
          "base_uri": "https://localhost:8080/"
        },
        "id": "PRLxFceiE84C",
        "outputId": "95e92780-be03-4cc7-ec57-a4069b5b48ad"
      },
      "source": [
        "print(classification_report(test_y, y_pred)) "
      ],
      "execution_count": null,
      "outputs": [
        {
          "output_type": "stream",
          "name": "stdout",
          "text": [
            "              precision    recall  f1-score   support\n",
            "\n",
            "         0.0       1.00      1.00      1.00      6353\n",
            "         1.0       0.93      0.74      0.82        50\n",
            "\n",
            "    accuracy                           1.00      6403\n",
            "   macro avg       0.96      0.87      0.91      6403\n",
            "weighted avg       1.00      1.00      1.00      6403\n",
            "\n"
          ]
        }
      ]
    },
    {
      "cell_type": "code",
      "metadata": {
        "colab": {
          "base_uri": "https://localhost:8080/"
        },
        "id": "fdcFdcxyF4pg",
        "outputId": "2a86bdfc-d622-48a6-edb5-62615332c653"
      },
      "source": [
        "print(classification_report(test_y, y_pred)) "
      ],
      "execution_count": null,
      "outputs": [
        {
          "output_type": "stream",
          "name": "stdout",
          "text": [
            "              precision    recall  f1-score   support\n",
            "\n",
            "         0.0       1.00      1.00      1.00      6353\n",
            "         1.0       0.80      0.82      0.81        50\n",
            "\n",
            "    accuracy                           1.00      6403\n",
            "   macro avg       0.90      0.91      0.91      6403\n",
            "weighted avg       1.00      1.00      1.00      6403\n",
            "\n"
          ]
        }
      ]
    },
    {
      "cell_type": "markdown",
      "metadata": {
        "id": "eMRo0IC7vthv"
      },
      "source": [
        "# 105 min lead time "
      ]
    },
    {
      "cell_type": "code",
      "metadata": {
        "colab": {
          "base_uri": "https://localhost:8080/"
        },
        "id": "QjM0U4Urvthw",
        "outputId": "a1c3fe42-4e2d-41db-f7bc-ad50abd810cf"
      },
      "source": [
        "print(classification_report(test_y, y_pred)) "
      ],
      "execution_count": null,
      "outputs": [
        {
          "output_type": "stream",
          "name": "stdout",
          "text": [
            "              precision    recall  f1-score   support\n",
            "\n",
            "         0.0       1.00      1.00      1.00      6353\n",
            "         1.0       0.86      0.72      0.78        50\n",
            "\n",
            "    accuracy                           1.00      6403\n",
            "   macro avg       0.93      0.86      0.89      6403\n",
            "weighted avg       1.00      1.00      1.00      6403\n",
            "\n"
          ]
        }
      ]
    },
    {
      "cell_type": "code",
      "metadata": {
        "colab": {
          "base_uri": "https://localhost:8080/"
        },
        "id": "591IXSw20YnC",
        "outputId": "c28d316f-665d-4a2e-cf5d-b026268c98a7"
      },
      "source": [
        "print(classification_report(test_y, y_pred)) "
      ],
      "execution_count": null,
      "outputs": [
        {
          "output_type": "stream",
          "name": "stdout",
          "text": [
            "              precision    recall  f1-score   support\n",
            "\n",
            "         0.0       1.00      1.00      1.00      6353\n",
            "         1.0       0.68      0.90      0.78        50\n",
            "\n",
            "    accuracy                           1.00      6403\n",
            "   macro avg       0.84      0.95      0.89      6403\n",
            "weighted avg       1.00      1.00      1.00      6403\n",
            "\n"
          ]
        }
      ]
    },
    {
      "cell_type": "markdown",
      "metadata": {
        "id": "WhiktJM8vwlG"
      },
      "source": [
        "# 90 min lead time "
      ]
    },
    {
      "cell_type": "code",
      "metadata": {
        "id": "5g4HQ5Miv3o8",
        "colab": {
          "base_uri": "https://localhost:8080/"
        },
        "outputId": "f1248b86-025b-4119-f651-6186bc6fba64"
      },
      "source": [
        "print(classification_report(test_y, y_pred)) "
      ],
      "execution_count": null,
      "outputs": [
        {
          "output_type": "stream",
          "name": "stdout",
          "text": [
            "              precision    recall  f1-score   support\n",
            "\n",
            "         0.0       1.00      1.00      1.00      6353\n",
            "         1.0       0.89      0.82      0.85        50\n",
            "\n",
            "    accuracy                           1.00      6403\n",
            "   macro avg       0.94      0.91      0.93      6403\n",
            "weighted avg       1.00      1.00      1.00      6403\n",
            "\n"
          ]
        }
      ]
    },
    {
      "cell_type": "markdown",
      "metadata": {
        "id": "ppOBSuhVvxY2"
      },
      "source": [
        "#  75 min lead time "
      ]
    },
    {
      "cell_type": "code",
      "metadata": {
        "colab": {
          "base_uri": "https://localhost:8080/"
        },
        "id": "VjObsvUEvxY3",
        "outputId": "cd2e39b1-6045-46d4-c0c1-d3ef719978fc"
      },
      "source": [
        "print(classification_report(test_y, y_pred)) "
      ],
      "execution_count": null,
      "outputs": [
        {
          "output_type": "stream",
          "name": "stdout",
          "text": [
            "              precision    recall  f1-score   support\n",
            "\n",
            "         0.0       1.00      1.00      1.00      6353\n",
            "         1.0       0.92      0.88      0.90        50\n",
            "\n",
            "    accuracy                           1.00      6403\n",
            "   macro avg       0.96      0.94      0.95      6403\n",
            "weighted avg       1.00      1.00      1.00      6403\n",
            "\n"
          ]
        }
      ]
    },
    {
      "cell_type": "markdown",
      "metadata": {
        "id": "yJAebQm1vx2J"
      },
      "source": [
        "#  60 min lead time "
      ]
    },
    {
      "cell_type": "code",
      "metadata": {
        "colab": {
          "base_uri": "https://localhost:8080/"
        },
        "id": "_ZDkyT3Svx2J",
        "outputId": "7730f911-0296-4e6c-fd4b-a41abaa715a3"
      },
      "source": [
        "print(classification_report(test_y, y_pred)) "
      ],
      "execution_count": null,
      "outputs": [
        {
          "output_type": "stream",
          "name": "stdout",
          "text": [
            "              precision    recall  f1-score   support\n",
            "\n",
            "         0.0       1.00      1.00      1.00      6354\n",
            "         1.0       0.73      0.96      0.83        50\n",
            "\n",
            "    accuracy                           1.00      6404\n",
            "   macro avg       0.86      0.98      0.91      6404\n",
            "weighted avg       1.00      1.00      1.00      6404\n",
            "\n"
          ]
        }
      ]
    },
    {
      "cell_type": "markdown",
      "metadata": {
        "id": "kG4onuB8vyYg"
      },
      "source": [
        "#  45 min lead time "
      ]
    },
    {
      "cell_type": "code",
      "metadata": {
        "colab": {
          "base_uri": "https://localhost:8080/"
        },
        "id": "Z-cKecsavyYg",
        "outputId": "53824e83-8570-4342-cfcf-b240bbc4eca6"
      },
      "source": [
        "print(classification_report(test_y, y_pred)) "
      ],
      "execution_count": null,
      "outputs": [
        {
          "output_type": "stream",
          "name": "stdout",
          "text": [
            "              precision    recall  f1-score   support\n",
            "\n",
            "         0.0       1.00      1.00      1.00      6354\n",
            "         1.0       0.75      0.90      0.82        50\n",
            "\n",
            "    accuracy                           1.00      6404\n",
            "   macro avg       0.87      0.95      0.91      6404\n",
            "weighted avg       1.00      1.00      1.00      6404\n",
            "\n"
          ]
        }
      ]
    },
    {
      "cell_type": "markdown",
      "metadata": {
        "id": "5m8luk1Lvyjd"
      },
      "source": [
        "#  30 min lead time "
      ]
    },
    {
      "cell_type": "code",
      "metadata": {
        "id": "fTV8A70-wHBL",
        "colab": {
          "base_uri": "https://localhost:8080/"
        },
        "outputId": "b133932c-f456-4a6e-afc9-4b272ef29db3"
      },
      "source": [
        "print(classification_report(test_y, y_pred)) "
      ],
      "execution_count": null,
      "outputs": [
        {
          "output_type": "stream",
          "name": "stdout",
          "text": [
            "              precision    recall  f1-score   support\n",
            "\n",
            "         0.0       1.00      1.00      1.00      6354\n",
            "         1.0       0.92      0.90      0.91        50\n",
            "\n",
            "    accuracy                           1.00      6404\n",
            "   macro avg       0.96      0.95      0.95      6404\n",
            "weighted avg       1.00      1.00      1.00      6404\n",
            "\n"
          ]
        }
      ]
    },
    {
      "cell_type": "markdown",
      "metadata": {
        "id": "OfMzln_XvysY"
      },
      "source": [
        "#  15 min lead time "
      ]
    },
    {
      "cell_type": "code",
      "metadata": {
        "colab": {
          "base_uri": "https://localhost:8080/"
        },
        "id": "chQqiCTQvysZ",
        "outputId": "76a96229-b6ac-4b83-dfaa-954dc9a71943"
      },
      "source": [
        "print(classification_report(test_y, y_pred)) "
      ],
      "execution_count": null,
      "outputs": [
        {
          "output_type": "stream",
          "name": "stdout",
          "text": [
            "              precision    recall  f1-score   support\n",
            "\n",
            "         0.0       1.00      1.00      1.00      6355\n",
            "         1.0       0.96      0.94      0.95        50\n",
            "\n",
            "    accuracy                           1.00      6405\n",
            "   macro avg       0.98      0.97      0.97      6405\n",
            "weighted avg       1.00      1.00      1.00      6405\n",
            "\n"
          ]
        }
      ]
    },
    {
      "cell_type": "markdown",
      "metadata": {
        "id": "eyrL9TLhvk5Y"
      },
      "source": [
        ""
      ]
    },
    {
      "cell_type": "markdown",
      "metadata": {
        "id": "SlI_QDbzvk2W"
      },
      "source": [
        ""
      ]
    },
    {
      "cell_type": "markdown",
      "metadata": {
        "id": "Su4Vpegdvku-"
      },
      "source": [
        ""
      ]
    },
    {
      "cell_type": "markdown",
      "metadata": {
        "id": "Qup4_kF7vkqy"
      },
      "source": [
        ""
      ]
    },
    {
      "cell_type": "markdown",
      "metadata": {
        "id": "D2D-MrU-vkpB"
      },
      "source": [
        ""
      ]
    },
    {
      "cell_type": "markdown",
      "metadata": {
        "id": "tp-wQZx8vkl9"
      },
      "source": [
        ""
      ]
    },
    {
      "cell_type": "markdown",
      "metadata": {
        "id": "b6-I01PKvki9"
      },
      "source": [
        ""
      ]
    },
    {
      "cell_type": "markdown",
      "metadata": {
        "id": "Ume2-_-gvkdh"
      },
      "source": [
        ""
      ]
    },
    {
      "cell_type": "markdown",
      "metadata": {
        "id": "Yhk9AME4vkaJ"
      },
      "source": [
        ""
      ]
    },
    {
      "cell_type": "markdown",
      "metadata": {
        "id": "lWL85yLRvkWx"
      },
      "source": [
        ""
      ]
    },
    {
      "cell_type": "markdown",
      "metadata": {
        "id": "2loV-BmhvkRj"
      },
      "source": [
        ""
      ]
    },
    {
      "cell_type": "code",
      "metadata": {
        "id": "GjMwTgG2vjmT"
      },
      "source": [
        ""
      ],
      "execution_count": null,
      "outputs": []
    },
    {
      "cell_type": "markdown",
      "metadata": {
        "id": "dchMBBGcdXOo"
      },
      "source": [
        "Trial"
      ]
    },
    {
      "cell_type": "code",
      "metadata": {
        "colab": {
          "base_uri": "https://localhost:8080/"
        },
        "id": "dQKKoIYDE8sf",
        "outputId": "45e2340b-4ea8-4a73-e807-765e7d4e322a"
      },
      "source": [
        "# design network\n",
        "#, return_sequences= True\n",
        "model = Sequential()\n",
        "model.add(LSTM(40, input_shape=( train_X.shape[1], train_X.shape[2]) , return_sequences= True , recurrent_dropout= 0.1   ) )\n",
        "model.add(LSTM(20 , return_sequences= True , recurrent_dropout= 0.05 ) )\n",
        "model.add(LSTM(10, recurrent_dropout= 0.01 ))\n",
        "#model.add(LSTM(10, recurrent_dropout= 0.05  ) ) , , recurrent_dropout= 0.15 , , recurrent_dropout= 0.05\n",
        "model.add(Dense(1, activation='sigmoid',  bias_initializer=output_bias))\n",
        "model.compile(loss='binary_crossentropy', optimizer=keras.optimizers.Adam(learning_rate=0.01), metrics=metrics )\n",
        "print(model.summary())"
      ],
      "execution_count": null,
      "outputs": [
        {
          "output_type": "stream",
          "name": "stdout",
          "text": [
            "Model: \"sequential_4\"\n",
            "_________________________________________________________________\n",
            " Layer (type)                Output Shape              Param #   \n",
            "=================================================================\n",
            " lstm_12 (LSTM)              (None, 12, 40)            7200      \n",
            "                                                                 \n",
            " lstm_13 (LSTM)              (None, 12, 20)            4880      \n",
            "                                                                 \n",
            " lstm_14 (LSTM)              (None, 10)                1240      \n",
            "                                                                 \n",
            " dense_4 (Dense)             (None, 1)                 11        \n",
            "                                                                 \n",
            "=================================================================\n",
            "Total params: 13,331\n",
            "Trainable params: 13,331\n",
            "Non-trainable params: 0\n",
            "_________________________________________________________________\n",
            "None\n"
          ]
        }
      ]
    },
    {
      "cell_type": "code",
      "metadata": {
        "colab": {
          "base_uri": "https://localhost:8080/"
        },
        "id": "JHv-UPGkdYRm",
        "outputId": "1044fc5f-43db-4ccc-912b-4c318ba8d475"
      },
      "source": [
        "model.fit( train_X, train_y ,  epochs=100, batch_size= 128,  class_weight=class_weight)"
      ],
      "execution_count": null,
      "outputs": [
        {
          "output_type": "stream",
          "name": "stdout",
          "text": [
            "Epoch 1/100\n",
            "121/121 [==============================] - 10s 34ms/step - loss: 0.0237 - accuracy: 0.9942 - precision: 0.8517 - recall: 0.5460\n",
            "Epoch 2/100\n",
            "121/121 [==============================] - 4s 33ms/step - loss: 0.0175 - accuracy: 0.9874 - precision: 0.3086 - recall: 0.1534\n",
            "Epoch 3/100\n",
            "121/121 [==============================] - 4s 33ms/step - loss: 0.0143 - accuracy: 0.9879 - precision: 0.4241 - recall: 0.4110\n",
            "Epoch 4/100\n",
            "121/121 [==============================] - 4s 33ms/step - loss: 0.0119 - accuracy: 0.9891 - precision: 0.4882 - recall: 0.6319\n",
            "Epoch 5/100\n",
            "121/121 [==============================] - 4s 33ms/step - loss: 0.0135 - accuracy: 0.9876 - precision: 0.3592 - recall: 0.2270\n",
            "Epoch 6/100\n",
            "121/121 [==============================] - 4s 33ms/step - loss: 0.0108 - accuracy: 0.9897 - precision: 0.5104 - recall: 0.6012\n",
            "Epoch 7/100\n",
            "121/121 [==============================] - 4s 33ms/step - loss: 0.0135 - accuracy: 0.9868 - precision: 0.3435 - recall: 0.2761\n",
            "Epoch 8/100\n",
            "121/121 [==============================] - 4s 34ms/step - loss: 0.0111 - accuracy: 0.9885 - precision: 0.4646 - recall: 0.5644\n",
            "Epoch 9/100\n",
            "121/121 [==============================] - 4s 34ms/step - loss: 0.0097 - accuracy: 0.9901 - precision: 0.5234 - recall: 0.6871\n",
            "Epoch 10/100\n",
            "121/121 [==============================] - 4s 34ms/step - loss: 0.0102 - accuracy: 0.9911 - precision: 0.5730 - recall: 0.6258\n",
            "Epoch 11/100\n",
            "121/121 [==============================] - 4s 34ms/step - loss: 0.0096 - accuracy: 0.9931 - precision: 0.6687 - recall: 0.6810\n",
            "Epoch 12/100\n",
            "121/121 [==============================] - 4s 34ms/step - loss: 0.0098 - accuracy: 0.9920 - precision: 0.6053 - recall: 0.7055\n",
            "Epoch 13/100\n",
            "121/121 [==============================] - 4s 34ms/step - loss: 0.0086 - accuracy: 0.9932 - precision: 0.6667 - recall: 0.7117\n",
            "Epoch 14/100\n",
            "121/121 [==============================] - 4s 34ms/step - loss: 0.0063 - accuracy: 0.9949 - precision: 0.7640 - recall: 0.7546\n",
            "Epoch 15/100\n",
            "121/121 [==============================] - 4s 34ms/step - loss: 0.0064 - accuracy: 0.9951 - precision: 0.7636 - recall: 0.7730\n",
            "Epoch 16/100\n",
            "121/121 [==============================] - 4s 34ms/step - loss: 0.0058 - accuracy: 0.9949 - precision: 0.7625 - recall: 0.7485\n",
            "Epoch 17/100\n",
            "121/121 [==============================] - 4s 34ms/step - loss: 0.0067 - accuracy: 0.9944 - precision: 0.7209 - recall: 0.7607\n",
            "Epoch 18/100\n",
            "121/121 [==============================] - 4s 34ms/step - loss: 0.0057 - accuracy: 0.9960 - precision: 0.8355 - recall: 0.7791\n",
            "Epoch 19/100\n",
            "121/121 [==============================] - 4s 34ms/step - loss: 0.0053 - accuracy: 0.9959 - precision: 0.8075 - recall: 0.7975\n",
            "Epoch 20/100\n",
            "121/121 [==============================] - 4s 34ms/step - loss: 0.0052 - accuracy: 0.9958 - precision: 0.8451 - recall: 0.7362\n",
            "Epoch 21/100\n",
            "121/121 [==============================] - 4s 34ms/step - loss: 0.0049 - accuracy: 0.9962 - precision: 0.8182 - recall: 0.8282\n",
            "Epoch 22/100\n",
            "121/121 [==============================] - 4s 34ms/step - loss: 0.0052 - accuracy: 0.9959 - precision: 0.8113 - recall: 0.7914\n",
            "Epoch 23/100\n",
            "121/121 [==============================] - 4s 33ms/step - loss: 0.0042 - accuracy: 0.9966 - precision: 0.8354 - recall: 0.8405\n",
            "Epoch 24/100\n",
            "121/121 [==============================] - 4s 33ms/step - loss: 0.0048 - accuracy: 0.9962 - precision: 0.8107 - recall: 0.8405\n",
            "Epoch 25/100\n",
            "121/121 [==============================] - 4s 34ms/step - loss: 0.0044 - accuracy: 0.9964 - precision: 0.8103 - recall: 0.8650\n",
            "Epoch 26/100\n",
            "121/121 [==============================] - 4s 34ms/step - loss: 0.0053 - accuracy: 0.9961 - precision: 0.8121 - recall: 0.8221\n",
            "Epoch 27/100\n",
            "121/121 [==============================] - 4s 34ms/step - loss: 0.0047 - accuracy: 0.9955 - precision: 0.7784 - recall: 0.7975\n",
            "Epoch 28/100\n",
            "121/121 [==============================] - 4s 34ms/step - loss: 0.0043 - accuracy: 0.9966 - precision: 0.8313 - recall: 0.8466\n",
            "Epoch 29/100\n",
            "121/121 [==============================] - 4s 35ms/step - loss: 0.0043 - accuracy: 0.9965 - precision: 0.8344 - recall: 0.8344\n",
            "Epoch 30/100\n",
            "121/121 [==============================] - 4s 35ms/step - loss: 0.0042 - accuracy: 0.9969 - precision: 0.8402 - recall: 0.8712\n",
            "Epoch 31/100\n",
            "121/121 [==============================] - 4s 34ms/step - loss: 0.0036 - accuracy: 0.9973 - precision: 0.8758 - recall: 0.8650\n",
            "Epoch 32/100\n",
            "121/121 [==============================] - 4s 35ms/step - loss: 0.0038 - accuracy: 0.9970 - precision: 0.8503 - recall: 0.8712\n",
            "Epoch 33/100\n",
            "121/121 [==============================] - 4s 35ms/step - loss: 0.0037 - accuracy: 0.9968 - precision: 0.8476 - recall: 0.8528\n",
            "Epoch 34/100\n",
            "121/121 [==============================] - 4s 35ms/step - loss: 0.0034 - accuracy: 0.9972 - precision: 0.8563 - recall: 0.8773\n",
            "Epoch 35/100\n",
            "121/121 [==============================] - 4s 34ms/step - loss: 0.0037 - accuracy: 0.9968 - precision: 0.8343 - recall: 0.8650\n",
            "Epoch 36/100\n",
            "121/121 [==============================] - 4s 34ms/step - loss: 0.0033 - accuracy: 0.9968 - precision: 0.8434 - recall: 0.8589\n",
            "Epoch 37/100\n",
            "121/121 [==============================] - 4s 34ms/step - loss: 0.0032 - accuracy: 0.9977 - precision: 0.8944 - recall: 0.8834\n",
            "Epoch 38/100\n",
            "121/121 [==============================] - 4s 35ms/step - loss: 0.0041 - accuracy: 0.9965 - precision: 0.8150 - recall: 0.8650\n",
            "Epoch 39/100\n",
            "121/121 [==============================] - 4s 34ms/step - loss: 0.0071 - accuracy: 0.9949 - precision: 0.7485 - recall: 0.7853\n",
            "Epoch 40/100\n",
            "121/121 [==============================] - 4s 35ms/step - loss: 0.0055 - accuracy: 0.9953 - precision: 0.7679 - recall: 0.7914\n",
            "Epoch 41/100\n",
            "121/121 [==============================] - 4s 34ms/step - loss: 0.0034 - accuracy: 0.9970 - precision: 0.8382 - recall: 0.8896\n",
            "Epoch 42/100\n",
            "121/121 [==============================] - 4s 34ms/step - loss: 0.0033 - accuracy: 0.9971 - precision: 0.8598 - recall: 0.8650\n",
            "Epoch 43/100\n",
            "121/121 [==============================] - 4s 33ms/step - loss: 0.0036 - accuracy: 0.9971 - precision: 0.8512 - recall: 0.8773\n",
            "Epoch 44/100\n",
            "121/121 [==============================] - 4s 34ms/step - loss: 0.0025 - accuracy: 0.9977 - precision: 0.8713 - recall: 0.9141\n",
            "Epoch 45/100\n",
            "121/121 [==============================] - 4s 34ms/step - loss: 0.0029 - accuracy: 0.9978 - precision: 0.8909 - recall: 0.9018\n",
            "Epoch 46/100\n",
            "121/121 [==============================] - 4s 35ms/step - loss: 0.0040 - accuracy: 0.9971 - precision: 0.8352 - recall: 0.9018\n",
            "Epoch 47/100\n",
            "121/121 [==============================] - 4s 34ms/step - loss: 0.0031 - accuracy: 0.9974 - precision: 0.8514 - recall: 0.9141\n",
            "Epoch 48/100\n",
            "121/121 [==============================] - 4s 35ms/step - loss: 0.0033 - accuracy: 0.9969 - precision: 0.8363 - recall: 0.8773\n",
            "Epoch 49/100\n",
            "121/121 [==============================] - 4s 35ms/step - loss: 0.0022 - accuracy: 0.9981 - precision: 0.8982 - recall: 0.9202\n",
            "Epoch 50/100\n",
            "121/121 [==============================] - 4s 34ms/step - loss: 0.0031 - accuracy: 0.9970 - precision: 0.8382 - recall: 0.8896\n",
            "Epoch 51/100\n",
            "121/121 [==============================] - 4s 34ms/step - loss: 0.0028 - accuracy: 0.9976 - precision: 0.8795 - recall: 0.8957\n",
            "Epoch 52/100\n",
            "121/121 [==============================] - 4s 34ms/step - loss: 0.0027 - accuracy: 0.9979 - precision: 0.8693 - recall: 0.9387\n",
            "Epoch 53/100\n",
            "121/121 [==============================] - 4s 34ms/step - loss: 0.0037 - accuracy: 0.9967 - precision: 0.8373 - recall: 0.8528\n",
            "Epoch 54/100\n",
            "121/121 [==============================] - 4s 34ms/step - loss: 0.0032 - accuracy: 0.9972 - precision: 0.8488 - recall: 0.8957\n",
            "Epoch 55/100\n",
            "121/121 [==============================] - 4s 34ms/step - loss: 0.0024 - accuracy: 0.9979 - precision: 0.8869 - recall: 0.9141\n",
            "Epoch 56/100\n",
            "121/121 [==============================] - 4s 34ms/step - loss: 0.0027 - accuracy: 0.9975 - precision: 0.8571 - recall: 0.9202\n",
            "Epoch 57/100\n",
            "121/121 [==============================] - 4s 34ms/step - loss: 0.0026 - accuracy: 0.9981 - precision: 0.8757 - recall: 0.9509\n",
            "Epoch 58/100\n",
            "121/121 [==============================] - 4s 34ms/step - loss: 0.0026 - accuracy: 0.9977 - precision: 0.8765 - recall: 0.9141\n",
            "Epoch 59/100\n",
            "121/121 [==============================] - 4s 34ms/step - loss: 0.0022 - accuracy: 0.9983 - precision: 0.9048 - recall: 0.9325\n",
            "Epoch 60/100\n",
            "121/121 [==============================] - 4s 35ms/step - loss: 0.0024 - accuracy: 0.9978 - precision: 0.8909 - recall: 0.9018\n",
            "Epoch 61/100\n",
            "121/121 [==============================] - 4s 35ms/step - loss: 0.0034 - accuracy: 0.9974 - precision: 0.8436 - recall: 0.9264\n",
            "Epoch 62/100\n",
            "121/121 [==============================] - 4s 36ms/step - loss: 0.0029 - accuracy: 0.9975 - precision: 0.8698 - recall: 0.9018\n",
            "Epoch 63/100\n",
            "121/121 [==============================] - 4s 35ms/step - loss: 0.0020 - accuracy: 0.9986 - precision: 0.9176 - recall: 0.9571\n",
            "Epoch 64/100\n",
            "121/121 [==============================] - 4s 34ms/step - loss: 0.0021 - accuracy: 0.9981 - precision: 0.8982 - recall: 0.9202\n",
            "Epoch 65/100\n",
            "121/121 [==============================] - 4s 34ms/step - loss: 0.0023 - accuracy: 0.9982 - precision: 0.8947 - recall: 0.9387\n",
            "Epoch 66/100\n",
            "121/121 [==============================] - 4s 34ms/step - loss: 0.0026 - accuracy: 0.9977 - precision: 0.8629 - recall: 0.9264\n",
            "Epoch 67/100\n",
            "121/121 [==============================] - 4s 34ms/step - loss: 0.0025 - accuracy: 0.9976 - precision: 0.8580 - recall: 0.9264\n",
            "Epoch 68/100\n",
            "121/121 [==============================] - 4s 34ms/step - loss: 0.0025 - accuracy: 0.9982 - precision: 0.8994 - recall: 0.9325\n",
            "Epoch 69/100\n",
            "121/121 [==============================] - 4s 34ms/step - loss: 0.0015 - accuracy: 0.9991 - precision: 0.9461 - recall: 0.9693\n",
            "Epoch 70/100\n",
            "121/121 [==============================] - 4s 34ms/step - loss: 0.0030 - accuracy: 0.9981 - precision: 0.9036 - recall: 0.9202\n",
            "Epoch 71/100\n",
            "121/121 [==============================] - 4s 34ms/step - loss: 0.0021 - accuracy: 0.9982 - precision: 0.8902 - recall: 0.9448\n",
            "Epoch 72/100\n",
            "121/121 [==============================] - 4s 34ms/step - loss: 0.0018 - accuracy: 0.9986 - precision: 0.9176 - recall: 0.9571\n",
            "Epoch 73/100\n",
            "121/121 [==============================] - 4s 34ms/step - loss: 0.0019 - accuracy: 0.9987 - precision: 0.9333 - recall: 0.9448\n",
            "Epoch 74/100\n",
            "121/121 [==============================] - 4s 34ms/step - loss: 0.0016 - accuracy: 0.9985 - precision: 0.9167 - recall: 0.9448\n",
            "Epoch 75/100\n",
            "121/121 [==============================] - 4s 34ms/step - loss: 0.0027 - accuracy: 0.9981 - precision: 0.8988 - recall: 0.9264\n",
            "Epoch 76/100\n",
            "121/121 [==============================] - 4s 34ms/step - loss: 0.0020 - accuracy: 0.9983 - precision: 0.9096 - recall: 0.9264\n",
            "Epoch 77/100\n",
            "121/121 [==============================] - 4s 34ms/step - loss: 0.0025 - accuracy: 0.9980 - precision: 0.8929 - recall: 0.9202\n",
            "Epoch 78/100\n",
            "121/121 [==============================] - 4s 34ms/step - loss: 0.0022 - accuracy: 0.9981 - precision: 0.8895 - recall: 0.9387\n",
            "Epoch 79/100\n",
            "121/121 [==============================] - 4s 34ms/step - loss: 0.0021 - accuracy: 0.9984 - precision: 0.9259 - recall: 0.9202\n",
            "Epoch 80/100\n",
            "121/121 [==============================] - 4s 34ms/step - loss: 0.0020 - accuracy: 0.9988 - precision: 0.9286 - recall: 0.9571\n",
            "Epoch 81/100\n",
            "121/121 [==============================] - 4s 34ms/step - loss: 0.0018 - accuracy: 0.9987 - precision: 0.9333 - recall: 0.9448\n",
            "Epoch 82/100\n",
            "121/121 [==============================] - 4s 33ms/step - loss: 0.0015 - accuracy: 0.9988 - precision: 0.9290 - recall: 0.9632\n",
            "Epoch 83/100\n",
            "121/121 [==============================] - 4s 33ms/step - loss: 0.0033 - accuracy: 0.9979 - precision: 0.8916 - recall: 0.9080\n",
            "Epoch 84/100\n",
            "121/121 [==============================] - 4s 33ms/step - loss: 0.0018 - accuracy: 0.9986 - precision: 0.9226 - recall: 0.9509\n",
            "Epoch 85/100\n",
            "121/121 [==============================] - 4s 33ms/step - loss: 0.0020 - accuracy: 0.9986 - precision: 0.9383 - recall: 0.9325\n",
            "Epoch 86/100\n",
            "121/121 [==============================] - 4s 34ms/step - loss: 0.0019 - accuracy: 0.9984 - precision: 0.9157 - recall: 0.9325\n",
            "Epoch 87/100\n",
            "121/121 [==============================] - 4s 33ms/step - loss: 0.0023 - accuracy: 0.9983 - precision: 0.8953 - recall: 0.9448\n",
            "Epoch 88/100\n",
            "121/121 [==============================] - 4s 33ms/step - loss: 0.0015 - accuracy: 0.9988 - precision: 0.9394 - recall: 0.9509\n",
            "Epoch 89/100\n",
            "121/121 [==============================] - 4s 33ms/step - loss: 0.0020 - accuracy: 0.9984 - precision: 0.9212 - recall: 0.9325\n",
            "Epoch 90/100\n",
            "121/121 [==============================] - 4s 33ms/step - loss: 0.0016 - accuracy: 0.9986 - precision: 0.9176 - recall: 0.9571\n",
            "Epoch 91/100\n",
            "121/121 [==============================] - 4s 33ms/step - loss: 0.0017 - accuracy: 0.9987 - precision: 0.9333 - recall: 0.9448\n",
            "Epoch 92/100\n",
            "121/121 [==============================] - 4s 33ms/step - loss: 0.0012 - accuracy: 0.9992 - precision: 0.9576 - recall: 0.9693\n",
            "Epoch 93/100\n",
            "121/121 [==============================] - 4s 33ms/step - loss: 0.0010 - accuracy: 0.9993 - precision: 0.9634 - recall: 0.9693\n",
            "Epoch 94/100\n",
            "121/121 [==============================] - 4s 33ms/step - loss: 0.0014 - accuracy: 0.9988 - precision: 0.9286 - recall: 0.9571\n",
            "Epoch 95/100\n",
            "121/121 [==============================] - 4s 33ms/step - loss: 0.0012 - accuracy: 0.9990 - precision: 0.9249 - recall: 0.9816\n",
            "Epoch 96/100\n",
            "121/121 [==============================] - 4s 34ms/step - loss: 0.0020 - accuracy: 0.9984 - precision: 0.9264 - recall: 0.9264\n",
            "Epoch 97/100\n",
            "121/121 [==============================] - 4s 33ms/step - loss: 0.0022 - accuracy: 0.9982 - precision: 0.8994 - recall: 0.9325\n",
            "Epoch 98/100\n",
            "121/121 [==============================] - 4s 33ms/step - loss: 0.0014 - accuracy: 0.9987 - precision: 0.9281 - recall: 0.9509\n",
            "Epoch 99/100\n",
            "121/121 [==============================] - 4s 33ms/step - loss: 0.0014 - accuracy: 0.9990 - precision: 0.9455 - recall: 0.9571\n",
            "Epoch 100/100\n",
            "121/121 [==============================] - 4s 34ms/step - loss: 0.0014 - accuracy: 0.9986 - precision: 0.9128 - recall: 0.9632\n"
          ]
        },
        {
          "output_type": "execute_result",
          "data": {
            "text/plain": [
              "<keras.callbacks.History at 0x7f6777b12c50>"
            ]
          },
          "metadata": {},
          "execution_count": 51
        }
      ]
    },
    {
      "cell_type": "code",
      "metadata": {
        "colab": {
          "base_uri": "https://localhost:8080/"
        },
        "id": "ADiZDFQNdYRn",
        "outputId": "ef4c9546-3524-490f-ef07-f729c4ff54f3"
      },
      "source": [
        "y_pred = model.predict( test_X,  batch_size=128, verbose=1)"
      ],
      "execution_count": null,
      "outputs": [
        {
          "output_type": "stream",
          "name": "stdout",
          "text": [
            "52/52 [==============================] - 0s 7ms/step\n"
          ]
        }
      ]
    },
    {
      "cell_type": "code",
      "metadata": {
        "id": "ykvjBMABdYRo"
      },
      "source": [
        "y_pred =(y_pred>0.5)"
      ],
      "execution_count": null,
      "outputs": []
    },
    {
      "cell_type": "code",
      "metadata": {
        "colab": {
          "base_uri": "https://localhost:8080/"
        },
        "id": "4jy9RVrt_rN4",
        "outputId": "c486e197-aa06-4181-afb6-0927db2c28ba"
      },
      "source": [
        "print(classification_report(test_y, y_pred)) # same as in the best "
      ],
      "execution_count": null,
      "outputs": [
        {
          "output_type": "stream",
          "name": "stdout",
          "text": [
            "              precision    recall  f1-score   support\n",
            "\n",
            "         0.0       1.00      1.00      1.00      6587\n",
            "         1.0       0.88      0.74      0.81        31\n",
            "\n",
            "    accuracy                           1.00      6618\n",
            "   macro avg       0.94      0.87      0.90      6618\n",
            "weighted avg       1.00      1.00      1.00      6618\n",
            "\n"
          ]
        }
      ]
    },
    {
      "cell_type": "code",
      "metadata": {
        "id": "NEmw7IzhJEqI"
      },
      "source": [
        "#defining the hyperModel\n",
        "#  input_shape= inputShape to be removed \n",
        "\n",
        "\n",
        "# design network\n",
        "#, return_sequences= True\n",
        "\n",
        "\n",
        "from kerastuner import HyperModel\n",
        "class LSTMHyperModel(HyperModel):\n",
        "    def __init__(self, input_shape):\n",
        "        self.input_shape = input_shape\n",
        "    def build(self, hp):\n",
        "        model = Sequential()\n",
        "\n",
        "        model.add(\n",
        "            LSTM(units=hp.Int('units_l1', 35, 45, 5, default=40), input_shape= input_shape, \n",
        "                recurrent_dropout= hp.Float('recurrent_dropout_1', min_value=0.1, max_value=0.2, default=0.1, step=0.05,) , return_sequences=True ))\n",
        "           \n",
        "        model.add(\n",
        "            LSTM(units=hp.Int('units_l2', 15, 25, 5, default=20),\n",
        "            \n",
        "            recurrent_dropout= hp.Float('recurrent_dropout_2', min_value=0.05, max_value=0.15, default=0.1, step=0.05,) , return_sequences=True ))\n",
        "        model.add(\n",
        "            LSTM(units=hp.Int('units_l2', 5, 10, 5, default=20),\n",
        "            \n",
        "            recurrent_dropout= hp.Float('recurrent_dropout_2', min_value=0.05, max_value=0.1, default=0.1, step=0.05,) ))\n",
        "          \n",
        "        model.add(Dense(1, activation='sigmoid', bias_initializer=output_bias))\n",
        "\n",
        "        hp_learning_rate = hp.Choice('learning_rate', values=[ 1e-2,  1e-3])\n",
        "        model.compile(\n",
        "            optimizer=tf.keras.optimizers.Adam(learning_rate=hp_learning_rate), loss='binary_crossentropy', metrics= metrics )\n",
        "        \n",
        "        return model"
      ],
      "execution_count": null,
      "outputs": []
    },
    {
      "cell_type": "code",
      "metadata": {
        "id": "6V1VfHbzJuaw"
      },
      "source": [
        "input_shape= (train_X.shape[1], train_X.shape[2])\n",
        "hypermodel = LSTMHyperModel(input_shape)\n"
      ],
      "execution_count": null,
      "outputs": []
    },
    {
      "cell_type": "code",
      "metadata": {
        "colab": {
          "base_uri": "https://localhost:8080/"
        },
        "id": "1wIfcWrBLgoE",
        "outputId": "97df05ec-6a5c-4f19-de1c-9d2cd814be5d"
      },
      "source": [
        "input_shape"
      ],
      "execution_count": null,
      "outputs": [
        {
          "output_type": "execute_result",
          "data": {
            "text/plain": [
              "(12, 4)"
            ]
          },
          "metadata": {},
          "execution_count": 139
        }
      ]
    },
    {
      "cell_type": "code",
      "metadata": {
        "colab": {
          "base_uri": "https://localhost:8080/"
        },
        "id": "F4Ec6yejJ5bj",
        "outputId": "ecdc06e7-7b39-4b2f-994f-d720fa6d9fa1"
      },
      "source": [
        "from kerastuner import BayesianOptimization\n",
        "\n",
        "#stop_early = tf.keras.callbacks.EarlyStopping(monitor='val_loss', patience=10)\n",
        "#stop_early,   validation_split=0.2,\n",
        "#tensorboardk = keras.callbacks.TensorBoard(log_dir='/tmp/tb_logs', histogram_freq= 1 , batch_size=32, write_graph=True, write_grads=False, write_images=False, embeddings_freq=0, embeddings_layer_names=None, embeddings_metadata=None, embeddings_data=None, update_freq='epoch')\n",
        "\n",
        "tuner_bo = BayesianOptimization(\n",
        "            hypermodel,\n",
        "            objective= kt.Objective(\"recall\", direction=\"max\") ,\n",
        "            max_trials= 5,\n",
        "            seed=7,\n",
        "            executions_per_trial= 2 ,\n",
        "            overwrite=True ,  \n",
        "            directory=\"/content/drive/MyDrive/Colab Notebooks/ThesisExperiments/FlashFloodPredictionBenchmarkLSTM/15min\"\n",
        "            )\n",
        "tuner_bo.search(train_X, train_y, epochs= 100 ,  batch_size = 128  , use_multiprocessing=True  , verbose=2 )\n",
        "#shuffle=False,  "
      ],
      "execution_count": null,
      "outputs": [
        {
          "output_type": "stream",
          "name": "stdout",
          "text": [
            "Trial 5 Complete [00h 19m 46s]\n",
            "recall: 0.9509202241897583\n",
            "\n",
            "Best recall So Far: 0.953987717628479\n",
            "Total elapsed time: 01h 20m 08s\n",
            "INFO:tensorflow:Oracle triggered exit\n"
          ]
        }
      ]
    },
    {
      "cell_type": "code",
      "metadata": {
        "id": "ZdiTh1-fCXNt",
        "colab": {
          "base_uri": "https://localhost:8080/"
        },
        "outputId": "f1f21349-713c-49d1-f9dc-be27625d94bb"
      },
      "source": [
        "# Take best model \n",
        "best_model = tuner_bo.get_best_models(num_models=1)[0]\n",
        "best_model.build(train_X.shape)"
      ],
      "execution_count": null,
      "outputs": [
        {
          "output_type": "stream",
          "name": "stdout",
          "text": [
            "WARNING:tensorflow:Unresolved object in checkpoint: (root).optimizer.iter\n",
            "WARNING:tensorflow:Unresolved object in checkpoint: (root).optimizer.beta_1\n",
            "WARNING:tensorflow:Unresolved object in checkpoint: (root).optimizer.beta_2\n",
            "WARNING:tensorflow:Unresolved object in checkpoint: (root).optimizer.decay\n",
            "WARNING:tensorflow:Unresolved object in checkpoint: (root).optimizer.learning_rate\n",
            "WARNING:tensorflow:A checkpoint was restored (e.g. tf.train.Checkpoint.restore or tf.keras.Model.load_weights) but not all checkpointed values were used. See above for specific issues. Use expect_partial() on the load status object, e.g. tf.train.Checkpoint.restore(...).expect_partial(), to silence these warnings, or use assert_consumed() to make the check explicit. See https://www.tensorflow.org/guide/checkpoint#loading_mechanics for details.\n"
          ]
        }
      ]
    },
    {
      "cell_type": "code",
      "metadata": {
        "colab": {
          "base_uri": "https://localhost:8080/"
        },
        "id": "euFfx3NUYoG1",
        "outputId": "730db87d-b79b-4861-90ef-50db3a8d3fda"
      },
      "source": [
        "best_model.evaluate( test_X, test_y, verbose=0)"
      ],
      "execution_count": null,
      "outputs": [
        {
          "output_type": "stream",
          "name": "stdout",
          "text": [
            "WARNING:tensorflow:Unresolved object in checkpoint: (root).optimizer.iter\n",
            "WARNING:tensorflow:Unresolved object in checkpoint: (root).optimizer.beta_1\n",
            "WARNING:tensorflow:Unresolved object in checkpoint: (root).optimizer.beta_2\n",
            "WARNING:tensorflow:Unresolved object in checkpoint: (root).optimizer.decay\n",
            "WARNING:tensorflow:Unresolved object in checkpoint: (root).optimizer.learning_rate\n",
            "WARNING:tensorflow:A checkpoint was restored (e.g. tf.train.Checkpoint.restore or tf.keras.Model.load_weights) but not all checkpointed values were used. See above for specific issues. Use expect_partial() on the load status object, e.g. tf.train.Checkpoint.restore(...).expect_partial(), to silence these warnings, or use assert_consumed() to make the check explicit. See https://www.tensorflow.org/guide/checkpoint#loading_mechanics for details.\n"
          ]
        },
        {
          "output_type": "execute_result",
          "data": {
            "text/plain": [
              "[0.011135192587971687,\n",
              " 0.9988213181495667,\n",
              " 0.9666666388511658,\n",
              " 0.8969072103500366]"
            ]
          },
          "metadata": {},
          "execution_count": 143
        }
      ]
    },
    {
      "cell_type": "code",
      "metadata": {
        "colab": {
          "base_uri": "https://localhost:8080/"
        },
        "id": "qYFOo8_WBNdz",
        "outputId": "48aa1ee7-0b35-4116-eea6-585a6a6ffe3c"
      },
      "source": [
        "y_pred = best_model.predict( test_X,  batch_size= 256, verbose=1)"
      ],
      "execution_count": null,
      "outputs": [
        {
          "output_type": "stream",
          "name": "stdout",
          "text": [
            "26/26 [==============================] - 1s 9ms/step\n"
          ]
        }
      ]
    },
    {
      "cell_type": "code",
      "metadata": {
        "id": "ELqiqKDYhisD"
      },
      "source": [
        "y_pred =(y_pred>0.5)"
      ],
      "execution_count": null,
      "outputs": []
    },
    {
      "cell_type": "markdown",
      "metadata": {
        "id": "p2WcLvqoBUNx"
      },
      "source": [
        "# 15 min "
      ]
    },
    {
      "cell_type": "code",
      "metadata": {
        "colab": {
          "base_uri": "https://localhost:8080/"
        },
        "id": "ILFdYV0vGNOm",
        "outputId": "f91a57c1-5351-4cae-b928-63c994ed8b0c"
      },
      "source": [
        "print (best_model.get_config()) \n",
        "print( best_model.optimizer.get_config()) \n",
        "print( best_model.history.params ) \n",
        "print ( best_model.loss ) "
      ],
      "execution_count": null,
      "outputs": [
        {
          "output_type": "stream",
          "name": "stdout",
          "text": [
            "{'name': 'sequential', 'layers': [{'class_name': 'InputLayer', 'config': {'batch_input_shape': (None, 12, 4), 'dtype': 'float32', 'sparse': False, 'ragged': False, 'name': 'lstm_input'}}, {'class_name': 'LSTM', 'config': {'name': 'lstm', 'trainable': True, 'batch_input_shape': (None, 12, 4), 'dtype': 'float32', 'return_sequences': True, 'return_state': False, 'go_backwards': False, 'stateful': False, 'unroll': False, 'time_major': False, 'units': 40, 'activation': 'tanh', 'recurrent_activation': 'sigmoid', 'use_bias': True, 'kernel_initializer': {'class_name': 'GlorotUniform', 'config': {'seed': None}}, 'recurrent_initializer': {'class_name': 'Orthogonal', 'config': {'gain': 1.0, 'seed': None}}, 'bias_initializer': {'class_name': 'Zeros', 'config': {}}, 'unit_forget_bias': True, 'kernel_regularizer': None, 'recurrent_regularizer': None, 'bias_regularizer': None, 'activity_regularizer': None, 'kernel_constraint': None, 'recurrent_constraint': None, 'bias_constraint': None, 'dropout': 0.0, 'recurrent_dropout': 0.1, 'implementation': 1}}, {'class_name': 'LSTM', 'config': {'name': 'lstm_1', 'trainable': True, 'dtype': 'float32', 'return_sequences': True, 'return_state': False, 'go_backwards': False, 'stateful': False, 'unroll': False, 'time_major': False, 'units': 25, 'activation': 'tanh', 'recurrent_activation': 'sigmoid', 'use_bias': True, 'kernel_initializer': {'class_name': 'GlorotUniform', 'config': {'seed': None}}, 'recurrent_initializer': {'class_name': 'Orthogonal', 'config': {'gain': 1.0, 'seed': None}}, 'bias_initializer': {'class_name': 'Zeros', 'config': {}}, 'unit_forget_bias': True, 'kernel_regularizer': None, 'recurrent_regularizer': None, 'bias_regularizer': None, 'activity_regularizer': None, 'kernel_constraint': None, 'recurrent_constraint': None, 'bias_constraint': None, 'dropout': 0.0, 'recurrent_dropout': 0.05, 'implementation': 1}}, {'class_name': 'LSTM', 'config': {'name': 'lstm_2', 'trainable': True, 'dtype': 'float32', 'return_sequences': False, 'return_state': False, 'go_backwards': False, 'stateful': False, 'unroll': False, 'time_major': False, 'units': 25, 'activation': 'tanh', 'recurrent_activation': 'sigmoid', 'use_bias': True, 'kernel_initializer': {'class_name': 'GlorotUniform', 'config': {'seed': None}}, 'recurrent_initializer': {'class_name': 'Orthogonal', 'config': {'gain': 1.0, 'seed': None}}, 'bias_initializer': {'class_name': 'Zeros', 'config': {}}, 'unit_forget_bias': True, 'kernel_regularizer': None, 'recurrent_regularizer': None, 'bias_regularizer': None, 'activity_regularizer': None, 'kernel_constraint': None, 'recurrent_constraint': None, 'bias_constraint': None, 'dropout': 0.0, 'recurrent_dropout': 0.05, 'implementation': 1}}, {'class_name': 'Dense', 'config': {'name': 'dense', 'trainable': True, 'dtype': 'float32', 'units': 1, 'activation': 'sigmoid', 'use_bias': True, 'kernel_initializer': {'class_name': 'GlorotUniform', 'config': {'seed': None}}, 'bias_initializer': {'class_name': 'Constant', 'config': {'value': array([-4.72505868])}}, 'kernel_regularizer': None, 'bias_regularizer': None, 'activity_regularizer': None, 'kernel_constraint': None, 'bias_constraint': None}}]}\n",
            "{'name': 'Adam', 'learning_rate': 0.01, 'decay': 0.0, 'beta_1': 0.9, 'beta_2': 0.999, 'epsilon': 1e-07, 'amsgrad': False}\n",
            "{'verbose': 1, 'epochs': 1, 'steps': 52}\n",
            "binary_crossentropy\n"
          ]
        }
      ]
    },
    {
      "cell_type": "code",
      "metadata": {
        "colab": {
          "base_uri": "https://localhost:8080/"
        },
        "id": "nn-FzFRrGOzd",
        "outputId": "836a6151-cb47-4ad0-daf9-7e88dc68f4c6"
      },
      "source": [
        "print(classification_report(test_y, y_pred))"
      ],
      "execution_count": null,
      "outputs": [
        {
          "output_type": "stream",
          "name": "stdout",
          "text": [
            "              precision    recall  f1-score   support\n",
            "\n",
            "         0.0       1.00      1.00      1.00      6589\n",
            "         1.0       1.00      0.81      0.89        31\n",
            "\n",
            "    accuracy                           1.00      6620\n",
            "   macro avg       1.00      0.90      0.95      6620\n",
            "weighted avg       1.00      1.00      1.00      6620\n",
            "\n"
          ]
        }
      ]
    },
    {
      "cell_type": "code",
      "metadata": {
        "id": "cgpygpSgC28a"
      },
      "source": [
        "best_model.save('/content/drive/MyDrive/Colab Notebooks/ThesisExperiments/FlashFloodPredictionBenchmarkLSTM/15min')"
      ],
      "execution_count": null,
      "outputs": []
    },
    {
      "cell_type": "code",
      "metadata": {
        "colab": {
          "base_uri": "https://localhost:8080/"
        },
        "id": "aT7P1p0c0x8W",
        "outputId": "0e9ff406-d725-4f96-f23d-3df90007f1d7"
      },
      "source": [
        "print (best_model.get_config()) \n",
        "print( best_model.optimizer.get_config()) \n",
        "print( best_model.history.params ) \n",
        "print ( best_model.loss ) "
      ],
      "execution_count": null,
      "outputs": [
        {
          "output_type": "stream",
          "name": "stdout",
          "text": [
            "{'name': 'sequential', 'layers': [{'class_name': 'InputLayer', 'config': {'batch_input_shape': (None, 12, 4), 'dtype': 'float32', 'sparse': False, 'ragged': False, 'name': 'lstm_input'}}, {'class_name': 'LSTM', 'config': {'name': 'lstm', 'trainable': True, 'batch_input_shape': (None, 12, 4), 'dtype': 'float32', 'return_sequences': True, 'return_state': False, 'go_backwards': False, 'stateful': False, 'unroll': False, 'time_major': False, 'units': 42, 'activation': 'tanh', 'recurrent_activation': 'sigmoid', 'use_bias': True, 'kernel_initializer': {'class_name': 'GlorotUniform', 'config': {'seed': None}}, 'recurrent_initializer': {'class_name': 'Orthogonal', 'config': {'gain': 1.0, 'seed': None}}, 'bias_initializer': {'class_name': 'Zeros', 'config': {}}, 'unit_forget_bias': True, 'kernel_regularizer': None, 'recurrent_regularizer': None, 'bias_regularizer': None, 'activity_regularizer': None, 'kernel_constraint': None, 'recurrent_constraint': None, 'bias_constraint': None, 'dropout': 0.0, 'recurrent_dropout': 0.05, 'implementation': 1}}, {'class_name': 'LSTM', 'config': {'name': 'lstm_1', 'trainable': True, 'dtype': 'float32', 'return_sequences': False, 'return_state': False, 'go_backwards': False, 'stateful': False, 'unroll': False, 'time_major': False, 'units': 10, 'activation': 'tanh', 'recurrent_activation': 'sigmoid', 'use_bias': True, 'kernel_initializer': {'class_name': 'GlorotUniform', 'config': {'seed': None}}, 'recurrent_initializer': {'class_name': 'Orthogonal', 'config': {'gain': 1.0, 'seed': None}}, 'bias_initializer': {'class_name': 'Zeros', 'config': {}}, 'unit_forget_bias': True, 'kernel_regularizer': None, 'recurrent_regularizer': None, 'bias_regularizer': None, 'activity_regularizer': None, 'kernel_constraint': None, 'recurrent_constraint': None, 'bias_constraint': None, 'dropout': 0.0, 'recurrent_dropout': 0.05, 'implementation': 1}}, {'class_name': 'Dense', 'config': {'name': 'dense', 'trainable': True, 'dtype': 'float32', 'units': 1, 'activation': 'sigmoid', 'use_bias': True, 'kernel_initializer': {'class_name': 'GlorotUniform', 'config': {'seed': None}}, 'bias_initializer': {'class_name': 'Zeros', 'config': {}}, 'kernel_regularizer': None, 'bias_regularizer': None, 'activity_regularizer': None, 'kernel_constraint': None, 'bias_constraint': None}}]}\n",
            "{'name': 'Adam', 'learning_rate': 0.001, 'decay': 0.0, 'beta_1': 0.9, 'beta_2': 0.999, 'epsilon': 1e-07, 'amsgrad': False}\n",
            "{'verbose': 1, 'epochs': 1, 'steps': 35}\n",
            "binary_crossentropy\n"
          ]
        }
      ]
    },
    {
      "cell_type": "code",
      "metadata": {
        "colab": {
          "base_uri": "https://localhost:8080/"
        },
        "id": "E_xHG49d0x8Y",
        "outputId": "c0b8ed0d-f263-4f00-bcae-dc55b4d651a9"
      },
      "source": [
        "print(classification_report(test_y, y_pred))"
      ],
      "execution_count": null,
      "outputs": [
        {
          "output_type": "stream",
          "name": "stdout",
          "text": [
            "              precision    recall  f1-score   support\n",
            "\n",
            "         0.0       1.00      1.00      1.00      4393\n",
            "         1.0       1.00      0.85      0.92        20\n",
            "\n",
            "    accuracy                           1.00      4413\n",
            "   macro avg       1.00      0.93      0.96      4413\n",
            "weighted avg       1.00      1.00      1.00      4413\n",
            "\n"
          ]
        }
      ]
    },
    {
      "cell_type": "markdown",
      "metadata": {
        "id": "cHs1HJq_BZWu"
      },
      "source": [
        "# 30 min"
      ]
    },
    {
      "cell_type": "code",
      "metadata": {
        "id": "2BMaRsuyDXhB",
        "colab": {
          "base_uri": "https://localhost:8080/"
        },
        "outputId": "8b97ff37-022b-436d-cfbe-0f8f1e986038"
      },
      "source": [
        "print( best_model.get_config() ) \n",
        "print(best_model.optimizer.get_config() ) \n",
        "print(best_model.history.params ) \n",
        "print(best_model.loss ) "
      ],
      "execution_count": null,
      "outputs": [
        {
          "output_type": "stream",
          "name": "stdout",
          "text": [
            "{'name': 'sequential', 'layers': [{'class_name': 'InputLayer', 'config': {'batch_input_shape': (None, 12, 4), 'dtype': 'float32', 'sparse': False, 'ragged': False, 'name': 'lstm_input'}}, {'class_name': 'LSTM', 'config': {'name': 'lstm', 'trainable': True, 'batch_input_shape': (None, 12, 4), 'dtype': 'float32', 'return_sequences': True, 'return_state': False, 'go_backwards': False, 'stateful': False, 'unroll': False, 'time_major': False, 'units': 35, 'activation': 'tanh', 'recurrent_activation': 'sigmoid', 'use_bias': True, 'kernel_initializer': {'class_name': 'GlorotUniform', 'config': {'seed': None}}, 'recurrent_initializer': {'class_name': 'Orthogonal', 'config': {'gain': 1.0, 'seed': None}}, 'bias_initializer': {'class_name': 'Zeros', 'config': {}}, 'unit_forget_bias': True, 'kernel_regularizer': None, 'recurrent_regularizer': None, 'bias_regularizer': None, 'activity_regularizer': None, 'kernel_constraint': None, 'recurrent_constraint': None, 'bias_constraint': None, 'dropout': 0.0, 'recurrent_dropout': 0.20000000000000004, 'implementation': 1}}, {'class_name': 'LSTM', 'config': {'name': 'lstm_1', 'trainable': True, 'dtype': 'float32', 'return_sequences': True, 'return_state': False, 'go_backwards': False, 'stateful': False, 'unroll': False, 'time_major': False, 'units': 25, 'activation': 'tanh', 'recurrent_activation': 'sigmoid', 'use_bias': True, 'kernel_initializer': {'class_name': 'GlorotUniform', 'config': {'seed': None}}, 'recurrent_initializer': {'class_name': 'Orthogonal', 'config': {'gain': 1.0, 'seed': None}}, 'bias_initializer': {'class_name': 'Zeros', 'config': {}}, 'unit_forget_bias': True, 'kernel_regularizer': None, 'recurrent_regularizer': None, 'bias_regularizer': None, 'activity_regularizer': None, 'kernel_constraint': None, 'recurrent_constraint': None, 'bias_constraint': None, 'dropout': 0.0, 'recurrent_dropout': 0.05, 'implementation': 1}}, {'class_name': 'LSTM', 'config': {'name': 'lstm_2', 'trainable': True, 'dtype': 'float32', 'return_sequences': False, 'return_state': False, 'go_backwards': False, 'stateful': False, 'unroll': False, 'time_major': False, 'units': 25, 'activation': 'tanh', 'recurrent_activation': 'sigmoid', 'use_bias': True, 'kernel_initializer': {'class_name': 'GlorotUniform', 'config': {'seed': None}}, 'recurrent_initializer': {'class_name': 'Orthogonal', 'config': {'gain': 1.0, 'seed': None}}, 'bias_initializer': {'class_name': 'Zeros', 'config': {}}, 'unit_forget_bias': True, 'kernel_regularizer': None, 'recurrent_regularizer': None, 'bias_regularizer': None, 'activity_regularizer': None, 'kernel_constraint': None, 'recurrent_constraint': None, 'bias_constraint': None, 'dropout': 0.0, 'recurrent_dropout': 0.05, 'implementation': 1}}, {'class_name': 'Dense', 'config': {'name': 'dense', 'trainable': True, 'dtype': 'float32', 'units': 1, 'activation': 'sigmoid', 'use_bias': True, 'kernel_initializer': {'class_name': 'GlorotUniform', 'config': {'seed': None}}, 'bias_initializer': {'class_name': 'Constant', 'config': {'value': array([-4.72501295])}}, 'kernel_regularizer': None, 'bias_regularizer': None, 'activity_regularizer': None, 'kernel_constraint': None, 'bias_constraint': None}}]}\n",
            "{'name': 'Adam', 'learning_rate': 0.01, 'decay': 0.0, 'beta_1': 0.9, 'beta_2': 0.999, 'epsilon': 1e-07, 'amsgrad': False}\n",
            "{'verbose': 1, 'epochs': 1, 'steps': 52}\n",
            "binary_crossentropy\n"
          ]
        }
      ]
    },
    {
      "cell_type": "code",
      "metadata": {
        "colab": {
          "base_uri": "https://localhost:8080/"
        },
        "id": "g9m6IUDbYVbn",
        "outputId": "97369706-564f-4024-8675-5f47b161e188"
      },
      "source": [
        "print(classification_report(test_y, y_pred))"
      ],
      "execution_count": null,
      "outputs": [
        {
          "output_type": "stream",
          "name": "stdout",
          "text": [
            "              precision    recall  f1-score   support\n",
            "\n",
            "         0.0       1.00      1.00      1.00      6589\n",
            "         1.0       1.00      0.81      0.89        31\n",
            "\n",
            "    accuracy                           1.00      6620\n",
            "   macro avg       1.00      0.90      0.95      6620\n",
            "weighted avg       1.00      1.00      1.00      6620\n",
            "\n"
          ]
        }
      ]
    },
    {
      "cell_type": "markdown",
      "metadata": {
        "id": "-bsmVzOFWS_D"
      },
      "source": [
        ""
      ]
    },
    {
      "cell_type": "code",
      "metadata": {
        "id": "KNmaUQdPDRpt"
      },
      "source": [
        "best_model.save('')"
      ],
      "execution_count": null,
      "outputs": []
    },
    {
      "cell_type": "markdown",
      "metadata": {
        "id": "gR4koxSABaih"
      },
      "source": [
        "# 45 min"
      ]
    },
    {
      "cell_type": "code",
      "metadata": {
        "id": "wf63mB1QDX_k",
        "colab": {
          "base_uri": "https://localhost:8080/"
        },
        "outputId": "b4b14ecd-b6df-4ddb-cd46-f7e99890f47f"
      },
      "source": [
        "print( best_model.get_config())\n",
        "print( best_model.optimizer.get_config())\n",
        "print( best_model.history.params)\n",
        "print( best_model.loss)"
      ],
      "execution_count": null,
      "outputs": [
        {
          "output_type": "stream",
          "name": "stdout",
          "text": [
            "{'name': 'sequential', 'layers': [{'class_name': 'InputLayer', 'config': {'batch_input_shape': (None, 12, 4), 'dtype': 'float32', 'sparse': False, 'ragged': False, 'name': 'lstm_input'}}, {'class_name': 'LSTM', 'config': {'name': 'lstm', 'trainable': True, 'batch_input_shape': (None, 12, 4), 'dtype': 'float32', 'return_sequences': True, 'return_state': False, 'go_backwards': False, 'stateful': False, 'unroll': False, 'time_major': False, 'units': 35, 'activation': 'tanh', 'recurrent_activation': 'sigmoid', 'use_bias': True, 'kernel_initializer': {'class_name': 'GlorotUniform', 'config': {'seed': None}}, 'recurrent_initializer': {'class_name': 'Orthogonal', 'config': {'gain': 1.0, 'seed': None}}, 'bias_initializer': {'class_name': 'Zeros', 'config': {}}, 'unit_forget_bias': True, 'kernel_regularizer': None, 'recurrent_regularizer': None, 'bias_regularizer': None, 'activity_regularizer': None, 'kernel_constraint': None, 'recurrent_constraint': None, 'bias_constraint': None, 'dropout': 0.0, 'recurrent_dropout': 0.15000000000000002, 'implementation': 1}}, {'class_name': 'LSTM', 'config': {'name': 'lstm_1', 'trainable': True, 'dtype': 'float32', 'return_sequences': True, 'return_state': False, 'go_backwards': False, 'stateful': False, 'unroll': False, 'time_major': False, 'units': 25, 'activation': 'tanh', 'recurrent_activation': 'sigmoid', 'use_bias': True, 'kernel_initializer': {'class_name': 'GlorotUniform', 'config': {'seed': None}}, 'recurrent_initializer': {'class_name': 'Orthogonal', 'config': {'gain': 1.0, 'seed': None}}, 'bias_initializer': {'class_name': 'Zeros', 'config': {}}, 'unit_forget_bias': True, 'kernel_regularizer': None, 'recurrent_regularizer': None, 'bias_regularizer': None, 'activity_regularizer': None, 'kernel_constraint': None, 'recurrent_constraint': None, 'bias_constraint': None, 'dropout': 0.0, 'recurrent_dropout': 0.15000000000000002, 'implementation': 1}}, {'class_name': 'LSTM', 'config': {'name': 'lstm_2', 'trainable': True, 'dtype': 'float32', 'return_sequences': False, 'return_state': False, 'go_backwards': False, 'stateful': False, 'unroll': False, 'time_major': False, 'units': 25, 'activation': 'tanh', 'recurrent_activation': 'sigmoid', 'use_bias': True, 'kernel_initializer': {'class_name': 'GlorotUniform', 'config': {'seed': None}}, 'recurrent_initializer': {'class_name': 'Orthogonal', 'config': {'gain': 1.0, 'seed': None}}, 'bias_initializer': {'class_name': 'Zeros', 'config': {}}, 'unit_forget_bias': True, 'kernel_regularizer': None, 'recurrent_regularizer': None, 'bias_regularizer': None, 'activity_regularizer': None, 'kernel_constraint': None, 'recurrent_constraint': None, 'bias_constraint': None, 'dropout': 0.0, 'recurrent_dropout': 0.15000000000000002, 'implementation': 1}}, {'class_name': 'Dense', 'config': {'name': 'dense', 'trainable': True, 'dtype': 'float32', 'units': 1, 'activation': 'sigmoid', 'use_bias': True, 'kernel_initializer': {'class_name': 'GlorotUniform', 'config': {'seed': None}}, 'bias_initializer': {'class_name': 'Constant', 'config': {'value': array([-4.72496723])}}, 'kernel_regularizer': None, 'bias_regularizer': None, 'activity_regularizer': None, 'kernel_constraint': None, 'bias_constraint': None}}]}\n",
            "{'name': 'Adam', 'learning_rate': 0.001, 'decay': 0.0, 'beta_1': 0.9, 'beta_2': 0.999, 'epsilon': 1e-07, 'amsgrad': False}\n",
            "{'verbose': 1, 'epochs': 1, 'steps': 26}\n",
            "binary_crossentropy\n"
          ]
        }
      ]
    },
    {
      "cell_type": "code",
      "metadata": {
        "colab": {
          "base_uri": "https://localhost:8080/"
        },
        "id": "8MqU5q8nBaii",
        "outputId": "35ef0704-8e7e-4f35-83f3-f0a8c9e3801b"
      },
      "source": [
        "print(classification_report(test_y, y_pred))"
      ],
      "execution_count": null,
      "outputs": [
        {
          "output_type": "stream",
          "name": "stdout",
          "text": [
            "              precision    recall  f1-score   support\n",
            "\n",
            "         0.0       1.00      1.00      1.00      6588\n",
            "         1.0       0.96      0.74      0.84        31\n",
            "\n",
            "    accuracy                           1.00      6619\n",
            "   macro avg       0.98      0.87      0.92      6619\n",
            "weighted avg       1.00      1.00      1.00      6619\n",
            "\n"
          ]
        }
      ]
    },
    {
      "cell_type": "code",
      "metadata": {
        "colab": {
          "base_uri": "https://localhost:8080/"
        },
        "id": "hva7qb0YszdC",
        "outputId": "6ad9adf0-266d-4fd2-ec55-a529516c101c"
      },
      "source": [
        "# design network\n",
        "model = Sequential()\n",
        "model.add(LSTM(42, input_shape=( train_X.shape[1], train_X.shape[2]) , return_sequences= True , recurrent_dropout= 0.15) )\n",
        "model.add(LSTM(22, recurrent_dropout= 0.05 ) )\n",
        "#model.add(LSTM(10, recurrent_dropout= 0.05  ) ) , return_sequences= True \n",
        "model.add(Dense(1, activation='sigmoid'))\n",
        "model.compile(loss='binary_crossentropy', optimizer=keras.optimizers.Adam(learning_rate=0.001), metrics=metrics )\n",
        "print(model.summary())"
      ],
      "execution_count": null,
      "outputs": [
        {
          "output_type": "stream",
          "name": "stdout",
          "text": [
            "Model: \"sequential_1\"\n",
            "_________________________________________________________________\n",
            " Layer (type)                Output Shape              Param #   \n",
            "=================================================================\n",
            " lstm_2 (LSTM)               (None, 12, 42)            7896      \n",
            "                                                                 \n",
            " lstm_3 (LSTM)               (None, 22)                5720      \n",
            "                                                                 \n",
            " dense_1 (Dense)             (None, 1)                 23        \n",
            "                                                                 \n",
            "=================================================================\n",
            "Total params: 13,639\n",
            "Trainable params: 13,639\n",
            "Non-trainable params: 0\n",
            "_________________________________________________________________\n",
            "None\n"
          ]
        }
      ]
    },
    {
      "cell_type": "code",
      "metadata": {
        "colab": {
          "base_uri": "https://localhost:8080/"
        },
        "id": "tOrPh73pszde",
        "outputId": "a5954ecd-fb00-4489-a6c1-bbe10bfab4e5"
      },
      "source": [
        "model.fit( train_X, train_y ,  epochs=200, batch_size=  2048)"
      ],
      "execution_count": null,
      "outputs": [
        {
          "output_type": "stream",
          "name": "stdout",
          "text": [
            "Epoch 1/200\n",
            "9/9 [==============================] - 5s 89ms/step - loss: 0.6655 - accuracy: 0.9450 - precision: 0.0868 - recall: 0.5190\n",
            "Epoch 2/200\n",
            "9/9 [==============================] - 1s 87ms/step - loss: 0.5673 - accuracy: 0.9901 - precision: 0.0000e+00 - recall: 0.0000e+00\n",
            "Epoch 3/200\n",
            "9/9 [==============================] - 1s 86ms/step - loss: 0.3586 - accuracy: 0.9901 - precision: 0.0000e+00 - recall: 0.0000e+00\n",
            "Epoch 4/200\n",
            "9/9 [==============================] - 1s 86ms/step - loss: 0.1104 - accuracy: 0.9901 - precision: 0.0000e+00 - recall: 0.0000e+00\n",
            "Epoch 5/200\n",
            "9/9 [==============================] - 1s 85ms/step - loss: 0.0579 - accuracy: 0.9901 - precision: 0.0000e+00 - recall: 0.0000e+00\n",
            "Epoch 6/200\n",
            "9/9 [==============================] - 1s 86ms/step - loss: 0.0567 - accuracy: 0.9901 - precision: 0.0000e+00 - recall: 0.0000e+00\n",
            "Epoch 7/200\n",
            "9/9 [==============================] - 1s 86ms/step - loss: 0.0565 - accuracy: 0.9901 - precision: 0.0000e+00 - recall: 0.0000e+00\n",
            "Epoch 8/200\n",
            "9/9 [==============================] - 1s 86ms/step - loss: 0.0560 - accuracy: 0.9901 - precision: 0.0000e+00 - recall: 0.0000e+00\n",
            "Epoch 9/200\n",
            "9/9 [==============================] - 1s 86ms/step - loss: 0.0555 - accuracy: 0.9901 - precision: 0.0000e+00 - recall: 0.0000e+00\n",
            "Epoch 10/200\n",
            "9/9 [==============================] - 1s 86ms/step - loss: 0.0554 - accuracy: 0.9901 - precision: 0.0000e+00 - recall: 0.0000e+00\n",
            "Epoch 11/200\n",
            "9/9 [==============================] - 1s 87ms/step - loss: 0.0554 - accuracy: 0.9901 - precision: 0.0000e+00 - recall: 0.0000e+00\n",
            "Epoch 12/200\n",
            "9/9 [==============================] - 1s 86ms/step - loss: 0.0554 - accuracy: 0.9901 - precision: 0.0000e+00 - recall: 0.0000e+00\n",
            "Epoch 13/200\n",
            "9/9 [==============================] - 1s 85ms/step - loss: 0.0553 - accuracy: 0.9901 - precision: 0.0000e+00 - recall: 0.0000e+00\n",
            "Epoch 14/200\n",
            "9/9 [==============================] - 1s 86ms/step - loss: 0.0553 - accuracy: 0.9901 - precision: 0.0000e+00 - recall: 0.0000e+00\n",
            "Epoch 15/200\n",
            "9/9 [==============================] - 1s 86ms/step - loss: 0.0553 - accuracy: 0.9901 - precision: 0.0000e+00 - recall: 0.0000e+00\n",
            "Epoch 16/200\n",
            "9/9 [==============================] - 1s 85ms/step - loss: 0.0552 - accuracy: 0.9901 - precision: 0.0000e+00 - recall: 0.0000e+00\n",
            "Epoch 17/200\n",
            "9/9 [==============================] - 1s 86ms/step - loss: 0.0552 - accuracy: 0.9901 - precision: 0.0000e+00 - recall: 0.0000e+00\n",
            "Epoch 18/200\n",
            "9/9 [==============================] - 1s 86ms/step - loss: 0.0551 - accuracy: 0.9901 - precision: 0.0000e+00 - recall: 0.0000e+00\n",
            "Epoch 19/200\n",
            "9/9 [==============================] - 1s 85ms/step - loss: 0.0551 - accuracy: 0.9901 - precision: 0.0000e+00 - recall: 0.0000e+00\n",
            "Epoch 20/200\n",
            "9/9 [==============================] - 1s 85ms/step - loss: 0.0551 - accuracy: 0.9901 - precision: 0.0000e+00 - recall: 0.0000e+00\n",
            "Epoch 21/200\n",
            "9/9 [==============================] - 1s 86ms/step - loss: 0.0550 - accuracy: 0.9901 - precision: 0.0000e+00 - recall: 0.0000e+00\n",
            "Epoch 22/200\n",
            "9/9 [==============================] - 1s 85ms/step - loss: 0.0549 - accuracy: 0.9901 - precision: 0.0000e+00 - recall: 0.0000e+00\n",
            "Epoch 23/200\n",
            "9/9 [==============================] - 1s 86ms/step - loss: 0.0548 - accuracy: 0.9901 - precision: 0.0000e+00 - recall: 0.0000e+00\n",
            "Epoch 24/200\n",
            "9/9 [==============================] - 1s 86ms/step - loss: 0.0547 - accuracy: 0.9901 - precision: 0.0000e+00 - recall: 0.0000e+00\n",
            "Epoch 25/200\n",
            "9/9 [==============================] - 1s 86ms/step - loss: 0.0544 - accuracy: 0.9901 - precision: 0.0000e+00 - recall: 0.0000e+00\n",
            "Epoch 26/200\n",
            "9/9 [==============================] - 1s 86ms/step - loss: 0.0539 - accuracy: 0.9901 - precision: 0.0000e+00 - recall: 0.0000e+00\n",
            "Epoch 27/200\n",
            "9/9 [==============================] - 1s 86ms/step - loss: 0.0527 - accuracy: 0.9901 - precision: 0.0000e+00 - recall: 0.0000e+00\n",
            "Epoch 28/200\n",
            "9/9 [==============================] - 1s 86ms/step - loss: 0.0507 - accuracy: 0.9901 - precision: 0.0000e+00 - recall: 0.0000e+00\n",
            "Epoch 29/200\n",
            "9/9 [==============================] - 1s 86ms/step - loss: 0.0471 - accuracy: 0.9901 - precision: 0.0000e+00 - recall: 0.0000e+00\n",
            "Epoch 30/200\n",
            "9/9 [==============================] - 1s 86ms/step - loss: 0.0426 - accuracy: 0.9901 - precision: 0.0000e+00 - recall: 0.0000e+00\n",
            "Epoch 31/200\n",
            "9/9 [==============================] - 1s 86ms/step - loss: 0.0378 - accuracy: 0.9901 - precision: 0.0000e+00 - recall: 0.0000e+00\n",
            "Epoch 32/200\n",
            "9/9 [==============================] - 1s 87ms/step - loss: 0.0336 - accuracy: 0.9901 - precision: 0.0000e+00 - recall: 0.0000e+00\n",
            "Epoch 33/200\n",
            "9/9 [==============================] - 1s 86ms/step - loss: 0.0302 - accuracy: 0.9901 - precision: 0.0000e+00 - recall: 0.0000e+00\n",
            "Epoch 34/200\n",
            "9/9 [==============================] - 1s 86ms/step - loss: 0.0268 - accuracy: 0.9901 - precision: 0.0000e+00 - recall: 0.0000e+00\n",
            "Epoch 35/200\n",
            "9/9 [==============================] - 1s 86ms/step - loss: 0.0250 - accuracy: 0.9901 - precision: 0.0000e+00 - recall: 0.0000e+00\n",
            "Epoch 36/200\n",
            "9/9 [==============================] - 1s 86ms/step - loss: 0.0235 - accuracy: 0.9901 - precision: 0.0000e+00 - recall: 0.0000e+00\n",
            "Epoch 37/200\n",
            "9/9 [==============================] - 1s 86ms/step - loss: 0.0225 - accuracy: 0.9901 - precision: 0.0000e+00 - recall: 0.0000e+00\n",
            "Epoch 38/200\n",
            "9/9 [==============================] - 1s 85ms/step - loss: 0.0211 - accuracy: 0.9901 - precision: 0.0000e+00 - recall: 0.0000e+00\n",
            "Epoch 39/200\n",
            "9/9 [==============================] - 1s 85ms/step - loss: 0.0202 - accuracy: 0.9901 - precision: 0.0000e+00 - recall: 0.0000e+00\n",
            "Epoch 40/200\n",
            "9/9 [==============================] - 1s 85ms/step - loss: 0.0194 - accuracy: 0.9901 - precision: 0.0000e+00 - recall: 0.0000e+00\n",
            "Epoch 41/200\n",
            "9/9 [==============================] - 1s 86ms/step - loss: 0.0196 - accuracy: 0.9901 - precision: 0.0000e+00 - recall: 0.0000e+00\n",
            "Epoch 42/200\n",
            "9/9 [==============================] - 1s 86ms/step - loss: 0.0180 - accuracy: 0.9901 - precision: 0.0000e+00 - recall: 0.0000e+00\n",
            "Epoch 43/200\n",
            "9/9 [==============================] - 1s 86ms/step - loss: 0.0176 - accuracy: 0.9901 - precision: 0.0000e+00 - recall: 0.0000e+00\n",
            "Epoch 44/200\n",
            "9/9 [==============================] - 1s 86ms/step - loss: 0.0166 - accuracy: 0.9901 - precision: 0.0000e+00 - recall: 0.0000e+00\n",
            "Epoch 45/200\n",
            "9/9 [==============================] - 1s 86ms/step - loss: 0.0162 - accuracy: 0.9912 - precision: 1.0000 - recall: 0.1034\n",
            "Epoch 46/200\n",
            "9/9 [==============================] - 1s 85ms/step - loss: 0.0153 - accuracy: 0.9923 - precision: 0.9750 - recall: 0.2241\n",
            "Epoch 47/200\n",
            "9/9 [==============================] - 1s 87ms/step - loss: 0.0150 - accuracy: 0.9937 - precision: 0.9697 - recall: 0.3678\n",
            "Epoch 48/200\n",
            "9/9 [==============================] - 1s 86ms/step - loss: 0.0146 - accuracy: 0.9943 - precision: 0.9512 - recall: 0.4483\n",
            "Epoch 49/200\n",
            "9/9 [==============================] - 1s 87ms/step - loss: 0.0144 - accuracy: 0.9942 - precision: 0.8750 - recall: 0.4828\n",
            "Epoch 50/200\n",
            "9/9 [==============================] - 1s 86ms/step - loss: 0.0136 - accuracy: 0.9954 - precision: 0.8298 - recall: 0.6724\n",
            "Epoch 51/200\n",
            "9/9 [==============================] - 1s 85ms/step - loss: 0.0138 - accuracy: 0.9948 - precision: 0.7986 - recall: 0.6379\n",
            "Epoch 52/200\n",
            "9/9 [==============================] - 1s 86ms/step - loss: 0.0130 - accuracy: 0.9950 - precision: 0.8707 - recall: 0.5805\n",
            "Epoch 53/200\n",
            "9/9 [==============================] - 1s 85ms/step - loss: 0.0121 - accuracy: 0.9958 - precision: 0.8779 - recall: 0.6609\n",
            "Epoch 54/200\n",
            "9/9 [==============================] - 1s 86ms/step - loss: 0.0123 - accuracy: 0.9961 - precision: 0.8523 - recall: 0.7299\n",
            "Epoch 55/200\n",
            "9/9 [==============================] - 1s 86ms/step - loss: 0.0118 - accuracy: 0.9958 - precision: 0.8289 - recall: 0.7241\n",
            "Epoch 56/200\n",
            "9/9 [==============================] - 1s 86ms/step - loss: 0.0120 - accuracy: 0.9954 - precision: 0.8298 - recall: 0.6724\n",
            "Epoch 57/200\n",
            "9/9 [==============================] - 1s 87ms/step - loss: 0.0113 - accuracy: 0.9961 - precision: 0.8723 - recall: 0.7069\n",
            "Epoch 58/200\n",
            "9/9 [==============================] - 1s 86ms/step - loss: 0.0108 - accuracy: 0.9959 - precision: 0.8217 - recall: 0.7414\n",
            "Epoch 59/200\n",
            "9/9 [==============================] - 1s 85ms/step - loss: 0.0111 - accuracy: 0.9954 - precision: 0.7527 - recall: 0.7874\n",
            "Epoch 60/200\n",
            "9/9 [==============================] - 1s 86ms/step - loss: 0.0112 - accuracy: 0.9960 - precision: 0.8601 - recall: 0.7069\n",
            "Epoch 61/200\n",
            "9/9 [==============================] - 1s 86ms/step - loss: 0.0118 - accuracy: 0.9953 - precision: 0.7358 - recall: 0.8161\n",
            "Epoch 62/200\n",
            "9/9 [==============================] - 1s 87ms/step - loss: 0.0113 - accuracy: 0.9959 - precision: 0.7790 - recall: 0.8103\n",
            "Epoch 63/200\n",
            "9/9 [==============================] - 1s 86ms/step - loss: 0.0122 - accuracy: 0.9956 - precision: 0.7836 - recall: 0.7701\n",
            "Epoch 64/200\n",
            "9/9 [==============================] - 1s 86ms/step - loss: 0.0104 - accuracy: 0.9960 - precision: 0.8514 - recall: 0.7241\n",
            "Epoch 65/200\n",
            "9/9 [==============================] - 1s 86ms/step - loss: 0.0108 - accuracy: 0.9959 - precision: 0.8217 - recall: 0.7414\n",
            "Epoch 66/200\n",
            "9/9 [==============================] - 1s 86ms/step - loss: 0.0105 - accuracy: 0.9956 - precision: 0.7836 - recall: 0.7701\n",
            "Epoch 67/200\n",
            "9/9 [==============================] - 1s 85ms/step - loss: 0.0100 - accuracy: 0.9964 - precision: 0.8491 - recall: 0.7759\n",
            "Epoch 68/200\n",
            "9/9 [==============================] - 1s 86ms/step - loss: 0.0101 - accuracy: 0.9967 - precision: 0.8528 - recall: 0.7989\n",
            "Epoch 69/200\n",
            "9/9 [==============================] - 1s 87ms/step - loss: 0.0101 - accuracy: 0.9962 - precision: 0.8408 - recall: 0.7586\n",
            "Epoch 70/200\n",
            "9/9 [==============================] - 1s 85ms/step - loss: 0.0099 - accuracy: 0.9960 - precision: 0.8121 - recall: 0.7701\n",
            "Epoch 71/200\n",
            "9/9 [==============================] - 1s 86ms/step - loss: 0.0107 - accuracy: 0.9958 - precision: 0.7778 - recall: 0.8046\n",
            "Epoch 72/200\n",
            "9/9 [==============================] - 1s 87ms/step - loss: 0.0100 - accuracy: 0.9964 - precision: 0.8364 - recall: 0.7931\n",
            "Epoch 73/200\n",
            "9/9 [==============================] - 1s 86ms/step - loss: 0.0096 - accuracy: 0.9963 - precision: 0.8114 - recall: 0.8161\n",
            "Epoch 74/200\n",
            "9/9 [==============================] - 1s 86ms/step - loss: 0.0099 - accuracy: 0.9962 - precision: 0.8242 - recall: 0.7816\n",
            "Epoch 75/200\n",
            "9/9 [==============================] - 1s 86ms/step - loss: 0.0099 - accuracy: 0.9962 - precision: 0.8129 - recall: 0.7989\n",
            "Epoch 76/200\n",
            "9/9 [==============================] - 1s 86ms/step - loss: 0.0095 - accuracy: 0.9964 - precision: 0.8235 - recall: 0.8046\n",
            "Epoch 77/200\n",
            "9/9 [==============================] - 1s 86ms/step - loss: 0.0095 - accuracy: 0.9965 - precision: 0.8383 - recall: 0.8046\n",
            "Epoch 78/200\n",
            "9/9 [==============================] - 1s 86ms/step - loss: 0.0097 - accuracy: 0.9963 - precision: 0.8176 - recall: 0.7989\n",
            "Epoch 79/200\n",
            "9/9 [==============================] - 1s 87ms/step - loss: 0.0096 - accuracy: 0.9963 - precision: 0.8114 - recall: 0.8161\n",
            "Epoch 80/200\n",
            "9/9 [==============================] - 1s 86ms/step - loss: 0.0115 - accuracy: 0.9951 - precision: 0.7500 - recall: 0.7586\n",
            "Epoch 81/200\n",
            "9/9 [==============================] - 1s 86ms/step - loss: 0.0095 - accuracy: 0.9963 - precision: 0.8562 - recall: 0.7529\n",
            "Epoch 82/200\n",
            "9/9 [==============================] - 1s 87ms/step - loss: 0.0092 - accuracy: 0.9965 - precision: 0.8304 - recall: 0.8161\n",
            "Epoch 83/200\n",
            "9/9 [==============================] - 1s 86ms/step - loss: 0.0096 - accuracy: 0.9966 - precision: 0.8434 - recall: 0.8046\n",
            "Epoch 84/200\n",
            "9/9 [==============================] - 1s 86ms/step - loss: 0.0094 - accuracy: 0.9965 - precision: 0.8457 - recall: 0.7874\n",
            "Epoch 85/200\n",
            "9/9 [==============================] - 1s 84ms/step - loss: 0.0100 - accuracy: 0.9963 - precision: 0.8344 - recall: 0.7816\n",
            "Epoch 86/200\n",
            "9/9 [==============================] - 1s 84ms/step - loss: 0.0091 - accuracy: 0.9965 - precision: 0.8087 - recall: 0.8506\n",
            "Epoch 87/200\n",
            "9/9 [==============================] - 1s 84ms/step - loss: 0.0097 - accuracy: 0.9961 - precision: 0.8523 - recall: 0.7299\n",
            "Epoch 88/200\n",
            "9/9 [==============================] - 1s 85ms/step - loss: 0.0091 - accuracy: 0.9965 - precision: 0.8294 - recall: 0.8103\n",
            "Epoch 89/200\n",
            "9/9 [==============================] - 1s 84ms/step - loss: 0.0100 - accuracy: 0.9960 - precision: 0.8160 - recall: 0.7644\n",
            "Epoch 90/200\n",
            "9/9 [==============================] - 1s 84ms/step - loss: 0.0092 - accuracy: 0.9967 - precision: 0.8859 - recall: 0.7586\n",
            "Epoch 91/200\n",
            "9/9 [==============================] - 1s 85ms/step - loss: 0.0096 - accuracy: 0.9959 - precision: 0.7886 - recall: 0.7931\n",
            "Epoch 92/200\n",
            "9/9 [==============================] - 1s 84ms/step - loss: 0.0087 - accuracy: 0.9968 - precision: 0.8589 - recall: 0.8046\n",
            "Epoch 93/200\n",
            "9/9 [==============================] - 1s 84ms/step - loss: 0.0087 - accuracy: 0.9969 - precision: 0.8362 - recall: 0.8506\n",
            "Epoch 94/200\n",
            "9/9 [==============================] - 1s 85ms/step - loss: 0.0088 - accuracy: 0.9967 - precision: 0.8412 - recall: 0.8218\n",
            "Epoch 95/200\n",
            "9/9 [==============================] - 1s 85ms/step - loss: 0.0087 - accuracy: 0.9965 - precision: 0.8294 - recall: 0.8103\n",
            "Epoch 96/200\n",
            "9/9 [==============================] - 1s 85ms/step - loss: 0.0087 - accuracy: 0.9969 - precision: 0.8480 - recall: 0.8333\n",
            "Epoch 97/200\n",
            "9/9 [==============================] - 1s 84ms/step - loss: 0.0092 - accuracy: 0.9968 - precision: 0.8462 - recall: 0.8218\n",
            "Epoch 98/200\n",
            "9/9 [==============================] - 1s 86ms/step - loss: 0.0089 - accuracy: 0.9964 - precision: 0.8208 - recall: 0.8161\n",
            "Epoch 99/200\n",
            "9/9 [==============================] - 1s 86ms/step - loss: 0.0088 - accuracy: 0.9967 - precision: 0.8528 - recall: 0.7989\n",
            "Epoch 100/200\n",
            "9/9 [==============================] - 1s 86ms/step - loss: 0.0091 - accuracy: 0.9960 - precision: 0.8059 - recall: 0.7874\n",
            "Epoch 101/200\n",
            "9/9 [==============================] - 1s 86ms/step - loss: 0.0087 - accuracy: 0.9964 - precision: 0.7926 - recall: 0.8563\n",
            "Epoch 102/200\n",
            "9/9 [==============================] - 1s 86ms/step - loss: 0.0089 - accuracy: 0.9968 - precision: 0.8554 - recall: 0.8161\n",
            "Epoch 103/200\n",
            "9/9 [==============================] - 1s 88ms/step - loss: 0.0091 - accuracy: 0.9964 - precision: 0.8481 - recall: 0.7701\n",
            "Epoch 104/200\n",
            "9/9 [==============================] - 1s 90ms/step - loss: 0.0091 - accuracy: 0.9967 - precision: 0.8212 - recall: 0.8448\n",
            "Epoch 105/200\n",
            "9/9 [==============================] - 1s 89ms/step - loss: 0.0090 - accuracy: 0.9966 - precision: 0.8562 - recall: 0.7874\n",
            "Epoch 106/200\n",
            "9/9 [==============================] - 1s 89ms/step - loss: 0.0091 - accuracy: 0.9966 - precision: 0.8276 - recall: 0.8276\n",
            "Epoch 107/200\n",
            "9/9 [==============================] - 1s 88ms/step - loss: 0.0089 - accuracy: 0.9966 - precision: 0.8476 - recall: 0.7989\n",
            "Epoch 108/200\n",
            "9/9 [==============================] - 1s 89ms/step - loss: 0.0088 - accuracy: 0.9968 - precision: 0.8554 - recall: 0.8161\n",
            "Epoch 109/200\n",
            "9/9 [==============================] - 1s 89ms/step - loss: 0.0090 - accuracy: 0.9966 - precision: 0.8353 - recall: 0.8161\n",
            "Epoch 110/200\n",
            "9/9 [==============================] - 1s 89ms/step - loss: 0.0092 - accuracy: 0.9961 - precision: 0.7912 - recall: 0.8276\n",
            "Epoch 111/200\n",
            "9/9 [==============================] - 1s 89ms/step - loss: 0.0097 - accuracy: 0.9958 - precision: 0.8165 - recall: 0.7414\n",
            "Epoch 112/200\n",
            "9/9 [==============================] - 1s 88ms/step - loss: 0.0090 - accuracy: 0.9961 - precision: 0.8344 - recall: 0.7529\n",
            "Epoch 113/200\n",
            "9/9 [==============================] - 1s 88ms/step - loss: 0.0085 - accuracy: 0.9971 - precision: 0.8720 - recall: 0.8218\n",
            "Epoch 114/200\n",
            "9/9 [==============================] - 1s 89ms/step - loss: 0.0086 - accuracy: 0.9967 - precision: 0.8616 - recall: 0.7874\n",
            "Epoch 115/200\n",
            "9/9 [==============================] - 1s 89ms/step - loss: 0.0087 - accuracy: 0.9966 - precision: 0.8393 - recall: 0.8103\n",
            "Epoch 116/200\n",
            "9/9 [==============================] - 1s 87ms/step - loss: 0.0085 - accuracy: 0.9964 - precision: 0.8090 - recall: 0.8276\n",
            "Epoch 117/200\n",
            "9/9 [==============================] - 1s 86ms/step - loss: 0.0085 - accuracy: 0.9965 - precision: 0.8544 - recall: 0.7759\n",
            "Epoch 118/200\n",
            "9/9 [==============================] - 1s 86ms/step - loss: 0.0085 - accuracy: 0.9968 - precision: 0.8503 - recall: 0.8161\n",
            "Epoch 119/200\n",
            "9/9 [==============================] - 1s 87ms/step - loss: 0.0085 - accuracy: 0.9965 - precision: 0.8087 - recall: 0.8506\n",
            "Epoch 120/200\n",
            "9/9 [==============================] - 1s 86ms/step - loss: 0.0085 - accuracy: 0.9964 - precision: 0.8284 - recall: 0.8046\n",
            "Epoch 121/200\n",
            "9/9 [==============================] - 1s 86ms/step - loss: 0.0090 - accuracy: 0.9964 - precision: 0.8627 - recall: 0.7586\n",
            "Epoch 122/200\n",
            "9/9 [==============================] - 1s 86ms/step - loss: 0.0084 - accuracy: 0.9967 - precision: 0.8494 - recall: 0.8103\n",
            "Epoch 123/200\n",
            "9/9 [==============================] - 1s 85ms/step - loss: 0.0086 - accuracy: 0.9967 - precision: 0.8152 - recall: 0.8621\n",
            "Epoch 124/200\n",
            "9/9 [==============================] - 1s 86ms/step - loss: 0.0090 - accuracy: 0.9962 - precision: 0.8204 - recall: 0.7874\n",
            "Epoch 125/200\n",
            "9/9 [==============================] - 1s 86ms/step - loss: 0.0082 - accuracy: 0.9972 - precision: 0.9026 - recall: 0.7989\n",
            "Epoch 126/200\n",
            "9/9 [==============================] - 1s 87ms/step - loss: 0.0082 - accuracy: 0.9967 - precision: 0.8372 - recall: 0.8276\n",
            "Epoch 127/200\n",
            "9/9 [==============================] - 1s 86ms/step - loss: 0.0081 - accuracy: 0.9966 - precision: 0.8393 - recall: 0.8103\n",
            "Epoch 128/200\n",
            "9/9 [==============================] - 1s 85ms/step - loss: 0.0082 - accuracy: 0.9965 - precision: 0.8509 - recall: 0.7874\n",
            "Epoch 129/200\n",
            "9/9 [==============================] - 1s 85ms/step - loss: 0.0082 - accuracy: 0.9969 - precision: 0.8439 - recall: 0.8391\n",
            "Epoch 130/200\n",
            "9/9 [==============================] - 1s 85ms/step - loss: 0.0084 - accuracy: 0.9965 - precision: 0.8343 - recall: 0.8103\n",
            "Epoch 131/200\n",
            "9/9 [==============================] - 1s 85ms/step - loss: 0.0082 - accuracy: 0.9967 - precision: 0.8580 - recall: 0.7989\n",
            "Epoch 132/200\n",
            "9/9 [==============================] - 1s 85ms/step - loss: 0.0079 - accuracy: 0.9968 - precision: 0.8503 - recall: 0.8161\n",
            "Epoch 133/200\n",
            "9/9 [==============================] - 1s 85ms/step - loss: 0.0084 - accuracy: 0.9966 - precision: 0.8276 - recall: 0.8276\n",
            "Epoch 134/200\n",
            "9/9 [==============================] - 1s 86ms/step - loss: 0.0085 - accuracy: 0.9965 - precision: 0.8192 - recall: 0.8333\n",
            "Epoch 135/200\n",
            "9/9 [==============================] - 1s 85ms/step - loss: 0.0083 - accuracy: 0.9968 - precision: 0.8512 - recall: 0.8218\n",
            "Epoch 136/200\n",
            "9/9 [==============================] - 1s 85ms/step - loss: 0.0080 - accuracy: 0.9971 - precision: 0.8466 - recall: 0.8563\n",
            "Epoch 137/200\n",
            "9/9 [==============================] - 1s 86ms/step - loss: 0.0082 - accuracy: 0.9968 - precision: 0.8687 - recall: 0.7989\n",
            "Epoch 138/200\n",
            "9/9 [==============================] - 1s 86ms/step - loss: 0.0087 - accuracy: 0.9964 - precision: 0.8447 - recall: 0.7816\n",
            "Epoch 139/200\n",
            "9/9 [==============================] - 1s 85ms/step - loss: 0.0090 - accuracy: 0.9960 - precision: 0.7562 - recall: 0.8736\n",
            "Epoch 140/200\n",
            "9/9 [==============================] - 1s 85ms/step - loss: 0.0107 - accuracy: 0.9954 - precision: 0.8151 - recall: 0.6839\n",
            "Epoch 141/200\n",
            "9/9 [==============================] - 1s 87ms/step - loss: 0.0088 - accuracy: 0.9960 - precision: 0.8239 - recall: 0.7529\n",
            "Epoch 142/200\n",
            "9/9 [==============================] - 1s 86ms/step - loss: 0.0083 - accuracy: 0.9972 - precision: 0.8605 - recall: 0.8506\n",
            "Epoch 143/200\n",
            "9/9 [==============================] - 1s 86ms/step - loss: 0.0081 - accuracy: 0.9965 - precision: 0.8784 - recall: 0.7471\n",
            "Epoch 144/200\n",
            "9/9 [==============================] - 1s 86ms/step - loss: 0.0083 - accuracy: 0.9964 - precision: 0.8171 - recall: 0.8218\n",
            "Epoch 145/200\n",
            "9/9 [==============================] - 1s 86ms/step - loss: 0.0081 - accuracy: 0.9965 - precision: 0.8424 - recall: 0.7989\n",
            "Epoch 146/200\n",
            "9/9 [==============================] - 1s 86ms/step - loss: 0.0076 - accuracy: 0.9971 - precision: 0.8466 - recall: 0.8563\n",
            "Epoch 147/200\n",
            "9/9 [==============================] - 1s 85ms/step - loss: 0.0076 - accuracy: 0.9971 - precision: 0.8727 - recall: 0.8276\n",
            "Epoch 148/200\n",
            "9/9 [==============================] - 1s 86ms/step - loss: 0.0081 - accuracy: 0.9966 - precision: 0.8239 - recall: 0.8333\n",
            "Epoch 149/200\n",
            "9/9 [==============================] - 1s 85ms/step - loss: 0.0090 - accuracy: 0.9964 - precision: 0.8405 - recall: 0.7874\n",
            "Epoch 150/200\n",
            "9/9 [==============================] - 1s 86ms/step - loss: 0.0081 - accuracy: 0.9967 - precision: 0.8625 - recall: 0.7931\n",
            "Epoch 151/200\n",
            "9/9 [==============================] - 1s 85ms/step - loss: 0.0079 - accuracy: 0.9969 - precision: 0.8563 - recall: 0.8218\n",
            "Epoch 152/200\n",
            "9/9 [==============================] - 1s 85ms/step - loss: 0.0078 - accuracy: 0.9971 - precision: 0.8631 - recall: 0.8333\n",
            "Epoch 153/200\n",
            "9/9 [==============================] - 1s 86ms/step - loss: 0.0080 - accuracy: 0.9967 - precision: 0.8485 - recall: 0.8046\n",
            "Epoch 154/200\n",
            "9/9 [==============================] - 1s 85ms/step - loss: 0.0080 - accuracy: 0.9968 - precision: 0.8138 - recall: 0.8793\n",
            "Epoch 155/200\n",
            "9/9 [==============================] - 1s 86ms/step - loss: 0.0084 - accuracy: 0.9965 - precision: 0.8636 - recall: 0.7644\n",
            "Epoch 156/200\n",
            "9/9 [==============================] - 1s 86ms/step - loss: 0.0078 - accuracy: 0.9969 - precision: 0.8400 - recall: 0.8448\n",
            "Epoch 157/200\n",
            "9/9 [==============================] - 1s 85ms/step - loss: 0.0081 - accuracy: 0.9965 - precision: 0.8256 - recall: 0.8161\n",
            "Epoch 158/200\n",
            "9/9 [==============================] - 1s 86ms/step - loss: 0.0075 - accuracy: 0.9972 - precision: 0.8924 - recall: 0.8103\n",
            "Epoch 159/200\n",
            "9/9 [==============================] - 1s 86ms/step - loss: 0.0077 - accuracy: 0.9968 - precision: 0.8343 - recall: 0.8391\n",
            "Epoch 160/200\n",
            "9/9 [==============================] - 1s 86ms/step - loss: 0.0080 - accuracy: 0.9968 - precision: 0.8512 - recall: 0.8218\n",
            "Epoch 161/200\n",
            "9/9 [==============================] - 1s 86ms/step - loss: 0.0076 - accuracy: 0.9972 - precision: 0.8788 - recall: 0.8333\n",
            "Epoch 162/200\n",
            "9/9 [==============================] - 1s 86ms/step - loss: 0.0076 - accuracy: 0.9971 - precision: 0.8514 - recall: 0.8563\n",
            "Epoch 163/200\n",
            "9/9 [==============================] - 1s 86ms/step - loss: 0.0076 - accuracy: 0.9968 - precision: 0.8430 - recall: 0.8333\n",
            "Epoch 164/200\n",
            "9/9 [==============================] - 1s 86ms/step - loss: 0.0072 - accuracy: 0.9969 - precision: 0.8563 - recall: 0.8218\n",
            "Epoch 165/200\n",
            "9/9 [==============================] - 1s 86ms/step - loss: 0.0079 - accuracy: 0.9972 - precision: 0.8690 - recall: 0.8391\n",
            "Epoch 166/200\n",
            "9/9 [==============================] - 1s 86ms/step - loss: 0.0074 - accuracy: 0.9971 - precision: 0.8765 - recall: 0.8161\n",
            "Epoch 167/200\n",
            "9/9 [==============================] - 1s 85ms/step - loss: 0.0077 - accuracy: 0.9971 - precision: 0.8727 - recall: 0.8276\n",
            "Epoch 168/200\n",
            "9/9 [==============================] - 1s 86ms/step - loss: 0.0083 - accuracy: 0.9969 - precision: 0.8287 - recall: 0.8621\n",
            "Epoch 169/200\n",
            "9/9 [==============================] - 1s 85ms/step - loss: 0.0082 - accuracy: 0.9966 - precision: 0.8276 - recall: 0.8276\n",
            "Epoch 170/200\n",
            "9/9 [==============================] - 1s 85ms/step - loss: 0.0074 - accuracy: 0.9972 - precision: 0.9195 - recall: 0.7874\n",
            "Epoch 171/200\n",
            "9/9 [==============================] - 1s 85ms/step - loss: 0.0072 - accuracy: 0.9975 - precision: 0.8603 - recall: 0.8851\n",
            "Epoch 172/200\n",
            "9/9 [==============================] - 1s 86ms/step - loss: 0.0075 - accuracy: 0.9969 - precision: 0.8839 - recall: 0.7874\n",
            "Epoch 173/200\n",
            "9/9 [==============================] - 1s 86ms/step - loss: 0.0079 - accuracy: 0.9969 - precision: 0.8659 - recall: 0.8161\n",
            "Epoch 174/200\n",
            "9/9 [==============================] - 1s 86ms/step - loss: 0.0074 - accuracy: 0.9969 - precision: 0.8563 - recall: 0.8218\n",
            "Epoch 175/200\n",
            "9/9 [==============================] - 1s 86ms/step - loss: 0.0076 - accuracy: 0.9973 - precision: 0.8757 - recall: 0.8506\n",
            "Epoch 176/200\n",
            "9/9 [==============================] - 1s 86ms/step - loss: 0.0074 - accuracy: 0.9973 - precision: 0.8795 - recall: 0.8391\n",
            "Epoch 177/200\n",
            "9/9 [==============================] - 1s 86ms/step - loss: 0.0074 - accuracy: 0.9972 - precision: 0.8735 - recall: 0.8333\n",
            "Epoch 178/200\n",
            "9/9 [==============================] - 1s 86ms/step - loss: 0.0076 - accuracy: 0.9971 - precision: 0.8968 - recall: 0.7989\n",
            "Epoch 179/200\n",
            "9/9 [==============================] - 1s 88ms/step - loss: 0.0074 - accuracy: 0.9970 - precision: 0.8418 - recall: 0.8563\n",
            "Epoch 180/200\n",
            "9/9 [==============================] - 1s 87ms/step - loss: 0.0074 - accuracy: 0.9969 - precision: 0.8480 - recall: 0.8333\n",
            "Epoch 181/200\n",
            "9/9 [==============================] - 1s 88ms/step - loss: 0.0080 - accuracy: 0.9969 - precision: 0.9103 - recall: 0.7586\n",
            "Epoch 182/200\n",
            "9/9 [==============================] - 1s 88ms/step - loss: 0.0078 - accuracy: 0.9965 - precision: 0.7958 - recall: 0.8736\n",
            "Epoch 183/200\n",
            "9/9 [==============================] - 1s 88ms/step - loss: 0.0077 - accuracy: 0.9975 - precision: 0.9012 - recall: 0.8391\n",
            "Epoch 184/200\n",
            "9/9 [==============================] - 1s 88ms/step - loss: 0.0074 - accuracy: 0.9972 - precision: 0.8834 - recall: 0.8276\n",
            "Epoch 185/200\n",
            "9/9 [==============================] - 1s 87ms/step - loss: 0.0075 - accuracy: 0.9972 - precision: 0.8690 - recall: 0.8391\n",
            "Epoch 186/200\n",
            "9/9 [==============================] - 1s 86ms/step - loss: 0.0070 - accuracy: 0.9969 - precision: 0.8650 - recall: 0.8103\n",
            "Epoch 187/200\n",
            "9/9 [==============================] - 1s 87ms/step - loss: 0.0074 - accuracy: 0.9971 - precision: 0.8389 - recall: 0.8678\n",
            "Epoch 188/200\n",
            "9/9 [==============================] - 1s 86ms/step - loss: 0.0077 - accuracy: 0.9971 - precision: 0.8555 - recall: 0.8506\n",
            "Epoch 189/200\n",
            "9/9 [==============================] - 1s 85ms/step - loss: 0.0077 - accuracy: 0.9970 - precision: 0.8854 - recall: 0.7989\n",
            "Epoch 190/200\n",
            "9/9 [==============================] - 1s 84ms/step - loss: 0.0076 - accuracy: 0.9966 - precision: 0.8519 - recall: 0.7931\n",
            "Epoch 191/200\n",
            "9/9 [==============================] - 1s 84ms/step - loss: 0.0071 - accuracy: 0.9970 - precision: 0.8306 - recall: 0.8736\n",
            "Epoch 192/200\n",
            "9/9 [==============================] - 1s 85ms/step - loss: 0.0070 - accuracy: 0.9972 - precision: 0.9079 - recall: 0.7931\n",
            "Epoch 193/200\n",
            "9/9 [==============================] - 1s 84ms/step - loss: 0.0076 - accuracy: 0.9969 - precision: 0.8614 - recall: 0.8218\n",
            "Epoch 194/200\n",
            "9/9 [==============================] - 1s 85ms/step - loss: 0.0074 - accuracy: 0.9972 - precision: 0.8444 - recall: 0.8736\n",
            "Epoch 195/200\n",
            "9/9 [==============================] - 1s 84ms/step - loss: 0.0074 - accuracy: 0.9969 - precision: 0.8790 - recall: 0.7931\n",
            "Epoch 196/200\n",
            "9/9 [==============================] - 1s 85ms/step - loss: 0.0076 - accuracy: 0.9968 - precision: 0.8512 - recall: 0.8218\n",
            "Epoch 197/200\n",
            "9/9 [==============================] - 1s 84ms/step - loss: 0.0073 - accuracy: 0.9971 - precision: 0.8773 - recall: 0.8218\n",
            "Epoch 198/200\n",
            "9/9 [==============================] - 1s 85ms/step - loss: 0.0073 - accuracy: 0.9975 - precision: 0.8909 - recall: 0.8448\n",
            "Epoch 199/200\n",
            "9/9 [==============================] - 1s 86ms/step - loss: 0.0067 - accuracy: 0.9973 - precision: 0.8757 - recall: 0.8506\n",
            "Epoch 200/200\n",
            "9/9 [==============================] - 1s 86ms/step - loss: 0.0069 - accuracy: 0.9971 - precision: 0.8683 - recall: 0.8333\n"
          ]
        },
        {
          "output_type": "execute_result",
          "data": {
            "text/plain": [
              "<keras.callbacks.History at 0x7f875fb761d0>"
            ]
          },
          "metadata": {},
          "execution_count": 103
        }
      ]
    },
    {
      "cell_type": "code",
      "metadata": {
        "colab": {
          "base_uri": "https://localhost:8080/"
        },
        "id": "QN8W7L77szdf",
        "outputId": "e6a15d40-e687-41f3-c931-01d5ad750e3a"
      },
      "source": [
        "y_pred = model.predict( test_X,  batch_size=128, verbose=1)"
      ],
      "execution_count": null,
      "outputs": [
        {
          "output_type": "stream",
          "name": "stdout",
          "text": [
            "35/35 [==============================] - 1s 5ms/step\n"
          ]
        }
      ]
    },
    {
      "cell_type": "code",
      "metadata": {
        "id": "x9rmg32Aszdg"
      },
      "source": [
        "y_pred =(y_pred>0.5)"
      ],
      "execution_count": null,
      "outputs": []
    },
    {
      "cell_type": "code",
      "metadata": {
        "colab": {
          "base_uri": "https://localhost:8080/"
        },
        "id": "MukB-s53ttyp",
        "outputId": "f1cde9ef-6ac4-4d1c-a3d8-e31a2ee1ee04"
      },
      "source": [
        "print(classification_report(test_y, y_pred))"
      ],
      "execution_count": null,
      "outputs": [
        {
          "output_type": "stream",
          "name": "stdout",
          "text": [
            "              precision    recall  f1-score   support\n",
            "\n",
            "         0.0       1.00      1.00      1.00      4393\n",
            "         1.0       0.89      0.80      0.84        20\n",
            "\n",
            "    accuracy                           1.00      4413\n",
            "   macro avg       0.94      0.90      0.92      4413\n",
            "weighted avg       1.00      1.00      1.00      4413\n",
            "\n"
          ]
        }
      ]
    },
    {
      "cell_type": "code",
      "metadata": {
        "id": "VtBBq9k4ttr4"
      },
      "source": [
        ""
      ],
      "execution_count": null,
      "outputs": []
    },
    {
      "cell_type": "markdown",
      "metadata": {
        "id": "ZlcVqdykBbVT"
      },
      "source": [
        "# 60 min"
      ]
    },
    {
      "cell_type": "code",
      "metadata": {
        "id": "Ajo3j73xDYcf",
        "colab": {
          "base_uri": "https://localhost:8080/"
        },
        "outputId": "96991e86-e487-43db-d11d-f991d0ca399a"
      },
      "source": [
        "print( best_model.get_config())\n",
        "print( best_model.optimizer.get_config())\n",
        "print( best_model.history.params)\n",
        "print( best_model.loss)"
      ],
      "execution_count": null,
      "outputs": [
        {
          "output_type": "stream",
          "name": "stdout",
          "text": [
            "{'name': 'sequential', 'layers': [{'class_name': 'InputLayer', 'config': {'batch_input_shape': (None, 12, 4), 'dtype': 'float32', 'sparse': False, 'ragged': False, 'name': 'lstm_input'}}, {'class_name': 'LSTM', 'config': {'name': 'lstm', 'trainable': True, 'batch_input_shape': (None, 12, 4), 'dtype': 'float32', 'return_sequences': True, 'return_state': False, 'go_backwards': False, 'stateful': False, 'unroll': False, 'time_major': False, 'units': 40, 'activation': 'tanh', 'recurrent_activation': 'sigmoid', 'use_bias': True, 'kernel_initializer': {'class_name': 'GlorotUniform', 'config': {'seed': None}}, 'recurrent_initializer': {'class_name': 'Orthogonal', 'config': {'gain': 1.0, 'seed': None}}, 'bias_initializer': {'class_name': 'Zeros', 'config': {}}, 'unit_forget_bias': True, 'kernel_regularizer': None, 'recurrent_regularizer': None, 'bias_regularizer': None, 'activity_regularizer': None, 'kernel_constraint': None, 'recurrent_constraint': None, 'bias_constraint': None, 'dropout': 0.0, 'recurrent_dropout': 0.1, 'implementation': 1}}, {'class_name': 'LSTM', 'config': {'name': 'lstm_1', 'trainable': True, 'dtype': 'float32', 'return_sequences': True, 'return_state': False, 'go_backwards': False, 'stateful': False, 'unroll': False, 'time_major': False, 'units': 25, 'activation': 'tanh', 'recurrent_activation': 'sigmoid', 'use_bias': True, 'kernel_initializer': {'class_name': 'GlorotUniform', 'config': {'seed': None}}, 'recurrent_initializer': {'class_name': 'Orthogonal', 'config': {'gain': 1.0, 'seed': None}}, 'bias_initializer': {'class_name': 'Zeros', 'config': {}}, 'unit_forget_bias': True, 'kernel_regularizer': None, 'recurrent_regularizer': None, 'bias_regularizer': None, 'activity_regularizer': None, 'kernel_constraint': None, 'recurrent_constraint': None, 'bias_constraint': None, 'dropout': 0.0, 'recurrent_dropout': 0.05, 'implementation': 1}}, {'class_name': 'LSTM', 'config': {'name': 'lstm_2', 'trainable': True, 'dtype': 'float32', 'return_sequences': False, 'return_state': False, 'go_backwards': False, 'stateful': False, 'unroll': False, 'time_major': False, 'units': 25, 'activation': 'tanh', 'recurrent_activation': 'sigmoid', 'use_bias': True, 'kernel_initializer': {'class_name': 'GlorotUniform', 'config': {'seed': None}}, 'recurrent_initializer': {'class_name': 'Orthogonal', 'config': {'gain': 1.0, 'seed': None}}, 'bias_initializer': {'class_name': 'Zeros', 'config': {}}, 'unit_forget_bias': True, 'kernel_regularizer': None, 'recurrent_regularizer': None, 'bias_regularizer': None, 'activity_regularizer': None, 'kernel_constraint': None, 'recurrent_constraint': None, 'bias_constraint': None, 'dropout': 0.0, 'recurrent_dropout': 0.05, 'implementation': 1}}, {'class_name': 'Dense', 'config': {'name': 'dense', 'trainable': True, 'dtype': 'float32', 'units': 1, 'activation': 'sigmoid', 'use_bias': True, 'kernel_initializer': {'class_name': 'GlorotUniform', 'config': {'seed': None}}, 'bias_initializer': {'class_name': 'Constant', 'config': {'value': array([-4.7249215])}}, 'kernel_regularizer': None, 'bias_regularizer': None, 'activity_regularizer': None, 'kernel_constraint': None, 'bias_constraint': None}}]}\n",
            "{'name': 'Adam', 'learning_rate': 0.01, 'decay': 0.0, 'beta_1': 0.9, 'beta_2': 0.999, 'epsilon': 1e-07, 'amsgrad': False}\n",
            "{'verbose': 1, 'epochs': 1, 'steps': 26}\n",
            "binary_crossentropy\n"
          ]
        }
      ]
    },
    {
      "cell_type": "code",
      "metadata": {
        "colab": {
          "base_uri": "https://localhost:8080/"
        },
        "id": "ZDHU-jDeBbVU",
        "outputId": "6c26bd5b-26ac-40a5-fc33-d3a6b9a0124e"
      },
      "source": [
        "print(classification_report(test_y, y_pred))"
      ],
      "execution_count": null,
      "outputs": [
        {
          "output_type": "stream",
          "name": "stdout",
          "text": [
            "              precision    recall  f1-score   support\n",
            "\n",
            "         0.0       1.00      1.00      1.00      6588\n",
            "         1.0       0.96      0.71      0.81        31\n",
            "\n",
            "    accuracy                           1.00      6619\n",
            "   macro avg       0.98      0.85      0.91      6619\n",
            "weighted avg       1.00      1.00      1.00      6619\n",
            "\n"
          ]
        }
      ]
    },
    {
      "cell_type": "code",
      "metadata": {
        "id": "tVBot83NDSc_"
      },
      "source": [
        "best_model.save('')"
      ],
      "execution_count": null,
      "outputs": []
    },
    {
      "cell_type": "markdown",
      "metadata": {
        "id": "9NuMrF0PBbxc"
      },
      "source": [
        "# 75 min"
      ]
    },
    {
      "cell_type": "code",
      "metadata": {
        "id": "vUrBv6XdDY2l",
        "colab": {
          "base_uri": "https://localhost:8080/"
        },
        "outputId": "44490c23-25de-4be3-cec5-c05ec7429407"
      },
      "source": [
        "print ( best_model.get_config() )\n",
        "print ( best_model.optimizer.get_config())\n",
        "print ( best_model.history.params)\n",
        "print (  best_model.loss)"
      ],
      "execution_count": null,
      "outputs": [
        {
          "output_type": "stream",
          "name": "stdout",
          "text": [
            "{'name': 'sequential', 'layers': [{'class_name': 'InputLayer', 'config': {'batch_input_shape': (None, 12, 4), 'dtype': 'float32', 'sparse': False, 'ragged': False, 'name': 'lstm_input'}}, {'class_name': 'LSTM', 'config': {'name': 'lstm', 'trainable': True, 'batch_input_shape': (None, 12, 4), 'dtype': 'float32', 'return_sequences': True, 'return_state': False, 'go_backwards': False, 'stateful': False, 'unroll': False, 'time_major': False, 'units': 45, 'activation': 'tanh', 'recurrent_activation': 'sigmoid', 'use_bias': True, 'kernel_initializer': {'class_name': 'GlorotUniform', 'config': {'seed': None}}, 'recurrent_initializer': {'class_name': 'Orthogonal', 'config': {'gain': 1.0, 'seed': None}}, 'bias_initializer': {'class_name': 'Zeros', 'config': {}}, 'unit_forget_bias': True, 'kernel_regularizer': None, 'recurrent_regularizer': None, 'bias_regularizer': None, 'activity_regularizer': None, 'kernel_constraint': None, 'recurrent_constraint': None, 'bias_constraint': None, 'dropout': 0.0, 'recurrent_dropout': 0.20000000000000004, 'implementation': 1}}, {'class_name': 'LSTM', 'config': {'name': 'lstm_1', 'trainable': True, 'dtype': 'float32', 'return_sequences': True, 'return_state': False, 'go_backwards': False, 'stateful': False, 'unroll': False, 'time_major': False, 'units': 25, 'activation': 'tanh', 'recurrent_activation': 'sigmoid', 'use_bias': True, 'kernel_initializer': {'class_name': 'GlorotUniform', 'config': {'seed': None}}, 'recurrent_initializer': {'class_name': 'Orthogonal', 'config': {'gain': 1.0, 'seed': None}}, 'bias_initializer': {'class_name': 'Zeros', 'config': {}}, 'unit_forget_bias': True, 'kernel_regularizer': None, 'recurrent_regularizer': None, 'bias_regularizer': None, 'activity_regularizer': None, 'kernel_constraint': None, 'recurrent_constraint': None, 'bias_constraint': None, 'dropout': 0.0, 'recurrent_dropout': 0.05, 'implementation': 1}}, {'class_name': 'LSTM', 'config': {'name': 'lstm_2', 'trainable': True, 'dtype': 'float32', 'return_sequences': False, 'return_state': False, 'go_backwards': False, 'stateful': False, 'unroll': False, 'time_major': False, 'units': 25, 'activation': 'tanh', 'recurrent_activation': 'sigmoid', 'use_bias': True, 'kernel_initializer': {'class_name': 'GlorotUniform', 'config': {'seed': None}}, 'recurrent_initializer': {'class_name': 'Orthogonal', 'config': {'gain': 1.0, 'seed': None}}, 'bias_initializer': {'class_name': 'Zeros', 'config': {}}, 'unit_forget_bias': True, 'kernel_regularizer': None, 'recurrent_regularizer': None, 'bias_regularizer': None, 'activity_regularizer': None, 'kernel_constraint': None, 'recurrent_constraint': None, 'bias_constraint': None, 'dropout': 0.0, 'recurrent_dropout': 0.05, 'implementation': 1}}, {'class_name': 'Dense', 'config': {'name': 'dense', 'trainable': True, 'dtype': 'float32', 'units': 1, 'activation': 'sigmoid', 'use_bias': True, 'kernel_initializer': {'class_name': 'GlorotUniform', 'config': {'seed': None}}, 'bias_initializer': {'class_name': 'Constant', 'config': {'value': array([-4.72487577])}}, 'kernel_regularizer': None, 'bias_regularizer': None, 'activity_regularizer': None, 'kernel_constraint': None, 'bias_constraint': None}}]}\n",
            "{'name': 'Adam', 'learning_rate': 0.01, 'decay': 0.0, 'beta_1': 0.9, 'beta_2': 0.999, 'epsilon': 1e-07, 'amsgrad': False}\n",
            "{'verbose': 1, 'epochs': 1, 'steps': 26}\n",
            "binary_crossentropy\n"
          ]
        }
      ]
    },
    {
      "cell_type": "code",
      "metadata": {
        "colab": {
          "base_uri": "https://localhost:8080/"
        },
        "id": "eOXI0V3FBbxd",
        "outputId": "1041290c-c434-48d7-9289-058a73386c00"
      },
      "source": [
        "print(classification_report(test_y, y_pred))"
      ],
      "execution_count": null,
      "outputs": [
        {
          "output_type": "stream",
          "name": "stdout",
          "text": [
            "              precision    recall  f1-score   support\n",
            "\n",
            "         0.0       1.00      1.00      1.00      6588\n",
            "         1.0       0.96      0.71      0.81        31\n",
            "\n",
            "    accuracy                           1.00      6619\n",
            "   macro avg       0.98      0.85      0.91      6619\n",
            "weighted avg       1.00      1.00      1.00      6619\n",
            "\n"
          ]
        }
      ]
    },
    {
      "cell_type": "code",
      "metadata": {
        "id": "3K8gLJuhDSy-"
      },
      "source": [
        "best_model.save('')"
      ],
      "execution_count": null,
      "outputs": []
    },
    {
      "cell_type": "markdown",
      "metadata": {
        "id": "QAihGTf3BcHv"
      },
      "source": [
        "# 90 min"
      ]
    },
    {
      "cell_type": "code",
      "metadata": {
        "id": "LdvabeobDZQy",
        "colab": {
          "base_uri": "https://localhost:8080/"
        },
        "outputId": "788128c1-4d8e-407c-bf0e-b043c8ce5da9"
      },
      "source": [
        "print ( best_model.get_config() )\n",
        "print ( best_model.optimizer.get_config())\n",
        "print ( best_model.history.params)\n",
        "print (  best_model.loss)"
      ],
      "execution_count": null,
      "outputs": [
        {
          "output_type": "stream",
          "name": "stdout",
          "text": [
            "{'name': 'sequential', 'layers': [{'class_name': 'InputLayer', 'config': {'batch_input_shape': (None, 12, 4), 'dtype': 'float32', 'sparse': False, 'ragged': False, 'name': 'lstm_input'}}, {'class_name': 'LSTM', 'config': {'name': 'lstm', 'trainable': True, 'batch_input_shape': (None, 12, 4), 'dtype': 'float32', 'return_sequences': True, 'return_state': False, 'go_backwards': False, 'stateful': False, 'unroll': False, 'time_major': False, 'units': 40, 'activation': 'tanh', 'recurrent_activation': 'sigmoid', 'use_bias': True, 'kernel_initializer': {'class_name': 'GlorotUniform', 'config': {'seed': None}}, 'recurrent_initializer': {'class_name': 'Orthogonal', 'config': {'gain': 1.0, 'seed': None}}, 'bias_initializer': {'class_name': 'Zeros', 'config': {}}, 'unit_forget_bias': True, 'kernel_regularizer': None, 'recurrent_regularizer': None, 'bias_regularizer': None, 'activity_regularizer': None, 'kernel_constraint': None, 'recurrent_constraint': None, 'bias_constraint': None, 'dropout': 0.0, 'recurrent_dropout': 0.1, 'implementation': 1}}, {'class_name': 'LSTM', 'config': {'name': 'lstm_1', 'trainable': True, 'dtype': 'float32', 'return_sequences': True, 'return_state': False, 'go_backwards': False, 'stateful': False, 'unroll': False, 'time_major': False, 'units': 25, 'activation': 'tanh', 'recurrent_activation': 'sigmoid', 'use_bias': True, 'kernel_initializer': {'class_name': 'GlorotUniform', 'config': {'seed': None}}, 'recurrent_initializer': {'class_name': 'Orthogonal', 'config': {'gain': 1.0, 'seed': None}}, 'bias_initializer': {'class_name': 'Zeros', 'config': {}}, 'unit_forget_bias': True, 'kernel_regularizer': None, 'recurrent_regularizer': None, 'bias_regularizer': None, 'activity_regularizer': None, 'kernel_constraint': None, 'recurrent_constraint': None, 'bias_constraint': None, 'dropout': 0.0, 'recurrent_dropout': 0.05, 'implementation': 1}}, {'class_name': 'LSTM', 'config': {'name': 'lstm_2', 'trainable': True, 'dtype': 'float32', 'return_sequences': False, 'return_state': False, 'go_backwards': False, 'stateful': False, 'unroll': False, 'time_major': False, 'units': 25, 'activation': 'tanh', 'recurrent_activation': 'sigmoid', 'use_bias': True, 'kernel_initializer': {'class_name': 'GlorotUniform', 'config': {'seed': None}}, 'recurrent_initializer': {'class_name': 'Orthogonal', 'config': {'gain': 1.0, 'seed': None}}, 'bias_initializer': {'class_name': 'Zeros', 'config': {}}, 'unit_forget_bias': True, 'kernel_regularizer': None, 'recurrent_regularizer': None, 'bias_regularizer': None, 'activity_regularizer': None, 'kernel_constraint': None, 'recurrent_constraint': None, 'bias_constraint': None, 'dropout': 0.0, 'recurrent_dropout': 0.05, 'implementation': 1}}, {'class_name': 'Dense', 'config': {'name': 'dense', 'trainable': True, 'dtype': 'float32', 'units': 1, 'activation': 'sigmoid', 'use_bias': True, 'kernel_initializer': {'class_name': 'GlorotUniform', 'config': {'seed': None}}, 'bias_initializer': {'class_name': 'Constant', 'config': {'value': array([-4.72483004])}}, 'kernel_regularizer': None, 'bias_regularizer': None, 'activity_regularizer': None, 'kernel_constraint': None, 'bias_constraint': None}}]}\n",
            "{'name': 'Adam', 'learning_rate': 0.01, 'decay': 0.0, 'beta_1': 0.9, 'beta_2': 0.999, 'epsilon': 1e-07, 'amsgrad': False}\n",
            "{'verbose': 1, 'epochs': 1, 'steps': 26}\n",
            "binary_crossentropy\n"
          ]
        }
      ]
    },
    {
      "cell_type": "code",
      "metadata": {
        "id": "9_fCCb4WBoc7",
        "colab": {
          "base_uri": "https://localhost:8080/"
        },
        "outputId": "5c725ad0-4c59-48d6-c86e-72688f3d2f41"
      },
      "source": [
        "print(classification_report(test_y, y_pred))"
      ],
      "execution_count": null,
      "outputs": [
        {
          "output_type": "stream",
          "name": "stdout",
          "text": [
            "              precision    recall  f1-score   support\n",
            "\n",
            "         0.0       1.00      1.00      1.00      6588\n",
            "         1.0       0.96      0.71      0.81        31\n",
            "\n",
            "    accuracy                           1.00      6619\n",
            "   macro avg       0.98      0.85      0.91      6619\n",
            "weighted avg       1.00      1.00      1.00      6619\n",
            "\n"
          ]
        }
      ]
    },
    {
      "cell_type": "code",
      "metadata": {
        "id": "ikaGjGHHDTKR"
      },
      "source": [
        "best_model.save('')"
      ],
      "execution_count": null,
      "outputs": []
    },
    {
      "cell_type": "markdown",
      "metadata": {
        "id": "gLBgucWvBcmk"
      },
      "source": [
        "# 105 min"
      ]
    },
    {
      "cell_type": "code",
      "metadata": {
        "id": "LXJKTDzyDZtz",
        "colab": {
          "base_uri": "https://localhost:8080/"
        },
        "outputId": "f190fdd5-a6ee-438a-995b-a84e36ec314e"
      },
      "source": [
        "print ( best_model.get_config() )\n",
        "print ( best_model.optimizer.get_config())\n",
        "print ( best_model.history.params)\n",
        "print (  best_model.loss)"
      ],
      "execution_count": null,
      "outputs": [
        {
          "output_type": "stream",
          "name": "stdout",
          "text": [
            "{'name': 'sequential', 'layers': [{'class_name': 'InputLayer', 'config': {'batch_input_shape': (None, 12, 4), 'dtype': 'float32', 'sparse': False, 'ragged': False, 'name': 'lstm_input'}}, {'class_name': 'LSTM', 'config': {'name': 'lstm', 'trainable': True, 'batch_input_shape': (None, 12, 4), 'dtype': 'float32', 'return_sequences': True, 'return_state': False, 'go_backwards': False, 'stateful': False, 'unroll': False, 'time_major': False, 'units': 40, 'activation': 'tanh', 'recurrent_activation': 'sigmoid', 'use_bias': True, 'kernel_initializer': {'class_name': 'GlorotUniform', 'config': {'seed': None}}, 'recurrent_initializer': {'class_name': 'Orthogonal', 'config': {'gain': 1.0, 'seed': None}}, 'bias_initializer': {'class_name': 'Zeros', 'config': {}}, 'unit_forget_bias': True, 'kernel_regularizer': None, 'recurrent_regularizer': None, 'bias_regularizer': None, 'activity_regularizer': None, 'kernel_constraint': None, 'recurrent_constraint': None, 'bias_constraint': None, 'dropout': 0.0, 'recurrent_dropout': 0.1, 'implementation': 1}}, {'class_name': 'LSTM', 'config': {'name': 'lstm_1', 'trainable': True, 'dtype': 'float32', 'return_sequences': True, 'return_state': False, 'go_backwards': False, 'stateful': False, 'unroll': False, 'time_major': False, 'units': 25, 'activation': 'tanh', 'recurrent_activation': 'sigmoid', 'use_bias': True, 'kernel_initializer': {'class_name': 'GlorotUniform', 'config': {'seed': None}}, 'recurrent_initializer': {'class_name': 'Orthogonal', 'config': {'gain': 1.0, 'seed': None}}, 'bias_initializer': {'class_name': 'Zeros', 'config': {}}, 'unit_forget_bias': True, 'kernel_regularizer': None, 'recurrent_regularizer': None, 'bias_regularizer': None, 'activity_regularizer': None, 'kernel_constraint': None, 'recurrent_constraint': None, 'bias_constraint': None, 'dropout': 0.0, 'recurrent_dropout': 0.05, 'implementation': 1}}, {'class_name': 'LSTM', 'config': {'name': 'lstm_2', 'trainable': True, 'dtype': 'float32', 'return_sequences': False, 'return_state': False, 'go_backwards': False, 'stateful': False, 'unroll': False, 'time_major': False, 'units': 25, 'activation': 'tanh', 'recurrent_activation': 'sigmoid', 'use_bias': True, 'kernel_initializer': {'class_name': 'GlorotUniform', 'config': {'seed': None}}, 'recurrent_initializer': {'class_name': 'Orthogonal', 'config': {'gain': 1.0, 'seed': None}}, 'bias_initializer': {'class_name': 'Zeros', 'config': {}}, 'unit_forget_bias': True, 'kernel_regularizer': None, 'recurrent_regularizer': None, 'bias_regularizer': None, 'activity_regularizer': None, 'kernel_constraint': None, 'recurrent_constraint': None, 'bias_constraint': None, 'dropout': 0.0, 'recurrent_dropout': 0.05, 'implementation': 1}}, {'class_name': 'Dense', 'config': {'name': 'dense', 'trainable': True, 'dtype': 'float32', 'units': 1, 'activation': 'sigmoid', 'use_bias': True, 'kernel_initializer': {'class_name': 'GlorotUniform', 'config': {'seed': None}}, 'bias_initializer': {'class_name': 'Constant', 'config': {'value': array([-4.7247843])}}, 'kernel_regularizer': None, 'bias_regularizer': None, 'activity_regularizer': None, 'kernel_constraint': None, 'bias_constraint': None}}]}\n",
            "{'name': 'Adam', 'learning_rate': 0.01, 'decay': 0.0, 'beta_1': 0.9, 'beta_2': 0.999, 'epsilon': 1e-07, 'amsgrad': False}\n",
            "{'verbose': 1, 'epochs': 1, 'steps': 26}\n",
            "binary_crossentropy\n"
          ]
        }
      ]
    },
    {
      "cell_type": "code",
      "metadata": {
        "id": "H5oI2Q-_BtSD",
        "colab": {
          "base_uri": "https://localhost:8080/"
        },
        "outputId": "976eeda4-d431-41a6-db81-eeff8573a181"
      },
      "source": [
        "print(classification_report(test_y, y_pred))"
      ],
      "execution_count": null,
      "outputs": [
        {
          "output_type": "stream",
          "name": "stdout",
          "text": [
            "              precision    recall  f1-score   support\n",
            "\n",
            "         0.0       1.00      1.00      1.00      6587\n",
            "         1.0       0.96      0.77      0.86        31\n",
            "\n",
            "    accuracy                           1.00      6618\n",
            "   macro avg       0.98      0.89      0.93      6618\n",
            "weighted avg       1.00      1.00      1.00      6618\n",
            "\n"
          ]
        }
      ]
    },
    {
      "cell_type": "code",
      "metadata": {
        "id": "W2QrSZtCDT_T"
      },
      "source": [
        "best_model.save('')"
      ],
      "execution_count": null,
      "outputs": []
    },
    {
      "cell_type": "markdown",
      "metadata": {
        "id": "r-Uc7c9hBc8b"
      },
      "source": [
        "# 120 min"
      ]
    },
    {
      "cell_type": "code",
      "metadata": {
        "id": "ltEVUmSlDaGt",
        "colab": {
          "base_uri": "https://localhost:8080/"
        },
        "outputId": "df10e3c3-1f38-4c13-eb73-ef64c7a8ec4f"
      },
      "source": [
        "print ( best_model.get_config() )\n",
        "print ( best_model.optimizer.get_config())\n",
        "print ( best_model.history.params)\n",
        "print (  best_model.loss)"
      ],
      "execution_count": null,
      "outputs": [
        {
          "output_type": "stream",
          "name": "stdout",
          "text": [
            "{'name': 'sequential', 'layers': [{'class_name': 'InputLayer', 'config': {'batch_input_shape': (None, 12, 4), 'dtype': 'float32', 'sparse': False, 'ragged': False, 'name': 'lstm_input'}}, {'class_name': 'LSTM', 'config': {'name': 'lstm', 'trainable': True, 'batch_input_shape': (None, 12, 4), 'dtype': 'float32', 'return_sequences': True, 'return_state': False, 'go_backwards': False, 'stateful': False, 'unroll': False, 'time_major': False, 'units': 45, 'activation': 'tanh', 'recurrent_activation': 'sigmoid', 'use_bias': True, 'kernel_initializer': {'class_name': 'GlorotUniform', 'config': {'seed': None}}, 'recurrent_initializer': {'class_name': 'Orthogonal', 'config': {'gain': 1.0, 'seed': None}}, 'bias_initializer': {'class_name': 'Zeros', 'config': {}}, 'unit_forget_bias': True, 'kernel_regularizer': None, 'recurrent_regularizer': None, 'bias_regularizer': None, 'activity_regularizer': None, 'kernel_constraint': None, 'recurrent_constraint': None, 'bias_constraint': None, 'dropout': 0.0, 'recurrent_dropout': 0.1, 'implementation': 1}}, {'class_name': 'LSTM', 'config': {'name': 'lstm_1', 'trainable': True, 'dtype': 'float32', 'return_sequences': True, 'return_state': False, 'go_backwards': False, 'stateful': False, 'unroll': False, 'time_major': False, 'units': 25, 'activation': 'tanh', 'recurrent_activation': 'sigmoid', 'use_bias': True, 'kernel_initializer': {'class_name': 'GlorotUniform', 'config': {'seed': None}}, 'recurrent_initializer': {'class_name': 'Orthogonal', 'config': {'gain': 1.0, 'seed': None}}, 'bias_initializer': {'class_name': 'Zeros', 'config': {}}, 'unit_forget_bias': True, 'kernel_regularizer': None, 'recurrent_regularizer': None, 'bias_regularizer': None, 'activity_regularizer': None, 'kernel_constraint': None, 'recurrent_constraint': None, 'bias_constraint': None, 'dropout': 0.0, 'recurrent_dropout': 0.05, 'implementation': 1}}, {'class_name': 'LSTM', 'config': {'name': 'lstm_2', 'trainable': True, 'dtype': 'float32', 'return_sequences': False, 'return_state': False, 'go_backwards': False, 'stateful': False, 'unroll': False, 'time_major': False, 'units': 25, 'activation': 'tanh', 'recurrent_activation': 'sigmoid', 'use_bias': True, 'kernel_initializer': {'class_name': 'GlorotUniform', 'config': {'seed': None}}, 'recurrent_initializer': {'class_name': 'Orthogonal', 'config': {'gain': 1.0, 'seed': None}}, 'bias_initializer': {'class_name': 'Zeros', 'config': {}}, 'unit_forget_bias': True, 'kernel_regularizer': None, 'recurrent_regularizer': None, 'bias_regularizer': None, 'activity_regularizer': None, 'kernel_constraint': None, 'recurrent_constraint': None, 'bias_constraint': None, 'dropout': 0.0, 'recurrent_dropout': 0.05, 'implementation': 1}}, {'class_name': 'Dense', 'config': {'name': 'dense', 'trainable': True, 'dtype': 'float32', 'units': 1, 'activation': 'sigmoid', 'use_bias': True, 'kernel_initializer': {'class_name': 'GlorotUniform', 'config': {'seed': None}}, 'bias_initializer': {'class_name': 'Constant', 'config': {'value': array([-4.72473857])}}, 'kernel_regularizer': None, 'bias_regularizer': None, 'activity_regularizer': None, 'kernel_constraint': None, 'bias_constraint': None}}]}\n",
            "{'name': 'Adam', 'learning_rate': 0.01, 'decay': 0.0, 'beta_1': 0.9, 'beta_2': 0.999, 'epsilon': 1e-07, 'amsgrad': False}\n",
            "{'verbose': 1, 'epochs': 1, 'steps': 26}\n",
            "binary_crossentropy\n"
          ]
        }
      ]
    },
    {
      "cell_type": "code",
      "metadata": {
        "colab": {
          "base_uri": "https://localhost:8080/"
        },
        "id": "FA9JsKBrBc8d",
        "outputId": "6ee8569d-a79f-46f7-e00a-376b435e4c05"
      },
      "source": [
        "print(classification_report(test_y, y_pred))"
      ],
      "execution_count": null,
      "outputs": [
        {
          "output_type": "stream",
          "name": "stdout",
          "text": [
            "              precision    recall  f1-score   support\n",
            "\n",
            "         0.0       1.00      1.00      1.00      6587\n",
            "         1.0       0.90      0.61      0.73        31\n",
            "\n",
            "    accuracy                           1.00      6618\n",
            "   macro avg       0.95      0.81      0.86      6618\n",
            "weighted avg       1.00      1.00      1.00      6618\n",
            "\n"
          ]
        }
      ]
    },
    {
      "cell_type": "code",
      "metadata": {
        "id": "XoqqCMSPDUf7"
      },
      "source": [
        "best_model.save('')"
      ],
      "execution_count": null,
      "outputs": []
    }
  ]
}